{
  "nbformat": 4,
  "nbformat_minor": 0,
  "metadata": {
    "colab": {
      "name": "Pandas.ipynb",
      "provenance": [],
      "collapsed_sections": [],
      "toc_visible": true,
      "include_colab_link": true
    },
    "kernelspec": {
      "display_name": "Python 3",
      "language": "python",
      "name": "python3"
    },
    "language_info": {
      "codemirror_mode": {
        "name": "ipython",
        "version": 3
      },
      "file_extension": ".py",
      "mimetype": "text/x-python",
      "name": "python",
      "nbconvert_exporter": "python",
      "pygments_lexer": "ipython3",
      "version": "3.7.6"
    }
  },
  "cells": [
    {
      "cell_type": "markdown",
      "metadata": {
        "id": "view-in-github",
        "colab_type": "text"
      },
      "source": [
        "<a href=\"https://colab.research.google.com/github/Arturo-Dn/Jupyter-Notebooks/blob/main/Tema_1_Introduccion/Pandas.ipynb\" target=\"_parent\"><img src=\"https://colab.research.google.com/assets/colab-badge.svg\" alt=\"Open In Colab\"/></a>"
      ]
    },
    {
      "cell_type": "markdown",
      "metadata": {
        "id": "CcO06esNJc49"
      },
      "source": [
        "# Pandas\n",
        "\n",
        "Pandas es un paquete de Python que provee dos estructuras de datos para el análisis de datos \"relacionales\" de manera rápida, flexible y expresiva. Pandas está construido sobre Numpy, por lo que muchas de las ventajas de utilizar Numpy se trasladan a Pandas.\n",
        "\n",
        "Pandas puede ser utilizado para trabajar con diferentes tipos de datos:\n",
        "\n",
        "* Tabulares, con datos en columnas que comparten un mismo tipo (por ejemplo, tablas de una base de datos y hojas de Excel).\n",
        "* Series de tiempo.\n",
        "* Matrices con columnas y filas etiquetadas.\n",
        "* Datos de experimentos estadísticos en general.\n"
      ]
    },
    {
      "cell_type": "code",
      "metadata": {
        "id": "3PmEICGYLh4Q"
      },
      "source": [
        "#pd es el alias comun de pandas\n",
        "import pandas as pd\n",
        "import numpy as np"
      ],
      "execution_count": null,
      "outputs": []
    },
    {
      "cell_type": "markdown",
      "metadata": {
        "id": "OTXIJU1jJoJx"
      },
      "source": [
        "# Estructuras"
      ]
    },
    {
      "cell_type": "markdown",
      "metadata": {
        "id": "95kIZu4KJf14"
      },
      "source": [
        "## Series\n",
        "\n",
        "La primera estructura de datos de Pandas son las Series. Una Serie es utilizada para arreglos 1D etiquetados con un mismo tipo de dato en todos sus elementos. Una serie es un arreglo 1D donde cada elemento tiene asignado un índice:\n",
        "\n",
        "\n",
        "| index   || |\n",
        "|---||----|\n",
        "| a || s1 |\n",
        "| b || s2 |\n",
        "| c || s3 |\n",
        "| ... || ... |"
      ]
    },
    {
      "cell_type": "code",
      "metadata": {
        "id": "_lshPHLAJf_f",
        "outputId": "53185e2b-0f9b-4043-db9e-9b77196f13c5"
      },
      "source": [
        "#un objeto series desde una lista\n",
        "s1 = pd.Series(data=[1, 1, 2, 3, 5], index=[\"a\", \"b\", \"c\", \"d\", \"e\"])\n",
        "s1"
      ],
      "execution_count": null,
      "outputs": [
        {
          "output_type": "execute_result",
          "data": {
            "text/plain": [
              "a    1\n",
              "b    1\n",
              "c    2\n",
              "d    3\n",
              "e    5\n",
              "dtype: int64"
            ]
          },
          "metadata": {
            "tags": []
          },
          "execution_count": 2
        }
      ]
    },
    {
      "cell_type": "markdown",
      "metadata": {
        "id": "EIblWSe0JgIb"
      },
      "source": [
        "## Dataframe\n",
        "\n",
        "Los Dataframes son la segunda estructura en Pandas, éstos son utilizados para datos 2D etiquetados (columnas con nombres generalmente). Las columnas de un Dataframe pueden tener tipos de dato diferentes. Puedes pensar en un Dataframe  como un contenedor de Series, donde cada columna es una Serie (arreglo 1D con etiquetas). Un Dataframe puede representarse como una tabla donde cada fila tiene asignado un índice y cada columna un nombre:\n",
        "\n",
        "| index\\columns  || A  | B  | C  | D  |\n",
        "|---||----|----|----|----|\n",
        "| 1 || a1 | b1 | c1 | d1 |\n",
        "| 2 || a2 | b2 | c2 | d2 |\n",
        "| 3 || a3 | b3 | c3 | d3 |"
      ]
    },
    {
      "cell_type": "code",
      "metadata": {
        "id": "6BdTW6AVJgPx",
        "outputId": "62f2a8f5-5280-4a68-dd05-5c8cd68a6bb7"
      },
      "source": [
        "#un dataframe aleatorio con numpy random\n",
        "df = pd.DataFrame(np.random.randn(6, 4), columns=[\"A\", \"B\", \"C\", \"D\"])\n",
        "df"
      ],
      "execution_count": null,
      "outputs": [
        {
          "output_type": "execute_result",
          "data": {
            "text/html": [
              "<div>\n",
              "<style scoped>\n",
              "    .dataframe tbody tr th:only-of-type {\n",
              "        vertical-align: middle;\n",
              "    }\n",
              "\n",
              "    .dataframe tbody tr th {\n",
              "        vertical-align: top;\n",
              "    }\n",
              "\n",
              "    .dataframe thead th {\n",
              "        text-align: right;\n",
              "    }\n",
              "</style>\n",
              "<table border=\"1\" class=\"dataframe\">\n",
              "  <thead>\n",
              "    <tr style=\"text-align: right;\">\n",
              "      <th></th>\n",
              "      <th>A</th>\n",
              "      <th>B</th>\n",
              "      <th>C</th>\n",
              "      <th>D</th>\n",
              "    </tr>\n",
              "  </thead>\n",
              "  <tbody>\n",
              "    <tr>\n",
              "      <th>0</th>\n",
              "      <td>1.055847</td>\n",
              "      <td>-1.123916</td>\n",
              "      <td>-2.108486</td>\n",
              "      <td>0.714347</td>\n",
              "    </tr>\n",
              "    <tr>\n",
              "      <th>1</th>\n",
              "      <td>0.894042</td>\n",
              "      <td>-0.884151</td>\n",
              "      <td>-0.423451</td>\n",
              "      <td>-1.701569</td>\n",
              "    </tr>\n",
              "    <tr>\n",
              "      <th>2</th>\n",
              "      <td>-1.654915</td>\n",
              "      <td>0.662038</td>\n",
              "      <td>0.196124</td>\n",
              "      <td>0.804724</td>\n",
              "    </tr>\n",
              "    <tr>\n",
              "      <th>3</th>\n",
              "      <td>0.425904</td>\n",
              "      <td>-1.045125</td>\n",
              "      <td>-0.201917</td>\n",
              "      <td>-1.184148</td>\n",
              "    </tr>\n",
              "    <tr>\n",
              "      <th>4</th>\n",
              "      <td>2.393673</td>\n",
              "      <td>-1.215573</td>\n",
              "      <td>-0.080060</td>\n",
              "      <td>-0.907670</td>\n",
              "    </tr>\n",
              "    <tr>\n",
              "      <th>5</th>\n",
              "      <td>-0.213726</td>\n",
              "      <td>1.764811</td>\n",
              "      <td>0.183924</td>\n",
              "      <td>-1.471758</td>\n",
              "    </tr>\n",
              "  </tbody>\n",
              "</table>\n",
              "</div>"
            ],
            "text/plain": [
              "          A         B         C         D\n",
              "0  1.055847 -1.123916 -2.108486  0.714347\n",
              "1  0.894042 -0.884151 -0.423451 -1.701569\n",
              "2 -1.654915  0.662038  0.196124  0.804724\n",
              "3  0.425904 -1.045125 -0.201917 -1.184148\n",
              "4  2.393673 -1.215573 -0.080060 -0.907670\n",
              "5 -0.213726  1.764811  0.183924 -1.471758"
            ]
          },
          "metadata": {
            "tags": []
          },
          "execution_count": 3
        }
      ]
    },
    {
      "cell_type": "markdown",
      "metadata": {
        "id": "YACVLPqmEIgV"
      },
      "source": [
        "### Axes\n",
        "\n",
        "Recuerda que los axes de un Dataframe (una tabla 2D), son los siguientes:\n",
        "\n",
        "![Numpy/Pandas axes](https://raw.githubusercontent.com/jhermosillo/diplomado_CDD2019/master/Programaci%C3%B3n%20en%20Python/images/axes.png)"
      ]
    },
    {
      "cell_type": "markdown",
      "metadata": {
        "id": "amSx3Uy5Jgs_"
      },
      "source": [
        "# Creación y almacenamiento"
      ]
    },
    {
      "cell_type": "markdown",
      "metadata": {
        "id": "Efe8EN4EUNr6"
      },
      "source": [
        "## Creación desde diccionarios de listas"
      ]
    },
    {
      "cell_type": "code",
      "metadata": {
        "id": "W3sLNcoIKZ5t",
        "outputId": "a0711878-116b-456c-f36d-a69729fbd28f"
      },
      "source": [
        "#Un diccionario de python\n",
        "dict1 = {'pais': ['Mexico',\n",
        "'EUA', \"Francia\"], 'continente': [\"America\", \"America\", \"Europa\"], 'poblacion': [129, 325, 67]}\n",
        "\n",
        "paises = pd.DataFrame(dict1)\n",
        "paises"
      ],
      "execution_count": null,
      "outputs": [
        {
          "output_type": "execute_result",
          "data": {
            "text/html": [
              "<div>\n",
              "<style scoped>\n",
              "    .dataframe tbody tr th:only-of-type {\n",
              "        vertical-align: middle;\n",
              "    }\n",
              "\n",
              "    .dataframe tbody tr th {\n",
              "        vertical-align: top;\n",
              "    }\n",
              "\n",
              "    .dataframe thead th {\n",
              "        text-align: right;\n",
              "    }\n",
              "</style>\n",
              "<table border=\"1\" class=\"dataframe\">\n",
              "  <thead>\n",
              "    <tr style=\"text-align: right;\">\n",
              "      <th></th>\n",
              "      <th>pais</th>\n",
              "      <th>continente</th>\n",
              "      <th>poblacion</th>\n",
              "    </tr>\n",
              "  </thead>\n",
              "  <tbody>\n",
              "    <tr>\n",
              "      <th>0</th>\n",
              "      <td>Mexico</td>\n",
              "      <td>America</td>\n",
              "      <td>129</td>\n",
              "    </tr>\n",
              "    <tr>\n",
              "      <th>1</th>\n",
              "      <td>EUA</td>\n",
              "      <td>America</td>\n",
              "      <td>325</td>\n",
              "    </tr>\n",
              "    <tr>\n",
              "      <th>2</th>\n",
              "      <td>Francia</td>\n",
              "      <td>Europa</td>\n",
              "      <td>67</td>\n",
              "    </tr>\n",
              "  </tbody>\n",
              "</table>\n",
              "</div>"
            ],
            "text/plain": [
              "      pais continente  poblacion\n",
              "0   Mexico    America        129\n",
              "1      EUA    America        325\n",
              "2  Francia     Europa         67"
            ]
          },
          "metadata": {
            "tags": []
          },
          "execution_count": 4
        }
      ]
    },
    {
      "cell_type": "markdown",
      "metadata": {
        "id": "t0IUUYdWKaQ7"
      },
      "source": [
        "## Creación desde diccionario anidado"
      ]
    },
    {
      "cell_type": "code",
      "metadata": {
        "id": "oPN4K2gSMH8U",
        "outputId": "979515bc-d1b3-4c64-effb-1c7e743e75d2"
      },
      "source": [
        "#Un diccionario anidado de python\n",
        "#las claves anidadas especifican el indice de las filas\n",
        "dict2 = {'pais': {\"p1\": 'Mexico',\n",
        "\"p2\": 'EUA', \"p3\": \"Francia\"}, 'continente': {\"p1\": \"America\", \"p2\": \"America\", \"p3\": \"Europa\"}, 'poblacion': {\"p1\": 129, \"p2\": 325, \"p3\": 67}}\n",
        "\n",
        "paises = pd.DataFrame(dict2)\n",
        "paises"
      ],
      "execution_count": null,
      "outputs": [
        {
          "output_type": "execute_result",
          "data": {
            "text/html": [
              "<div>\n",
              "<style scoped>\n",
              "    .dataframe tbody tr th:only-of-type {\n",
              "        vertical-align: middle;\n",
              "    }\n",
              "\n",
              "    .dataframe tbody tr th {\n",
              "        vertical-align: top;\n",
              "    }\n",
              "\n",
              "    .dataframe thead th {\n",
              "        text-align: right;\n",
              "    }\n",
              "</style>\n",
              "<table border=\"1\" class=\"dataframe\">\n",
              "  <thead>\n",
              "    <tr style=\"text-align: right;\">\n",
              "      <th></th>\n",
              "      <th>pais</th>\n",
              "      <th>continente</th>\n",
              "      <th>poblacion</th>\n",
              "    </tr>\n",
              "  </thead>\n",
              "  <tbody>\n",
              "    <tr>\n",
              "      <th>p1</th>\n",
              "      <td>Mexico</td>\n",
              "      <td>America</td>\n",
              "      <td>129</td>\n",
              "    </tr>\n",
              "    <tr>\n",
              "      <th>p2</th>\n",
              "      <td>EUA</td>\n",
              "      <td>America</td>\n",
              "      <td>325</td>\n",
              "    </tr>\n",
              "    <tr>\n",
              "      <th>p3</th>\n",
              "      <td>Francia</td>\n",
              "      <td>Europa</td>\n",
              "      <td>67</td>\n",
              "    </tr>\n",
              "  </tbody>\n",
              "</table>\n",
              "</div>"
            ],
            "text/plain": [
              "       pais continente  poblacion\n",
              "p1   Mexico    America        129\n",
              "p2      EUA    America        325\n",
              "p3  Francia     Europa         67"
            ]
          },
          "metadata": {
            "tags": []
          },
          "execution_count": 5
        }
      ]
    },
    {
      "cell_type": "markdown",
      "metadata": {
        "id": "vEl2HU6hUKBk"
      },
      "source": [
        "## Creación desde archivos csv"
      ]
    },
    {
      "cell_type": "code",
      "metadata": {
        "id": "SW7PjbOONhIn",
        "outputId": "1221b30c-c2fa-4b9a-c4b2-f721c87c45be"
      },
      "source": [
        "#leamos un archivo csv almacenado por colab\n",
        "cali_housing = pd.read_csv(\"california_housing_test.csv\", nrows=10)\n",
        "cali_housing"
      ],
      "execution_count": null,
      "outputs": [
        {
          "output_type": "execute_result",
          "data": {
            "text/html": [
              "<div>\n",
              "<style scoped>\n",
              "    .dataframe tbody tr th:only-of-type {\n",
              "        vertical-align: middle;\n",
              "    }\n",
              "\n",
              "    .dataframe tbody tr th {\n",
              "        vertical-align: top;\n",
              "    }\n",
              "\n",
              "    .dataframe thead th {\n",
              "        text-align: right;\n",
              "    }\n",
              "</style>\n",
              "<table border=\"1\" class=\"dataframe\">\n",
              "  <thead>\n",
              "    <tr style=\"text-align: right;\">\n",
              "      <th></th>\n",
              "      <th>Unnamed: 0</th>\n",
              "      <th>longitude</th>\n",
              "      <th>latitude</th>\n",
              "      <th>housing_median_age</th>\n",
              "      <th>total_rooms</th>\n",
              "      <th>total_bedrooms</th>\n",
              "      <th>population</th>\n",
              "      <th>households</th>\n",
              "      <th>median_income</th>\n",
              "      <th>median_house_value</th>\n",
              "    </tr>\n",
              "  </thead>\n",
              "  <tbody>\n",
              "    <tr>\n",
              "      <th>0</th>\n",
              "      <td>0</td>\n",
              "      <td>-122.05</td>\n",
              "      <td>37.37</td>\n",
              "      <td>27</td>\n",
              "      <td>3885</td>\n",
              "      <td>661</td>\n",
              "      <td>1537</td>\n",
              "      <td>606</td>\n",
              "      <td>6.6085</td>\n",
              "      <td>344700</td>\n",
              "    </tr>\n",
              "    <tr>\n",
              "      <th>1</th>\n",
              "      <td>1</td>\n",
              "      <td>-118.30</td>\n",
              "      <td>34.26</td>\n",
              "      <td>43</td>\n",
              "      <td>1510</td>\n",
              "      <td>310</td>\n",
              "      <td>809</td>\n",
              "      <td>277</td>\n",
              "      <td>3.5990</td>\n",
              "      <td>176500</td>\n",
              "    </tr>\n",
              "    <tr>\n",
              "      <th>2</th>\n",
              "      <td>2</td>\n",
              "      <td>-117.81</td>\n",
              "      <td>33.78</td>\n",
              "      <td>27</td>\n",
              "      <td>3589</td>\n",
              "      <td>507</td>\n",
              "      <td>1484</td>\n",
              "      <td>495</td>\n",
              "      <td>5.7934</td>\n",
              "      <td>270500</td>\n",
              "    </tr>\n",
              "    <tr>\n",
              "      <th>3</th>\n",
              "      <td>3</td>\n",
              "      <td>-118.36</td>\n",
              "      <td>33.82</td>\n",
              "      <td>28</td>\n",
              "      <td>67</td>\n",
              "      <td>15</td>\n",
              "      <td>49</td>\n",
              "      <td>11</td>\n",
              "      <td>6.1359</td>\n",
              "      <td>330000</td>\n",
              "    </tr>\n",
              "    <tr>\n",
              "      <th>4</th>\n",
              "      <td>4</td>\n",
              "      <td>-119.67</td>\n",
              "      <td>36.33</td>\n",
              "      <td>19</td>\n",
              "      <td>1241</td>\n",
              "      <td>244</td>\n",
              "      <td>850</td>\n",
              "      <td>237</td>\n",
              "      <td>2.9375</td>\n",
              "      <td>81700</td>\n",
              "    </tr>\n",
              "    <tr>\n",
              "      <th>5</th>\n",
              "      <td>5</td>\n",
              "      <td>-119.56</td>\n",
              "      <td>36.51</td>\n",
              "      <td>37</td>\n",
              "      <td>1018</td>\n",
              "      <td>213</td>\n",
              "      <td>663</td>\n",
              "      <td>204</td>\n",
              "      <td>1.6635</td>\n",
              "      <td>67000</td>\n",
              "    </tr>\n",
              "    <tr>\n",
              "      <th>6</th>\n",
              "      <td>6</td>\n",
              "      <td>-121.43</td>\n",
              "      <td>38.63</td>\n",
              "      <td>43</td>\n",
              "      <td>1009</td>\n",
              "      <td>225</td>\n",
              "      <td>604</td>\n",
              "      <td>218</td>\n",
              "      <td>1.6641</td>\n",
              "      <td>67000</td>\n",
              "    </tr>\n",
              "    <tr>\n",
              "      <th>7</th>\n",
              "      <td>7</td>\n",
              "      <td>-120.65</td>\n",
              "      <td>35.48</td>\n",
              "      <td>19</td>\n",
              "      <td>2310</td>\n",
              "      <td>471</td>\n",
              "      <td>1341</td>\n",
              "      <td>441</td>\n",
              "      <td>3.2250</td>\n",
              "      <td>166900</td>\n",
              "    </tr>\n",
              "    <tr>\n",
              "      <th>8</th>\n",
              "      <td>8</td>\n",
              "      <td>-122.84</td>\n",
              "      <td>38.40</td>\n",
              "      <td>15</td>\n",
              "      <td>3080</td>\n",
              "      <td>617</td>\n",
              "      <td>1446</td>\n",
              "      <td>599</td>\n",
              "      <td>3.6696</td>\n",
              "      <td>194400</td>\n",
              "    </tr>\n",
              "    <tr>\n",
              "      <th>9</th>\n",
              "      <td>9</td>\n",
              "      <td>-118.02</td>\n",
              "      <td>34.08</td>\n",
              "      <td>31</td>\n",
              "      <td>2402</td>\n",
              "      <td>632</td>\n",
              "      <td>2830</td>\n",
              "      <td>603</td>\n",
              "      <td>2.3333</td>\n",
              "      <td>164200</td>\n",
              "    </tr>\n",
              "  </tbody>\n",
              "</table>\n",
              "</div>"
            ],
            "text/plain": [
              "   Unnamed: 0  longitude  latitude  housing_median_age  total_rooms  \\\n",
              "0           0    -122.05     37.37                  27         3885   \n",
              "1           1    -118.30     34.26                  43         1510   \n",
              "2           2    -117.81     33.78                  27         3589   \n",
              "3           3    -118.36     33.82                  28           67   \n",
              "4           4    -119.67     36.33                  19         1241   \n",
              "5           5    -119.56     36.51                  37         1018   \n",
              "6           6    -121.43     38.63                  43         1009   \n",
              "7           7    -120.65     35.48                  19         2310   \n",
              "8           8    -122.84     38.40                  15         3080   \n",
              "9           9    -118.02     34.08                  31         2402   \n",
              "\n",
              "   total_bedrooms  population  households  median_income  median_house_value  \n",
              "0             661        1537         606         6.6085              344700  \n",
              "1             310         809         277         3.5990              176500  \n",
              "2             507        1484         495         5.7934              270500  \n",
              "3              15          49          11         6.1359              330000  \n",
              "4             244         850         237         2.9375               81700  \n",
              "5             213         663         204         1.6635               67000  \n",
              "6             225         604         218         1.6641               67000  \n",
              "7             471        1341         441         3.2250              166900  \n",
              "8             617        1446         599         3.6696              194400  \n",
              "9             632        2830         603         2.3333              164200  "
            ]
          },
          "metadata": {
            "tags": []
          },
          "execution_count": 6
        }
      ]
    },
    {
      "cell_type": "markdown",
      "metadata": {
        "id": "2elveR7cNUJW"
      },
      "source": [
        "## Creación desde archivos excel"
      ]
    },
    {
      "cell_type": "code",
      "metadata": {
        "id": "-13jjqLENhe1",
        "outputId": "2b44e306-432e-48b3-de8d-43983d1cc988"
      },
      "source": [
        "#cargar el archivo en formato xls a un pandas dataframe\n",
        "cali_housing = pd.read_excel(\"california_housing_test.xlsx\", index_col=0)\n",
        "cali_housing"
      ],
      "execution_count": null,
      "outputs": [
        {
          "output_type": "execute_result",
          "data": {
            "text/html": [
              "<div>\n",
              "<style scoped>\n",
              "    .dataframe tbody tr th:only-of-type {\n",
              "        vertical-align: middle;\n",
              "    }\n",
              "\n",
              "    .dataframe tbody tr th {\n",
              "        vertical-align: top;\n",
              "    }\n",
              "\n",
              "    .dataframe thead th {\n",
              "        text-align: right;\n",
              "    }\n",
              "</style>\n",
              "<table border=\"1\" class=\"dataframe\">\n",
              "  <thead>\n",
              "    <tr style=\"text-align: right;\">\n",
              "      <th></th>\n",
              "      <th>longitude</th>\n",
              "      <th>latitude</th>\n",
              "      <th>housing_median_age</th>\n",
              "      <th>total_rooms</th>\n",
              "      <th>total_bedrooms</th>\n",
              "      <th>population</th>\n",
              "      <th>households</th>\n",
              "      <th>median_income</th>\n",
              "      <th>median_house_value</th>\n",
              "    </tr>\n",
              "  </thead>\n",
              "  <tbody>\n",
              "    <tr>\n",
              "      <th>0</th>\n",
              "      <td>-122.05</td>\n",
              "      <td>37.37</td>\n",
              "      <td>27</td>\n",
              "      <td>3885</td>\n",
              "      <td>661</td>\n",
              "      <td>1537</td>\n",
              "      <td>606</td>\n",
              "      <td>6.6085</td>\n",
              "      <td>344700</td>\n",
              "    </tr>\n",
              "    <tr>\n",
              "      <th>1</th>\n",
              "      <td>-118.30</td>\n",
              "      <td>34.26</td>\n",
              "      <td>43</td>\n",
              "      <td>1510</td>\n",
              "      <td>310</td>\n",
              "      <td>809</td>\n",
              "      <td>277</td>\n",
              "      <td>3.5990</td>\n",
              "      <td>176500</td>\n",
              "    </tr>\n",
              "    <tr>\n",
              "      <th>2</th>\n",
              "      <td>-117.81</td>\n",
              "      <td>33.78</td>\n",
              "      <td>27</td>\n",
              "      <td>3589</td>\n",
              "      <td>507</td>\n",
              "      <td>1484</td>\n",
              "      <td>495</td>\n",
              "      <td>5.7934</td>\n",
              "      <td>270500</td>\n",
              "    </tr>\n",
              "    <tr>\n",
              "      <th>3</th>\n",
              "      <td>-118.36</td>\n",
              "      <td>33.82</td>\n",
              "      <td>28</td>\n",
              "      <td>67</td>\n",
              "      <td>15</td>\n",
              "      <td>49</td>\n",
              "      <td>11</td>\n",
              "      <td>6.1359</td>\n",
              "      <td>330000</td>\n",
              "    </tr>\n",
              "    <tr>\n",
              "      <th>4</th>\n",
              "      <td>-119.67</td>\n",
              "      <td>36.33</td>\n",
              "      <td>19</td>\n",
              "      <td>1241</td>\n",
              "      <td>244</td>\n",
              "      <td>850</td>\n",
              "      <td>237</td>\n",
              "      <td>2.9375</td>\n",
              "      <td>81700</td>\n",
              "    </tr>\n",
              "    <tr>\n",
              "      <th>...</th>\n",
              "      <td>...</td>\n",
              "      <td>...</td>\n",
              "      <td>...</td>\n",
              "      <td>...</td>\n",
              "      <td>...</td>\n",
              "      <td>...</td>\n",
              "      <td>...</td>\n",
              "      <td>...</td>\n",
              "      <td>...</td>\n",
              "    </tr>\n",
              "    <tr>\n",
              "      <th>2995</th>\n",
              "      <td>-119.86</td>\n",
              "      <td>34.42</td>\n",
              "      <td>23</td>\n",
              "      <td>1450</td>\n",
              "      <td>642</td>\n",
              "      <td>1258</td>\n",
              "      <td>607</td>\n",
              "      <td>1.1790</td>\n",
              "      <td>225000</td>\n",
              "    </tr>\n",
              "    <tr>\n",
              "      <th>2996</th>\n",
              "      <td>-118.14</td>\n",
              "      <td>34.06</td>\n",
              "      <td>27</td>\n",
              "      <td>5257</td>\n",
              "      <td>1082</td>\n",
              "      <td>3496</td>\n",
              "      <td>1036</td>\n",
              "      <td>3.3906</td>\n",
              "      <td>237200</td>\n",
              "    </tr>\n",
              "    <tr>\n",
              "      <th>2997</th>\n",
              "      <td>-119.70</td>\n",
              "      <td>36.30</td>\n",
              "      <td>10</td>\n",
              "      <td>956</td>\n",
              "      <td>201</td>\n",
              "      <td>693</td>\n",
              "      <td>220</td>\n",
              "      <td>2.2895</td>\n",
              "      <td>62000</td>\n",
              "    </tr>\n",
              "    <tr>\n",
              "      <th>2998</th>\n",
              "      <td>-117.12</td>\n",
              "      <td>34.10</td>\n",
              "      <td>40</td>\n",
              "      <td>96</td>\n",
              "      <td>14</td>\n",
              "      <td>46</td>\n",
              "      <td>14</td>\n",
              "      <td>3.2708</td>\n",
              "      <td>162500</td>\n",
              "    </tr>\n",
              "    <tr>\n",
              "      <th>2999</th>\n",
              "      <td>-119.63</td>\n",
              "      <td>34.42</td>\n",
              "      <td>42</td>\n",
              "      <td>1765</td>\n",
              "      <td>263</td>\n",
              "      <td>753</td>\n",
              "      <td>260</td>\n",
              "      <td>8.5608</td>\n",
              "      <td>500001</td>\n",
              "    </tr>\n",
              "  </tbody>\n",
              "</table>\n",
              "<p>3000 rows × 9 columns</p>\n",
              "</div>"
            ],
            "text/plain": [
              "      longitude  latitude  housing_median_age  total_rooms  total_bedrooms  \\\n",
              "0       -122.05     37.37                  27         3885             661   \n",
              "1       -118.30     34.26                  43         1510             310   \n",
              "2       -117.81     33.78                  27         3589             507   \n",
              "3       -118.36     33.82                  28           67              15   \n",
              "4       -119.67     36.33                  19         1241             244   \n",
              "...         ...       ...                 ...          ...             ...   \n",
              "2995    -119.86     34.42                  23         1450             642   \n",
              "2996    -118.14     34.06                  27         5257            1082   \n",
              "2997    -119.70     36.30                  10          956             201   \n",
              "2998    -117.12     34.10                  40           96              14   \n",
              "2999    -119.63     34.42                  42         1765             263   \n",
              "\n",
              "      population  households  median_income  median_house_value  \n",
              "0           1537         606         6.6085              344700  \n",
              "1            809         277         3.5990              176500  \n",
              "2           1484         495         5.7934              270500  \n",
              "3             49          11         6.1359              330000  \n",
              "4            850         237         2.9375               81700  \n",
              "...          ...         ...            ...                 ...  \n",
              "2995        1258         607         1.1790              225000  \n",
              "2996        3496        1036         3.3906              237200  \n",
              "2997         693         220         2.2895               62000  \n",
              "2998          46          14         3.2708              162500  \n",
              "2999         753         260         8.5608              500001  \n",
              "\n",
              "[3000 rows x 9 columns]"
            ]
          },
          "metadata": {
            "tags": []
          },
          "execution_count": 7
        }
      ]
    },
    {
      "cell_type": "markdown",
      "metadata": {
        "id": "2Aa7Hoa69D2P"
      },
      "source": [
        "## Otros formatos\n",
        "\n",
        "Además de los ya mencionados, Pandas permite leer y escribir en formatos comúnes como:\n",
        "\n",
        "* JSON\n",
        "* HTML\n",
        "* Parquet\n",
        "* SQL\n",
        "* BigQuery\n",
        "\n",
        "Puedes ver la lista completa en la [documentación de Pandas](https://pandas.pydata.org/docs/user_guide/io.html#io-tools-text-csv-hdf5)."
      ]
    },
    {
      "cell_type": "markdown",
      "metadata": {
        "id": "BIZpbhUppe62"
      },
      "source": [
        "# Accediendo a los datos"
      ]
    },
    {
      "cell_type": "markdown",
      "metadata": {
        "id": "YYvyNYxymZcV"
      },
      "source": [
        "## info()\n",
        "\n",
        "El método info() puede usarse para , mostrar la información general del objeto de Pandas, como el índice y los tipos de datos usados."
      ]
    },
    {
      "cell_type": "code",
      "metadata": {
        "id": "W2IlfVfaQdb4",
        "outputId": "2655910e-dd0d-4a32-ace6-ee3c1f036984"
      },
      "source": [
        "cali_housing.info()"
      ],
      "execution_count": null,
      "outputs": [
        {
          "output_type": "stream",
          "text": [
            "<class 'pandas.core.frame.DataFrame'>\n",
            "Int64Index: 3000 entries, 0 to 2999\n",
            "Data columns (total 9 columns):\n",
            " #   Column              Non-Null Count  Dtype  \n",
            "---  ------              --------------  -----  \n",
            " 0   longitude           3000 non-null   float64\n",
            " 1   latitude            3000 non-null   float64\n",
            " 2   housing_median_age  3000 non-null   int64  \n",
            " 3   total_rooms         3000 non-null   int64  \n",
            " 4   total_bedrooms      3000 non-null   int64  \n",
            " 5   population          3000 non-null   int64  \n",
            " 6   households          3000 non-null   int64  \n",
            " 7   median_income       3000 non-null   float64\n",
            " 8   median_house_value  3000 non-null   int64  \n",
            "dtypes: float64(3), int64(6)\n",
            "memory usage: 234.4 KB\n"
          ],
          "name": "stdout"
        }
      ]
    },
    {
      "cell_type": "markdown",
      "metadata": {
        "id": "wboMyaQ4ltYo"
      },
      "source": [
        "## head() y tail()\n",
        "\n",
        "Los métodos head() y tail() devuelven una pequeña muestra de los primeros o últimos elementos de un objeto Series o Dataframe. Ambas pueden recibir como parámetro el número de elementos que se desean visualizar, por defecto es igual a 5."
      ]
    },
    {
      "cell_type": "code",
      "metadata": {
        "id": "8w1nVek4ltdb",
        "outputId": "7fa43076-9ef0-445e-e858-c3b173168280"
      },
      "source": [
        "cali_housing.head()"
      ],
      "execution_count": null,
      "outputs": [
        {
          "output_type": "execute_result",
          "data": {
            "text/html": [
              "<div>\n",
              "<style scoped>\n",
              "    .dataframe tbody tr th:only-of-type {\n",
              "        vertical-align: middle;\n",
              "    }\n",
              "\n",
              "    .dataframe tbody tr th {\n",
              "        vertical-align: top;\n",
              "    }\n",
              "\n",
              "    .dataframe thead th {\n",
              "        text-align: right;\n",
              "    }\n",
              "</style>\n",
              "<table border=\"1\" class=\"dataframe\">\n",
              "  <thead>\n",
              "    <tr style=\"text-align: right;\">\n",
              "      <th></th>\n",
              "      <th>longitude</th>\n",
              "      <th>latitude</th>\n",
              "      <th>housing_median_age</th>\n",
              "      <th>total_rooms</th>\n",
              "      <th>total_bedrooms</th>\n",
              "      <th>population</th>\n",
              "      <th>households</th>\n",
              "      <th>median_income</th>\n",
              "      <th>median_house_value</th>\n",
              "    </tr>\n",
              "  </thead>\n",
              "  <tbody>\n",
              "    <tr>\n",
              "      <th>0</th>\n",
              "      <td>-122.05</td>\n",
              "      <td>37.37</td>\n",
              "      <td>27</td>\n",
              "      <td>3885</td>\n",
              "      <td>661</td>\n",
              "      <td>1537</td>\n",
              "      <td>606</td>\n",
              "      <td>6.6085</td>\n",
              "      <td>344700</td>\n",
              "    </tr>\n",
              "    <tr>\n",
              "      <th>1</th>\n",
              "      <td>-118.30</td>\n",
              "      <td>34.26</td>\n",
              "      <td>43</td>\n",
              "      <td>1510</td>\n",
              "      <td>310</td>\n",
              "      <td>809</td>\n",
              "      <td>277</td>\n",
              "      <td>3.5990</td>\n",
              "      <td>176500</td>\n",
              "    </tr>\n",
              "    <tr>\n",
              "      <th>2</th>\n",
              "      <td>-117.81</td>\n",
              "      <td>33.78</td>\n",
              "      <td>27</td>\n",
              "      <td>3589</td>\n",
              "      <td>507</td>\n",
              "      <td>1484</td>\n",
              "      <td>495</td>\n",
              "      <td>5.7934</td>\n",
              "      <td>270500</td>\n",
              "    </tr>\n",
              "    <tr>\n",
              "      <th>3</th>\n",
              "      <td>-118.36</td>\n",
              "      <td>33.82</td>\n",
              "      <td>28</td>\n",
              "      <td>67</td>\n",
              "      <td>15</td>\n",
              "      <td>49</td>\n",
              "      <td>11</td>\n",
              "      <td>6.1359</td>\n",
              "      <td>330000</td>\n",
              "    </tr>\n",
              "    <tr>\n",
              "      <th>4</th>\n",
              "      <td>-119.67</td>\n",
              "      <td>36.33</td>\n",
              "      <td>19</td>\n",
              "      <td>1241</td>\n",
              "      <td>244</td>\n",
              "      <td>850</td>\n",
              "      <td>237</td>\n",
              "      <td>2.9375</td>\n",
              "      <td>81700</td>\n",
              "    </tr>\n",
              "  </tbody>\n",
              "</table>\n",
              "</div>"
            ],
            "text/plain": [
              "   longitude  latitude  housing_median_age  total_rooms  total_bedrooms  \\\n",
              "0    -122.05     37.37                  27         3885             661   \n",
              "1    -118.30     34.26                  43         1510             310   \n",
              "2    -117.81     33.78                  27         3589             507   \n",
              "3    -118.36     33.82                  28           67              15   \n",
              "4    -119.67     36.33                  19         1241             244   \n",
              "\n",
              "   population  households  median_income  median_house_value  \n",
              "0        1537         606         6.6085              344700  \n",
              "1         809         277         3.5990              176500  \n",
              "2        1484         495         5.7934              270500  \n",
              "3          49          11         6.1359              330000  \n",
              "4         850         237         2.9375               81700  "
            ]
          },
          "metadata": {
            "tags": []
          },
          "execution_count": 9
        }
      ]
    },
    {
      "cell_type": "code",
      "metadata": {
        "id": "jXLeXz3SmL2g",
        "outputId": "a2ac5253-4384-4e39-ca62-8a5ea361d615"
      },
      "source": [
        "cali_housing.tail(3)"
      ],
      "execution_count": null,
      "outputs": [
        {
          "output_type": "execute_result",
          "data": {
            "text/html": [
              "<div>\n",
              "<style scoped>\n",
              "    .dataframe tbody tr th:only-of-type {\n",
              "        vertical-align: middle;\n",
              "    }\n",
              "\n",
              "    .dataframe tbody tr th {\n",
              "        vertical-align: top;\n",
              "    }\n",
              "\n",
              "    .dataframe thead th {\n",
              "        text-align: right;\n",
              "    }\n",
              "</style>\n",
              "<table border=\"1\" class=\"dataframe\">\n",
              "  <thead>\n",
              "    <tr style=\"text-align: right;\">\n",
              "      <th></th>\n",
              "      <th>longitude</th>\n",
              "      <th>latitude</th>\n",
              "      <th>housing_median_age</th>\n",
              "      <th>total_rooms</th>\n",
              "      <th>total_bedrooms</th>\n",
              "      <th>population</th>\n",
              "      <th>households</th>\n",
              "      <th>median_income</th>\n",
              "      <th>median_house_value</th>\n",
              "    </tr>\n",
              "  </thead>\n",
              "  <tbody>\n",
              "    <tr>\n",
              "      <th>2997</th>\n",
              "      <td>-119.70</td>\n",
              "      <td>36.30</td>\n",
              "      <td>10</td>\n",
              "      <td>956</td>\n",
              "      <td>201</td>\n",
              "      <td>693</td>\n",
              "      <td>220</td>\n",
              "      <td>2.2895</td>\n",
              "      <td>62000</td>\n",
              "    </tr>\n",
              "    <tr>\n",
              "      <th>2998</th>\n",
              "      <td>-117.12</td>\n",
              "      <td>34.10</td>\n",
              "      <td>40</td>\n",
              "      <td>96</td>\n",
              "      <td>14</td>\n",
              "      <td>46</td>\n",
              "      <td>14</td>\n",
              "      <td>3.2708</td>\n",
              "      <td>162500</td>\n",
              "    </tr>\n",
              "    <tr>\n",
              "      <th>2999</th>\n",
              "      <td>-119.63</td>\n",
              "      <td>34.42</td>\n",
              "      <td>42</td>\n",
              "      <td>1765</td>\n",
              "      <td>263</td>\n",
              "      <td>753</td>\n",
              "      <td>260</td>\n",
              "      <td>8.5608</td>\n",
              "      <td>500001</td>\n",
              "    </tr>\n",
              "  </tbody>\n",
              "</table>\n",
              "</div>"
            ],
            "text/plain": [
              "      longitude  latitude  housing_median_age  total_rooms  total_bedrooms  \\\n",
              "2997    -119.70     36.30                  10          956             201   \n",
              "2998    -117.12     34.10                  40           96              14   \n",
              "2999    -119.63     34.42                  42         1765             263   \n",
              "\n",
              "      population  households  median_income  median_house_value  \n",
              "2997         693         220         2.2895               62000  \n",
              "2998          46          14         3.2708              162500  \n",
              "2999         753         260         8.5608              500001  "
            ]
          },
          "metadata": {
            "tags": []
          },
          "execution_count": 10
        }
      ]
    },
    {
      "cell_type": "markdown",
      "metadata": {
        "id": "0noSgAwmbj6S"
      },
      "source": [
        "## df.sample()\n",
        "\n",
        "Para obtener una muestra aleatoria del objeto."
      ]
    },
    {
      "cell_type": "code",
      "metadata": {
        "id": "Zs2159iMbkAL",
        "outputId": "ced4b9f2-a9d3-4870-80e8-64d6923f9f97"
      },
      "source": [
        "cali_housing.sample(n=3)"
      ],
      "execution_count": null,
      "outputs": [
        {
          "output_type": "execute_result",
          "data": {
            "text/html": [
              "<div>\n",
              "<style scoped>\n",
              "    .dataframe tbody tr th:only-of-type {\n",
              "        vertical-align: middle;\n",
              "    }\n",
              "\n",
              "    .dataframe tbody tr th {\n",
              "        vertical-align: top;\n",
              "    }\n",
              "\n",
              "    .dataframe thead th {\n",
              "        text-align: right;\n",
              "    }\n",
              "</style>\n",
              "<table border=\"1\" class=\"dataframe\">\n",
              "  <thead>\n",
              "    <tr style=\"text-align: right;\">\n",
              "      <th></th>\n",
              "      <th>longitude</th>\n",
              "      <th>latitude</th>\n",
              "      <th>housing_median_age</th>\n",
              "      <th>total_rooms</th>\n",
              "      <th>total_bedrooms</th>\n",
              "      <th>population</th>\n",
              "      <th>households</th>\n",
              "      <th>median_income</th>\n",
              "      <th>median_house_value</th>\n",
              "    </tr>\n",
              "  </thead>\n",
              "  <tbody>\n",
              "    <tr>\n",
              "      <th>180</th>\n",
              "      <td>-121.84</td>\n",
              "      <td>37.34</td>\n",
              "      <td>33</td>\n",
              "      <td>1019</td>\n",
              "      <td>191</td>\n",
              "      <td>938</td>\n",
              "      <td>215</td>\n",
              "      <td>4.0929</td>\n",
              "      <td>165000</td>\n",
              "    </tr>\n",
              "    <tr>\n",
              "      <th>1714</th>\n",
              "      <td>-118.55</td>\n",
              "      <td>34.20</td>\n",
              "      <td>31</td>\n",
              "      <td>1963</td>\n",
              "      <td>420</td>\n",
              "      <td>1494</td>\n",
              "      <td>415</td>\n",
              "      <td>3.5313</td>\n",
              "      <td>211800</td>\n",
              "    </tr>\n",
              "    <tr>\n",
              "      <th>1828</th>\n",
              "      <td>-117.56</td>\n",
              "      <td>34.42</td>\n",
              "      <td>6</td>\n",
              "      <td>4264</td>\n",
              "      <td>749</td>\n",
              "      <td>2005</td>\n",
              "      <td>666</td>\n",
              "      <td>3.4695</td>\n",
              "      <td>138800</td>\n",
              "    </tr>\n",
              "  </tbody>\n",
              "</table>\n",
              "</div>"
            ],
            "text/plain": [
              "      longitude  latitude  housing_median_age  total_rooms  total_bedrooms  \\\n",
              "180     -121.84     37.34                  33         1019             191   \n",
              "1714    -118.55     34.20                  31         1963             420   \n",
              "1828    -117.56     34.42                   6         4264             749   \n",
              "\n",
              "      population  households  median_income  median_house_value  \n",
              "180          938         215         4.0929              165000  \n",
              "1714        1494         415         3.5313              211800  \n",
              "1828        2005         666         3.4695              138800  "
            ]
          },
          "metadata": {
            "tags": []
          },
          "execution_count": 11
        }
      ]
    },
    {
      "cell_type": "markdown",
      "metadata": {
        "id": "9rFDtUgonaCT"
      },
      "source": [
        "## df.index\n",
        "\n",
        "El atributo index regresa el índice del objeto de Pandas."
      ]
    },
    {
      "cell_type": "code",
      "metadata": {
        "id": "Apbkp5B-naHD",
        "outputId": "3963ccc6-4d0c-41d1-b70f-38f874ec68b3"
      },
      "source": [
        "cali_housing.index"
      ],
      "execution_count": null,
      "outputs": [
        {
          "output_type": "execute_result",
          "data": {
            "text/plain": [
              "Int64Index([   0,    1,    2,    3,    4,    5,    6,    7,    8,    9,\n",
              "            ...\n",
              "            2990, 2991, 2992, 2993, 2994, 2995, 2996, 2997, 2998, 2999],\n",
              "           dtype='int64', length=3000)"
            ]
          },
          "metadata": {
            "tags": []
          },
          "execution_count": 12
        }
      ]
    },
    {
      "cell_type": "markdown",
      "metadata": {
        "id": "HDC-5YyqnaOV"
      },
      "source": [
        "## df.columns\n",
        "\n",
        "El atributo columns de un DataFrame devuelve las columnas del mismo."
      ]
    },
    {
      "cell_type": "code",
      "metadata": {
        "id": "sNVXAfLQnaSS",
        "outputId": "e0c1edff-61c8-4c19-bc98-18d968ce35c4"
      },
      "source": [
        "cali_housing.columns"
      ],
      "execution_count": null,
      "outputs": [
        {
          "output_type": "execute_result",
          "data": {
            "text/plain": [
              "Index(['longitude', 'latitude', 'housing_median_age', 'total_rooms',\n",
              "       'total_bedrooms', 'population', 'households', 'median_income',\n",
              "       'median_house_value'],\n",
              "      dtype='object')"
            ]
          },
          "metadata": {
            "tags": []
          },
          "execution_count": 13
        }
      ]
    },
    {
      "cell_type": "markdown",
      "metadata": {
        "id": "9WdqAWo7oDwj"
      },
      "source": [
        "## describe()\n",
        "\n",
        "El método describe() regresa un resúmen estadístico del objeto."
      ]
    },
    {
      "cell_type": "code",
      "metadata": {
        "id": "qwaMTDgKoD1D",
        "outputId": "2cf31efc-a0a3-4827-d5d7-aa9737161540"
      },
      "source": [
        "cali_housing.describe()"
      ],
      "execution_count": null,
      "outputs": [
        {
          "output_type": "execute_result",
          "data": {
            "text/html": [
              "<div>\n",
              "<style scoped>\n",
              "    .dataframe tbody tr th:only-of-type {\n",
              "        vertical-align: middle;\n",
              "    }\n",
              "\n",
              "    .dataframe tbody tr th {\n",
              "        vertical-align: top;\n",
              "    }\n",
              "\n",
              "    .dataframe thead th {\n",
              "        text-align: right;\n",
              "    }\n",
              "</style>\n",
              "<table border=\"1\" class=\"dataframe\">\n",
              "  <thead>\n",
              "    <tr style=\"text-align: right;\">\n",
              "      <th></th>\n",
              "      <th>longitude</th>\n",
              "      <th>latitude</th>\n",
              "      <th>housing_median_age</th>\n",
              "      <th>total_rooms</th>\n",
              "      <th>total_bedrooms</th>\n",
              "      <th>population</th>\n",
              "      <th>households</th>\n",
              "      <th>median_income</th>\n",
              "      <th>median_house_value</th>\n",
              "    </tr>\n",
              "  </thead>\n",
              "  <tbody>\n",
              "    <tr>\n",
              "      <th>count</th>\n",
              "      <td>3000.000000</td>\n",
              "      <td>3000.00000</td>\n",
              "      <td>3000.000000</td>\n",
              "      <td>3000.000000</td>\n",
              "      <td>3000.000000</td>\n",
              "      <td>3000.000000</td>\n",
              "      <td>3000.00000</td>\n",
              "      <td>3000.000000</td>\n",
              "      <td>3000.00000</td>\n",
              "    </tr>\n",
              "    <tr>\n",
              "      <th>mean</th>\n",
              "      <td>-119.589200</td>\n",
              "      <td>35.63539</td>\n",
              "      <td>28.845333</td>\n",
              "      <td>2599.578667</td>\n",
              "      <td>529.950667</td>\n",
              "      <td>1402.798667</td>\n",
              "      <td>489.91200</td>\n",
              "      <td>3.807272</td>\n",
              "      <td>205846.27500</td>\n",
              "    </tr>\n",
              "    <tr>\n",
              "      <th>std</th>\n",
              "      <td>1.994936</td>\n",
              "      <td>2.12967</td>\n",
              "      <td>12.555396</td>\n",
              "      <td>2155.593332</td>\n",
              "      <td>415.654368</td>\n",
              "      <td>1030.543012</td>\n",
              "      <td>365.42271</td>\n",
              "      <td>1.854512</td>\n",
              "      <td>113119.68747</td>\n",
              "    </tr>\n",
              "    <tr>\n",
              "      <th>min</th>\n",
              "      <td>-124.180000</td>\n",
              "      <td>32.56000</td>\n",
              "      <td>1.000000</td>\n",
              "      <td>6.000000</td>\n",
              "      <td>2.000000</td>\n",
              "      <td>5.000000</td>\n",
              "      <td>2.00000</td>\n",
              "      <td>0.499900</td>\n",
              "      <td>22500.00000</td>\n",
              "    </tr>\n",
              "    <tr>\n",
              "      <th>25%</th>\n",
              "      <td>-121.810000</td>\n",
              "      <td>33.93000</td>\n",
              "      <td>18.000000</td>\n",
              "      <td>1401.000000</td>\n",
              "      <td>291.000000</td>\n",
              "      <td>780.000000</td>\n",
              "      <td>273.00000</td>\n",
              "      <td>2.544000</td>\n",
              "      <td>121200.00000</td>\n",
              "    </tr>\n",
              "    <tr>\n",
              "      <th>50%</th>\n",
              "      <td>-118.485000</td>\n",
              "      <td>34.27000</td>\n",
              "      <td>29.000000</td>\n",
              "      <td>2106.000000</td>\n",
              "      <td>437.000000</td>\n",
              "      <td>1155.000000</td>\n",
              "      <td>409.50000</td>\n",
              "      <td>3.487150</td>\n",
              "      <td>177650.00000</td>\n",
              "    </tr>\n",
              "    <tr>\n",
              "      <th>75%</th>\n",
              "      <td>-118.020000</td>\n",
              "      <td>37.69000</td>\n",
              "      <td>37.000000</td>\n",
              "      <td>3129.000000</td>\n",
              "      <td>636.000000</td>\n",
              "      <td>1742.750000</td>\n",
              "      <td>597.25000</td>\n",
              "      <td>4.656475</td>\n",
              "      <td>263975.00000</td>\n",
              "    </tr>\n",
              "    <tr>\n",
              "      <th>max</th>\n",
              "      <td>-114.490000</td>\n",
              "      <td>41.92000</td>\n",
              "      <td>52.000000</td>\n",
              "      <td>30450.000000</td>\n",
              "      <td>5419.000000</td>\n",
              "      <td>11935.000000</td>\n",
              "      <td>4930.00000</td>\n",
              "      <td>15.000100</td>\n",
              "      <td>500001.00000</td>\n",
              "    </tr>\n",
              "  </tbody>\n",
              "</table>\n",
              "</div>"
            ],
            "text/plain": [
              "         longitude    latitude  housing_median_age   total_rooms  \\\n",
              "count  3000.000000  3000.00000         3000.000000   3000.000000   \n",
              "mean   -119.589200    35.63539           28.845333   2599.578667   \n",
              "std       1.994936     2.12967           12.555396   2155.593332   \n",
              "min    -124.180000    32.56000            1.000000      6.000000   \n",
              "25%    -121.810000    33.93000           18.000000   1401.000000   \n",
              "50%    -118.485000    34.27000           29.000000   2106.000000   \n",
              "75%    -118.020000    37.69000           37.000000   3129.000000   \n",
              "max    -114.490000    41.92000           52.000000  30450.000000   \n",
              "\n",
              "       total_bedrooms    population  households  median_income  \\\n",
              "count     3000.000000   3000.000000  3000.00000    3000.000000   \n",
              "mean       529.950667   1402.798667   489.91200       3.807272   \n",
              "std        415.654368   1030.543012   365.42271       1.854512   \n",
              "min          2.000000      5.000000     2.00000       0.499900   \n",
              "25%        291.000000    780.000000   273.00000       2.544000   \n",
              "50%        437.000000   1155.000000   409.50000       3.487150   \n",
              "75%        636.000000   1742.750000   597.25000       4.656475   \n",
              "max       5419.000000  11935.000000  4930.00000      15.000100   \n",
              "\n",
              "       median_house_value  \n",
              "count          3000.00000  \n",
              "mean         205846.27500  \n",
              "std          113119.68747  \n",
              "min           22500.00000  \n",
              "25%          121200.00000  \n",
              "50%          177650.00000  \n",
              "75%          263975.00000  \n",
              "max          500001.00000  "
            ]
          },
          "metadata": {
            "tags": []
          },
          "execution_count": 14
        }
      ]
    },
    {
      "cell_type": "markdown",
      "metadata": {
        "id": "AqJUI2dwQdL-"
      },
      "source": [
        "# Selección - asignación"
      ]
    },
    {
      "cell_type": "markdown",
      "metadata": {
        "id": "aStR2xhVs5oo"
      },
      "source": [
        "## Seleccionando columnas\n",
        "\n",
        "Puedes usar dos notaciones para seleccionar una columna de un DataFrame, cualquiera de éstas devolverá un objeto Series.\n",
        "\n",
        "\n",
        "\n",
        "```\n",
        "df.[\"A\"]\n",
        "```\n",
        "\n",
        "o\n",
        "\n",
        "\n",
        "\n",
        "```\n",
        "df.A\n",
        "```\n",
        "\n",
        "\n",
        "\n"
      ]
    },
    {
      "cell_type": "code",
      "metadata": {
        "id": "AoTIBTUas5sm",
        "outputId": "7f88a660-8157-46ce-a39d-9f3dfd5b9752"
      },
      "source": [
        "#seleccionar la columna devuelve un objeto Series\n",
        "cali_housing[\"latitude\"]"
      ],
      "execution_count": null,
      "outputs": [
        {
          "output_type": "execute_result",
          "data": {
            "text/plain": [
              "0       37.37\n",
              "1       34.26\n",
              "2       33.78\n",
              "3       33.82\n",
              "4       36.33\n",
              "        ...  \n",
              "2995    34.42\n",
              "2996    34.06\n",
              "2997    36.30\n",
              "2998    34.10\n",
              "2999    34.42\n",
              "Name: latitude, Length: 3000, dtype: float64"
            ]
          },
          "metadata": {
            "tags": []
          },
          "execution_count": 15
        }
      ]
    },
    {
      "cell_type": "code",
      "metadata": {
        "id": "R5__s0jktINE",
        "outputId": "0743eb43-97a0-4312-f367-fc0f5549b7f9"
      },
      "source": [
        "#usa segunda opcion para seleccionar columnas\n",
        "cali_housing.latitude"
      ],
      "execution_count": null,
      "outputs": [
        {
          "output_type": "execute_result",
          "data": {
            "text/plain": [
              "0       37.37\n",
              "1       34.26\n",
              "2       33.78\n",
              "3       33.82\n",
              "4       36.33\n",
              "        ...  \n",
              "2995    34.42\n",
              "2996    34.06\n",
              "2997    36.30\n",
              "2998    34.10\n",
              "2999    34.42\n",
              "Name: latitude, Length: 3000, dtype: float64"
            ]
          },
          "metadata": {
            "tags": []
          },
          "execution_count": 16
        }
      ]
    },
    {
      "cell_type": "code",
      "metadata": {
        "id": "aL5laUlqKL6F",
        "outputId": "328fe89c-5155-41f9-c23b-dff52fba2af2"
      },
      "source": [
        "#seleccionando una columna como un dataframe\n",
        "cali_housing[[\"latitude\"]]"
      ],
      "execution_count": null,
      "outputs": [
        {
          "output_type": "execute_result",
          "data": {
            "text/html": [
              "<div>\n",
              "<style scoped>\n",
              "    .dataframe tbody tr th:only-of-type {\n",
              "        vertical-align: middle;\n",
              "    }\n",
              "\n",
              "    .dataframe tbody tr th {\n",
              "        vertical-align: top;\n",
              "    }\n",
              "\n",
              "    .dataframe thead th {\n",
              "        text-align: right;\n",
              "    }\n",
              "</style>\n",
              "<table border=\"1\" class=\"dataframe\">\n",
              "  <thead>\n",
              "    <tr style=\"text-align: right;\">\n",
              "      <th></th>\n",
              "      <th>latitude</th>\n",
              "    </tr>\n",
              "  </thead>\n",
              "  <tbody>\n",
              "    <tr>\n",
              "      <th>0</th>\n",
              "      <td>37.37</td>\n",
              "    </tr>\n",
              "    <tr>\n",
              "      <th>1</th>\n",
              "      <td>34.26</td>\n",
              "    </tr>\n",
              "    <tr>\n",
              "      <th>2</th>\n",
              "      <td>33.78</td>\n",
              "    </tr>\n",
              "    <tr>\n",
              "      <th>3</th>\n",
              "      <td>33.82</td>\n",
              "    </tr>\n",
              "    <tr>\n",
              "      <th>4</th>\n",
              "      <td>36.33</td>\n",
              "    </tr>\n",
              "    <tr>\n",
              "      <th>...</th>\n",
              "      <td>...</td>\n",
              "    </tr>\n",
              "    <tr>\n",
              "      <th>2995</th>\n",
              "      <td>34.42</td>\n",
              "    </tr>\n",
              "    <tr>\n",
              "      <th>2996</th>\n",
              "      <td>34.06</td>\n",
              "    </tr>\n",
              "    <tr>\n",
              "      <th>2997</th>\n",
              "      <td>36.30</td>\n",
              "    </tr>\n",
              "    <tr>\n",
              "      <th>2998</th>\n",
              "      <td>34.10</td>\n",
              "    </tr>\n",
              "    <tr>\n",
              "      <th>2999</th>\n",
              "      <td>34.42</td>\n",
              "    </tr>\n",
              "  </tbody>\n",
              "</table>\n",
              "<p>3000 rows × 1 columns</p>\n",
              "</div>"
            ],
            "text/plain": [
              "      latitude\n",
              "0        37.37\n",
              "1        34.26\n",
              "2        33.78\n",
              "3        33.82\n",
              "4        36.33\n",
              "...        ...\n",
              "2995     34.42\n",
              "2996     34.06\n",
              "2997     36.30\n",
              "2998     34.10\n",
              "2999     34.42\n",
              "\n",
              "[3000 rows x 1 columns]"
            ]
          },
          "metadata": {
            "tags": []
          },
          "execution_count": 17
        }
      ]
    },
    {
      "cell_type": "markdown",
      "metadata": {
        "id": "CjqwQ2SFvO8-"
      },
      "source": [
        "Seleccionando múltiples columnas\n",
        "\n",
        "\n",
        "\n",
        "```\n",
        "df[[\"A\", ...]]\n",
        "```\n",
        "\n"
      ]
    },
    {
      "cell_type": "code",
      "metadata": {
        "id": "VvnPz531vPDZ",
        "outputId": "7d9be305-4648-461d-9982-853304083ebd"
      },
      "source": [
        "cali_housing[[\"longitude\", \"latitude\"]]"
      ],
      "execution_count": null,
      "outputs": [
        {
          "output_type": "execute_result",
          "data": {
            "text/html": [
              "<div>\n",
              "<style scoped>\n",
              "    .dataframe tbody tr th:only-of-type {\n",
              "        vertical-align: middle;\n",
              "    }\n",
              "\n",
              "    .dataframe tbody tr th {\n",
              "        vertical-align: top;\n",
              "    }\n",
              "\n",
              "    .dataframe thead th {\n",
              "        text-align: right;\n",
              "    }\n",
              "</style>\n",
              "<table border=\"1\" class=\"dataframe\">\n",
              "  <thead>\n",
              "    <tr style=\"text-align: right;\">\n",
              "      <th></th>\n",
              "      <th>longitude</th>\n",
              "      <th>latitude</th>\n",
              "    </tr>\n",
              "  </thead>\n",
              "  <tbody>\n",
              "    <tr>\n",
              "      <th>0</th>\n",
              "      <td>-122.05</td>\n",
              "      <td>37.37</td>\n",
              "    </tr>\n",
              "    <tr>\n",
              "      <th>1</th>\n",
              "      <td>-118.30</td>\n",
              "      <td>34.26</td>\n",
              "    </tr>\n",
              "    <tr>\n",
              "      <th>2</th>\n",
              "      <td>-117.81</td>\n",
              "      <td>33.78</td>\n",
              "    </tr>\n",
              "    <tr>\n",
              "      <th>3</th>\n",
              "      <td>-118.36</td>\n",
              "      <td>33.82</td>\n",
              "    </tr>\n",
              "    <tr>\n",
              "      <th>4</th>\n",
              "      <td>-119.67</td>\n",
              "      <td>36.33</td>\n",
              "    </tr>\n",
              "    <tr>\n",
              "      <th>...</th>\n",
              "      <td>...</td>\n",
              "      <td>...</td>\n",
              "    </tr>\n",
              "    <tr>\n",
              "      <th>2995</th>\n",
              "      <td>-119.86</td>\n",
              "      <td>34.42</td>\n",
              "    </tr>\n",
              "    <tr>\n",
              "      <th>2996</th>\n",
              "      <td>-118.14</td>\n",
              "      <td>34.06</td>\n",
              "    </tr>\n",
              "    <tr>\n",
              "      <th>2997</th>\n",
              "      <td>-119.70</td>\n",
              "      <td>36.30</td>\n",
              "    </tr>\n",
              "    <tr>\n",
              "      <th>2998</th>\n",
              "      <td>-117.12</td>\n",
              "      <td>34.10</td>\n",
              "    </tr>\n",
              "    <tr>\n",
              "      <th>2999</th>\n",
              "      <td>-119.63</td>\n",
              "      <td>34.42</td>\n",
              "    </tr>\n",
              "  </tbody>\n",
              "</table>\n",
              "<p>3000 rows × 2 columns</p>\n",
              "</div>"
            ],
            "text/plain": [
              "      longitude  latitude\n",
              "0       -122.05     37.37\n",
              "1       -118.30     34.26\n",
              "2       -117.81     33.78\n",
              "3       -118.36     33.82\n",
              "4       -119.67     36.33\n",
              "...         ...       ...\n",
              "2995    -119.86     34.42\n",
              "2996    -118.14     34.06\n",
              "2997    -119.70     36.30\n",
              "2998    -117.12     34.10\n",
              "2999    -119.63     34.42\n",
              "\n",
              "[3000 rows x 2 columns]"
            ]
          },
          "metadata": {
            "tags": []
          },
          "execution_count": 18
        }
      ]
    },
    {
      "cell_type": "markdown",
      "metadata": {
        "id": "CxB5qTZys52B"
      },
      "source": [
        "## Seleccionando filas con slicing"
      ]
    },
    {
      "cell_type": "code",
      "metadata": {
        "id": "t10uKI8Ss56d",
        "outputId": "eaa8f76e-3fa5-4873-afab-bc2ab29ad6ab"
      },
      "source": [
        "cali_housing[0:3]"
      ],
      "execution_count": null,
      "outputs": [
        {
          "output_type": "execute_result",
          "data": {
            "text/html": [
              "<div>\n",
              "<style scoped>\n",
              "    .dataframe tbody tr th:only-of-type {\n",
              "        vertical-align: middle;\n",
              "    }\n",
              "\n",
              "    .dataframe tbody tr th {\n",
              "        vertical-align: top;\n",
              "    }\n",
              "\n",
              "    .dataframe thead th {\n",
              "        text-align: right;\n",
              "    }\n",
              "</style>\n",
              "<table border=\"1\" class=\"dataframe\">\n",
              "  <thead>\n",
              "    <tr style=\"text-align: right;\">\n",
              "      <th></th>\n",
              "      <th>longitude</th>\n",
              "      <th>latitude</th>\n",
              "      <th>housing_median_age</th>\n",
              "      <th>total_rooms</th>\n",
              "      <th>total_bedrooms</th>\n",
              "      <th>population</th>\n",
              "      <th>households</th>\n",
              "      <th>median_income</th>\n",
              "      <th>median_house_value</th>\n",
              "    </tr>\n",
              "  </thead>\n",
              "  <tbody>\n",
              "    <tr>\n",
              "      <th>0</th>\n",
              "      <td>-122.05</td>\n",
              "      <td>37.37</td>\n",
              "      <td>27</td>\n",
              "      <td>3885</td>\n",
              "      <td>661</td>\n",
              "      <td>1537</td>\n",
              "      <td>606</td>\n",
              "      <td>6.6085</td>\n",
              "      <td>344700</td>\n",
              "    </tr>\n",
              "    <tr>\n",
              "      <th>1</th>\n",
              "      <td>-118.30</td>\n",
              "      <td>34.26</td>\n",
              "      <td>43</td>\n",
              "      <td>1510</td>\n",
              "      <td>310</td>\n",
              "      <td>809</td>\n",
              "      <td>277</td>\n",
              "      <td>3.5990</td>\n",
              "      <td>176500</td>\n",
              "    </tr>\n",
              "    <tr>\n",
              "      <th>2</th>\n",
              "      <td>-117.81</td>\n",
              "      <td>33.78</td>\n",
              "      <td>27</td>\n",
              "      <td>3589</td>\n",
              "      <td>507</td>\n",
              "      <td>1484</td>\n",
              "      <td>495</td>\n",
              "      <td>5.7934</td>\n",
              "      <td>270500</td>\n",
              "    </tr>\n",
              "  </tbody>\n",
              "</table>\n",
              "</div>"
            ],
            "text/plain": [
              "   longitude  latitude  housing_median_age  total_rooms  total_bedrooms  \\\n",
              "0    -122.05     37.37                  27         3885             661   \n",
              "1    -118.30     34.26                  43         1510             310   \n",
              "2    -117.81     33.78                  27         3589             507   \n",
              "\n",
              "   population  households  median_income  median_house_value  \n",
              "0        1537         606         6.6085              344700  \n",
              "1         809         277         3.5990              176500  \n",
              "2        1484         495         5.7934              270500  "
            ]
          },
          "metadata": {
            "tags": []
          },
          "execution_count": 19
        }
      ]
    },
    {
      "cell_type": "markdown",
      "metadata": {
        "id": "jsZdWJbmu55Y"
      },
      "source": [
        "## Selección con etiquetas loc"
      ]
    },
    {
      "cell_type": "code",
      "metadata": {
        "id": "cAFiM2puu5-4",
        "outputId": "3ca4eb4d-c466-46d3-cf27-32c98b9dae31"
      },
      "source": [
        "cali_housing.loc[:, \"total_rooms\":\"households\"]"
      ],
      "execution_count": null,
      "outputs": [
        {
          "output_type": "execute_result",
          "data": {
            "text/html": [
              "<div>\n",
              "<style scoped>\n",
              "    .dataframe tbody tr th:only-of-type {\n",
              "        vertical-align: middle;\n",
              "    }\n",
              "\n",
              "    .dataframe tbody tr th {\n",
              "        vertical-align: top;\n",
              "    }\n",
              "\n",
              "    .dataframe thead th {\n",
              "        text-align: right;\n",
              "    }\n",
              "</style>\n",
              "<table border=\"1\" class=\"dataframe\">\n",
              "  <thead>\n",
              "    <tr style=\"text-align: right;\">\n",
              "      <th></th>\n",
              "      <th>total_rooms</th>\n",
              "      <th>total_bedrooms</th>\n",
              "      <th>population</th>\n",
              "      <th>households</th>\n",
              "    </tr>\n",
              "  </thead>\n",
              "  <tbody>\n",
              "    <tr>\n",
              "      <th>0</th>\n",
              "      <td>3885</td>\n",
              "      <td>661</td>\n",
              "      <td>1537</td>\n",
              "      <td>606</td>\n",
              "    </tr>\n",
              "    <tr>\n",
              "      <th>1</th>\n",
              "      <td>1510</td>\n",
              "      <td>310</td>\n",
              "      <td>809</td>\n",
              "      <td>277</td>\n",
              "    </tr>\n",
              "    <tr>\n",
              "      <th>2</th>\n",
              "      <td>3589</td>\n",
              "      <td>507</td>\n",
              "      <td>1484</td>\n",
              "      <td>495</td>\n",
              "    </tr>\n",
              "    <tr>\n",
              "      <th>3</th>\n",
              "      <td>67</td>\n",
              "      <td>15</td>\n",
              "      <td>49</td>\n",
              "      <td>11</td>\n",
              "    </tr>\n",
              "    <tr>\n",
              "      <th>4</th>\n",
              "      <td>1241</td>\n",
              "      <td>244</td>\n",
              "      <td>850</td>\n",
              "      <td>237</td>\n",
              "    </tr>\n",
              "    <tr>\n",
              "      <th>...</th>\n",
              "      <td>...</td>\n",
              "      <td>...</td>\n",
              "      <td>...</td>\n",
              "      <td>...</td>\n",
              "    </tr>\n",
              "    <tr>\n",
              "      <th>2995</th>\n",
              "      <td>1450</td>\n",
              "      <td>642</td>\n",
              "      <td>1258</td>\n",
              "      <td>607</td>\n",
              "    </tr>\n",
              "    <tr>\n",
              "      <th>2996</th>\n",
              "      <td>5257</td>\n",
              "      <td>1082</td>\n",
              "      <td>3496</td>\n",
              "      <td>1036</td>\n",
              "    </tr>\n",
              "    <tr>\n",
              "      <th>2997</th>\n",
              "      <td>956</td>\n",
              "      <td>201</td>\n",
              "      <td>693</td>\n",
              "      <td>220</td>\n",
              "    </tr>\n",
              "    <tr>\n",
              "      <th>2998</th>\n",
              "      <td>96</td>\n",
              "      <td>14</td>\n",
              "      <td>46</td>\n",
              "      <td>14</td>\n",
              "    </tr>\n",
              "    <tr>\n",
              "      <th>2999</th>\n",
              "      <td>1765</td>\n",
              "      <td>263</td>\n",
              "      <td>753</td>\n",
              "      <td>260</td>\n",
              "    </tr>\n",
              "  </tbody>\n",
              "</table>\n",
              "<p>3000 rows × 4 columns</p>\n",
              "</div>"
            ],
            "text/plain": [
              "      total_rooms  total_bedrooms  population  households\n",
              "0            3885             661        1537         606\n",
              "1            1510             310         809         277\n",
              "2            3589             507        1484         495\n",
              "3              67              15          49          11\n",
              "4            1241             244         850         237\n",
              "...           ...             ...         ...         ...\n",
              "2995         1450             642        1258         607\n",
              "2996         5257            1082        3496        1036\n",
              "2997          956             201         693         220\n",
              "2998           96              14          46          14\n",
              "2999         1765             263         753         260\n",
              "\n",
              "[3000 rows x 4 columns]"
            ]
          },
          "metadata": {
            "tags": []
          },
          "execution_count": 20
        }
      ]
    },
    {
      "cell_type": "markdown",
      "metadata": {
        "id": "oCHwl3yuvCch"
      },
      "source": [
        "## Selección con enteros iloc"
      ]
    },
    {
      "cell_type": "code",
      "metadata": {
        "id": "zYt4MKkUvCi2",
        "outputId": "be42f0b3-a549-410d-c4b3-5f0a45da4f84"
      },
      "source": [
        "cali_housing.iloc[:, 6:]"
      ],
      "execution_count": null,
      "outputs": [
        {
          "output_type": "execute_result",
          "data": {
            "text/html": [
              "<div>\n",
              "<style scoped>\n",
              "    .dataframe tbody tr th:only-of-type {\n",
              "        vertical-align: middle;\n",
              "    }\n",
              "\n",
              "    .dataframe tbody tr th {\n",
              "        vertical-align: top;\n",
              "    }\n",
              "\n",
              "    .dataframe thead th {\n",
              "        text-align: right;\n",
              "    }\n",
              "</style>\n",
              "<table border=\"1\" class=\"dataframe\">\n",
              "  <thead>\n",
              "    <tr style=\"text-align: right;\">\n",
              "      <th></th>\n",
              "      <th>households</th>\n",
              "      <th>median_income</th>\n",
              "      <th>median_house_value</th>\n",
              "    </tr>\n",
              "  </thead>\n",
              "  <tbody>\n",
              "    <tr>\n",
              "      <th>0</th>\n",
              "      <td>606</td>\n",
              "      <td>6.6085</td>\n",
              "      <td>344700</td>\n",
              "    </tr>\n",
              "    <tr>\n",
              "      <th>1</th>\n",
              "      <td>277</td>\n",
              "      <td>3.5990</td>\n",
              "      <td>176500</td>\n",
              "    </tr>\n",
              "    <tr>\n",
              "      <th>2</th>\n",
              "      <td>495</td>\n",
              "      <td>5.7934</td>\n",
              "      <td>270500</td>\n",
              "    </tr>\n",
              "    <tr>\n",
              "      <th>3</th>\n",
              "      <td>11</td>\n",
              "      <td>6.1359</td>\n",
              "      <td>330000</td>\n",
              "    </tr>\n",
              "    <tr>\n",
              "      <th>4</th>\n",
              "      <td>237</td>\n",
              "      <td>2.9375</td>\n",
              "      <td>81700</td>\n",
              "    </tr>\n",
              "    <tr>\n",
              "      <th>...</th>\n",
              "      <td>...</td>\n",
              "      <td>...</td>\n",
              "      <td>...</td>\n",
              "    </tr>\n",
              "    <tr>\n",
              "      <th>2995</th>\n",
              "      <td>607</td>\n",
              "      <td>1.1790</td>\n",
              "      <td>225000</td>\n",
              "    </tr>\n",
              "    <tr>\n",
              "      <th>2996</th>\n",
              "      <td>1036</td>\n",
              "      <td>3.3906</td>\n",
              "      <td>237200</td>\n",
              "    </tr>\n",
              "    <tr>\n",
              "      <th>2997</th>\n",
              "      <td>220</td>\n",
              "      <td>2.2895</td>\n",
              "      <td>62000</td>\n",
              "    </tr>\n",
              "    <tr>\n",
              "      <th>2998</th>\n",
              "      <td>14</td>\n",
              "      <td>3.2708</td>\n",
              "      <td>162500</td>\n",
              "    </tr>\n",
              "    <tr>\n",
              "      <th>2999</th>\n",
              "      <td>260</td>\n",
              "      <td>8.5608</td>\n",
              "      <td>500001</td>\n",
              "    </tr>\n",
              "  </tbody>\n",
              "</table>\n",
              "<p>3000 rows × 3 columns</p>\n",
              "</div>"
            ],
            "text/plain": [
              "      households  median_income  median_house_value\n",
              "0            606         6.6085              344700\n",
              "1            277         3.5990              176500\n",
              "2            495         5.7934              270500\n",
              "3             11         6.1359              330000\n",
              "4            237         2.9375               81700\n",
              "...          ...            ...                 ...\n",
              "2995         607         1.1790              225000\n",
              "2996        1036         3.3906              237200\n",
              "2997         220         2.2895               62000\n",
              "2998          14         3.2708              162500\n",
              "2999         260         8.5608              500001\n",
              "\n",
              "[3000 rows x 3 columns]"
            ]
          },
          "metadata": {
            "tags": []
          },
          "execution_count": 21
        }
      ]
    },
    {
      "cell_type": "markdown",
      "metadata": {
        "id": "dj7r1S5_o7Mw"
      },
      "source": [
        "## Asignación por rango"
      ]
    },
    {
      "cell_type": "code",
      "metadata": {
        "id": "MRN2Ykxzo_Rv",
        "outputId": "8b162431-2687-43ad-e0f5-115505774c62"
      },
      "source": [
        "#primero agregamos una columna random inicializada a 0\n",
        "cali_housing[\"random\"] = 0.0\n",
        "#reasignamos usando np.random\n",
        "cali_housing.loc[:, \"random\"] = np.random.randn(cali_housing.shape[0])\n",
        "cali_housing"
      ],
      "execution_count": null,
      "outputs": [
        {
          "output_type": "execute_result",
          "data": {
            "text/html": [
              "<div>\n",
              "<style scoped>\n",
              "    .dataframe tbody tr th:only-of-type {\n",
              "        vertical-align: middle;\n",
              "    }\n",
              "\n",
              "    .dataframe tbody tr th {\n",
              "        vertical-align: top;\n",
              "    }\n",
              "\n",
              "    .dataframe thead th {\n",
              "        text-align: right;\n",
              "    }\n",
              "</style>\n",
              "<table border=\"1\" class=\"dataframe\">\n",
              "  <thead>\n",
              "    <tr style=\"text-align: right;\">\n",
              "      <th></th>\n",
              "      <th>longitude</th>\n",
              "      <th>latitude</th>\n",
              "      <th>housing_median_age</th>\n",
              "      <th>total_rooms</th>\n",
              "      <th>total_bedrooms</th>\n",
              "      <th>population</th>\n",
              "      <th>households</th>\n",
              "      <th>median_income</th>\n",
              "      <th>median_house_value</th>\n",
              "      <th>random</th>\n",
              "    </tr>\n",
              "  </thead>\n",
              "  <tbody>\n",
              "    <tr>\n",
              "      <th>0</th>\n",
              "      <td>-122.05</td>\n",
              "      <td>37.37</td>\n",
              "      <td>27</td>\n",
              "      <td>3885</td>\n",
              "      <td>661</td>\n",
              "      <td>1537</td>\n",
              "      <td>606</td>\n",
              "      <td>6.6085</td>\n",
              "      <td>344700</td>\n",
              "      <td>-0.844616</td>\n",
              "    </tr>\n",
              "    <tr>\n",
              "      <th>1</th>\n",
              "      <td>-118.30</td>\n",
              "      <td>34.26</td>\n",
              "      <td>43</td>\n",
              "      <td>1510</td>\n",
              "      <td>310</td>\n",
              "      <td>809</td>\n",
              "      <td>277</td>\n",
              "      <td>3.5990</td>\n",
              "      <td>176500</td>\n",
              "      <td>0.117795</td>\n",
              "    </tr>\n",
              "    <tr>\n",
              "      <th>2</th>\n",
              "      <td>-117.81</td>\n",
              "      <td>33.78</td>\n",
              "      <td>27</td>\n",
              "      <td>3589</td>\n",
              "      <td>507</td>\n",
              "      <td>1484</td>\n",
              "      <td>495</td>\n",
              "      <td>5.7934</td>\n",
              "      <td>270500</td>\n",
              "      <td>-0.227884</td>\n",
              "    </tr>\n",
              "    <tr>\n",
              "      <th>3</th>\n",
              "      <td>-118.36</td>\n",
              "      <td>33.82</td>\n",
              "      <td>28</td>\n",
              "      <td>67</td>\n",
              "      <td>15</td>\n",
              "      <td>49</td>\n",
              "      <td>11</td>\n",
              "      <td>6.1359</td>\n",
              "      <td>330000</td>\n",
              "      <td>0.181450</td>\n",
              "    </tr>\n",
              "    <tr>\n",
              "      <th>4</th>\n",
              "      <td>-119.67</td>\n",
              "      <td>36.33</td>\n",
              "      <td>19</td>\n",
              "      <td>1241</td>\n",
              "      <td>244</td>\n",
              "      <td>850</td>\n",
              "      <td>237</td>\n",
              "      <td>2.9375</td>\n",
              "      <td>81700</td>\n",
              "      <td>-0.422413</td>\n",
              "    </tr>\n",
              "    <tr>\n",
              "      <th>...</th>\n",
              "      <td>...</td>\n",
              "      <td>...</td>\n",
              "      <td>...</td>\n",
              "      <td>...</td>\n",
              "      <td>...</td>\n",
              "      <td>...</td>\n",
              "      <td>...</td>\n",
              "      <td>...</td>\n",
              "      <td>...</td>\n",
              "      <td>...</td>\n",
              "    </tr>\n",
              "    <tr>\n",
              "      <th>2995</th>\n",
              "      <td>-119.86</td>\n",
              "      <td>34.42</td>\n",
              "      <td>23</td>\n",
              "      <td>1450</td>\n",
              "      <td>642</td>\n",
              "      <td>1258</td>\n",
              "      <td>607</td>\n",
              "      <td>1.1790</td>\n",
              "      <td>225000</td>\n",
              "      <td>0.843764</td>\n",
              "    </tr>\n",
              "    <tr>\n",
              "      <th>2996</th>\n",
              "      <td>-118.14</td>\n",
              "      <td>34.06</td>\n",
              "      <td>27</td>\n",
              "      <td>5257</td>\n",
              "      <td>1082</td>\n",
              "      <td>3496</td>\n",
              "      <td>1036</td>\n",
              "      <td>3.3906</td>\n",
              "      <td>237200</td>\n",
              "      <td>-1.478057</td>\n",
              "    </tr>\n",
              "    <tr>\n",
              "      <th>2997</th>\n",
              "      <td>-119.70</td>\n",
              "      <td>36.30</td>\n",
              "      <td>10</td>\n",
              "      <td>956</td>\n",
              "      <td>201</td>\n",
              "      <td>693</td>\n",
              "      <td>220</td>\n",
              "      <td>2.2895</td>\n",
              "      <td>62000</td>\n",
              "      <td>0.061466</td>\n",
              "    </tr>\n",
              "    <tr>\n",
              "      <th>2998</th>\n",
              "      <td>-117.12</td>\n",
              "      <td>34.10</td>\n",
              "      <td>40</td>\n",
              "      <td>96</td>\n",
              "      <td>14</td>\n",
              "      <td>46</td>\n",
              "      <td>14</td>\n",
              "      <td>3.2708</td>\n",
              "      <td>162500</td>\n",
              "      <td>-2.107797</td>\n",
              "    </tr>\n",
              "    <tr>\n",
              "      <th>2999</th>\n",
              "      <td>-119.63</td>\n",
              "      <td>34.42</td>\n",
              "      <td>42</td>\n",
              "      <td>1765</td>\n",
              "      <td>263</td>\n",
              "      <td>753</td>\n",
              "      <td>260</td>\n",
              "      <td>8.5608</td>\n",
              "      <td>500001</td>\n",
              "      <td>0.409497</td>\n",
              "    </tr>\n",
              "  </tbody>\n",
              "</table>\n",
              "<p>3000 rows × 10 columns</p>\n",
              "</div>"
            ],
            "text/plain": [
              "      longitude  latitude  housing_median_age  total_rooms  total_bedrooms  \\\n",
              "0       -122.05     37.37                  27         3885             661   \n",
              "1       -118.30     34.26                  43         1510             310   \n",
              "2       -117.81     33.78                  27         3589             507   \n",
              "3       -118.36     33.82                  28           67              15   \n",
              "4       -119.67     36.33                  19         1241             244   \n",
              "...         ...       ...                 ...          ...             ...   \n",
              "2995    -119.86     34.42                  23         1450             642   \n",
              "2996    -118.14     34.06                  27         5257            1082   \n",
              "2997    -119.70     36.30                  10          956             201   \n",
              "2998    -117.12     34.10                  40           96              14   \n",
              "2999    -119.63     34.42                  42         1765             263   \n",
              "\n",
              "      population  households  median_income  median_house_value    random  \n",
              "0           1537         606         6.6085              344700 -0.844616  \n",
              "1            809         277         3.5990              176500  0.117795  \n",
              "2           1484         495         5.7934              270500 -0.227884  \n",
              "3             49          11         6.1359              330000  0.181450  \n",
              "4            850         237         2.9375               81700 -0.422413  \n",
              "...          ...         ...            ...                 ...       ...  \n",
              "2995        1258         607         1.1790              225000  0.843764  \n",
              "2996        3496        1036         3.3906              237200 -1.478057  \n",
              "2997         693         220         2.2895               62000  0.061466  \n",
              "2998          46          14         3.2708              162500 -2.107797  \n",
              "2999         753         260         8.5608              500001  0.409497  \n",
              "\n",
              "[3000 rows x 10 columns]"
            ]
          },
          "metadata": {
            "tags": []
          },
          "execution_count": 22
        }
      ]
    },
    {
      "cell_type": "markdown",
      "metadata": {
        "id": "CHV9n0JBAUr_"
      },
      "source": [
        "## Selección con indexación booleana"
      ]
    },
    {
      "cell_type": "code",
      "metadata": {
        "id": "jT8B09O6AUwh",
        "outputId": "ee0de811-a8e3-472d-88de-bf3ed6c2c11f"
      },
      "source": [
        "cali_housing[cali_housing[\"population\"] > 1000]"
      ],
      "execution_count": null,
      "outputs": [
        {
          "output_type": "execute_result",
          "data": {
            "text/html": [
              "<div>\n",
              "<style scoped>\n",
              "    .dataframe tbody tr th:only-of-type {\n",
              "        vertical-align: middle;\n",
              "    }\n",
              "\n",
              "    .dataframe tbody tr th {\n",
              "        vertical-align: top;\n",
              "    }\n",
              "\n",
              "    .dataframe thead th {\n",
              "        text-align: right;\n",
              "    }\n",
              "</style>\n",
              "<table border=\"1\" class=\"dataframe\">\n",
              "  <thead>\n",
              "    <tr style=\"text-align: right;\">\n",
              "      <th></th>\n",
              "      <th>longitude</th>\n",
              "      <th>latitude</th>\n",
              "      <th>housing_median_age</th>\n",
              "      <th>total_rooms</th>\n",
              "      <th>total_bedrooms</th>\n",
              "      <th>population</th>\n",
              "      <th>households</th>\n",
              "      <th>median_income</th>\n",
              "      <th>median_house_value</th>\n",
              "      <th>random</th>\n",
              "    </tr>\n",
              "  </thead>\n",
              "  <tbody>\n",
              "    <tr>\n",
              "      <th>0</th>\n",
              "      <td>-122.05</td>\n",
              "      <td>37.37</td>\n",
              "      <td>27</td>\n",
              "      <td>3885</td>\n",
              "      <td>661</td>\n",
              "      <td>1537</td>\n",
              "      <td>606</td>\n",
              "      <td>6.6085</td>\n",
              "      <td>344700</td>\n",
              "      <td>-0.844616</td>\n",
              "    </tr>\n",
              "    <tr>\n",
              "      <th>2</th>\n",
              "      <td>-117.81</td>\n",
              "      <td>33.78</td>\n",
              "      <td>27</td>\n",
              "      <td>3589</td>\n",
              "      <td>507</td>\n",
              "      <td>1484</td>\n",
              "      <td>495</td>\n",
              "      <td>5.7934</td>\n",
              "      <td>270500</td>\n",
              "      <td>-0.227884</td>\n",
              "    </tr>\n",
              "    <tr>\n",
              "      <th>7</th>\n",
              "      <td>-120.65</td>\n",
              "      <td>35.48</td>\n",
              "      <td>19</td>\n",
              "      <td>2310</td>\n",
              "      <td>471</td>\n",
              "      <td>1341</td>\n",
              "      <td>441</td>\n",
              "      <td>3.2250</td>\n",
              "      <td>166900</td>\n",
              "      <td>-0.603126</td>\n",
              "    </tr>\n",
              "    <tr>\n",
              "      <th>8</th>\n",
              "      <td>-122.84</td>\n",
              "      <td>38.40</td>\n",
              "      <td>15</td>\n",
              "      <td>3080</td>\n",
              "      <td>617</td>\n",
              "      <td>1446</td>\n",
              "      <td>599</td>\n",
              "      <td>3.6696</td>\n",
              "      <td>194400</td>\n",
              "      <td>0.270174</td>\n",
              "    </tr>\n",
              "    <tr>\n",
              "      <th>9</th>\n",
              "      <td>-118.02</td>\n",
              "      <td>34.08</td>\n",
              "      <td>31</td>\n",
              "      <td>2402</td>\n",
              "      <td>632</td>\n",
              "      <td>2830</td>\n",
              "      <td>603</td>\n",
              "      <td>2.3333</td>\n",
              "      <td>164200</td>\n",
              "      <td>-0.539542</td>\n",
              "    </tr>\n",
              "    <tr>\n",
              "      <th>...</th>\n",
              "      <td>...</td>\n",
              "      <td>...</td>\n",
              "      <td>...</td>\n",
              "      <td>...</td>\n",
              "      <td>...</td>\n",
              "      <td>...</td>\n",
              "      <td>...</td>\n",
              "      <td>...</td>\n",
              "      <td>...</td>\n",
              "      <td>...</td>\n",
              "    </tr>\n",
              "    <tr>\n",
              "      <th>2988</th>\n",
              "      <td>-122.01</td>\n",
              "      <td>36.97</td>\n",
              "      <td>43</td>\n",
              "      <td>2162</td>\n",
              "      <td>509</td>\n",
              "      <td>1208</td>\n",
              "      <td>464</td>\n",
              "      <td>2.5417</td>\n",
              "      <td>260900</td>\n",
              "      <td>-0.326441</td>\n",
              "    </tr>\n",
              "    <tr>\n",
              "      <th>2989</th>\n",
              "      <td>-122.02</td>\n",
              "      <td>37.60</td>\n",
              "      <td>32</td>\n",
              "      <td>1295</td>\n",
              "      <td>295</td>\n",
              "      <td>1097</td>\n",
              "      <td>328</td>\n",
              "      <td>3.2386</td>\n",
              "      <td>149600</td>\n",
              "      <td>-0.572833</td>\n",
              "    </tr>\n",
              "    <tr>\n",
              "      <th>2990</th>\n",
              "      <td>-118.23</td>\n",
              "      <td>34.09</td>\n",
              "      <td>49</td>\n",
              "      <td>1638</td>\n",
              "      <td>456</td>\n",
              "      <td>1500</td>\n",
              "      <td>430</td>\n",
              "      <td>2.6923</td>\n",
              "      <td>150000</td>\n",
              "      <td>-0.759992</td>\n",
              "    </tr>\n",
              "    <tr>\n",
              "      <th>2995</th>\n",
              "      <td>-119.86</td>\n",
              "      <td>34.42</td>\n",
              "      <td>23</td>\n",
              "      <td>1450</td>\n",
              "      <td>642</td>\n",
              "      <td>1258</td>\n",
              "      <td>607</td>\n",
              "      <td>1.1790</td>\n",
              "      <td>225000</td>\n",
              "      <td>0.843764</td>\n",
              "    </tr>\n",
              "    <tr>\n",
              "      <th>2996</th>\n",
              "      <td>-118.14</td>\n",
              "      <td>34.06</td>\n",
              "      <td>27</td>\n",
              "      <td>5257</td>\n",
              "      <td>1082</td>\n",
              "      <td>3496</td>\n",
              "      <td>1036</td>\n",
              "      <td>3.3906</td>\n",
              "      <td>237200</td>\n",
              "      <td>-1.478057</td>\n",
              "    </tr>\n",
              "  </tbody>\n",
              "</table>\n",
              "<p>1798 rows × 10 columns</p>\n",
              "</div>"
            ],
            "text/plain": [
              "      longitude  latitude  housing_median_age  total_rooms  total_bedrooms  \\\n",
              "0       -122.05     37.37                  27         3885             661   \n",
              "2       -117.81     33.78                  27         3589             507   \n",
              "7       -120.65     35.48                  19         2310             471   \n",
              "8       -122.84     38.40                  15         3080             617   \n",
              "9       -118.02     34.08                  31         2402             632   \n",
              "...         ...       ...                 ...          ...             ...   \n",
              "2988    -122.01     36.97                  43         2162             509   \n",
              "2989    -122.02     37.60                  32         1295             295   \n",
              "2990    -118.23     34.09                  49         1638             456   \n",
              "2995    -119.86     34.42                  23         1450             642   \n",
              "2996    -118.14     34.06                  27         5257            1082   \n",
              "\n",
              "      population  households  median_income  median_house_value    random  \n",
              "0           1537         606         6.6085              344700 -0.844616  \n",
              "2           1484         495         5.7934              270500 -0.227884  \n",
              "7           1341         441         3.2250              166900 -0.603126  \n",
              "8           1446         599         3.6696              194400  0.270174  \n",
              "9           2830         603         2.3333              164200 -0.539542  \n",
              "...          ...         ...            ...                 ...       ...  \n",
              "2988        1208         464         2.5417              260900 -0.326441  \n",
              "2989        1097         328         3.2386              149600 -0.572833  \n",
              "2990        1500         430         2.6923              150000 -0.759992  \n",
              "2995        1258         607         1.1790              225000  0.843764  \n",
              "2996        3496        1036         3.3906              237200 -1.478057  \n",
              "\n",
              "[1798 rows x 10 columns]"
            ]
          },
          "metadata": {
            "tags": []
          },
          "execution_count": 23
        }
      ]
    },
    {
      "cell_type": "markdown",
      "metadata": {
        "id": "PDy5UYHRDQQ9"
      },
      "source": [
        "## Selección de celdas con at y iat"
      ]
    },
    {
      "cell_type": "markdown",
      "metadata": {
        "id": "TXG-TXOBKiWz"
      },
      "source": [
        "**at** utiliza etiquetas para seleccionar elementos:"
      ]
    },
    {
      "cell_type": "code",
      "metadata": {
        "id": "is4bKkN9DQYE",
        "outputId": "27d9aa15-813e-4b18-b9cb-03031b912706"
      },
      "source": [
        "cali_housing.at[0, \"housing_median_age\"]"
      ],
      "execution_count": null,
      "outputs": [
        {
          "output_type": "execute_result",
          "data": {
            "text/plain": [
              "27"
            ]
          },
          "metadata": {
            "tags": []
          },
          "execution_count": 24
        }
      ]
    },
    {
      "cell_type": "markdown",
      "metadata": {
        "id": "QvT-XktzKjHr"
      },
      "source": [
        "**iat** utiliza enteros para seleccionar elementos:"
      ]
    },
    {
      "cell_type": "code",
      "metadata": {
        "id": "LdKMvBAHKrtI",
        "outputId": "f90789e8-6358-4800-9f0a-01920769874d"
      },
      "source": [
        "cali_housing.iat[1, 4]"
      ],
      "execution_count": null,
      "outputs": [
        {
          "output_type": "execute_result",
          "data": {
            "text/plain": [
              "310"
            ]
          },
          "metadata": {
            "tags": []
          },
          "execution_count": 25
        }
      ]
    },
    {
      "cell_type": "markdown",
      "metadata": {
        "id": "-KhyFcrLo102"
      },
      "source": [
        "## Asignación elemento"
      ]
    },
    {
      "cell_type": "markdown",
      "metadata": {
        "id": "mbKBHIY1Pvc2"
      },
      "source": [
        "También puedes cambir el contenido de las celdas directamente mediante asignación:"
      ]
    },
    {
      "cell_type": "code",
      "metadata": {
        "id": "B-pJidvUP5BL",
        "outputId": "45c4c5d1-06b3-4e1f-f067-6b083ed44b06"
      },
      "source": [
        "cali_housing.iat[1, 4] = 200.0\n",
        "cali_housing"
      ],
      "execution_count": null,
      "outputs": [
        {
          "output_type": "execute_result",
          "data": {
            "text/html": [
              "<div>\n",
              "<style scoped>\n",
              "    .dataframe tbody tr th:only-of-type {\n",
              "        vertical-align: middle;\n",
              "    }\n",
              "\n",
              "    .dataframe tbody tr th {\n",
              "        vertical-align: top;\n",
              "    }\n",
              "\n",
              "    .dataframe thead th {\n",
              "        text-align: right;\n",
              "    }\n",
              "</style>\n",
              "<table border=\"1\" class=\"dataframe\">\n",
              "  <thead>\n",
              "    <tr style=\"text-align: right;\">\n",
              "      <th></th>\n",
              "      <th>longitude</th>\n",
              "      <th>latitude</th>\n",
              "      <th>housing_median_age</th>\n",
              "      <th>total_rooms</th>\n",
              "      <th>total_bedrooms</th>\n",
              "      <th>population</th>\n",
              "      <th>households</th>\n",
              "      <th>median_income</th>\n",
              "      <th>median_house_value</th>\n",
              "      <th>random</th>\n",
              "    </tr>\n",
              "  </thead>\n",
              "  <tbody>\n",
              "    <tr>\n",
              "      <th>0</th>\n",
              "      <td>-122.05</td>\n",
              "      <td>37.37</td>\n",
              "      <td>27</td>\n",
              "      <td>3885</td>\n",
              "      <td>661</td>\n",
              "      <td>1537</td>\n",
              "      <td>606</td>\n",
              "      <td>6.6085</td>\n",
              "      <td>344700</td>\n",
              "      <td>-0.844616</td>\n",
              "    </tr>\n",
              "    <tr>\n",
              "      <th>1</th>\n",
              "      <td>-118.30</td>\n",
              "      <td>34.26</td>\n",
              "      <td>43</td>\n",
              "      <td>1510</td>\n",
              "      <td>200</td>\n",
              "      <td>809</td>\n",
              "      <td>277</td>\n",
              "      <td>3.5990</td>\n",
              "      <td>176500</td>\n",
              "      <td>0.117795</td>\n",
              "    </tr>\n",
              "    <tr>\n",
              "      <th>2</th>\n",
              "      <td>-117.81</td>\n",
              "      <td>33.78</td>\n",
              "      <td>27</td>\n",
              "      <td>3589</td>\n",
              "      <td>507</td>\n",
              "      <td>1484</td>\n",
              "      <td>495</td>\n",
              "      <td>5.7934</td>\n",
              "      <td>270500</td>\n",
              "      <td>-0.227884</td>\n",
              "    </tr>\n",
              "    <tr>\n",
              "      <th>3</th>\n",
              "      <td>-118.36</td>\n",
              "      <td>33.82</td>\n",
              "      <td>28</td>\n",
              "      <td>67</td>\n",
              "      <td>15</td>\n",
              "      <td>49</td>\n",
              "      <td>11</td>\n",
              "      <td>6.1359</td>\n",
              "      <td>330000</td>\n",
              "      <td>0.181450</td>\n",
              "    </tr>\n",
              "    <tr>\n",
              "      <th>4</th>\n",
              "      <td>-119.67</td>\n",
              "      <td>36.33</td>\n",
              "      <td>19</td>\n",
              "      <td>1241</td>\n",
              "      <td>244</td>\n",
              "      <td>850</td>\n",
              "      <td>237</td>\n",
              "      <td>2.9375</td>\n",
              "      <td>81700</td>\n",
              "      <td>-0.422413</td>\n",
              "    </tr>\n",
              "    <tr>\n",
              "      <th>...</th>\n",
              "      <td>...</td>\n",
              "      <td>...</td>\n",
              "      <td>...</td>\n",
              "      <td>...</td>\n",
              "      <td>...</td>\n",
              "      <td>...</td>\n",
              "      <td>...</td>\n",
              "      <td>...</td>\n",
              "      <td>...</td>\n",
              "      <td>...</td>\n",
              "    </tr>\n",
              "    <tr>\n",
              "      <th>2995</th>\n",
              "      <td>-119.86</td>\n",
              "      <td>34.42</td>\n",
              "      <td>23</td>\n",
              "      <td>1450</td>\n",
              "      <td>642</td>\n",
              "      <td>1258</td>\n",
              "      <td>607</td>\n",
              "      <td>1.1790</td>\n",
              "      <td>225000</td>\n",
              "      <td>0.843764</td>\n",
              "    </tr>\n",
              "    <tr>\n",
              "      <th>2996</th>\n",
              "      <td>-118.14</td>\n",
              "      <td>34.06</td>\n",
              "      <td>27</td>\n",
              "      <td>5257</td>\n",
              "      <td>1082</td>\n",
              "      <td>3496</td>\n",
              "      <td>1036</td>\n",
              "      <td>3.3906</td>\n",
              "      <td>237200</td>\n",
              "      <td>-1.478057</td>\n",
              "    </tr>\n",
              "    <tr>\n",
              "      <th>2997</th>\n",
              "      <td>-119.70</td>\n",
              "      <td>36.30</td>\n",
              "      <td>10</td>\n",
              "      <td>956</td>\n",
              "      <td>201</td>\n",
              "      <td>693</td>\n",
              "      <td>220</td>\n",
              "      <td>2.2895</td>\n",
              "      <td>62000</td>\n",
              "      <td>0.061466</td>\n",
              "    </tr>\n",
              "    <tr>\n",
              "      <th>2998</th>\n",
              "      <td>-117.12</td>\n",
              "      <td>34.10</td>\n",
              "      <td>40</td>\n",
              "      <td>96</td>\n",
              "      <td>14</td>\n",
              "      <td>46</td>\n",
              "      <td>14</td>\n",
              "      <td>3.2708</td>\n",
              "      <td>162500</td>\n",
              "      <td>-2.107797</td>\n",
              "    </tr>\n",
              "    <tr>\n",
              "      <th>2999</th>\n",
              "      <td>-119.63</td>\n",
              "      <td>34.42</td>\n",
              "      <td>42</td>\n",
              "      <td>1765</td>\n",
              "      <td>263</td>\n",
              "      <td>753</td>\n",
              "      <td>260</td>\n",
              "      <td>8.5608</td>\n",
              "      <td>500001</td>\n",
              "      <td>0.409497</td>\n",
              "    </tr>\n",
              "  </tbody>\n",
              "</table>\n",
              "<p>3000 rows × 10 columns</p>\n",
              "</div>"
            ],
            "text/plain": [
              "      longitude  latitude  housing_median_age  total_rooms  total_bedrooms  \\\n",
              "0       -122.05     37.37                  27         3885             661   \n",
              "1       -118.30     34.26                  43         1510             200   \n",
              "2       -117.81     33.78                  27         3589             507   \n",
              "3       -118.36     33.82                  28           67              15   \n",
              "4       -119.67     36.33                  19         1241             244   \n",
              "...         ...       ...                 ...          ...             ...   \n",
              "2995    -119.86     34.42                  23         1450             642   \n",
              "2996    -118.14     34.06                  27         5257            1082   \n",
              "2997    -119.70     36.30                  10          956             201   \n",
              "2998    -117.12     34.10                  40           96              14   \n",
              "2999    -119.63     34.42                  42         1765             263   \n",
              "\n",
              "      population  households  median_income  median_house_value    random  \n",
              "0           1537         606         6.6085              344700 -0.844616  \n",
              "1            809         277         3.5990              176500  0.117795  \n",
              "2           1484         495         5.7934              270500 -0.227884  \n",
              "3             49          11         6.1359              330000  0.181450  \n",
              "4            850         237         2.9375               81700 -0.422413  \n",
              "...          ...         ...            ...                 ...       ...  \n",
              "2995        1258         607         1.1790              225000  0.843764  \n",
              "2996        3496        1036         3.3906              237200 -1.478057  \n",
              "2997         693         220         2.2895               62000  0.061466  \n",
              "2998          46          14         3.2708              162500 -2.107797  \n",
              "2999         753         260         8.5608              500001  0.409497  \n",
              "\n",
              "[3000 rows x 10 columns]"
            ]
          },
          "metadata": {
            "tags": []
          },
          "execution_count": 26
        }
      ]
    },
    {
      "cell_type": "markdown",
      "metadata": {
        "id": "I9ok7Tv_9_Fo"
      },
      "source": [
        "## Otros\n",
        "Otros métodos que podrían ser útiles:\n",
        "\n",
        "* idxmax()\n",
        "* idxmin()\n",
        "* filter()\n",
        "* take()\n",
        "* truncate()\n",
        "\n",
        "Puedes ver la lista completa de métodos para la selección, re-indexado y manipulación de etiquetas en la [documentación de Pandas](https://pandas.pydata.org/docs/reference/frame.html#reindexing-selection-label-manipulation)."
      ]
    },
    {
      "cell_type": "markdown",
      "metadata": {
        "id": "XS-y991zSHto"
      },
      "source": [
        "# Atributos\n",
        "\n",
        "* df.T\n",
        "* df.axes\n",
        "* df.dtypes\n",
        "* df.shape\n",
        "* df.size\n",
        "* df.values"
      ]
    },
    {
      "cell_type": "markdown",
      "metadata": {
        "id": "Od7ystmNLEZ2"
      },
      "source": [
        "## df.T\n",
        "\n",
        "La transpuesta de df (filas y columnas intercambiadas):"
      ]
    },
    {
      "cell_type": "code",
      "metadata": {
        "id": "T-geuTelA-kY",
        "outputId": "a801b5ac-c6c9-48a5-cc62-8d15f2ccee71"
      },
      "source": [
        "#Los indices pasan a ser los nombres de las columnas, las columnas a indices\n",
        "cali_housing.T"
      ],
      "execution_count": null,
      "outputs": [
        {
          "output_type": "execute_result",
          "data": {
            "text/html": [
              "<div>\n",
              "<style scoped>\n",
              "    .dataframe tbody tr th:only-of-type {\n",
              "        vertical-align: middle;\n",
              "    }\n",
              "\n",
              "    .dataframe tbody tr th {\n",
              "        vertical-align: top;\n",
              "    }\n",
              "\n",
              "    .dataframe thead th {\n",
              "        text-align: right;\n",
              "    }\n",
              "</style>\n",
              "<table border=\"1\" class=\"dataframe\">\n",
              "  <thead>\n",
              "    <tr style=\"text-align: right;\">\n",
              "      <th></th>\n",
              "      <th>0</th>\n",
              "      <th>1</th>\n",
              "      <th>2</th>\n",
              "      <th>3</th>\n",
              "      <th>4</th>\n",
              "      <th>5</th>\n",
              "      <th>6</th>\n",
              "      <th>7</th>\n",
              "      <th>8</th>\n",
              "      <th>9</th>\n",
              "      <th>...</th>\n",
              "      <th>2990</th>\n",
              "      <th>2991</th>\n",
              "      <th>2992</th>\n",
              "      <th>2993</th>\n",
              "      <th>2994</th>\n",
              "      <th>2995</th>\n",
              "      <th>2996</th>\n",
              "      <th>2997</th>\n",
              "      <th>2998</th>\n",
              "      <th>2999</th>\n",
              "    </tr>\n",
              "  </thead>\n",
              "  <tbody>\n",
              "    <tr>\n",
              "      <th>longitude</th>\n",
              "      <td>-122.050000</td>\n",
              "      <td>-118.300000</td>\n",
              "      <td>-117.810000</td>\n",
              "      <td>-118.36000</td>\n",
              "      <td>-119.670000</td>\n",
              "      <td>-119.560000</td>\n",
              "      <td>-121.430000</td>\n",
              "      <td>-120.650000</td>\n",
              "      <td>-122.840000</td>\n",
              "      <td>-118.020000</td>\n",
              "      <td>...</td>\n",
              "      <td>-118.230000</td>\n",
              "      <td>-117.170000</td>\n",
              "      <td>-122.330000</td>\n",
              "      <td>-117.910000</td>\n",
              "      <td>-117.930000</td>\n",
              "      <td>-119.860000</td>\n",
              "      <td>-118.140000</td>\n",
              "      <td>-119.700000</td>\n",
              "      <td>-117.120000</td>\n",
              "      <td>-119.630000</td>\n",
              "    </tr>\n",
              "    <tr>\n",
              "      <th>latitude</th>\n",
              "      <td>37.370000</td>\n",
              "      <td>34.260000</td>\n",
              "      <td>33.780000</td>\n",
              "      <td>33.82000</td>\n",
              "      <td>36.330000</td>\n",
              "      <td>36.510000</td>\n",
              "      <td>38.630000</td>\n",
              "      <td>35.480000</td>\n",
              "      <td>38.400000</td>\n",
              "      <td>34.080000</td>\n",
              "      <td>...</td>\n",
              "      <td>34.090000</td>\n",
              "      <td>34.280000</td>\n",
              "      <td>37.390000</td>\n",
              "      <td>33.600000</td>\n",
              "      <td>33.860000</td>\n",
              "      <td>34.420000</td>\n",
              "      <td>34.060000</td>\n",
              "      <td>36.300000</td>\n",
              "      <td>34.100000</td>\n",
              "      <td>34.420000</td>\n",
              "    </tr>\n",
              "    <tr>\n",
              "      <th>housing_median_age</th>\n",
              "      <td>27.000000</td>\n",
              "      <td>43.000000</td>\n",
              "      <td>27.000000</td>\n",
              "      <td>28.00000</td>\n",
              "      <td>19.000000</td>\n",
              "      <td>37.000000</td>\n",
              "      <td>43.000000</td>\n",
              "      <td>19.000000</td>\n",
              "      <td>15.000000</td>\n",
              "      <td>31.000000</td>\n",
              "      <td>...</td>\n",
              "      <td>49.000000</td>\n",
              "      <td>13.000000</td>\n",
              "      <td>52.000000</td>\n",
              "      <td>37.000000</td>\n",
              "      <td>35.000000</td>\n",
              "      <td>23.000000</td>\n",
              "      <td>27.000000</td>\n",
              "      <td>10.000000</td>\n",
              "      <td>40.000000</td>\n",
              "      <td>42.000000</td>\n",
              "    </tr>\n",
              "    <tr>\n",
              "      <th>total_rooms</th>\n",
              "      <td>3885.000000</td>\n",
              "      <td>1510.000000</td>\n",
              "      <td>3589.000000</td>\n",
              "      <td>67.00000</td>\n",
              "      <td>1241.000000</td>\n",
              "      <td>1018.000000</td>\n",
              "      <td>1009.000000</td>\n",
              "      <td>2310.000000</td>\n",
              "      <td>3080.000000</td>\n",
              "      <td>2402.000000</td>\n",
              "      <td>...</td>\n",
              "      <td>1638.000000</td>\n",
              "      <td>4867.000000</td>\n",
              "      <td>573.000000</td>\n",
              "      <td>2088.000000</td>\n",
              "      <td>931.000000</td>\n",
              "      <td>1450.000000</td>\n",
              "      <td>5257.000000</td>\n",
              "      <td>956.000000</td>\n",
              "      <td>96.000000</td>\n",
              "      <td>1765.000000</td>\n",
              "    </tr>\n",
              "    <tr>\n",
              "      <th>total_bedrooms</th>\n",
              "      <td>661.000000</td>\n",
              "      <td>200.000000</td>\n",
              "      <td>507.000000</td>\n",
              "      <td>15.00000</td>\n",
              "      <td>244.000000</td>\n",
              "      <td>213.000000</td>\n",
              "      <td>225.000000</td>\n",
              "      <td>471.000000</td>\n",
              "      <td>617.000000</td>\n",
              "      <td>632.000000</td>\n",
              "      <td>...</td>\n",
              "      <td>456.000000</td>\n",
              "      <td>718.000000</td>\n",
              "      <td>102.000000</td>\n",
              "      <td>510.000000</td>\n",
              "      <td>181.000000</td>\n",
              "      <td>642.000000</td>\n",
              "      <td>1082.000000</td>\n",
              "      <td>201.000000</td>\n",
              "      <td>14.000000</td>\n",
              "      <td>263.000000</td>\n",
              "    </tr>\n",
              "    <tr>\n",
              "      <th>population</th>\n",
              "      <td>1537.000000</td>\n",
              "      <td>809.000000</td>\n",
              "      <td>1484.000000</td>\n",
              "      <td>49.00000</td>\n",
              "      <td>850.000000</td>\n",
              "      <td>663.000000</td>\n",
              "      <td>604.000000</td>\n",
              "      <td>1341.000000</td>\n",
              "      <td>1446.000000</td>\n",
              "      <td>2830.000000</td>\n",
              "      <td>...</td>\n",
              "      <td>1500.000000</td>\n",
              "      <td>780.000000</td>\n",
              "      <td>232.000000</td>\n",
              "      <td>673.000000</td>\n",
              "      <td>516.000000</td>\n",
              "      <td>1258.000000</td>\n",
              "      <td>3496.000000</td>\n",
              "      <td>693.000000</td>\n",
              "      <td>46.000000</td>\n",
              "      <td>753.000000</td>\n",
              "    </tr>\n",
              "    <tr>\n",
              "      <th>households</th>\n",
              "      <td>606.000000</td>\n",
              "      <td>277.000000</td>\n",
              "      <td>495.000000</td>\n",
              "      <td>11.00000</td>\n",
              "      <td>237.000000</td>\n",
              "      <td>204.000000</td>\n",
              "      <td>218.000000</td>\n",
              "      <td>441.000000</td>\n",
              "      <td>599.000000</td>\n",
              "      <td>603.000000</td>\n",
              "      <td>...</td>\n",
              "      <td>430.000000</td>\n",
              "      <td>250.000000</td>\n",
              "      <td>92.000000</td>\n",
              "      <td>390.000000</td>\n",
              "      <td>174.000000</td>\n",
              "      <td>607.000000</td>\n",
              "      <td>1036.000000</td>\n",
              "      <td>220.000000</td>\n",
              "      <td>14.000000</td>\n",
              "      <td>260.000000</td>\n",
              "    </tr>\n",
              "    <tr>\n",
              "      <th>median_income</th>\n",
              "      <td>6.608500</td>\n",
              "      <td>3.599000</td>\n",
              "      <td>5.793400</td>\n",
              "      <td>6.13590</td>\n",
              "      <td>2.937500</td>\n",
              "      <td>1.663500</td>\n",
              "      <td>1.664100</td>\n",
              "      <td>3.225000</td>\n",
              "      <td>3.669600</td>\n",
              "      <td>2.333300</td>\n",
              "      <td>...</td>\n",
              "      <td>2.692300</td>\n",
              "      <td>7.199700</td>\n",
              "      <td>6.226300</td>\n",
              "      <td>5.104800</td>\n",
              "      <td>5.586700</td>\n",
              "      <td>1.179000</td>\n",
              "      <td>3.390600</td>\n",
              "      <td>2.289500</td>\n",
              "      <td>3.270800</td>\n",
              "      <td>8.560800</td>\n",
              "    </tr>\n",
              "    <tr>\n",
              "      <th>median_house_value</th>\n",
              "      <td>344700.000000</td>\n",
              "      <td>176500.000000</td>\n",
              "      <td>270500.000000</td>\n",
              "      <td>330000.00000</td>\n",
              "      <td>81700.000000</td>\n",
              "      <td>67000.000000</td>\n",
              "      <td>67000.000000</td>\n",
              "      <td>166900.000000</td>\n",
              "      <td>194400.000000</td>\n",
              "      <td>164200.000000</td>\n",
              "      <td>...</td>\n",
              "      <td>150000.000000</td>\n",
              "      <td>253800.000000</td>\n",
              "      <td>500001.000000</td>\n",
              "      <td>500001.000000</td>\n",
              "      <td>182500.000000</td>\n",
              "      <td>225000.000000</td>\n",
              "      <td>237200.000000</td>\n",
              "      <td>62000.000000</td>\n",
              "      <td>162500.000000</td>\n",
              "      <td>500001.000000</td>\n",
              "    </tr>\n",
              "    <tr>\n",
              "      <th>random</th>\n",
              "      <td>-0.844616</td>\n",
              "      <td>0.117795</td>\n",
              "      <td>-0.227884</td>\n",
              "      <td>0.18145</td>\n",
              "      <td>-0.422413</td>\n",
              "      <td>1.456112</td>\n",
              "      <td>0.720174</td>\n",
              "      <td>-0.603126</td>\n",
              "      <td>0.270174</td>\n",
              "      <td>-0.539542</td>\n",
              "      <td>...</td>\n",
              "      <td>-0.759992</td>\n",
              "      <td>0.625186</td>\n",
              "      <td>0.059992</td>\n",
              "      <td>0.446462</td>\n",
              "      <td>-1.801397</td>\n",
              "      <td>0.843764</td>\n",
              "      <td>-1.478057</td>\n",
              "      <td>0.061466</td>\n",
              "      <td>-2.107797</td>\n",
              "      <td>0.409497</td>\n",
              "    </tr>\n",
              "  </tbody>\n",
              "</table>\n",
              "<p>10 rows × 3000 columns</p>\n",
              "</div>"
            ],
            "text/plain": [
              "                             0              1              2             3     \\\n",
              "longitude             -122.050000    -118.300000    -117.810000    -118.36000   \n",
              "latitude                37.370000      34.260000      33.780000      33.82000   \n",
              "housing_median_age      27.000000      43.000000      27.000000      28.00000   \n",
              "total_rooms           3885.000000    1510.000000    3589.000000      67.00000   \n",
              "total_bedrooms         661.000000     200.000000     507.000000      15.00000   \n",
              "population            1537.000000     809.000000    1484.000000      49.00000   \n",
              "households             606.000000     277.000000     495.000000      11.00000   \n",
              "median_income            6.608500       3.599000       5.793400       6.13590   \n",
              "median_house_value  344700.000000  176500.000000  270500.000000  330000.00000   \n",
              "random                  -0.844616       0.117795      -0.227884       0.18145   \n",
              "\n",
              "                            4             5             6              7     \\\n",
              "longitude            -119.670000   -119.560000   -121.430000    -120.650000   \n",
              "latitude               36.330000     36.510000     38.630000      35.480000   \n",
              "housing_median_age     19.000000     37.000000     43.000000      19.000000   \n",
              "total_rooms          1241.000000   1018.000000   1009.000000    2310.000000   \n",
              "total_bedrooms        244.000000    213.000000    225.000000     471.000000   \n",
              "population            850.000000    663.000000    604.000000    1341.000000   \n",
              "households            237.000000    204.000000    218.000000     441.000000   \n",
              "median_income           2.937500      1.663500      1.664100       3.225000   \n",
              "median_house_value  81700.000000  67000.000000  67000.000000  166900.000000   \n",
              "random                 -0.422413      1.456112      0.720174      -0.603126   \n",
              "\n",
              "                             8              9     ...           2990  \\\n",
              "longitude             -122.840000    -118.020000  ...    -118.230000   \n",
              "latitude                38.400000      34.080000  ...      34.090000   \n",
              "housing_median_age      15.000000      31.000000  ...      49.000000   \n",
              "total_rooms           3080.000000    2402.000000  ...    1638.000000   \n",
              "total_bedrooms         617.000000     632.000000  ...     456.000000   \n",
              "population            1446.000000    2830.000000  ...    1500.000000   \n",
              "households             599.000000     603.000000  ...     430.000000   \n",
              "median_income            3.669600       2.333300  ...       2.692300   \n",
              "median_house_value  194400.000000  164200.000000  ...  150000.000000   \n",
              "random                   0.270174      -0.539542  ...      -0.759992   \n",
              "\n",
              "                             2991           2992           2993  \\\n",
              "longitude             -117.170000    -122.330000    -117.910000   \n",
              "latitude                34.280000      37.390000      33.600000   \n",
              "housing_median_age      13.000000      52.000000      37.000000   \n",
              "total_rooms           4867.000000     573.000000    2088.000000   \n",
              "total_bedrooms         718.000000     102.000000     510.000000   \n",
              "population             780.000000     232.000000     673.000000   \n",
              "households             250.000000      92.000000     390.000000   \n",
              "median_income            7.199700       6.226300       5.104800   \n",
              "median_house_value  253800.000000  500001.000000  500001.000000   \n",
              "random                   0.625186       0.059992       0.446462   \n",
              "\n",
              "                             2994           2995           2996          2997  \\\n",
              "longitude             -117.930000    -119.860000    -118.140000   -119.700000   \n",
              "latitude                33.860000      34.420000      34.060000     36.300000   \n",
              "housing_median_age      35.000000      23.000000      27.000000     10.000000   \n",
              "total_rooms            931.000000    1450.000000    5257.000000    956.000000   \n",
              "total_bedrooms         181.000000     642.000000    1082.000000    201.000000   \n",
              "population             516.000000    1258.000000    3496.000000    693.000000   \n",
              "households             174.000000     607.000000    1036.000000    220.000000   \n",
              "median_income            5.586700       1.179000       3.390600      2.289500   \n",
              "median_house_value  182500.000000  225000.000000  237200.000000  62000.000000   \n",
              "random                  -1.801397       0.843764      -1.478057      0.061466   \n",
              "\n",
              "                             2998           2999  \n",
              "longitude             -117.120000    -119.630000  \n",
              "latitude                34.100000      34.420000  \n",
              "housing_median_age      40.000000      42.000000  \n",
              "total_rooms             96.000000    1765.000000  \n",
              "total_bedrooms          14.000000     263.000000  \n",
              "population              46.000000     753.000000  \n",
              "households              14.000000     260.000000  \n",
              "median_income            3.270800       8.560800  \n",
              "median_house_value  162500.000000  500001.000000  \n",
              "random                  -2.107797       0.409497  \n",
              "\n",
              "[10 rows x 3000 columns]"
            ]
          },
          "metadata": {
            "tags": []
          },
          "execution_count": 27
        }
      ]
    },
    {
      "cell_type": "markdown",
      "metadata": {
        "id": "7jTK7OIILPGv"
      },
      "source": [
        "## df.axes\n",
        "\n",
        "Retorna información sobre los axes que componen al objeto:\n"
      ]
    },
    {
      "cell_type": "code",
      "metadata": {
        "id": "DFBm4zEvLezZ",
        "outputId": "e3d63d9b-1a78-4fa2-e5a3-777735e3b16f"
      },
      "source": [
        "cali_housing.axes"
      ],
      "execution_count": null,
      "outputs": [
        {
          "output_type": "execute_result",
          "data": {
            "text/plain": [
              "[Int64Index([   0,    1,    2,    3,    4,    5,    6,    7,    8,    9,\n",
              "             ...\n",
              "             2990, 2991, 2992, 2993, 2994, 2995, 2996, 2997, 2998, 2999],\n",
              "            dtype='int64', length=3000),\n",
              " Index(['longitude', 'latitude', 'housing_median_age', 'total_rooms',\n",
              "        'total_bedrooms', 'population', 'households', 'median_income',\n",
              "        'median_house_value', 'random'],\n",
              "       dtype='object')]"
            ]
          },
          "metadata": {
            "tags": []
          },
          "execution_count": 28
        }
      ]
    },
    {
      "cell_type": "markdown",
      "metadata": {
        "id": "yWLJ_QrBLPNg"
      },
      "source": [
        "## df.dtypes\n",
        "\n",
        "Retorna los tipos de datos utilizados por el objeto:"
      ]
    },
    {
      "cell_type": "code",
      "metadata": {
        "id": "VmixPgzyLw2s",
        "outputId": "41259c65-9f2b-4b85-b02d-d04cb6072966"
      },
      "source": [
        "cali_housing.dtypes"
      ],
      "execution_count": null,
      "outputs": [
        {
          "output_type": "execute_result",
          "data": {
            "text/plain": [
              "longitude             float64\n",
              "latitude              float64\n",
              "housing_median_age      int64\n",
              "total_rooms             int64\n",
              "total_bedrooms          int64\n",
              "population              int64\n",
              "households              int64\n",
              "median_income         float64\n",
              "median_house_value      int64\n",
              "random                float64\n",
              "dtype: object"
            ]
          },
          "metadata": {
            "tags": []
          },
          "execution_count": 29
        }
      ]
    },
    {
      "cell_type": "markdown",
      "metadata": {
        "id": "UM0jUGlRLUIi"
      },
      "source": [
        "## df.shape\n",
        "\n",
        "La forma del objeto (número de filas y columnas en un DataFrame):"
      ]
    },
    {
      "cell_type": "code",
      "metadata": {
        "id": "W8GN4lewL48N",
        "outputId": "6a23902d-d648-440a-a7d6-2b863d9507b2"
      },
      "source": [
        "cali_housing.shape"
      ],
      "execution_count": null,
      "outputs": [
        {
          "output_type": "execute_result",
          "data": {
            "text/plain": [
              "(3000, 10)"
            ]
          },
          "metadata": {
            "tags": []
          },
          "execution_count": 30
        }
      ]
    },
    {
      "cell_type": "markdown",
      "metadata": {
        "id": "FfWUXPnoLUM0"
      },
      "source": [
        "## df.size\n",
        "\n",
        "El número de elementos en el objeto (número de celdas en un DataFrame):"
      ]
    },
    {
      "cell_type": "code",
      "metadata": {
        "id": "g094BaXSL73J",
        "outputId": "32f9c16e-c85f-4a08-d69a-1bc39bee89d5"
      },
      "source": [
        "cali_housing.size"
      ],
      "execution_count": null,
      "outputs": [
        {
          "output_type": "execute_result",
          "data": {
            "text/plain": [
              "30000"
            ]
          },
          "metadata": {
            "tags": []
          },
          "execution_count": 31
        }
      ]
    },
    {
      "cell_type": "markdown",
      "metadata": {
        "id": "W3JaXU6jLcnB"
      },
      "source": [
        "## df.values\n",
        "\n",
        "Retorna el objeto de Pandas como un arreglo de Numpy:"
      ]
    },
    {
      "cell_type": "code",
      "metadata": {
        "id": "zkLZjQPnL-Vo",
        "outputId": "2f81ddcd-f7e1-4174-98fb-0fd27ed44acf"
      },
      "source": [
        "df.values"
      ],
      "execution_count": null,
      "outputs": [
        {
          "output_type": "execute_result",
          "data": {
            "text/plain": [
              "array([[ 1.05584699, -1.12391559, -2.10848628,  0.7143469 ],\n",
              "       [ 0.89404239, -0.88415073, -0.42345082, -1.70156903],\n",
              "       [-1.65491459,  0.66203846,  0.19612376,  0.80472374],\n",
              "       [ 0.42590422, -1.04512485, -0.20191694, -1.18414761],\n",
              "       [ 2.39367277, -1.21557324, -0.08005968, -0.90767037],\n",
              "       [-0.21372579,  1.76481091,  0.18392384, -1.47175799]])"
            ]
          },
          "metadata": {
            "tags": []
          },
          "execution_count": 32
        }
      ]
    },
    {
      "cell_type": "markdown",
      "metadata": {
        "id": "xhUkS2LaQgJb"
      },
      "source": [
        "# Eliminación\n"
      ]
    },
    {
      "cell_type": "markdown",
      "metadata": {
        "id": "RQqR-sPNRM-t"
      },
      "source": [
        "## Remover filas o columnas con df.drop()\n",
        "\n",
        "El método drop() permite eliminar filas o columnas al especificar el axis correspondiente, puedes eliminar más de una usando una lista como parámetro:"
      ]
    },
    {
      "cell_type": "code",
      "metadata": {
        "id": "9P80knKTRNLQ",
        "outputId": "9b0e1de5-a583-4284-fa3a-0ba6eec66867"
      },
      "source": [
        "#primero agregamos dos nuevas columnas\n",
        "cali_housing[\"temp\"] = \"temp\"\n",
        "cali_housing[\"temp2\"] = cali_housing[\"temp\"] + \"2\"\n",
        "cali_housing"
      ],
      "execution_count": null,
      "outputs": [
        {
          "output_type": "execute_result",
          "data": {
            "text/html": [
              "<div>\n",
              "<style scoped>\n",
              "    .dataframe tbody tr th:only-of-type {\n",
              "        vertical-align: middle;\n",
              "    }\n",
              "\n",
              "    .dataframe tbody tr th {\n",
              "        vertical-align: top;\n",
              "    }\n",
              "\n",
              "    .dataframe thead th {\n",
              "        text-align: right;\n",
              "    }\n",
              "</style>\n",
              "<table border=\"1\" class=\"dataframe\">\n",
              "  <thead>\n",
              "    <tr style=\"text-align: right;\">\n",
              "      <th></th>\n",
              "      <th>longitude</th>\n",
              "      <th>latitude</th>\n",
              "      <th>housing_median_age</th>\n",
              "      <th>total_rooms</th>\n",
              "      <th>total_bedrooms</th>\n",
              "      <th>population</th>\n",
              "      <th>households</th>\n",
              "      <th>median_income</th>\n",
              "      <th>median_house_value</th>\n",
              "      <th>random</th>\n",
              "      <th>temp</th>\n",
              "      <th>temp2</th>\n",
              "    </tr>\n",
              "  </thead>\n",
              "  <tbody>\n",
              "    <tr>\n",
              "      <th>0</th>\n",
              "      <td>-122.05</td>\n",
              "      <td>37.37</td>\n",
              "      <td>27</td>\n",
              "      <td>3885</td>\n",
              "      <td>661</td>\n",
              "      <td>1537</td>\n",
              "      <td>606</td>\n",
              "      <td>6.6085</td>\n",
              "      <td>344700</td>\n",
              "      <td>-0.844616</td>\n",
              "      <td>temp</td>\n",
              "      <td>temp2</td>\n",
              "    </tr>\n",
              "    <tr>\n",
              "      <th>1</th>\n",
              "      <td>-118.30</td>\n",
              "      <td>34.26</td>\n",
              "      <td>43</td>\n",
              "      <td>1510</td>\n",
              "      <td>200</td>\n",
              "      <td>809</td>\n",
              "      <td>277</td>\n",
              "      <td>3.5990</td>\n",
              "      <td>176500</td>\n",
              "      <td>0.117795</td>\n",
              "      <td>temp</td>\n",
              "      <td>temp2</td>\n",
              "    </tr>\n",
              "    <tr>\n",
              "      <th>2</th>\n",
              "      <td>-117.81</td>\n",
              "      <td>33.78</td>\n",
              "      <td>27</td>\n",
              "      <td>3589</td>\n",
              "      <td>507</td>\n",
              "      <td>1484</td>\n",
              "      <td>495</td>\n",
              "      <td>5.7934</td>\n",
              "      <td>270500</td>\n",
              "      <td>-0.227884</td>\n",
              "      <td>temp</td>\n",
              "      <td>temp2</td>\n",
              "    </tr>\n",
              "    <tr>\n",
              "      <th>3</th>\n",
              "      <td>-118.36</td>\n",
              "      <td>33.82</td>\n",
              "      <td>28</td>\n",
              "      <td>67</td>\n",
              "      <td>15</td>\n",
              "      <td>49</td>\n",
              "      <td>11</td>\n",
              "      <td>6.1359</td>\n",
              "      <td>330000</td>\n",
              "      <td>0.181450</td>\n",
              "      <td>temp</td>\n",
              "      <td>temp2</td>\n",
              "    </tr>\n",
              "    <tr>\n",
              "      <th>4</th>\n",
              "      <td>-119.67</td>\n",
              "      <td>36.33</td>\n",
              "      <td>19</td>\n",
              "      <td>1241</td>\n",
              "      <td>244</td>\n",
              "      <td>850</td>\n",
              "      <td>237</td>\n",
              "      <td>2.9375</td>\n",
              "      <td>81700</td>\n",
              "      <td>-0.422413</td>\n",
              "      <td>temp</td>\n",
              "      <td>temp2</td>\n",
              "    </tr>\n",
              "    <tr>\n",
              "      <th>...</th>\n",
              "      <td>...</td>\n",
              "      <td>...</td>\n",
              "      <td>...</td>\n",
              "      <td>...</td>\n",
              "      <td>...</td>\n",
              "      <td>...</td>\n",
              "      <td>...</td>\n",
              "      <td>...</td>\n",
              "      <td>...</td>\n",
              "      <td>...</td>\n",
              "      <td>...</td>\n",
              "      <td>...</td>\n",
              "    </tr>\n",
              "    <tr>\n",
              "      <th>2995</th>\n",
              "      <td>-119.86</td>\n",
              "      <td>34.42</td>\n",
              "      <td>23</td>\n",
              "      <td>1450</td>\n",
              "      <td>642</td>\n",
              "      <td>1258</td>\n",
              "      <td>607</td>\n",
              "      <td>1.1790</td>\n",
              "      <td>225000</td>\n",
              "      <td>0.843764</td>\n",
              "      <td>temp</td>\n",
              "      <td>temp2</td>\n",
              "    </tr>\n",
              "    <tr>\n",
              "      <th>2996</th>\n",
              "      <td>-118.14</td>\n",
              "      <td>34.06</td>\n",
              "      <td>27</td>\n",
              "      <td>5257</td>\n",
              "      <td>1082</td>\n",
              "      <td>3496</td>\n",
              "      <td>1036</td>\n",
              "      <td>3.3906</td>\n",
              "      <td>237200</td>\n",
              "      <td>-1.478057</td>\n",
              "      <td>temp</td>\n",
              "      <td>temp2</td>\n",
              "    </tr>\n",
              "    <tr>\n",
              "      <th>2997</th>\n",
              "      <td>-119.70</td>\n",
              "      <td>36.30</td>\n",
              "      <td>10</td>\n",
              "      <td>956</td>\n",
              "      <td>201</td>\n",
              "      <td>693</td>\n",
              "      <td>220</td>\n",
              "      <td>2.2895</td>\n",
              "      <td>62000</td>\n",
              "      <td>0.061466</td>\n",
              "      <td>temp</td>\n",
              "      <td>temp2</td>\n",
              "    </tr>\n",
              "    <tr>\n",
              "      <th>2998</th>\n",
              "      <td>-117.12</td>\n",
              "      <td>34.10</td>\n",
              "      <td>40</td>\n",
              "      <td>96</td>\n",
              "      <td>14</td>\n",
              "      <td>46</td>\n",
              "      <td>14</td>\n",
              "      <td>3.2708</td>\n",
              "      <td>162500</td>\n",
              "      <td>-2.107797</td>\n",
              "      <td>temp</td>\n",
              "      <td>temp2</td>\n",
              "    </tr>\n",
              "    <tr>\n",
              "      <th>2999</th>\n",
              "      <td>-119.63</td>\n",
              "      <td>34.42</td>\n",
              "      <td>42</td>\n",
              "      <td>1765</td>\n",
              "      <td>263</td>\n",
              "      <td>753</td>\n",
              "      <td>260</td>\n",
              "      <td>8.5608</td>\n",
              "      <td>500001</td>\n",
              "      <td>0.409497</td>\n",
              "      <td>temp</td>\n",
              "      <td>temp2</td>\n",
              "    </tr>\n",
              "  </tbody>\n",
              "</table>\n",
              "<p>3000 rows × 12 columns</p>\n",
              "</div>"
            ],
            "text/plain": [
              "      longitude  latitude  housing_median_age  total_rooms  total_bedrooms  \\\n",
              "0       -122.05     37.37                  27         3885             661   \n",
              "1       -118.30     34.26                  43         1510             200   \n",
              "2       -117.81     33.78                  27         3589             507   \n",
              "3       -118.36     33.82                  28           67              15   \n",
              "4       -119.67     36.33                  19         1241             244   \n",
              "...         ...       ...                 ...          ...             ...   \n",
              "2995    -119.86     34.42                  23         1450             642   \n",
              "2996    -118.14     34.06                  27         5257            1082   \n",
              "2997    -119.70     36.30                  10          956             201   \n",
              "2998    -117.12     34.10                  40           96              14   \n",
              "2999    -119.63     34.42                  42         1765             263   \n",
              "\n",
              "      population  households  median_income  median_house_value    random  \\\n",
              "0           1537         606         6.6085              344700 -0.844616   \n",
              "1            809         277         3.5990              176500  0.117795   \n",
              "2           1484         495         5.7934              270500 -0.227884   \n",
              "3             49          11         6.1359              330000  0.181450   \n",
              "4            850         237         2.9375               81700 -0.422413   \n",
              "...          ...         ...            ...                 ...       ...   \n",
              "2995        1258         607         1.1790              225000  0.843764   \n",
              "2996        3496        1036         3.3906              237200 -1.478057   \n",
              "2997         693         220         2.2895               62000  0.061466   \n",
              "2998          46          14         3.2708              162500 -2.107797   \n",
              "2999         753         260         8.5608              500001  0.409497   \n",
              "\n",
              "      temp  temp2  \n",
              "0     temp  temp2  \n",
              "1     temp  temp2  \n",
              "2     temp  temp2  \n",
              "3     temp  temp2  \n",
              "4     temp  temp2  \n",
              "...    ...    ...  \n",
              "2995  temp  temp2  \n",
              "2996  temp  temp2  \n",
              "2997  temp  temp2  \n",
              "2998  temp  temp2  \n",
              "2999  temp  temp2  \n",
              "\n",
              "[3000 rows x 12 columns]"
            ]
          },
          "metadata": {
            "tags": []
          },
          "execution_count": 33
        }
      ]
    },
    {
      "cell_type": "markdown",
      "metadata": {
        "id": "ZZ2h7ayddnQ-"
      },
      "source": [
        "Eliminar columnas con axis = 1"
      ]
    },
    {
      "cell_type": "code",
      "metadata": {
        "id": "5jwbMO9Xdnen",
        "outputId": "8c4b2772-c82d-4d1d-f53e-384417a1f6f8"
      },
      "source": [
        "#drop devuelve un nuevo dataframe sin la columna\n",
        "df = cali_housing.drop([\"temp\", \"temp2\"], axis=1)\n",
        "df"
      ],
      "execution_count": null,
      "outputs": [
        {
          "output_type": "execute_result",
          "data": {
            "text/html": [
              "<div>\n",
              "<style scoped>\n",
              "    .dataframe tbody tr th:only-of-type {\n",
              "        vertical-align: middle;\n",
              "    }\n",
              "\n",
              "    .dataframe tbody tr th {\n",
              "        vertical-align: top;\n",
              "    }\n",
              "\n",
              "    .dataframe thead th {\n",
              "        text-align: right;\n",
              "    }\n",
              "</style>\n",
              "<table border=\"1\" class=\"dataframe\">\n",
              "  <thead>\n",
              "    <tr style=\"text-align: right;\">\n",
              "      <th></th>\n",
              "      <th>longitude</th>\n",
              "      <th>latitude</th>\n",
              "      <th>housing_median_age</th>\n",
              "      <th>total_rooms</th>\n",
              "      <th>total_bedrooms</th>\n",
              "      <th>population</th>\n",
              "      <th>households</th>\n",
              "      <th>median_income</th>\n",
              "      <th>median_house_value</th>\n",
              "      <th>random</th>\n",
              "    </tr>\n",
              "  </thead>\n",
              "  <tbody>\n",
              "    <tr>\n",
              "      <th>0</th>\n",
              "      <td>-122.05</td>\n",
              "      <td>37.37</td>\n",
              "      <td>27</td>\n",
              "      <td>3885</td>\n",
              "      <td>661</td>\n",
              "      <td>1537</td>\n",
              "      <td>606</td>\n",
              "      <td>6.6085</td>\n",
              "      <td>344700</td>\n",
              "      <td>-0.844616</td>\n",
              "    </tr>\n",
              "    <tr>\n",
              "      <th>1</th>\n",
              "      <td>-118.30</td>\n",
              "      <td>34.26</td>\n",
              "      <td>43</td>\n",
              "      <td>1510</td>\n",
              "      <td>200</td>\n",
              "      <td>809</td>\n",
              "      <td>277</td>\n",
              "      <td>3.5990</td>\n",
              "      <td>176500</td>\n",
              "      <td>0.117795</td>\n",
              "    </tr>\n",
              "    <tr>\n",
              "      <th>2</th>\n",
              "      <td>-117.81</td>\n",
              "      <td>33.78</td>\n",
              "      <td>27</td>\n",
              "      <td>3589</td>\n",
              "      <td>507</td>\n",
              "      <td>1484</td>\n",
              "      <td>495</td>\n",
              "      <td>5.7934</td>\n",
              "      <td>270500</td>\n",
              "      <td>-0.227884</td>\n",
              "    </tr>\n",
              "    <tr>\n",
              "      <th>3</th>\n",
              "      <td>-118.36</td>\n",
              "      <td>33.82</td>\n",
              "      <td>28</td>\n",
              "      <td>67</td>\n",
              "      <td>15</td>\n",
              "      <td>49</td>\n",
              "      <td>11</td>\n",
              "      <td>6.1359</td>\n",
              "      <td>330000</td>\n",
              "      <td>0.181450</td>\n",
              "    </tr>\n",
              "    <tr>\n",
              "      <th>4</th>\n",
              "      <td>-119.67</td>\n",
              "      <td>36.33</td>\n",
              "      <td>19</td>\n",
              "      <td>1241</td>\n",
              "      <td>244</td>\n",
              "      <td>850</td>\n",
              "      <td>237</td>\n",
              "      <td>2.9375</td>\n",
              "      <td>81700</td>\n",
              "      <td>-0.422413</td>\n",
              "    </tr>\n",
              "    <tr>\n",
              "      <th>...</th>\n",
              "      <td>...</td>\n",
              "      <td>...</td>\n",
              "      <td>...</td>\n",
              "      <td>...</td>\n",
              "      <td>...</td>\n",
              "      <td>...</td>\n",
              "      <td>...</td>\n",
              "      <td>...</td>\n",
              "      <td>...</td>\n",
              "      <td>...</td>\n",
              "    </tr>\n",
              "    <tr>\n",
              "      <th>2995</th>\n",
              "      <td>-119.86</td>\n",
              "      <td>34.42</td>\n",
              "      <td>23</td>\n",
              "      <td>1450</td>\n",
              "      <td>642</td>\n",
              "      <td>1258</td>\n",
              "      <td>607</td>\n",
              "      <td>1.1790</td>\n",
              "      <td>225000</td>\n",
              "      <td>0.843764</td>\n",
              "    </tr>\n",
              "    <tr>\n",
              "      <th>2996</th>\n",
              "      <td>-118.14</td>\n",
              "      <td>34.06</td>\n",
              "      <td>27</td>\n",
              "      <td>5257</td>\n",
              "      <td>1082</td>\n",
              "      <td>3496</td>\n",
              "      <td>1036</td>\n",
              "      <td>3.3906</td>\n",
              "      <td>237200</td>\n",
              "      <td>-1.478057</td>\n",
              "    </tr>\n",
              "    <tr>\n",
              "      <th>2997</th>\n",
              "      <td>-119.70</td>\n",
              "      <td>36.30</td>\n",
              "      <td>10</td>\n",
              "      <td>956</td>\n",
              "      <td>201</td>\n",
              "      <td>693</td>\n",
              "      <td>220</td>\n",
              "      <td>2.2895</td>\n",
              "      <td>62000</td>\n",
              "      <td>0.061466</td>\n",
              "    </tr>\n",
              "    <tr>\n",
              "      <th>2998</th>\n",
              "      <td>-117.12</td>\n",
              "      <td>34.10</td>\n",
              "      <td>40</td>\n",
              "      <td>96</td>\n",
              "      <td>14</td>\n",
              "      <td>46</td>\n",
              "      <td>14</td>\n",
              "      <td>3.2708</td>\n",
              "      <td>162500</td>\n",
              "      <td>-2.107797</td>\n",
              "    </tr>\n",
              "    <tr>\n",
              "      <th>2999</th>\n",
              "      <td>-119.63</td>\n",
              "      <td>34.42</td>\n",
              "      <td>42</td>\n",
              "      <td>1765</td>\n",
              "      <td>263</td>\n",
              "      <td>753</td>\n",
              "      <td>260</td>\n",
              "      <td>8.5608</td>\n",
              "      <td>500001</td>\n",
              "      <td>0.409497</td>\n",
              "    </tr>\n",
              "  </tbody>\n",
              "</table>\n",
              "<p>3000 rows × 10 columns</p>\n",
              "</div>"
            ],
            "text/plain": [
              "      longitude  latitude  housing_median_age  total_rooms  total_bedrooms  \\\n",
              "0       -122.05     37.37                  27         3885             661   \n",
              "1       -118.30     34.26                  43         1510             200   \n",
              "2       -117.81     33.78                  27         3589             507   \n",
              "3       -118.36     33.82                  28           67              15   \n",
              "4       -119.67     36.33                  19         1241             244   \n",
              "...         ...       ...                 ...          ...             ...   \n",
              "2995    -119.86     34.42                  23         1450             642   \n",
              "2996    -118.14     34.06                  27         5257            1082   \n",
              "2997    -119.70     36.30                  10          956             201   \n",
              "2998    -117.12     34.10                  40           96              14   \n",
              "2999    -119.63     34.42                  42         1765             263   \n",
              "\n",
              "      population  households  median_income  median_house_value    random  \n",
              "0           1537         606         6.6085              344700 -0.844616  \n",
              "1            809         277         3.5990              176500  0.117795  \n",
              "2           1484         495         5.7934              270500 -0.227884  \n",
              "3             49          11         6.1359              330000  0.181450  \n",
              "4            850         237         2.9375               81700 -0.422413  \n",
              "...          ...         ...            ...                 ...       ...  \n",
              "2995        1258         607         1.1790              225000  0.843764  \n",
              "2996        3496        1036         3.3906              237200 -1.478057  \n",
              "2997         693         220         2.2895               62000  0.061466  \n",
              "2998          46          14         3.2708              162500 -2.107797  \n",
              "2999         753         260         8.5608              500001  0.409497  \n",
              "\n",
              "[3000 rows x 10 columns]"
            ]
          },
          "metadata": {
            "tags": []
          },
          "execution_count": 34
        }
      ]
    },
    {
      "cell_type": "markdown",
      "metadata": {
        "id": "4skGg56odnlF"
      },
      "source": [
        "Eliminar filas con axis = 0"
      ]
    },
    {
      "cell_type": "code",
      "metadata": {
        "id": "8ygP00w8dnsS",
        "outputId": "0ed68fd8-0616-4c23-a492-0dbd504e8553"
      },
      "source": [
        "#drop devuelve un nuevo dataframe sin la fila\n",
        "df = cali_housing.drop([5,7,9], axis=0)\n",
        "df"
      ],
      "execution_count": null,
      "outputs": [
        {
          "output_type": "execute_result",
          "data": {
            "text/html": [
              "<div>\n",
              "<style scoped>\n",
              "    .dataframe tbody tr th:only-of-type {\n",
              "        vertical-align: middle;\n",
              "    }\n",
              "\n",
              "    .dataframe tbody tr th {\n",
              "        vertical-align: top;\n",
              "    }\n",
              "\n",
              "    .dataframe thead th {\n",
              "        text-align: right;\n",
              "    }\n",
              "</style>\n",
              "<table border=\"1\" class=\"dataframe\">\n",
              "  <thead>\n",
              "    <tr style=\"text-align: right;\">\n",
              "      <th></th>\n",
              "      <th>longitude</th>\n",
              "      <th>latitude</th>\n",
              "      <th>housing_median_age</th>\n",
              "      <th>total_rooms</th>\n",
              "      <th>total_bedrooms</th>\n",
              "      <th>population</th>\n",
              "      <th>households</th>\n",
              "      <th>median_income</th>\n",
              "      <th>median_house_value</th>\n",
              "      <th>random</th>\n",
              "      <th>temp</th>\n",
              "      <th>temp2</th>\n",
              "    </tr>\n",
              "  </thead>\n",
              "  <tbody>\n",
              "    <tr>\n",
              "      <th>0</th>\n",
              "      <td>-122.05</td>\n",
              "      <td>37.37</td>\n",
              "      <td>27</td>\n",
              "      <td>3885</td>\n",
              "      <td>661</td>\n",
              "      <td>1537</td>\n",
              "      <td>606</td>\n",
              "      <td>6.6085</td>\n",
              "      <td>344700</td>\n",
              "      <td>-0.844616</td>\n",
              "      <td>temp</td>\n",
              "      <td>temp2</td>\n",
              "    </tr>\n",
              "    <tr>\n",
              "      <th>1</th>\n",
              "      <td>-118.30</td>\n",
              "      <td>34.26</td>\n",
              "      <td>43</td>\n",
              "      <td>1510</td>\n",
              "      <td>200</td>\n",
              "      <td>809</td>\n",
              "      <td>277</td>\n",
              "      <td>3.5990</td>\n",
              "      <td>176500</td>\n",
              "      <td>0.117795</td>\n",
              "      <td>temp</td>\n",
              "      <td>temp2</td>\n",
              "    </tr>\n",
              "    <tr>\n",
              "      <th>2</th>\n",
              "      <td>-117.81</td>\n",
              "      <td>33.78</td>\n",
              "      <td>27</td>\n",
              "      <td>3589</td>\n",
              "      <td>507</td>\n",
              "      <td>1484</td>\n",
              "      <td>495</td>\n",
              "      <td>5.7934</td>\n",
              "      <td>270500</td>\n",
              "      <td>-0.227884</td>\n",
              "      <td>temp</td>\n",
              "      <td>temp2</td>\n",
              "    </tr>\n",
              "    <tr>\n",
              "      <th>3</th>\n",
              "      <td>-118.36</td>\n",
              "      <td>33.82</td>\n",
              "      <td>28</td>\n",
              "      <td>67</td>\n",
              "      <td>15</td>\n",
              "      <td>49</td>\n",
              "      <td>11</td>\n",
              "      <td>6.1359</td>\n",
              "      <td>330000</td>\n",
              "      <td>0.181450</td>\n",
              "      <td>temp</td>\n",
              "      <td>temp2</td>\n",
              "    </tr>\n",
              "    <tr>\n",
              "      <th>4</th>\n",
              "      <td>-119.67</td>\n",
              "      <td>36.33</td>\n",
              "      <td>19</td>\n",
              "      <td>1241</td>\n",
              "      <td>244</td>\n",
              "      <td>850</td>\n",
              "      <td>237</td>\n",
              "      <td>2.9375</td>\n",
              "      <td>81700</td>\n",
              "      <td>-0.422413</td>\n",
              "      <td>temp</td>\n",
              "      <td>temp2</td>\n",
              "    </tr>\n",
              "    <tr>\n",
              "      <th>...</th>\n",
              "      <td>...</td>\n",
              "      <td>...</td>\n",
              "      <td>...</td>\n",
              "      <td>...</td>\n",
              "      <td>...</td>\n",
              "      <td>...</td>\n",
              "      <td>...</td>\n",
              "      <td>...</td>\n",
              "      <td>...</td>\n",
              "      <td>...</td>\n",
              "      <td>...</td>\n",
              "      <td>...</td>\n",
              "    </tr>\n",
              "    <tr>\n",
              "      <th>2995</th>\n",
              "      <td>-119.86</td>\n",
              "      <td>34.42</td>\n",
              "      <td>23</td>\n",
              "      <td>1450</td>\n",
              "      <td>642</td>\n",
              "      <td>1258</td>\n",
              "      <td>607</td>\n",
              "      <td>1.1790</td>\n",
              "      <td>225000</td>\n",
              "      <td>0.843764</td>\n",
              "      <td>temp</td>\n",
              "      <td>temp2</td>\n",
              "    </tr>\n",
              "    <tr>\n",
              "      <th>2996</th>\n",
              "      <td>-118.14</td>\n",
              "      <td>34.06</td>\n",
              "      <td>27</td>\n",
              "      <td>5257</td>\n",
              "      <td>1082</td>\n",
              "      <td>3496</td>\n",
              "      <td>1036</td>\n",
              "      <td>3.3906</td>\n",
              "      <td>237200</td>\n",
              "      <td>-1.478057</td>\n",
              "      <td>temp</td>\n",
              "      <td>temp2</td>\n",
              "    </tr>\n",
              "    <tr>\n",
              "      <th>2997</th>\n",
              "      <td>-119.70</td>\n",
              "      <td>36.30</td>\n",
              "      <td>10</td>\n",
              "      <td>956</td>\n",
              "      <td>201</td>\n",
              "      <td>693</td>\n",
              "      <td>220</td>\n",
              "      <td>2.2895</td>\n",
              "      <td>62000</td>\n",
              "      <td>0.061466</td>\n",
              "      <td>temp</td>\n",
              "      <td>temp2</td>\n",
              "    </tr>\n",
              "    <tr>\n",
              "      <th>2998</th>\n",
              "      <td>-117.12</td>\n",
              "      <td>34.10</td>\n",
              "      <td>40</td>\n",
              "      <td>96</td>\n",
              "      <td>14</td>\n",
              "      <td>46</td>\n",
              "      <td>14</td>\n",
              "      <td>3.2708</td>\n",
              "      <td>162500</td>\n",
              "      <td>-2.107797</td>\n",
              "      <td>temp</td>\n",
              "      <td>temp2</td>\n",
              "    </tr>\n",
              "    <tr>\n",
              "      <th>2999</th>\n",
              "      <td>-119.63</td>\n",
              "      <td>34.42</td>\n",
              "      <td>42</td>\n",
              "      <td>1765</td>\n",
              "      <td>263</td>\n",
              "      <td>753</td>\n",
              "      <td>260</td>\n",
              "      <td>8.5608</td>\n",
              "      <td>500001</td>\n",
              "      <td>0.409497</td>\n",
              "      <td>temp</td>\n",
              "      <td>temp2</td>\n",
              "    </tr>\n",
              "  </tbody>\n",
              "</table>\n",
              "<p>2997 rows × 12 columns</p>\n",
              "</div>"
            ],
            "text/plain": [
              "      longitude  latitude  housing_median_age  total_rooms  total_bedrooms  \\\n",
              "0       -122.05     37.37                  27         3885             661   \n",
              "1       -118.30     34.26                  43         1510             200   \n",
              "2       -117.81     33.78                  27         3589             507   \n",
              "3       -118.36     33.82                  28           67              15   \n",
              "4       -119.67     36.33                  19         1241             244   \n",
              "...         ...       ...                 ...          ...             ...   \n",
              "2995    -119.86     34.42                  23         1450             642   \n",
              "2996    -118.14     34.06                  27         5257            1082   \n",
              "2997    -119.70     36.30                  10          956             201   \n",
              "2998    -117.12     34.10                  40           96              14   \n",
              "2999    -119.63     34.42                  42         1765             263   \n",
              "\n",
              "      population  households  median_income  median_house_value    random  \\\n",
              "0           1537         606         6.6085              344700 -0.844616   \n",
              "1            809         277         3.5990              176500  0.117795   \n",
              "2           1484         495         5.7934              270500 -0.227884   \n",
              "3             49          11         6.1359              330000  0.181450   \n",
              "4            850         237         2.9375               81700 -0.422413   \n",
              "...          ...         ...            ...                 ...       ...   \n",
              "2995        1258         607         1.1790              225000  0.843764   \n",
              "2996        3496        1036         3.3906              237200 -1.478057   \n",
              "2997         693         220         2.2895               62000  0.061466   \n",
              "2998          46          14         3.2708              162500 -2.107797   \n",
              "2999         753         260         8.5608              500001  0.409497   \n",
              "\n",
              "      temp  temp2  \n",
              "0     temp  temp2  \n",
              "1     temp  temp2  \n",
              "2     temp  temp2  \n",
              "3     temp  temp2  \n",
              "4     temp  temp2  \n",
              "...    ...    ...  \n",
              "2995  temp  temp2  \n",
              "2996  temp  temp2  \n",
              "2997  temp  temp2  \n",
              "2998  temp  temp2  \n",
              "2999  temp  temp2  \n",
              "\n",
              "[2997 rows x 12 columns]"
            ]
          },
          "metadata": {
            "tags": []
          },
          "execution_count": 35
        }
      ]
    },
    {
      "cell_type": "markdown",
      "metadata": {
        "id": "93ha10yDA-fF"
      },
      "source": [
        "## Remover columnas con ```del```\n",
        "\n",
        "Puedes usar la notación _del df[col_name]_ para eliminar una columna directamente de un DataFrame:"
      ]
    },
    {
      "cell_type": "code",
      "metadata": {
        "id": "bwpoq_9TQgPF",
        "outputId": "09b4918c-6e93-4f18-90c8-fa2234e20564"
      },
      "source": [
        "#el dataframe original no ha sido alterado\n",
        "#aun contiene las columnas temporales\n",
        "cali_housing"
      ],
      "execution_count": null,
      "outputs": [
        {
          "output_type": "execute_result",
          "data": {
            "text/html": [
              "<div>\n",
              "<style scoped>\n",
              "    .dataframe tbody tr th:only-of-type {\n",
              "        vertical-align: middle;\n",
              "    }\n",
              "\n",
              "    .dataframe tbody tr th {\n",
              "        vertical-align: top;\n",
              "    }\n",
              "\n",
              "    .dataframe thead th {\n",
              "        text-align: right;\n",
              "    }\n",
              "</style>\n",
              "<table border=\"1\" class=\"dataframe\">\n",
              "  <thead>\n",
              "    <tr style=\"text-align: right;\">\n",
              "      <th></th>\n",
              "      <th>longitude</th>\n",
              "      <th>latitude</th>\n",
              "      <th>housing_median_age</th>\n",
              "      <th>total_rooms</th>\n",
              "      <th>total_bedrooms</th>\n",
              "      <th>population</th>\n",
              "      <th>households</th>\n",
              "      <th>median_income</th>\n",
              "      <th>median_house_value</th>\n",
              "      <th>random</th>\n",
              "      <th>temp</th>\n",
              "      <th>temp2</th>\n",
              "    </tr>\n",
              "  </thead>\n",
              "  <tbody>\n",
              "    <tr>\n",
              "      <th>0</th>\n",
              "      <td>-122.05</td>\n",
              "      <td>37.37</td>\n",
              "      <td>27</td>\n",
              "      <td>3885</td>\n",
              "      <td>661</td>\n",
              "      <td>1537</td>\n",
              "      <td>606</td>\n",
              "      <td>6.6085</td>\n",
              "      <td>344700</td>\n",
              "      <td>-0.844616</td>\n",
              "      <td>temp</td>\n",
              "      <td>temp2</td>\n",
              "    </tr>\n",
              "    <tr>\n",
              "      <th>1</th>\n",
              "      <td>-118.30</td>\n",
              "      <td>34.26</td>\n",
              "      <td>43</td>\n",
              "      <td>1510</td>\n",
              "      <td>200</td>\n",
              "      <td>809</td>\n",
              "      <td>277</td>\n",
              "      <td>3.5990</td>\n",
              "      <td>176500</td>\n",
              "      <td>0.117795</td>\n",
              "      <td>temp</td>\n",
              "      <td>temp2</td>\n",
              "    </tr>\n",
              "    <tr>\n",
              "      <th>2</th>\n",
              "      <td>-117.81</td>\n",
              "      <td>33.78</td>\n",
              "      <td>27</td>\n",
              "      <td>3589</td>\n",
              "      <td>507</td>\n",
              "      <td>1484</td>\n",
              "      <td>495</td>\n",
              "      <td>5.7934</td>\n",
              "      <td>270500</td>\n",
              "      <td>-0.227884</td>\n",
              "      <td>temp</td>\n",
              "      <td>temp2</td>\n",
              "    </tr>\n",
              "    <tr>\n",
              "      <th>3</th>\n",
              "      <td>-118.36</td>\n",
              "      <td>33.82</td>\n",
              "      <td>28</td>\n",
              "      <td>67</td>\n",
              "      <td>15</td>\n",
              "      <td>49</td>\n",
              "      <td>11</td>\n",
              "      <td>6.1359</td>\n",
              "      <td>330000</td>\n",
              "      <td>0.181450</td>\n",
              "      <td>temp</td>\n",
              "      <td>temp2</td>\n",
              "    </tr>\n",
              "    <tr>\n",
              "      <th>4</th>\n",
              "      <td>-119.67</td>\n",
              "      <td>36.33</td>\n",
              "      <td>19</td>\n",
              "      <td>1241</td>\n",
              "      <td>244</td>\n",
              "      <td>850</td>\n",
              "      <td>237</td>\n",
              "      <td>2.9375</td>\n",
              "      <td>81700</td>\n",
              "      <td>-0.422413</td>\n",
              "      <td>temp</td>\n",
              "      <td>temp2</td>\n",
              "    </tr>\n",
              "    <tr>\n",
              "      <th>...</th>\n",
              "      <td>...</td>\n",
              "      <td>...</td>\n",
              "      <td>...</td>\n",
              "      <td>...</td>\n",
              "      <td>...</td>\n",
              "      <td>...</td>\n",
              "      <td>...</td>\n",
              "      <td>...</td>\n",
              "      <td>...</td>\n",
              "      <td>...</td>\n",
              "      <td>...</td>\n",
              "      <td>...</td>\n",
              "    </tr>\n",
              "    <tr>\n",
              "      <th>2995</th>\n",
              "      <td>-119.86</td>\n",
              "      <td>34.42</td>\n",
              "      <td>23</td>\n",
              "      <td>1450</td>\n",
              "      <td>642</td>\n",
              "      <td>1258</td>\n",
              "      <td>607</td>\n",
              "      <td>1.1790</td>\n",
              "      <td>225000</td>\n",
              "      <td>0.843764</td>\n",
              "      <td>temp</td>\n",
              "      <td>temp2</td>\n",
              "    </tr>\n",
              "    <tr>\n",
              "      <th>2996</th>\n",
              "      <td>-118.14</td>\n",
              "      <td>34.06</td>\n",
              "      <td>27</td>\n",
              "      <td>5257</td>\n",
              "      <td>1082</td>\n",
              "      <td>3496</td>\n",
              "      <td>1036</td>\n",
              "      <td>3.3906</td>\n",
              "      <td>237200</td>\n",
              "      <td>-1.478057</td>\n",
              "      <td>temp</td>\n",
              "      <td>temp2</td>\n",
              "    </tr>\n",
              "    <tr>\n",
              "      <th>2997</th>\n",
              "      <td>-119.70</td>\n",
              "      <td>36.30</td>\n",
              "      <td>10</td>\n",
              "      <td>956</td>\n",
              "      <td>201</td>\n",
              "      <td>693</td>\n",
              "      <td>220</td>\n",
              "      <td>2.2895</td>\n",
              "      <td>62000</td>\n",
              "      <td>0.061466</td>\n",
              "      <td>temp</td>\n",
              "      <td>temp2</td>\n",
              "    </tr>\n",
              "    <tr>\n",
              "      <th>2998</th>\n",
              "      <td>-117.12</td>\n",
              "      <td>34.10</td>\n",
              "      <td>40</td>\n",
              "      <td>96</td>\n",
              "      <td>14</td>\n",
              "      <td>46</td>\n",
              "      <td>14</td>\n",
              "      <td>3.2708</td>\n",
              "      <td>162500</td>\n",
              "      <td>-2.107797</td>\n",
              "      <td>temp</td>\n",
              "      <td>temp2</td>\n",
              "    </tr>\n",
              "    <tr>\n",
              "      <th>2999</th>\n",
              "      <td>-119.63</td>\n",
              "      <td>34.42</td>\n",
              "      <td>42</td>\n",
              "      <td>1765</td>\n",
              "      <td>263</td>\n",
              "      <td>753</td>\n",
              "      <td>260</td>\n",
              "      <td>8.5608</td>\n",
              "      <td>500001</td>\n",
              "      <td>0.409497</td>\n",
              "      <td>temp</td>\n",
              "      <td>temp2</td>\n",
              "    </tr>\n",
              "  </tbody>\n",
              "</table>\n",
              "<p>3000 rows × 12 columns</p>\n",
              "</div>"
            ],
            "text/plain": [
              "      longitude  latitude  housing_median_age  total_rooms  total_bedrooms  \\\n",
              "0       -122.05     37.37                  27         3885             661   \n",
              "1       -118.30     34.26                  43         1510             200   \n",
              "2       -117.81     33.78                  27         3589             507   \n",
              "3       -118.36     33.82                  28           67              15   \n",
              "4       -119.67     36.33                  19         1241             244   \n",
              "...         ...       ...                 ...          ...             ...   \n",
              "2995    -119.86     34.42                  23         1450             642   \n",
              "2996    -118.14     34.06                  27         5257            1082   \n",
              "2997    -119.70     36.30                  10          956             201   \n",
              "2998    -117.12     34.10                  40           96              14   \n",
              "2999    -119.63     34.42                  42         1765             263   \n",
              "\n",
              "      population  households  median_income  median_house_value    random  \\\n",
              "0           1537         606         6.6085              344700 -0.844616   \n",
              "1            809         277         3.5990              176500  0.117795   \n",
              "2           1484         495         5.7934              270500 -0.227884   \n",
              "3             49          11         6.1359              330000  0.181450   \n",
              "4            850         237         2.9375               81700 -0.422413   \n",
              "...          ...         ...            ...                 ...       ...   \n",
              "2995        1258         607         1.1790              225000  0.843764   \n",
              "2996        3496        1036         3.3906              237200 -1.478057   \n",
              "2997         693         220         2.2895               62000  0.061466   \n",
              "2998          46          14         3.2708              162500 -2.107797   \n",
              "2999         753         260         8.5608              500001  0.409497   \n",
              "\n",
              "      temp  temp2  \n",
              "0     temp  temp2  \n",
              "1     temp  temp2  \n",
              "2     temp  temp2  \n",
              "3     temp  temp2  \n",
              "4     temp  temp2  \n",
              "...    ...    ...  \n",
              "2995  temp  temp2  \n",
              "2996  temp  temp2  \n",
              "2997  temp  temp2  \n",
              "2998  temp  temp2  \n",
              "2999  temp  temp2  \n",
              "\n",
              "[3000 rows x 12 columns]"
            ]
          },
          "metadata": {
            "tags": []
          },
          "execution_count": 36
        }
      ]
    },
    {
      "cell_type": "code",
      "metadata": {
        "id": "pmVacTmiQg-j",
        "outputId": "213d19e7-f82f-4aa8-9913-d2ecaaad1e4d"
      },
      "source": [
        "#eliminamos la nueva columna temp con del directamente en el df\n",
        "del cali_housing[\"temp\"]\n",
        "cali_housing"
      ],
      "execution_count": null,
      "outputs": [
        {
          "output_type": "execute_result",
          "data": {
            "text/html": [
              "<div>\n",
              "<style scoped>\n",
              "    .dataframe tbody tr th:only-of-type {\n",
              "        vertical-align: middle;\n",
              "    }\n",
              "\n",
              "    .dataframe tbody tr th {\n",
              "        vertical-align: top;\n",
              "    }\n",
              "\n",
              "    .dataframe thead th {\n",
              "        text-align: right;\n",
              "    }\n",
              "</style>\n",
              "<table border=\"1\" class=\"dataframe\">\n",
              "  <thead>\n",
              "    <tr style=\"text-align: right;\">\n",
              "      <th></th>\n",
              "      <th>longitude</th>\n",
              "      <th>latitude</th>\n",
              "      <th>housing_median_age</th>\n",
              "      <th>total_rooms</th>\n",
              "      <th>total_bedrooms</th>\n",
              "      <th>population</th>\n",
              "      <th>households</th>\n",
              "      <th>median_income</th>\n",
              "      <th>median_house_value</th>\n",
              "      <th>random</th>\n",
              "      <th>temp2</th>\n",
              "    </tr>\n",
              "  </thead>\n",
              "  <tbody>\n",
              "    <tr>\n",
              "      <th>0</th>\n",
              "      <td>-122.05</td>\n",
              "      <td>37.37</td>\n",
              "      <td>27</td>\n",
              "      <td>3885</td>\n",
              "      <td>661</td>\n",
              "      <td>1537</td>\n",
              "      <td>606</td>\n",
              "      <td>6.6085</td>\n",
              "      <td>344700</td>\n",
              "      <td>-0.844616</td>\n",
              "      <td>temp2</td>\n",
              "    </tr>\n",
              "    <tr>\n",
              "      <th>1</th>\n",
              "      <td>-118.30</td>\n",
              "      <td>34.26</td>\n",
              "      <td>43</td>\n",
              "      <td>1510</td>\n",
              "      <td>200</td>\n",
              "      <td>809</td>\n",
              "      <td>277</td>\n",
              "      <td>3.5990</td>\n",
              "      <td>176500</td>\n",
              "      <td>0.117795</td>\n",
              "      <td>temp2</td>\n",
              "    </tr>\n",
              "    <tr>\n",
              "      <th>2</th>\n",
              "      <td>-117.81</td>\n",
              "      <td>33.78</td>\n",
              "      <td>27</td>\n",
              "      <td>3589</td>\n",
              "      <td>507</td>\n",
              "      <td>1484</td>\n",
              "      <td>495</td>\n",
              "      <td>5.7934</td>\n",
              "      <td>270500</td>\n",
              "      <td>-0.227884</td>\n",
              "      <td>temp2</td>\n",
              "    </tr>\n",
              "    <tr>\n",
              "      <th>3</th>\n",
              "      <td>-118.36</td>\n",
              "      <td>33.82</td>\n",
              "      <td>28</td>\n",
              "      <td>67</td>\n",
              "      <td>15</td>\n",
              "      <td>49</td>\n",
              "      <td>11</td>\n",
              "      <td>6.1359</td>\n",
              "      <td>330000</td>\n",
              "      <td>0.181450</td>\n",
              "      <td>temp2</td>\n",
              "    </tr>\n",
              "    <tr>\n",
              "      <th>4</th>\n",
              "      <td>-119.67</td>\n",
              "      <td>36.33</td>\n",
              "      <td>19</td>\n",
              "      <td>1241</td>\n",
              "      <td>244</td>\n",
              "      <td>850</td>\n",
              "      <td>237</td>\n",
              "      <td>2.9375</td>\n",
              "      <td>81700</td>\n",
              "      <td>-0.422413</td>\n",
              "      <td>temp2</td>\n",
              "    </tr>\n",
              "    <tr>\n",
              "      <th>...</th>\n",
              "      <td>...</td>\n",
              "      <td>...</td>\n",
              "      <td>...</td>\n",
              "      <td>...</td>\n",
              "      <td>...</td>\n",
              "      <td>...</td>\n",
              "      <td>...</td>\n",
              "      <td>...</td>\n",
              "      <td>...</td>\n",
              "      <td>...</td>\n",
              "      <td>...</td>\n",
              "    </tr>\n",
              "    <tr>\n",
              "      <th>2995</th>\n",
              "      <td>-119.86</td>\n",
              "      <td>34.42</td>\n",
              "      <td>23</td>\n",
              "      <td>1450</td>\n",
              "      <td>642</td>\n",
              "      <td>1258</td>\n",
              "      <td>607</td>\n",
              "      <td>1.1790</td>\n",
              "      <td>225000</td>\n",
              "      <td>0.843764</td>\n",
              "      <td>temp2</td>\n",
              "    </tr>\n",
              "    <tr>\n",
              "      <th>2996</th>\n",
              "      <td>-118.14</td>\n",
              "      <td>34.06</td>\n",
              "      <td>27</td>\n",
              "      <td>5257</td>\n",
              "      <td>1082</td>\n",
              "      <td>3496</td>\n",
              "      <td>1036</td>\n",
              "      <td>3.3906</td>\n",
              "      <td>237200</td>\n",
              "      <td>-1.478057</td>\n",
              "      <td>temp2</td>\n",
              "    </tr>\n",
              "    <tr>\n",
              "      <th>2997</th>\n",
              "      <td>-119.70</td>\n",
              "      <td>36.30</td>\n",
              "      <td>10</td>\n",
              "      <td>956</td>\n",
              "      <td>201</td>\n",
              "      <td>693</td>\n",
              "      <td>220</td>\n",
              "      <td>2.2895</td>\n",
              "      <td>62000</td>\n",
              "      <td>0.061466</td>\n",
              "      <td>temp2</td>\n",
              "    </tr>\n",
              "    <tr>\n",
              "      <th>2998</th>\n",
              "      <td>-117.12</td>\n",
              "      <td>34.10</td>\n",
              "      <td>40</td>\n",
              "      <td>96</td>\n",
              "      <td>14</td>\n",
              "      <td>46</td>\n",
              "      <td>14</td>\n",
              "      <td>3.2708</td>\n",
              "      <td>162500</td>\n",
              "      <td>-2.107797</td>\n",
              "      <td>temp2</td>\n",
              "    </tr>\n",
              "    <tr>\n",
              "      <th>2999</th>\n",
              "      <td>-119.63</td>\n",
              "      <td>34.42</td>\n",
              "      <td>42</td>\n",
              "      <td>1765</td>\n",
              "      <td>263</td>\n",
              "      <td>753</td>\n",
              "      <td>260</td>\n",
              "      <td>8.5608</td>\n",
              "      <td>500001</td>\n",
              "      <td>0.409497</td>\n",
              "      <td>temp2</td>\n",
              "    </tr>\n",
              "  </tbody>\n",
              "</table>\n",
              "<p>3000 rows × 11 columns</p>\n",
              "</div>"
            ],
            "text/plain": [
              "      longitude  latitude  housing_median_age  total_rooms  total_bedrooms  \\\n",
              "0       -122.05     37.37                  27         3885             661   \n",
              "1       -118.30     34.26                  43         1510             200   \n",
              "2       -117.81     33.78                  27         3589             507   \n",
              "3       -118.36     33.82                  28           67              15   \n",
              "4       -119.67     36.33                  19         1241             244   \n",
              "...         ...       ...                 ...          ...             ...   \n",
              "2995    -119.86     34.42                  23         1450             642   \n",
              "2996    -118.14     34.06                  27         5257            1082   \n",
              "2997    -119.70     36.30                  10          956             201   \n",
              "2998    -117.12     34.10                  40           96              14   \n",
              "2999    -119.63     34.42                  42         1765             263   \n",
              "\n",
              "      population  households  median_income  median_house_value    random  \\\n",
              "0           1537         606         6.6085              344700 -0.844616   \n",
              "1            809         277         3.5990              176500  0.117795   \n",
              "2           1484         495         5.7934              270500 -0.227884   \n",
              "3             49          11         6.1359              330000  0.181450   \n",
              "4            850         237         2.9375               81700 -0.422413   \n",
              "...          ...         ...            ...                 ...       ...   \n",
              "2995        1258         607         1.1790              225000  0.843764   \n",
              "2996        3496        1036         3.3906              237200 -1.478057   \n",
              "2997         693         220         2.2895               62000  0.061466   \n",
              "2998          46          14         3.2708              162500 -2.107797   \n",
              "2999         753         260         8.5608              500001  0.409497   \n",
              "\n",
              "      temp2  \n",
              "0     temp2  \n",
              "1     temp2  \n",
              "2     temp2  \n",
              "3     temp2  \n",
              "4     temp2  \n",
              "...     ...  \n",
              "2995  temp2  \n",
              "2996  temp2  \n",
              "2997  temp2  \n",
              "2998  temp2  \n",
              "2999  temp2  \n",
              "\n",
              "[3000 rows x 11 columns]"
            ]
          },
          "metadata": {
            "tags": []
          },
          "execution_count": 37
        }
      ]
    },
    {
      "cell_type": "code",
      "metadata": {
        "id": "sr9fkAPWhwhd",
        "outputId": "6afca3b7-27dd-4bfc-a904-a0e779f1cd00"
      },
      "source": [
        "#del elimina una columna a la vez\n",
        "# llamemos del una segunda vez para eliminar temp2\n",
        "del cali_housing[\"temp2\"]\n",
        "cali_housing"
      ],
      "execution_count": null,
      "outputs": [
        {
          "output_type": "execute_result",
          "data": {
            "text/html": [
              "<div>\n",
              "<style scoped>\n",
              "    .dataframe tbody tr th:only-of-type {\n",
              "        vertical-align: middle;\n",
              "    }\n",
              "\n",
              "    .dataframe tbody tr th {\n",
              "        vertical-align: top;\n",
              "    }\n",
              "\n",
              "    .dataframe thead th {\n",
              "        text-align: right;\n",
              "    }\n",
              "</style>\n",
              "<table border=\"1\" class=\"dataframe\">\n",
              "  <thead>\n",
              "    <tr style=\"text-align: right;\">\n",
              "      <th></th>\n",
              "      <th>longitude</th>\n",
              "      <th>latitude</th>\n",
              "      <th>housing_median_age</th>\n",
              "      <th>total_rooms</th>\n",
              "      <th>total_bedrooms</th>\n",
              "      <th>population</th>\n",
              "      <th>households</th>\n",
              "      <th>median_income</th>\n",
              "      <th>median_house_value</th>\n",
              "      <th>random</th>\n",
              "    </tr>\n",
              "  </thead>\n",
              "  <tbody>\n",
              "    <tr>\n",
              "      <th>0</th>\n",
              "      <td>-122.05</td>\n",
              "      <td>37.37</td>\n",
              "      <td>27</td>\n",
              "      <td>3885</td>\n",
              "      <td>661</td>\n",
              "      <td>1537</td>\n",
              "      <td>606</td>\n",
              "      <td>6.6085</td>\n",
              "      <td>344700</td>\n",
              "      <td>-0.844616</td>\n",
              "    </tr>\n",
              "    <tr>\n",
              "      <th>1</th>\n",
              "      <td>-118.30</td>\n",
              "      <td>34.26</td>\n",
              "      <td>43</td>\n",
              "      <td>1510</td>\n",
              "      <td>200</td>\n",
              "      <td>809</td>\n",
              "      <td>277</td>\n",
              "      <td>3.5990</td>\n",
              "      <td>176500</td>\n",
              "      <td>0.117795</td>\n",
              "    </tr>\n",
              "    <tr>\n",
              "      <th>2</th>\n",
              "      <td>-117.81</td>\n",
              "      <td>33.78</td>\n",
              "      <td>27</td>\n",
              "      <td>3589</td>\n",
              "      <td>507</td>\n",
              "      <td>1484</td>\n",
              "      <td>495</td>\n",
              "      <td>5.7934</td>\n",
              "      <td>270500</td>\n",
              "      <td>-0.227884</td>\n",
              "    </tr>\n",
              "    <tr>\n",
              "      <th>3</th>\n",
              "      <td>-118.36</td>\n",
              "      <td>33.82</td>\n",
              "      <td>28</td>\n",
              "      <td>67</td>\n",
              "      <td>15</td>\n",
              "      <td>49</td>\n",
              "      <td>11</td>\n",
              "      <td>6.1359</td>\n",
              "      <td>330000</td>\n",
              "      <td>0.181450</td>\n",
              "    </tr>\n",
              "    <tr>\n",
              "      <th>4</th>\n",
              "      <td>-119.67</td>\n",
              "      <td>36.33</td>\n",
              "      <td>19</td>\n",
              "      <td>1241</td>\n",
              "      <td>244</td>\n",
              "      <td>850</td>\n",
              "      <td>237</td>\n",
              "      <td>2.9375</td>\n",
              "      <td>81700</td>\n",
              "      <td>-0.422413</td>\n",
              "    </tr>\n",
              "    <tr>\n",
              "      <th>...</th>\n",
              "      <td>...</td>\n",
              "      <td>...</td>\n",
              "      <td>...</td>\n",
              "      <td>...</td>\n",
              "      <td>...</td>\n",
              "      <td>...</td>\n",
              "      <td>...</td>\n",
              "      <td>...</td>\n",
              "      <td>...</td>\n",
              "      <td>...</td>\n",
              "    </tr>\n",
              "    <tr>\n",
              "      <th>2995</th>\n",
              "      <td>-119.86</td>\n",
              "      <td>34.42</td>\n",
              "      <td>23</td>\n",
              "      <td>1450</td>\n",
              "      <td>642</td>\n",
              "      <td>1258</td>\n",
              "      <td>607</td>\n",
              "      <td>1.1790</td>\n",
              "      <td>225000</td>\n",
              "      <td>0.843764</td>\n",
              "    </tr>\n",
              "    <tr>\n",
              "      <th>2996</th>\n",
              "      <td>-118.14</td>\n",
              "      <td>34.06</td>\n",
              "      <td>27</td>\n",
              "      <td>5257</td>\n",
              "      <td>1082</td>\n",
              "      <td>3496</td>\n",
              "      <td>1036</td>\n",
              "      <td>3.3906</td>\n",
              "      <td>237200</td>\n",
              "      <td>-1.478057</td>\n",
              "    </tr>\n",
              "    <tr>\n",
              "      <th>2997</th>\n",
              "      <td>-119.70</td>\n",
              "      <td>36.30</td>\n",
              "      <td>10</td>\n",
              "      <td>956</td>\n",
              "      <td>201</td>\n",
              "      <td>693</td>\n",
              "      <td>220</td>\n",
              "      <td>2.2895</td>\n",
              "      <td>62000</td>\n",
              "      <td>0.061466</td>\n",
              "    </tr>\n",
              "    <tr>\n",
              "      <th>2998</th>\n",
              "      <td>-117.12</td>\n",
              "      <td>34.10</td>\n",
              "      <td>40</td>\n",
              "      <td>96</td>\n",
              "      <td>14</td>\n",
              "      <td>46</td>\n",
              "      <td>14</td>\n",
              "      <td>3.2708</td>\n",
              "      <td>162500</td>\n",
              "      <td>-2.107797</td>\n",
              "    </tr>\n",
              "    <tr>\n",
              "      <th>2999</th>\n",
              "      <td>-119.63</td>\n",
              "      <td>34.42</td>\n",
              "      <td>42</td>\n",
              "      <td>1765</td>\n",
              "      <td>263</td>\n",
              "      <td>753</td>\n",
              "      <td>260</td>\n",
              "      <td>8.5608</td>\n",
              "      <td>500001</td>\n",
              "      <td>0.409497</td>\n",
              "    </tr>\n",
              "  </tbody>\n",
              "</table>\n",
              "<p>3000 rows × 10 columns</p>\n",
              "</div>"
            ],
            "text/plain": [
              "      longitude  latitude  housing_median_age  total_rooms  total_bedrooms  \\\n",
              "0       -122.05     37.37                  27         3885             661   \n",
              "1       -118.30     34.26                  43         1510             200   \n",
              "2       -117.81     33.78                  27         3589             507   \n",
              "3       -118.36     33.82                  28           67              15   \n",
              "4       -119.67     36.33                  19         1241             244   \n",
              "...         ...       ...                 ...          ...             ...   \n",
              "2995    -119.86     34.42                  23         1450             642   \n",
              "2996    -118.14     34.06                  27         5257            1082   \n",
              "2997    -119.70     36.30                  10          956             201   \n",
              "2998    -117.12     34.10                  40           96              14   \n",
              "2999    -119.63     34.42                  42         1765             263   \n",
              "\n",
              "      population  households  median_income  median_house_value    random  \n",
              "0           1537         606         6.6085              344700 -0.844616  \n",
              "1            809         277         3.5990              176500  0.117795  \n",
              "2           1484         495         5.7934              270500 -0.227884  \n",
              "3             49          11         6.1359              330000  0.181450  \n",
              "4            850         237         2.9375               81700 -0.422413  \n",
              "...          ...         ...            ...                 ...       ...  \n",
              "2995        1258         607         1.1790              225000  0.843764  \n",
              "2996        3496        1036         3.3906              237200 -1.478057  \n",
              "2997         693         220         2.2895               62000  0.061466  \n",
              "2998          46          14         3.2708              162500 -2.107797  \n",
              "2999         753         260         8.5608              500001  0.409497  \n",
              "\n",
              "[3000 rows x 10 columns]"
            ]
          },
          "metadata": {
            "tags": []
          },
          "execution_count": 38
        }
      ]
    },
    {
      "cell_type": "markdown",
      "metadata": {
        "id": "Dkzdjyk3VZL_"
      },
      "source": [
        "# Datos faltantes"
      ]
    },
    {
      "cell_type": "markdown",
      "metadata": {
        "id": "ySNj8BT8qkI0"
      },
      "source": [
        "En Pandas, los valores faltantes son representado con el valor NaN (de Not a Number). Cuando existen valores faltantes, muchas veces es necesario eliminarlar las entradas que los contienen o reemplazarlos por valores antes de empezar a trabajar con los datos. Pandas provee algunos métodos para realizar este tipo de tareas."
      ]
    },
    {
      "cell_type": "code",
      "metadata": {
        "id": "iymXcdS3uvTB",
        "outputId": "4efa8041-6997-4601-919b-2266d82efe0d"
      },
      "source": [
        "#creando un dataframe con datos faltantes\n",
        "df = pd.DataFrame(np.random.randn(5, 3), index=['a', 'c', 'e', 'f', 'h'], columns=['A', 'B', 'C'])\n",
        "df['D'] = df['A'] > 0\n",
        "df = df.reindex(['a', 'b', 'c', 'd', 'e', 'f', 'g', 'h'])\n",
        "df"
      ],
      "execution_count": null,
      "outputs": [
        {
          "output_type": "execute_result",
          "data": {
            "text/html": [
              "<div>\n",
              "<style scoped>\n",
              "    .dataframe tbody tr th:only-of-type {\n",
              "        vertical-align: middle;\n",
              "    }\n",
              "\n",
              "    .dataframe tbody tr th {\n",
              "        vertical-align: top;\n",
              "    }\n",
              "\n",
              "    .dataframe thead th {\n",
              "        text-align: right;\n",
              "    }\n",
              "</style>\n",
              "<table border=\"1\" class=\"dataframe\">\n",
              "  <thead>\n",
              "    <tr style=\"text-align: right;\">\n",
              "      <th></th>\n",
              "      <th>A</th>\n",
              "      <th>B</th>\n",
              "      <th>C</th>\n",
              "      <th>D</th>\n",
              "    </tr>\n",
              "  </thead>\n",
              "  <tbody>\n",
              "    <tr>\n",
              "      <th>a</th>\n",
              "      <td>0.381557</td>\n",
              "      <td>0.994111</td>\n",
              "      <td>1.251421</td>\n",
              "      <td>True</td>\n",
              "    </tr>\n",
              "    <tr>\n",
              "      <th>b</th>\n",
              "      <td>NaN</td>\n",
              "      <td>NaN</td>\n",
              "      <td>NaN</td>\n",
              "      <td>NaN</td>\n",
              "    </tr>\n",
              "    <tr>\n",
              "      <th>c</th>\n",
              "      <td>-0.094081</td>\n",
              "      <td>-1.705889</td>\n",
              "      <td>-0.462803</td>\n",
              "      <td>False</td>\n",
              "    </tr>\n",
              "    <tr>\n",
              "      <th>d</th>\n",
              "      <td>NaN</td>\n",
              "      <td>NaN</td>\n",
              "      <td>NaN</td>\n",
              "      <td>NaN</td>\n",
              "    </tr>\n",
              "    <tr>\n",
              "      <th>e</th>\n",
              "      <td>-1.075106</td>\n",
              "      <td>0.649966</td>\n",
              "      <td>0.497281</td>\n",
              "      <td>False</td>\n",
              "    </tr>\n",
              "    <tr>\n",
              "      <th>f</th>\n",
              "      <td>0.817885</td>\n",
              "      <td>1.098415</td>\n",
              "      <td>-0.040786</td>\n",
              "      <td>True</td>\n",
              "    </tr>\n",
              "    <tr>\n",
              "      <th>g</th>\n",
              "      <td>NaN</td>\n",
              "      <td>NaN</td>\n",
              "      <td>NaN</td>\n",
              "      <td>NaN</td>\n",
              "    </tr>\n",
              "    <tr>\n",
              "      <th>h</th>\n",
              "      <td>-0.666425</td>\n",
              "      <td>0.978403</td>\n",
              "      <td>-1.088395</td>\n",
              "      <td>False</td>\n",
              "    </tr>\n",
              "  </tbody>\n",
              "</table>\n",
              "</div>"
            ],
            "text/plain": [
              "          A         B         C      D\n",
              "a  0.381557  0.994111  1.251421   True\n",
              "b       NaN       NaN       NaN    NaN\n",
              "c -0.094081 -1.705889 -0.462803  False\n",
              "d       NaN       NaN       NaN    NaN\n",
              "e -1.075106  0.649966  0.497281  False\n",
              "f  0.817885  1.098415 -0.040786   True\n",
              "g       NaN       NaN       NaN    NaN\n",
              "h -0.666425  0.978403 -1.088395  False"
            ]
          },
          "metadata": {
            "tags": []
          },
          "execution_count": 39
        }
      ]
    },
    {
      "cell_type": "markdown",
      "metadata": {
        "id": "JOQ6eWscx3Zm"
      },
      "source": [
        "## df.isna()\n",
        "\n",
        "El método isna() funciona para conocer si el objeto contiene valores faltantes. Regresa un objeto con elementos booleanos que indican la existencia de datos faltantes."
      ]
    },
    {
      "cell_type": "code",
      "metadata": {
        "id": "Cvk6XMVSx3eN",
        "outputId": "c99ee716-b2b0-4fe0-bc79-119f03796387"
      },
      "source": [
        "df.isna()"
      ],
      "execution_count": null,
      "outputs": [
        {
          "output_type": "execute_result",
          "data": {
            "text/html": [
              "<div>\n",
              "<style scoped>\n",
              "    .dataframe tbody tr th:only-of-type {\n",
              "        vertical-align: middle;\n",
              "    }\n",
              "\n",
              "    .dataframe tbody tr th {\n",
              "        vertical-align: top;\n",
              "    }\n",
              "\n",
              "    .dataframe thead th {\n",
              "        text-align: right;\n",
              "    }\n",
              "</style>\n",
              "<table border=\"1\" class=\"dataframe\">\n",
              "  <thead>\n",
              "    <tr style=\"text-align: right;\">\n",
              "      <th></th>\n",
              "      <th>A</th>\n",
              "      <th>B</th>\n",
              "      <th>C</th>\n",
              "      <th>D</th>\n",
              "    </tr>\n",
              "  </thead>\n",
              "  <tbody>\n",
              "    <tr>\n",
              "      <th>a</th>\n",
              "      <td>False</td>\n",
              "      <td>False</td>\n",
              "      <td>False</td>\n",
              "      <td>False</td>\n",
              "    </tr>\n",
              "    <tr>\n",
              "      <th>b</th>\n",
              "      <td>True</td>\n",
              "      <td>True</td>\n",
              "      <td>True</td>\n",
              "      <td>True</td>\n",
              "    </tr>\n",
              "    <tr>\n",
              "      <th>c</th>\n",
              "      <td>False</td>\n",
              "      <td>False</td>\n",
              "      <td>False</td>\n",
              "      <td>False</td>\n",
              "    </tr>\n",
              "    <tr>\n",
              "      <th>d</th>\n",
              "      <td>True</td>\n",
              "      <td>True</td>\n",
              "      <td>True</td>\n",
              "      <td>True</td>\n",
              "    </tr>\n",
              "    <tr>\n",
              "      <th>e</th>\n",
              "      <td>False</td>\n",
              "      <td>False</td>\n",
              "      <td>False</td>\n",
              "      <td>False</td>\n",
              "    </tr>\n",
              "    <tr>\n",
              "      <th>f</th>\n",
              "      <td>False</td>\n",
              "      <td>False</td>\n",
              "      <td>False</td>\n",
              "      <td>False</td>\n",
              "    </tr>\n",
              "    <tr>\n",
              "      <th>g</th>\n",
              "      <td>True</td>\n",
              "      <td>True</td>\n",
              "      <td>True</td>\n",
              "      <td>True</td>\n",
              "    </tr>\n",
              "    <tr>\n",
              "      <th>h</th>\n",
              "      <td>False</td>\n",
              "      <td>False</td>\n",
              "      <td>False</td>\n",
              "      <td>False</td>\n",
              "    </tr>\n",
              "  </tbody>\n",
              "</table>\n",
              "</div>"
            ],
            "text/plain": [
              "       A      B      C      D\n",
              "a  False  False  False  False\n",
              "b   True   True   True   True\n",
              "c  False  False  False  False\n",
              "d   True   True   True   True\n",
              "e  False  False  False  False\n",
              "f  False  False  False  False\n",
              "g   True   True   True   True\n",
              "h  False  False  False  False"
            ]
          },
          "metadata": {
            "tags": []
          },
          "execution_count": 40
        }
      ]
    },
    {
      "cell_type": "markdown",
      "metadata": {
        "id": "4k7fCgEYqkav"
      },
      "source": [
        "## df.dropna()\n",
        "\n",
        "El método dropna() permite eliminar del DataFrame las filas o columnas que contienen uno o más elementos NaN.\n",
        "\n",
        "Los principales parámetros de dropna():\n",
        "\n",
        "```\n",
        "axis : {0 o 'index', 1 o 'columns'}, por defecto 0\n",
        "        Determina si elimina filas o columnas que contienen\n",
        "        valores faltantes.\n",
        "    \n",
        "how : {'any', 'all'}, por defecto 'any'\n",
        "    Determina si se elimina la fila o columna cuando contiene al menos un valor faltante o solo si todos sus valores son faltantes.\n",
        "\n",
        "    * 'any' : Si hay un valor faltante, elimina la fila o columna.\n",
        "    * 'all' : Si todos los valores son faltantes, elimina la fila o columna.\n",
        "    \n",
        "thresh : int, opcional\n",
        "    Requirir al menos ese número de valores faltantes para eliminar la fila o columna.\n",
        "```\n",
        "\n"
      ]
    },
    {
      "cell_type": "code",
      "metadata": {
        "id": "FlsVq2-fBpXE",
        "outputId": "598a4ed1-7fb2-4089-aec8-ee28c99ac475"
      },
      "source": [
        "df.dropna(axis=0, how='any')"
      ],
      "execution_count": null,
      "outputs": [
        {
          "output_type": "execute_result",
          "data": {
            "text/html": [
              "<div>\n",
              "<style scoped>\n",
              "    .dataframe tbody tr th:only-of-type {\n",
              "        vertical-align: middle;\n",
              "    }\n",
              "\n",
              "    .dataframe tbody tr th {\n",
              "        vertical-align: top;\n",
              "    }\n",
              "\n",
              "    .dataframe thead th {\n",
              "        text-align: right;\n",
              "    }\n",
              "</style>\n",
              "<table border=\"1\" class=\"dataframe\">\n",
              "  <thead>\n",
              "    <tr style=\"text-align: right;\">\n",
              "      <th></th>\n",
              "      <th>A</th>\n",
              "      <th>B</th>\n",
              "      <th>C</th>\n",
              "      <th>D</th>\n",
              "    </tr>\n",
              "  </thead>\n",
              "  <tbody>\n",
              "    <tr>\n",
              "      <th>a</th>\n",
              "      <td>0.381557</td>\n",
              "      <td>0.994111</td>\n",
              "      <td>1.251421</td>\n",
              "      <td>True</td>\n",
              "    </tr>\n",
              "    <tr>\n",
              "      <th>c</th>\n",
              "      <td>-0.094081</td>\n",
              "      <td>-1.705889</td>\n",
              "      <td>-0.462803</td>\n",
              "      <td>False</td>\n",
              "    </tr>\n",
              "    <tr>\n",
              "      <th>e</th>\n",
              "      <td>-1.075106</td>\n",
              "      <td>0.649966</td>\n",
              "      <td>0.497281</td>\n",
              "      <td>False</td>\n",
              "    </tr>\n",
              "    <tr>\n",
              "      <th>f</th>\n",
              "      <td>0.817885</td>\n",
              "      <td>1.098415</td>\n",
              "      <td>-0.040786</td>\n",
              "      <td>True</td>\n",
              "    </tr>\n",
              "    <tr>\n",
              "      <th>h</th>\n",
              "      <td>-0.666425</td>\n",
              "      <td>0.978403</td>\n",
              "      <td>-1.088395</td>\n",
              "      <td>False</td>\n",
              "    </tr>\n",
              "  </tbody>\n",
              "</table>\n",
              "</div>"
            ],
            "text/plain": [
              "          A         B         C      D\n",
              "a  0.381557  0.994111  1.251421   True\n",
              "c -0.094081 -1.705889 -0.462803  False\n",
              "e -1.075106  0.649966  0.497281  False\n",
              "f  0.817885  1.098415 -0.040786   True\n",
              "h -0.666425  0.978403 -1.088395  False"
            ]
          },
          "metadata": {
            "tags": []
          },
          "execution_count": 41
        }
      ]
    },
    {
      "cell_type": "code",
      "metadata": {
        "id": "efPiUeddzm4H"
      },
      "source": [
        "#insertando un nuevo nan\n",
        "df.iat[0, 0] = np.nan"
      ],
      "execution_count": null,
      "outputs": []
    },
    {
      "cell_type": "markdown",
      "metadata": {
        "id": "_zrR_L4g7r_5"
      },
      "source": [
        "Usando ```all``` con ```axis=0``` elimina filas donde todos los elementos faltan:"
      ]
    },
    {
      "cell_type": "code",
      "metadata": {
        "id": "byjfnMF0zkyG",
        "outputId": "e4deb5a4-2802-4edd-9293-6af0638a21df"
      },
      "source": [
        "df.dropna(axis = 0, how='all')"
      ],
      "execution_count": null,
      "outputs": [
        {
          "output_type": "execute_result",
          "data": {
            "text/html": [
              "<div>\n",
              "<style scoped>\n",
              "    .dataframe tbody tr th:only-of-type {\n",
              "        vertical-align: middle;\n",
              "    }\n",
              "\n",
              "    .dataframe tbody tr th {\n",
              "        vertical-align: top;\n",
              "    }\n",
              "\n",
              "    .dataframe thead th {\n",
              "        text-align: right;\n",
              "    }\n",
              "</style>\n",
              "<table border=\"1\" class=\"dataframe\">\n",
              "  <thead>\n",
              "    <tr style=\"text-align: right;\">\n",
              "      <th></th>\n",
              "      <th>A</th>\n",
              "      <th>B</th>\n",
              "      <th>C</th>\n",
              "      <th>D</th>\n",
              "    </tr>\n",
              "  </thead>\n",
              "  <tbody>\n",
              "    <tr>\n",
              "      <th>a</th>\n",
              "      <td>NaN</td>\n",
              "      <td>0.994111</td>\n",
              "      <td>1.251421</td>\n",
              "      <td>True</td>\n",
              "    </tr>\n",
              "    <tr>\n",
              "      <th>c</th>\n",
              "      <td>-0.094081</td>\n",
              "      <td>-1.705889</td>\n",
              "      <td>-0.462803</td>\n",
              "      <td>False</td>\n",
              "    </tr>\n",
              "    <tr>\n",
              "      <th>e</th>\n",
              "      <td>-1.075106</td>\n",
              "      <td>0.649966</td>\n",
              "      <td>0.497281</td>\n",
              "      <td>False</td>\n",
              "    </tr>\n",
              "    <tr>\n",
              "      <th>f</th>\n",
              "      <td>0.817885</td>\n",
              "      <td>1.098415</td>\n",
              "      <td>-0.040786</td>\n",
              "      <td>True</td>\n",
              "    </tr>\n",
              "    <tr>\n",
              "      <th>h</th>\n",
              "      <td>-0.666425</td>\n",
              "      <td>0.978403</td>\n",
              "      <td>-1.088395</td>\n",
              "      <td>False</td>\n",
              "    </tr>\n",
              "  </tbody>\n",
              "</table>\n",
              "</div>"
            ],
            "text/plain": [
              "          A         B         C      D\n",
              "a       NaN  0.994111  1.251421   True\n",
              "c -0.094081 -1.705889 -0.462803  False\n",
              "e -1.075106  0.649966  0.497281  False\n",
              "f  0.817885  1.098415 -0.040786   True\n",
              "h -0.666425  0.978403 -1.088395  False"
            ]
          },
          "metadata": {
            "tags": []
          },
          "execution_count": 43
        }
      ]
    },
    {
      "cell_type": "markdown",
      "metadata": {
        "id": "hQPlZclY7iLP"
      },
      "source": [
        "Usando ```any``` con axis=0, elimina las filas con uno o más faltantes:"
      ]
    },
    {
      "cell_type": "code",
      "metadata": {
        "id": "uBrcxqKn7lMM",
        "outputId": "c9dfbd76-a176-43bd-b423-0ec1c4f9e97b"
      },
      "source": [
        "df.dropna(axis=0, how=\"any\")"
      ],
      "execution_count": null,
      "outputs": [
        {
          "output_type": "execute_result",
          "data": {
            "text/html": [
              "<div>\n",
              "<style scoped>\n",
              "    .dataframe tbody tr th:only-of-type {\n",
              "        vertical-align: middle;\n",
              "    }\n",
              "\n",
              "    .dataframe tbody tr th {\n",
              "        vertical-align: top;\n",
              "    }\n",
              "\n",
              "    .dataframe thead th {\n",
              "        text-align: right;\n",
              "    }\n",
              "</style>\n",
              "<table border=\"1\" class=\"dataframe\">\n",
              "  <thead>\n",
              "    <tr style=\"text-align: right;\">\n",
              "      <th></th>\n",
              "      <th>A</th>\n",
              "      <th>B</th>\n",
              "      <th>C</th>\n",
              "      <th>D</th>\n",
              "    </tr>\n",
              "  </thead>\n",
              "  <tbody>\n",
              "    <tr>\n",
              "      <th>c</th>\n",
              "      <td>-0.094081</td>\n",
              "      <td>-1.705889</td>\n",
              "      <td>-0.462803</td>\n",
              "      <td>False</td>\n",
              "    </tr>\n",
              "    <tr>\n",
              "      <th>e</th>\n",
              "      <td>-1.075106</td>\n",
              "      <td>0.649966</td>\n",
              "      <td>0.497281</td>\n",
              "      <td>False</td>\n",
              "    </tr>\n",
              "    <tr>\n",
              "      <th>f</th>\n",
              "      <td>0.817885</td>\n",
              "      <td>1.098415</td>\n",
              "      <td>-0.040786</td>\n",
              "      <td>True</td>\n",
              "    </tr>\n",
              "    <tr>\n",
              "      <th>h</th>\n",
              "      <td>-0.666425</td>\n",
              "      <td>0.978403</td>\n",
              "      <td>-1.088395</td>\n",
              "      <td>False</td>\n",
              "    </tr>\n",
              "  </tbody>\n",
              "</table>\n",
              "</div>"
            ],
            "text/plain": [
              "          A         B         C      D\n",
              "c -0.094081 -1.705889 -0.462803  False\n",
              "e -1.075106  0.649966  0.497281  False\n",
              "f  0.817885  1.098415 -0.040786   True\n",
              "h -0.666425  0.978403 -1.088395  False"
            ]
          },
          "metadata": {
            "tags": []
          },
          "execution_count": 44
        }
      ]
    },
    {
      "cell_type": "markdown",
      "metadata": {
        "id": "UKjCKWaO8Avy"
      },
      "source": [
        "Agregamos una nueva columna con todos los elementos ```NaN```:"
      ]
    },
    {
      "cell_type": "code",
      "metadata": {
        "id": "DWBwmsi58BYR",
        "outputId": "e061d06a-e771-4359-8a0b-814004118e01"
      },
      "source": [
        "df[\"empty_col\"] = np.nan\n",
        "df"
      ],
      "execution_count": null,
      "outputs": [
        {
          "output_type": "execute_result",
          "data": {
            "text/html": [
              "<div>\n",
              "<style scoped>\n",
              "    .dataframe tbody tr th:only-of-type {\n",
              "        vertical-align: middle;\n",
              "    }\n",
              "\n",
              "    .dataframe tbody tr th {\n",
              "        vertical-align: top;\n",
              "    }\n",
              "\n",
              "    .dataframe thead th {\n",
              "        text-align: right;\n",
              "    }\n",
              "</style>\n",
              "<table border=\"1\" class=\"dataframe\">\n",
              "  <thead>\n",
              "    <tr style=\"text-align: right;\">\n",
              "      <th></th>\n",
              "      <th>A</th>\n",
              "      <th>B</th>\n",
              "      <th>C</th>\n",
              "      <th>D</th>\n",
              "      <th>empty_col</th>\n",
              "    </tr>\n",
              "  </thead>\n",
              "  <tbody>\n",
              "    <tr>\n",
              "      <th>a</th>\n",
              "      <td>NaN</td>\n",
              "      <td>0.994111</td>\n",
              "      <td>1.251421</td>\n",
              "      <td>True</td>\n",
              "      <td>NaN</td>\n",
              "    </tr>\n",
              "    <tr>\n",
              "      <th>b</th>\n",
              "      <td>NaN</td>\n",
              "      <td>NaN</td>\n",
              "      <td>NaN</td>\n",
              "      <td>NaN</td>\n",
              "      <td>NaN</td>\n",
              "    </tr>\n",
              "    <tr>\n",
              "      <th>c</th>\n",
              "      <td>-0.094081</td>\n",
              "      <td>-1.705889</td>\n",
              "      <td>-0.462803</td>\n",
              "      <td>False</td>\n",
              "      <td>NaN</td>\n",
              "    </tr>\n",
              "    <tr>\n",
              "      <th>d</th>\n",
              "      <td>NaN</td>\n",
              "      <td>NaN</td>\n",
              "      <td>NaN</td>\n",
              "      <td>NaN</td>\n",
              "      <td>NaN</td>\n",
              "    </tr>\n",
              "    <tr>\n",
              "      <th>e</th>\n",
              "      <td>-1.075106</td>\n",
              "      <td>0.649966</td>\n",
              "      <td>0.497281</td>\n",
              "      <td>False</td>\n",
              "      <td>NaN</td>\n",
              "    </tr>\n",
              "    <tr>\n",
              "      <th>f</th>\n",
              "      <td>0.817885</td>\n",
              "      <td>1.098415</td>\n",
              "      <td>-0.040786</td>\n",
              "      <td>True</td>\n",
              "      <td>NaN</td>\n",
              "    </tr>\n",
              "    <tr>\n",
              "      <th>g</th>\n",
              "      <td>NaN</td>\n",
              "      <td>NaN</td>\n",
              "      <td>NaN</td>\n",
              "      <td>NaN</td>\n",
              "      <td>NaN</td>\n",
              "    </tr>\n",
              "    <tr>\n",
              "      <th>h</th>\n",
              "      <td>-0.666425</td>\n",
              "      <td>0.978403</td>\n",
              "      <td>-1.088395</td>\n",
              "      <td>False</td>\n",
              "      <td>NaN</td>\n",
              "    </tr>\n",
              "  </tbody>\n",
              "</table>\n",
              "</div>"
            ],
            "text/plain": [
              "          A         B         C      D  empty_col\n",
              "a       NaN  0.994111  1.251421   True        NaN\n",
              "b       NaN       NaN       NaN    NaN        NaN\n",
              "c -0.094081 -1.705889 -0.462803  False        NaN\n",
              "d       NaN       NaN       NaN    NaN        NaN\n",
              "e -1.075106  0.649966  0.497281  False        NaN\n",
              "f  0.817885  1.098415 -0.040786   True        NaN\n",
              "g       NaN       NaN       NaN    NaN        NaN\n",
              "h -0.666425  0.978403 -1.088395  False        NaN"
            ]
          },
          "metadata": {
            "tags": []
          },
          "execution_count": 45
        }
      ]
    },
    {
      "cell_type": "markdown",
      "metadata": {
        "id": "VPZBTo1-8SFj"
      },
      "source": [
        "Eliminando la columna con ```axis=1``` y ```how=all```:"
      ]
    },
    {
      "cell_type": "code",
      "metadata": {
        "id": "0hnbfM_G8aZ_",
        "outputId": "53645a0b-222b-4ca5-bb92-5b5cdef793a7"
      },
      "source": [
        "# La columna con solo ```NaN``` sera eliminada por completo\n",
        "df.dropna(axis=1, how=\"all\")"
      ],
      "execution_count": null,
      "outputs": [
        {
          "output_type": "execute_result",
          "data": {
            "text/html": [
              "<div>\n",
              "<style scoped>\n",
              "    .dataframe tbody tr th:only-of-type {\n",
              "        vertical-align: middle;\n",
              "    }\n",
              "\n",
              "    .dataframe tbody tr th {\n",
              "        vertical-align: top;\n",
              "    }\n",
              "\n",
              "    .dataframe thead th {\n",
              "        text-align: right;\n",
              "    }\n",
              "</style>\n",
              "<table border=\"1\" class=\"dataframe\">\n",
              "  <thead>\n",
              "    <tr style=\"text-align: right;\">\n",
              "      <th></th>\n",
              "      <th>A</th>\n",
              "      <th>B</th>\n",
              "      <th>C</th>\n",
              "      <th>D</th>\n",
              "    </tr>\n",
              "  </thead>\n",
              "  <tbody>\n",
              "    <tr>\n",
              "      <th>a</th>\n",
              "      <td>NaN</td>\n",
              "      <td>0.994111</td>\n",
              "      <td>1.251421</td>\n",
              "      <td>True</td>\n",
              "    </tr>\n",
              "    <tr>\n",
              "      <th>b</th>\n",
              "      <td>NaN</td>\n",
              "      <td>NaN</td>\n",
              "      <td>NaN</td>\n",
              "      <td>NaN</td>\n",
              "    </tr>\n",
              "    <tr>\n",
              "      <th>c</th>\n",
              "      <td>-0.094081</td>\n",
              "      <td>-1.705889</td>\n",
              "      <td>-0.462803</td>\n",
              "      <td>False</td>\n",
              "    </tr>\n",
              "    <tr>\n",
              "      <th>d</th>\n",
              "      <td>NaN</td>\n",
              "      <td>NaN</td>\n",
              "      <td>NaN</td>\n",
              "      <td>NaN</td>\n",
              "    </tr>\n",
              "    <tr>\n",
              "      <th>e</th>\n",
              "      <td>-1.075106</td>\n",
              "      <td>0.649966</td>\n",
              "      <td>0.497281</td>\n",
              "      <td>False</td>\n",
              "    </tr>\n",
              "    <tr>\n",
              "      <th>f</th>\n",
              "      <td>0.817885</td>\n",
              "      <td>1.098415</td>\n",
              "      <td>-0.040786</td>\n",
              "      <td>True</td>\n",
              "    </tr>\n",
              "    <tr>\n",
              "      <th>g</th>\n",
              "      <td>NaN</td>\n",
              "      <td>NaN</td>\n",
              "      <td>NaN</td>\n",
              "      <td>NaN</td>\n",
              "    </tr>\n",
              "    <tr>\n",
              "      <th>h</th>\n",
              "      <td>-0.666425</td>\n",
              "      <td>0.978403</td>\n",
              "      <td>-1.088395</td>\n",
              "      <td>False</td>\n",
              "    </tr>\n",
              "  </tbody>\n",
              "</table>\n",
              "</div>"
            ],
            "text/plain": [
              "          A         B         C      D\n",
              "a       NaN  0.994111  1.251421   True\n",
              "b       NaN       NaN       NaN    NaN\n",
              "c -0.094081 -1.705889 -0.462803  False\n",
              "d       NaN       NaN       NaN    NaN\n",
              "e -1.075106  0.649966  0.497281  False\n",
              "f  0.817885  1.098415 -0.040786   True\n",
              "g       NaN       NaN       NaN    NaN\n",
              "h -0.666425  0.978403 -1.088395  False"
            ]
          },
          "metadata": {
            "tags": []
          },
          "execution_count": 46
        }
      ]
    },
    {
      "cell_type": "markdown",
      "metadata": {
        "id": "NHj2kDTSqk35"
      },
      "source": [
        "## df.fillna()\n",
        "\n",
        "El método fillna() permite reemplazar los valores faltantes en un DataFrame por otro valor.\n",
        "\n",
        "Los principales parámetros de fillna():\n",
        "\n",
        "```\n",
        "value : escalar, diccionario, Series, o un DataFrame\n",
        "    El valor utilizado para reemplazar los faltantes.\n",
        "    Si es un diccionario, una serie o un dataframe, entonces\n",
        "    se utiliza el valor asociado a la clave, indice o columna asociada.\n",
        "\n",
        "method : {'backfill', 'bfill', 'pad', 'ffill', None}, por defecto None\n",
        "    El método utilizado para rellenar los espacios vacios.\n",
        "    * pad / ffill: usa el ultimo valor valido para rellenar \n",
        "    hacia adelante hasta el siguiente valor valido.\n",
        "    * backfill / bfill: utilizar la siguiente observacion \n",
        "    valida para rellenar.\n",
        "\n",
        "axis : {0 or 'index', 1 or 'columns'}\n",
        "```\n",
        "\n"
      ]
    },
    {
      "cell_type": "markdown",
      "metadata": {
        "id": "k6qhxeg1_Lg3"
      },
      "source": [
        "Reemplazar todos los faltantes por un escalar:"
      ]
    },
    {
      "cell_type": "code",
      "metadata": {
        "id": "_jBS1p9SqlHi",
        "outputId": "08fe8758-831d-4437-b7c8-e3e11554605e"
      },
      "source": [
        "# fillna con escalar\n",
        "df.fillna(0.0)"
      ],
      "execution_count": null,
      "outputs": [
        {
          "output_type": "execute_result",
          "data": {
            "text/html": [
              "<div>\n",
              "<style scoped>\n",
              "    .dataframe tbody tr th:only-of-type {\n",
              "        vertical-align: middle;\n",
              "    }\n",
              "\n",
              "    .dataframe tbody tr th {\n",
              "        vertical-align: top;\n",
              "    }\n",
              "\n",
              "    .dataframe thead th {\n",
              "        text-align: right;\n",
              "    }\n",
              "</style>\n",
              "<table border=\"1\" class=\"dataframe\">\n",
              "  <thead>\n",
              "    <tr style=\"text-align: right;\">\n",
              "      <th></th>\n",
              "      <th>A</th>\n",
              "      <th>B</th>\n",
              "      <th>C</th>\n",
              "      <th>D</th>\n",
              "      <th>empty_col</th>\n",
              "    </tr>\n",
              "  </thead>\n",
              "  <tbody>\n",
              "    <tr>\n",
              "      <th>a</th>\n",
              "      <td>0.000000</td>\n",
              "      <td>0.994111</td>\n",
              "      <td>1.251421</td>\n",
              "      <td>True</td>\n",
              "      <td>0.0</td>\n",
              "    </tr>\n",
              "    <tr>\n",
              "      <th>b</th>\n",
              "      <td>0.000000</td>\n",
              "      <td>0.000000</td>\n",
              "      <td>0.000000</td>\n",
              "      <td>0</td>\n",
              "      <td>0.0</td>\n",
              "    </tr>\n",
              "    <tr>\n",
              "      <th>c</th>\n",
              "      <td>-0.094081</td>\n",
              "      <td>-1.705889</td>\n",
              "      <td>-0.462803</td>\n",
              "      <td>False</td>\n",
              "      <td>0.0</td>\n",
              "    </tr>\n",
              "    <tr>\n",
              "      <th>d</th>\n",
              "      <td>0.000000</td>\n",
              "      <td>0.000000</td>\n",
              "      <td>0.000000</td>\n",
              "      <td>0</td>\n",
              "      <td>0.0</td>\n",
              "    </tr>\n",
              "    <tr>\n",
              "      <th>e</th>\n",
              "      <td>-1.075106</td>\n",
              "      <td>0.649966</td>\n",
              "      <td>0.497281</td>\n",
              "      <td>False</td>\n",
              "      <td>0.0</td>\n",
              "    </tr>\n",
              "    <tr>\n",
              "      <th>f</th>\n",
              "      <td>0.817885</td>\n",
              "      <td>1.098415</td>\n",
              "      <td>-0.040786</td>\n",
              "      <td>True</td>\n",
              "      <td>0.0</td>\n",
              "    </tr>\n",
              "    <tr>\n",
              "      <th>g</th>\n",
              "      <td>0.000000</td>\n",
              "      <td>0.000000</td>\n",
              "      <td>0.000000</td>\n",
              "      <td>0</td>\n",
              "      <td>0.0</td>\n",
              "    </tr>\n",
              "    <tr>\n",
              "      <th>h</th>\n",
              "      <td>-0.666425</td>\n",
              "      <td>0.978403</td>\n",
              "      <td>-1.088395</td>\n",
              "      <td>False</td>\n",
              "      <td>0.0</td>\n",
              "    </tr>\n",
              "  </tbody>\n",
              "</table>\n",
              "</div>"
            ],
            "text/plain": [
              "          A         B         C      D  empty_col\n",
              "a  0.000000  0.994111  1.251421   True        0.0\n",
              "b  0.000000  0.000000  0.000000      0        0.0\n",
              "c -0.094081 -1.705889 -0.462803  False        0.0\n",
              "d  0.000000  0.000000  0.000000      0        0.0\n",
              "e -1.075106  0.649966  0.497281  False        0.0\n",
              "f  0.817885  1.098415 -0.040786   True        0.0\n",
              "g  0.000000  0.000000  0.000000      0        0.0\n",
              "h -0.666425  0.978403 -1.088395  False        0.0"
            ]
          },
          "metadata": {
            "tags": []
          },
          "execution_count": 47
        }
      ]
    },
    {
      "cell_type": "markdown",
      "metadata": {
        "id": "uP56VW9L_QPm"
      },
      "source": [
        "Reemplazar usando un dicccionario para las columnas de un Dataframe:"
      ]
    },
    {
      "cell_type": "code",
      "metadata": {
        "id": "ijAQd576yuK6",
        "outputId": "cea892ea-46aa-4e19-9988-28b2ebc794ad"
      },
      "source": [
        "# usando un diccionario para reemplazar con un valor diferente cada columna\n",
        "df.fillna({'A': 0.0, 'B': 0.0, 'C': 0.0, 'D': False})"
      ],
      "execution_count": null,
      "outputs": [
        {
          "output_type": "execute_result",
          "data": {
            "text/html": [
              "<div>\n",
              "<style scoped>\n",
              "    .dataframe tbody tr th:only-of-type {\n",
              "        vertical-align: middle;\n",
              "    }\n",
              "\n",
              "    .dataframe tbody tr th {\n",
              "        vertical-align: top;\n",
              "    }\n",
              "\n",
              "    .dataframe thead th {\n",
              "        text-align: right;\n",
              "    }\n",
              "</style>\n",
              "<table border=\"1\" class=\"dataframe\">\n",
              "  <thead>\n",
              "    <tr style=\"text-align: right;\">\n",
              "      <th></th>\n",
              "      <th>A</th>\n",
              "      <th>B</th>\n",
              "      <th>C</th>\n",
              "      <th>D</th>\n",
              "      <th>empty_col</th>\n",
              "    </tr>\n",
              "  </thead>\n",
              "  <tbody>\n",
              "    <tr>\n",
              "      <th>a</th>\n",
              "      <td>0.000000</td>\n",
              "      <td>0.994111</td>\n",
              "      <td>1.251421</td>\n",
              "      <td>True</td>\n",
              "      <td>NaN</td>\n",
              "    </tr>\n",
              "    <tr>\n",
              "      <th>b</th>\n",
              "      <td>0.000000</td>\n",
              "      <td>0.000000</td>\n",
              "      <td>0.000000</td>\n",
              "      <td>False</td>\n",
              "      <td>NaN</td>\n",
              "    </tr>\n",
              "    <tr>\n",
              "      <th>c</th>\n",
              "      <td>-0.094081</td>\n",
              "      <td>-1.705889</td>\n",
              "      <td>-0.462803</td>\n",
              "      <td>False</td>\n",
              "      <td>NaN</td>\n",
              "    </tr>\n",
              "    <tr>\n",
              "      <th>d</th>\n",
              "      <td>0.000000</td>\n",
              "      <td>0.000000</td>\n",
              "      <td>0.000000</td>\n",
              "      <td>False</td>\n",
              "      <td>NaN</td>\n",
              "    </tr>\n",
              "    <tr>\n",
              "      <th>e</th>\n",
              "      <td>-1.075106</td>\n",
              "      <td>0.649966</td>\n",
              "      <td>0.497281</td>\n",
              "      <td>False</td>\n",
              "      <td>NaN</td>\n",
              "    </tr>\n",
              "    <tr>\n",
              "      <th>f</th>\n",
              "      <td>0.817885</td>\n",
              "      <td>1.098415</td>\n",
              "      <td>-0.040786</td>\n",
              "      <td>True</td>\n",
              "      <td>NaN</td>\n",
              "    </tr>\n",
              "    <tr>\n",
              "      <th>g</th>\n",
              "      <td>0.000000</td>\n",
              "      <td>0.000000</td>\n",
              "      <td>0.000000</td>\n",
              "      <td>False</td>\n",
              "      <td>NaN</td>\n",
              "    </tr>\n",
              "    <tr>\n",
              "      <th>h</th>\n",
              "      <td>-0.666425</td>\n",
              "      <td>0.978403</td>\n",
              "      <td>-1.088395</td>\n",
              "      <td>False</td>\n",
              "      <td>NaN</td>\n",
              "    </tr>\n",
              "  </tbody>\n",
              "</table>\n",
              "</div>"
            ],
            "text/plain": [
              "          A         B         C      D  empty_col\n",
              "a  0.000000  0.994111  1.251421   True        NaN\n",
              "b  0.000000  0.000000  0.000000  False        NaN\n",
              "c -0.094081 -1.705889 -0.462803  False        NaN\n",
              "d  0.000000  0.000000  0.000000  False        NaN\n",
              "e -1.075106  0.649966  0.497281  False        NaN\n",
              "f  0.817885  1.098415 -0.040786   True        NaN\n",
              "g  0.000000  0.000000  0.000000  False        NaN\n",
              "h -0.666425  0.978403 -1.088395  False        NaN"
            ]
          },
          "metadata": {
            "tags": []
          },
          "execution_count": 48
        }
      ]
    },
    {
      "cell_type": "markdown",
      "metadata": {
        "id": "yFhnS9mT_VRM"
      },
      "source": [
        "Con un diccionario para los índices de una Serie:"
      ]
    },
    {
      "cell_type": "code",
      "metadata": {
        "id": "VgD276Pt_XWA",
        "outputId": "29040ccc-fe34-4eac-da40-11a84652c954"
      },
      "source": [
        "df[\"A\"].fillna({'a':0.0, 'b':1.0, 'c':2.0})"
      ],
      "execution_count": null,
      "outputs": [
        {
          "output_type": "execute_result",
          "data": {
            "text/plain": [
              "a    0.000000\n",
              "b    1.000000\n",
              "c   -0.094081\n",
              "d         NaN\n",
              "e   -1.075106\n",
              "f    0.817885\n",
              "g         NaN\n",
              "h   -0.666425\n",
              "Name: A, dtype: float64"
            ]
          },
          "metadata": {
            "tags": []
          },
          "execution_count": 49
        }
      ]
    },
    {
      "cell_type": "markdown",
      "metadata": {
        "id": "fBPVGWfIBbgC"
      },
      "source": [
        "Forward Fill:"
      ]
    },
    {
      "cell_type": "markdown",
      "metadata": {
        "id": "Vp8Q7xQKBi4-"
      },
      "source": [
        "```axis = 0``` por defecto (por columnas, siguiendo el index):"
      ]
    },
    {
      "cell_type": "code",
      "metadata": {
        "id": "QVYrcfyTBhcc",
        "outputId": "ecaf2efc-4239-44a8-a9dc-99f4744dc1f8"
      },
      "source": [
        "df.fillna(method='ffill',)"
      ],
      "execution_count": null,
      "outputs": [
        {
          "output_type": "execute_result",
          "data": {
            "text/html": [
              "<div>\n",
              "<style scoped>\n",
              "    .dataframe tbody tr th:only-of-type {\n",
              "        vertical-align: middle;\n",
              "    }\n",
              "\n",
              "    .dataframe tbody tr th {\n",
              "        vertical-align: top;\n",
              "    }\n",
              "\n",
              "    .dataframe thead th {\n",
              "        text-align: right;\n",
              "    }\n",
              "</style>\n",
              "<table border=\"1\" class=\"dataframe\">\n",
              "  <thead>\n",
              "    <tr style=\"text-align: right;\">\n",
              "      <th></th>\n",
              "      <th>A</th>\n",
              "      <th>B</th>\n",
              "      <th>C</th>\n",
              "      <th>D</th>\n",
              "      <th>empty_col</th>\n",
              "    </tr>\n",
              "  </thead>\n",
              "  <tbody>\n",
              "    <tr>\n",
              "      <th>a</th>\n",
              "      <td>NaN</td>\n",
              "      <td>0.994111</td>\n",
              "      <td>1.251421</td>\n",
              "      <td>True</td>\n",
              "      <td>NaN</td>\n",
              "    </tr>\n",
              "    <tr>\n",
              "      <th>b</th>\n",
              "      <td>NaN</td>\n",
              "      <td>0.994111</td>\n",
              "      <td>1.251421</td>\n",
              "      <td>True</td>\n",
              "      <td>NaN</td>\n",
              "    </tr>\n",
              "    <tr>\n",
              "      <th>c</th>\n",
              "      <td>-0.094081</td>\n",
              "      <td>-1.705889</td>\n",
              "      <td>-0.462803</td>\n",
              "      <td>False</td>\n",
              "      <td>NaN</td>\n",
              "    </tr>\n",
              "    <tr>\n",
              "      <th>d</th>\n",
              "      <td>-0.094081</td>\n",
              "      <td>-1.705889</td>\n",
              "      <td>-0.462803</td>\n",
              "      <td>False</td>\n",
              "      <td>NaN</td>\n",
              "    </tr>\n",
              "    <tr>\n",
              "      <th>e</th>\n",
              "      <td>-1.075106</td>\n",
              "      <td>0.649966</td>\n",
              "      <td>0.497281</td>\n",
              "      <td>False</td>\n",
              "      <td>NaN</td>\n",
              "    </tr>\n",
              "    <tr>\n",
              "      <th>f</th>\n",
              "      <td>0.817885</td>\n",
              "      <td>1.098415</td>\n",
              "      <td>-0.040786</td>\n",
              "      <td>True</td>\n",
              "      <td>NaN</td>\n",
              "    </tr>\n",
              "    <tr>\n",
              "      <th>g</th>\n",
              "      <td>0.817885</td>\n",
              "      <td>1.098415</td>\n",
              "      <td>-0.040786</td>\n",
              "      <td>True</td>\n",
              "      <td>NaN</td>\n",
              "    </tr>\n",
              "    <tr>\n",
              "      <th>h</th>\n",
              "      <td>-0.666425</td>\n",
              "      <td>0.978403</td>\n",
              "      <td>-1.088395</td>\n",
              "      <td>False</td>\n",
              "      <td>NaN</td>\n",
              "    </tr>\n",
              "  </tbody>\n",
              "</table>\n",
              "</div>"
            ],
            "text/plain": [
              "          A         B         C      D  empty_col\n",
              "a       NaN  0.994111  1.251421   True        NaN\n",
              "b       NaN  0.994111  1.251421   True        NaN\n",
              "c -0.094081 -1.705889 -0.462803  False        NaN\n",
              "d -0.094081 -1.705889 -0.462803  False        NaN\n",
              "e -1.075106  0.649966  0.497281  False        NaN\n",
              "f  0.817885  1.098415 -0.040786   True        NaN\n",
              "g  0.817885  1.098415 -0.040786   True        NaN\n",
              "h -0.666425  0.978403 -1.088395  False        NaN"
            ]
          },
          "metadata": {
            "tags": []
          },
          "execution_count": 50
        }
      ]
    },
    {
      "cell_type": "markdown",
      "metadata": {
        "id": "KtUz5njNBjVv"
      },
      "source": [
        "```axis=1``` (por filas):"
      ]
    },
    {
      "cell_type": "code",
      "metadata": {
        "id": "fXk8JZpHCDGr",
        "outputId": "9989cf5e-b980-4df0-c773-3e1fc74124e0"
      },
      "source": [
        "# un nuevo elemento faltante en la fila c columnas C\n",
        "df.iat[2, 2] = np.NaN\n",
        "df"
      ],
      "execution_count": null,
      "outputs": [
        {
          "output_type": "execute_result",
          "data": {
            "text/html": [
              "<div>\n",
              "<style scoped>\n",
              "    .dataframe tbody tr th:only-of-type {\n",
              "        vertical-align: middle;\n",
              "    }\n",
              "\n",
              "    .dataframe tbody tr th {\n",
              "        vertical-align: top;\n",
              "    }\n",
              "\n",
              "    .dataframe thead th {\n",
              "        text-align: right;\n",
              "    }\n",
              "</style>\n",
              "<table border=\"1\" class=\"dataframe\">\n",
              "  <thead>\n",
              "    <tr style=\"text-align: right;\">\n",
              "      <th></th>\n",
              "      <th>A</th>\n",
              "      <th>B</th>\n",
              "      <th>C</th>\n",
              "      <th>D</th>\n",
              "      <th>empty_col</th>\n",
              "    </tr>\n",
              "  </thead>\n",
              "  <tbody>\n",
              "    <tr>\n",
              "      <th>a</th>\n",
              "      <td>NaN</td>\n",
              "      <td>0.994111</td>\n",
              "      <td>1.251421</td>\n",
              "      <td>True</td>\n",
              "      <td>NaN</td>\n",
              "    </tr>\n",
              "    <tr>\n",
              "      <th>b</th>\n",
              "      <td>NaN</td>\n",
              "      <td>NaN</td>\n",
              "      <td>NaN</td>\n",
              "      <td>NaN</td>\n",
              "      <td>NaN</td>\n",
              "    </tr>\n",
              "    <tr>\n",
              "      <th>c</th>\n",
              "      <td>-0.094081</td>\n",
              "      <td>-1.705889</td>\n",
              "      <td>NaN</td>\n",
              "      <td>False</td>\n",
              "      <td>NaN</td>\n",
              "    </tr>\n",
              "    <tr>\n",
              "      <th>d</th>\n",
              "      <td>NaN</td>\n",
              "      <td>NaN</td>\n",
              "      <td>NaN</td>\n",
              "      <td>NaN</td>\n",
              "      <td>NaN</td>\n",
              "    </tr>\n",
              "    <tr>\n",
              "      <th>e</th>\n",
              "      <td>-1.075106</td>\n",
              "      <td>0.649966</td>\n",
              "      <td>0.497281</td>\n",
              "      <td>False</td>\n",
              "      <td>NaN</td>\n",
              "    </tr>\n",
              "    <tr>\n",
              "      <th>f</th>\n",
              "      <td>0.817885</td>\n",
              "      <td>1.098415</td>\n",
              "      <td>-0.040786</td>\n",
              "      <td>True</td>\n",
              "      <td>NaN</td>\n",
              "    </tr>\n",
              "    <tr>\n",
              "      <th>g</th>\n",
              "      <td>NaN</td>\n",
              "      <td>NaN</td>\n",
              "      <td>NaN</td>\n",
              "      <td>NaN</td>\n",
              "      <td>NaN</td>\n",
              "    </tr>\n",
              "    <tr>\n",
              "      <th>h</th>\n",
              "      <td>-0.666425</td>\n",
              "      <td>0.978403</td>\n",
              "      <td>-1.088395</td>\n",
              "      <td>False</td>\n",
              "      <td>NaN</td>\n",
              "    </tr>\n",
              "  </tbody>\n",
              "</table>\n",
              "</div>"
            ],
            "text/plain": [
              "          A         B         C      D  empty_col\n",
              "a       NaN  0.994111  1.251421   True        NaN\n",
              "b       NaN       NaN       NaN    NaN        NaN\n",
              "c -0.094081 -1.705889       NaN  False        NaN\n",
              "d       NaN       NaN       NaN    NaN        NaN\n",
              "e -1.075106  0.649966  0.497281  False        NaN\n",
              "f  0.817885  1.098415 -0.040786   True        NaN\n",
              "g       NaN       NaN       NaN    NaN        NaN\n",
              "h -0.666425  0.978403 -1.088395  False        NaN"
            ]
          },
          "metadata": {
            "tags": []
          },
          "execution_count": 51
        }
      ]
    },
    {
      "cell_type": "code",
      "metadata": {
        "id": "qiJaI1CCxnU0",
        "outputId": "8d440eb5-2f9b-4819-ccac-0c46ac016cf2"
      },
      "source": [
        "# rellenando de izq a der por filas\n",
        "df.fillna(method='ffill', axis=1)"
      ],
      "execution_count": null,
      "outputs": [
        {
          "output_type": "execute_result",
          "data": {
            "text/html": [
              "<div>\n",
              "<style scoped>\n",
              "    .dataframe tbody tr th:only-of-type {\n",
              "        vertical-align: middle;\n",
              "    }\n",
              "\n",
              "    .dataframe tbody tr th {\n",
              "        vertical-align: top;\n",
              "    }\n",
              "\n",
              "    .dataframe thead th {\n",
              "        text-align: right;\n",
              "    }\n",
              "</style>\n",
              "<table border=\"1\" class=\"dataframe\">\n",
              "  <thead>\n",
              "    <tr style=\"text-align: right;\">\n",
              "      <th></th>\n",
              "      <th>A</th>\n",
              "      <th>B</th>\n",
              "      <th>C</th>\n",
              "      <th>D</th>\n",
              "      <th>empty_col</th>\n",
              "    </tr>\n",
              "  </thead>\n",
              "  <tbody>\n",
              "    <tr>\n",
              "      <th>a</th>\n",
              "      <td>NaN</td>\n",
              "      <td>0.994111</td>\n",
              "      <td>1.25142</td>\n",
              "      <td>True</td>\n",
              "      <td>True</td>\n",
              "    </tr>\n",
              "    <tr>\n",
              "      <th>b</th>\n",
              "      <td>NaN</td>\n",
              "      <td>NaN</td>\n",
              "      <td>NaN</td>\n",
              "      <td>NaN</td>\n",
              "      <td>NaN</td>\n",
              "    </tr>\n",
              "    <tr>\n",
              "      <th>c</th>\n",
              "      <td>-0.0940811</td>\n",
              "      <td>-1.70589</td>\n",
              "      <td>-1.70589</td>\n",
              "      <td>False</td>\n",
              "      <td>False</td>\n",
              "    </tr>\n",
              "    <tr>\n",
              "      <th>d</th>\n",
              "      <td>NaN</td>\n",
              "      <td>NaN</td>\n",
              "      <td>NaN</td>\n",
              "      <td>NaN</td>\n",
              "      <td>NaN</td>\n",
              "    </tr>\n",
              "    <tr>\n",
              "      <th>e</th>\n",
              "      <td>-1.07511</td>\n",
              "      <td>0.649966</td>\n",
              "      <td>0.497281</td>\n",
              "      <td>False</td>\n",
              "      <td>False</td>\n",
              "    </tr>\n",
              "    <tr>\n",
              "      <th>f</th>\n",
              "      <td>0.817885</td>\n",
              "      <td>1.09841</td>\n",
              "      <td>-0.0407864</td>\n",
              "      <td>True</td>\n",
              "      <td>True</td>\n",
              "    </tr>\n",
              "    <tr>\n",
              "      <th>g</th>\n",
              "      <td>NaN</td>\n",
              "      <td>NaN</td>\n",
              "      <td>NaN</td>\n",
              "      <td>NaN</td>\n",
              "      <td>NaN</td>\n",
              "    </tr>\n",
              "    <tr>\n",
              "      <th>h</th>\n",
              "      <td>-0.666425</td>\n",
              "      <td>0.978403</td>\n",
              "      <td>-1.08839</td>\n",
              "      <td>False</td>\n",
              "      <td>False</td>\n",
              "    </tr>\n",
              "  </tbody>\n",
              "</table>\n",
              "</div>"
            ],
            "text/plain": [
              "           A         B          C      D empty_col\n",
              "a        NaN  0.994111    1.25142   True      True\n",
              "b        NaN       NaN        NaN    NaN       NaN\n",
              "c -0.0940811  -1.70589   -1.70589  False     False\n",
              "d        NaN       NaN        NaN    NaN       NaN\n",
              "e   -1.07511  0.649966   0.497281  False     False\n",
              "f   0.817885   1.09841 -0.0407864   True      True\n",
              "g        NaN       NaN        NaN    NaN       NaN\n",
              "h  -0.666425  0.978403   -1.08839  False     False"
            ]
          },
          "metadata": {
            "tags": []
          },
          "execution_count": 52
        }
      ]
    },
    {
      "cell_type": "markdown",
      "metadata": {
        "id": "ZQZk68YQBeNa"
      },
      "source": [
        "Back Fill:"
      ]
    },
    {
      "cell_type": "markdown",
      "metadata": {
        "id": "aXncjc8ECcFK"
      },
      "source": [
        "```axis=0``` por defecto (por columnas):"
      ]
    },
    {
      "cell_type": "code",
      "metadata": {
        "id": "-jsnbmSbxncu",
        "outputId": "cd105a33-0ba5-4fec-e736-50d5ea835597"
      },
      "source": [
        "# rellena de abajo hacia arriba por columnas\n",
        "df.fillna(method='bfill')"
      ],
      "execution_count": null,
      "outputs": [
        {
          "output_type": "execute_result",
          "data": {
            "text/html": [
              "<div>\n",
              "<style scoped>\n",
              "    .dataframe tbody tr th:only-of-type {\n",
              "        vertical-align: middle;\n",
              "    }\n",
              "\n",
              "    .dataframe tbody tr th {\n",
              "        vertical-align: top;\n",
              "    }\n",
              "\n",
              "    .dataframe thead th {\n",
              "        text-align: right;\n",
              "    }\n",
              "</style>\n",
              "<table border=\"1\" class=\"dataframe\">\n",
              "  <thead>\n",
              "    <tr style=\"text-align: right;\">\n",
              "      <th></th>\n",
              "      <th>A</th>\n",
              "      <th>B</th>\n",
              "      <th>C</th>\n",
              "      <th>D</th>\n",
              "      <th>empty_col</th>\n",
              "    </tr>\n",
              "  </thead>\n",
              "  <tbody>\n",
              "    <tr>\n",
              "      <th>a</th>\n",
              "      <td>-0.094081</td>\n",
              "      <td>0.994111</td>\n",
              "      <td>1.251421</td>\n",
              "      <td>True</td>\n",
              "      <td>NaN</td>\n",
              "    </tr>\n",
              "    <tr>\n",
              "      <th>b</th>\n",
              "      <td>-0.094081</td>\n",
              "      <td>-1.705889</td>\n",
              "      <td>0.497281</td>\n",
              "      <td>False</td>\n",
              "      <td>NaN</td>\n",
              "    </tr>\n",
              "    <tr>\n",
              "      <th>c</th>\n",
              "      <td>-0.094081</td>\n",
              "      <td>-1.705889</td>\n",
              "      <td>0.497281</td>\n",
              "      <td>False</td>\n",
              "      <td>NaN</td>\n",
              "    </tr>\n",
              "    <tr>\n",
              "      <th>d</th>\n",
              "      <td>-1.075106</td>\n",
              "      <td>0.649966</td>\n",
              "      <td>0.497281</td>\n",
              "      <td>False</td>\n",
              "      <td>NaN</td>\n",
              "    </tr>\n",
              "    <tr>\n",
              "      <th>e</th>\n",
              "      <td>-1.075106</td>\n",
              "      <td>0.649966</td>\n",
              "      <td>0.497281</td>\n",
              "      <td>False</td>\n",
              "      <td>NaN</td>\n",
              "    </tr>\n",
              "    <tr>\n",
              "      <th>f</th>\n",
              "      <td>0.817885</td>\n",
              "      <td>1.098415</td>\n",
              "      <td>-0.040786</td>\n",
              "      <td>True</td>\n",
              "      <td>NaN</td>\n",
              "    </tr>\n",
              "    <tr>\n",
              "      <th>g</th>\n",
              "      <td>-0.666425</td>\n",
              "      <td>0.978403</td>\n",
              "      <td>-1.088395</td>\n",
              "      <td>False</td>\n",
              "      <td>NaN</td>\n",
              "    </tr>\n",
              "    <tr>\n",
              "      <th>h</th>\n",
              "      <td>-0.666425</td>\n",
              "      <td>0.978403</td>\n",
              "      <td>-1.088395</td>\n",
              "      <td>False</td>\n",
              "      <td>NaN</td>\n",
              "    </tr>\n",
              "  </tbody>\n",
              "</table>\n",
              "</div>"
            ],
            "text/plain": [
              "          A         B         C      D  empty_col\n",
              "a -0.094081  0.994111  1.251421   True        NaN\n",
              "b -0.094081 -1.705889  0.497281  False        NaN\n",
              "c -0.094081 -1.705889  0.497281  False        NaN\n",
              "d -1.075106  0.649966  0.497281  False        NaN\n",
              "e -1.075106  0.649966  0.497281  False        NaN\n",
              "f  0.817885  1.098415 -0.040786   True        NaN\n",
              "g -0.666425  0.978403 -1.088395  False        NaN\n",
              "h -0.666425  0.978403 -1.088395  False        NaN"
            ]
          },
          "metadata": {
            "tags": []
          },
          "execution_count": 53
        }
      ]
    },
    {
      "cell_type": "markdown",
      "metadata": {
        "id": "Dal0eOCkCj5s"
      },
      "source": [
        "```axis=1``` (por filas):"
      ]
    },
    {
      "cell_type": "code",
      "metadata": {
        "id": "XieYa65XCkYN",
        "outputId": "a3e3dfa3-bf88-4cda-ed9d-22f8bed755ed"
      },
      "source": [
        "# rellena de der a izq por filas\n",
        "df.fillna(method='bfill', axis=1)"
      ],
      "execution_count": null,
      "outputs": [
        {
          "output_type": "execute_result",
          "data": {
            "text/html": [
              "<div>\n",
              "<style scoped>\n",
              "    .dataframe tbody tr th:only-of-type {\n",
              "        vertical-align: middle;\n",
              "    }\n",
              "\n",
              "    .dataframe tbody tr th {\n",
              "        vertical-align: top;\n",
              "    }\n",
              "\n",
              "    .dataframe thead th {\n",
              "        text-align: right;\n",
              "    }\n",
              "</style>\n",
              "<table border=\"1\" class=\"dataframe\">\n",
              "  <thead>\n",
              "    <tr style=\"text-align: right;\">\n",
              "      <th></th>\n",
              "      <th>A</th>\n",
              "      <th>B</th>\n",
              "      <th>C</th>\n",
              "      <th>D</th>\n",
              "      <th>empty_col</th>\n",
              "    </tr>\n",
              "  </thead>\n",
              "  <tbody>\n",
              "    <tr>\n",
              "      <th>a</th>\n",
              "      <td>0.994111</td>\n",
              "      <td>0.994111</td>\n",
              "      <td>1.25142</td>\n",
              "      <td>True</td>\n",
              "      <td>NaN</td>\n",
              "    </tr>\n",
              "    <tr>\n",
              "      <th>b</th>\n",
              "      <td>NaN</td>\n",
              "      <td>NaN</td>\n",
              "      <td>NaN</td>\n",
              "      <td>NaN</td>\n",
              "      <td>NaN</td>\n",
              "    </tr>\n",
              "    <tr>\n",
              "      <th>c</th>\n",
              "      <td>-0.0940811</td>\n",
              "      <td>-1.70589</td>\n",
              "      <td>False</td>\n",
              "      <td>False</td>\n",
              "      <td>NaN</td>\n",
              "    </tr>\n",
              "    <tr>\n",
              "      <th>d</th>\n",
              "      <td>NaN</td>\n",
              "      <td>NaN</td>\n",
              "      <td>NaN</td>\n",
              "      <td>NaN</td>\n",
              "      <td>NaN</td>\n",
              "    </tr>\n",
              "    <tr>\n",
              "      <th>e</th>\n",
              "      <td>-1.07511</td>\n",
              "      <td>0.649966</td>\n",
              "      <td>0.497281</td>\n",
              "      <td>False</td>\n",
              "      <td>NaN</td>\n",
              "    </tr>\n",
              "    <tr>\n",
              "      <th>f</th>\n",
              "      <td>0.817885</td>\n",
              "      <td>1.09841</td>\n",
              "      <td>-0.0407864</td>\n",
              "      <td>True</td>\n",
              "      <td>NaN</td>\n",
              "    </tr>\n",
              "    <tr>\n",
              "      <th>g</th>\n",
              "      <td>NaN</td>\n",
              "      <td>NaN</td>\n",
              "      <td>NaN</td>\n",
              "      <td>NaN</td>\n",
              "      <td>NaN</td>\n",
              "    </tr>\n",
              "    <tr>\n",
              "      <th>h</th>\n",
              "      <td>-0.666425</td>\n",
              "      <td>0.978403</td>\n",
              "      <td>-1.08839</td>\n",
              "      <td>False</td>\n",
              "      <td>NaN</td>\n",
              "    </tr>\n",
              "  </tbody>\n",
              "</table>\n",
              "</div>"
            ],
            "text/plain": [
              "           A         B          C      D empty_col\n",
              "a   0.994111  0.994111    1.25142   True       NaN\n",
              "b        NaN       NaN        NaN    NaN       NaN\n",
              "c -0.0940811  -1.70589      False  False       NaN\n",
              "d        NaN       NaN        NaN    NaN       NaN\n",
              "e   -1.07511  0.649966   0.497281  False       NaN\n",
              "f   0.817885   1.09841 -0.0407864   True       NaN\n",
              "g        NaN       NaN        NaN    NaN       NaN\n",
              "h  -0.666425  0.978403   -1.08839  False       NaN"
            ]
          },
          "metadata": {
            "tags": []
          },
          "execution_count": 54
        }
      ]
    },
    {
      "cell_type": "markdown",
      "metadata": {
        "id": "7orBVhvQSHzT"
      },
      "source": [
        "# Métodos Utilitarios\n",
        "\n",
        "* df.copy()\n",
        "* df.sort_values([ascending=True|False])\n",
        "* df.sort_index([ascending=True|False])"
      ]
    },
    {
      "cell_type": "markdown",
      "metadata": {
        "id": "aUdj9iOdjSsF"
      },
      "source": [
        "## df.copy()\n",
        "\n",
        "Crea una copia profunda (por defecto) del objeto:"
      ]
    },
    {
      "cell_type": "code",
      "metadata": {
        "id": "_ylxot4wjMrA",
        "outputId": "7b291c06-c2e6-4158-ee08-a0cd99f03aaf"
      },
      "source": [
        "df = cali_housing.copy()\n",
        "df.head()"
      ],
      "execution_count": null,
      "outputs": [
        {
          "output_type": "execute_result",
          "data": {
            "text/html": [
              "<div>\n",
              "<style scoped>\n",
              "    .dataframe tbody tr th:only-of-type {\n",
              "        vertical-align: middle;\n",
              "    }\n",
              "\n",
              "    .dataframe tbody tr th {\n",
              "        vertical-align: top;\n",
              "    }\n",
              "\n",
              "    .dataframe thead th {\n",
              "        text-align: right;\n",
              "    }\n",
              "</style>\n",
              "<table border=\"1\" class=\"dataframe\">\n",
              "  <thead>\n",
              "    <tr style=\"text-align: right;\">\n",
              "      <th></th>\n",
              "      <th>longitude</th>\n",
              "      <th>latitude</th>\n",
              "      <th>housing_median_age</th>\n",
              "      <th>total_rooms</th>\n",
              "      <th>total_bedrooms</th>\n",
              "      <th>population</th>\n",
              "      <th>households</th>\n",
              "      <th>median_income</th>\n",
              "      <th>median_house_value</th>\n",
              "      <th>random</th>\n",
              "    </tr>\n",
              "  </thead>\n",
              "  <tbody>\n",
              "    <tr>\n",
              "      <th>0</th>\n",
              "      <td>-122.05</td>\n",
              "      <td>37.37</td>\n",
              "      <td>27</td>\n",
              "      <td>3885</td>\n",
              "      <td>661</td>\n",
              "      <td>1537</td>\n",
              "      <td>606</td>\n",
              "      <td>6.6085</td>\n",
              "      <td>344700</td>\n",
              "      <td>-0.844616</td>\n",
              "    </tr>\n",
              "    <tr>\n",
              "      <th>1</th>\n",
              "      <td>-118.30</td>\n",
              "      <td>34.26</td>\n",
              "      <td>43</td>\n",
              "      <td>1510</td>\n",
              "      <td>200</td>\n",
              "      <td>809</td>\n",
              "      <td>277</td>\n",
              "      <td>3.5990</td>\n",
              "      <td>176500</td>\n",
              "      <td>0.117795</td>\n",
              "    </tr>\n",
              "    <tr>\n",
              "      <th>2</th>\n",
              "      <td>-117.81</td>\n",
              "      <td>33.78</td>\n",
              "      <td>27</td>\n",
              "      <td>3589</td>\n",
              "      <td>507</td>\n",
              "      <td>1484</td>\n",
              "      <td>495</td>\n",
              "      <td>5.7934</td>\n",
              "      <td>270500</td>\n",
              "      <td>-0.227884</td>\n",
              "    </tr>\n",
              "    <tr>\n",
              "      <th>3</th>\n",
              "      <td>-118.36</td>\n",
              "      <td>33.82</td>\n",
              "      <td>28</td>\n",
              "      <td>67</td>\n",
              "      <td>15</td>\n",
              "      <td>49</td>\n",
              "      <td>11</td>\n",
              "      <td>6.1359</td>\n",
              "      <td>330000</td>\n",
              "      <td>0.181450</td>\n",
              "    </tr>\n",
              "    <tr>\n",
              "      <th>4</th>\n",
              "      <td>-119.67</td>\n",
              "      <td>36.33</td>\n",
              "      <td>19</td>\n",
              "      <td>1241</td>\n",
              "      <td>244</td>\n",
              "      <td>850</td>\n",
              "      <td>237</td>\n",
              "      <td>2.9375</td>\n",
              "      <td>81700</td>\n",
              "      <td>-0.422413</td>\n",
              "    </tr>\n",
              "  </tbody>\n",
              "</table>\n",
              "</div>"
            ],
            "text/plain": [
              "   longitude  latitude  housing_median_age  total_rooms  total_bedrooms  \\\n",
              "0    -122.05     37.37                  27         3885             661   \n",
              "1    -118.30     34.26                  43         1510             200   \n",
              "2    -117.81     33.78                  27         3589             507   \n",
              "3    -118.36     33.82                  28           67              15   \n",
              "4    -119.67     36.33                  19         1241             244   \n",
              "\n",
              "   population  households  median_income  median_house_value    random  \n",
              "0        1537         606         6.6085              344700 -0.844616  \n",
              "1         809         277         3.5990              176500  0.117795  \n",
              "2        1484         495         5.7934              270500 -0.227884  \n",
              "3          49          11         6.1359              330000  0.181450  \n",
              "4         850         237         2.9375               81700 -0.422413  "
            ]
          },
          "metadata": {
            "tags": []
          },
          "execution_count": 55
        }
      ]
    },
    {
      "cell_type": "markdown",
      "metadata": {
        "id": "FEV5a_-5DEZg"
      },
      "source": [
        "Ahora modificar ```df``` no afectará a ```cali_housing``` y viceversa."
      ]
    },
    {
      "cell_type": "markdown",
      "metadata": {
        "id": "5W8QRU4ajQCl"
      },
      "source": [
        "## df.sort_values()\n",
        "\n",
        "Ordenar usando los valores en el Dataframe:"
      ]
    },
    {
      "cell_type": "code",
      "metadata": {
        "id": "I5dyrY1xjQLY",
        "outputId": "d0c2a6a8-bc24-42bd-fcfb-deb0efdcc26e"
      },
      "source": [
        "df.sort_values(\"housing_median_age\")"
      ],
      "execution_count": null,
      "outputs": [
        {
          "output_type": "execute_result",
          "data": {
            "text/html": [
              "<div>\n",
              "<style scoped>\n",
              "    .dataframe tbody tr th:only-of-type {\n",
              "        vertical-align: middle;\n",
              "    }\n",
              "\n",
              "    .dataframe tbody tr th {\n",
              "        vertical-align: top;\n",
              "    }\n",
              "\n",
              "    .dataframe thead th {\n",
              "        text-align: right;\n",
              "    }\n",
              "</style>\n",
              "<table border=\"1\" class=\"dataframe\">\n",
              "  <thead>\n",
              "    <tr style=\"text-align: right;\">\n",
              "      <th></th>\n",
              "      <th>longitude</th>\n",
              "      <th>latitude</th>\n",
              "      <th>housing_median_age</th>\n",
              "      <th>total_rooms</th>\n",
              "      <th>total_bedrooms</th>\n",
              "      <th>population</th>\n",
              "      <th>households</th>\n",
              "      <th>median_income</th>\n",
              "      <th>median_house_value</th>\n",
              "      <th>random</th>\n",
              "    </tr>\n",
              "  </thead>\n",
              "  <tbody>\n",
              "    <tr>\n",
              "      <th>842</th>\n",
              "      <td>-117.95</td>\n",
              "      <td>35.08</td>\n",
              "      <td>1</td>\n",
              "      <td>83</td>\n",
              "      <td>15</td>\n",
              "      <td>32</td>\n",
              "      <td>15</td>\n",
              "      <td>4.8750</td>\n",
              "      <td>141700</td>\n",
              "      <td>-1.186396</td>\n",
              "    </tr>\n",
              "    <tr>\n",
              "      <th>1115</th>\n",
              "      <td>-116.95</td>\n",
              "      <td>33.86</td>\n",
              "      <td>1</td>\n",
              "      <td>6</td>\n",
              "      <td>2</td>\n",
              "      <td>8</td>\n",
              "      <td>2</td>\n",
              "      <td>1.6250</td>\n",
              "      <td>55000</td>\n",
              "      <td>1.216137</td>\n",
              "    </tr>\n",
              "    <tr>\n",
              "      <th>2117</th>\n",
              "      <td>-117.51</td>\n",
              "      <td>34.16</td>\n",
              "      <td>2</td>\n",
              "      <td>718</td>\n",
              "      <td>98</td>\n",
              "      <td>119</td>\n",
              "      <td>50</td>\n",
              "      <td>4.1000</td>\n",
              "      <td>315000</td>\n",
              "      <td>0.606601</td>\n",
              "    </tr>\n",
              "    <tr>\n",
              "      <th>2429</th>\n",
              "      <td>-117.20</td>\n",
              "      <td>33.58</td>\n",
              "      <td>2</td>\n",
              "      <td>30450</td>\n",
              "      <td>5033</td>\n",
              "      <td>9419</td>\n",
              "      <td>3197</td>\n",
              "      <td>4.5936</td>\n",
              "      <td>174300</td>\n",
              "      <td>0.870788</td>\n",
              "    </tr>\n",
              "    <tr>\n",
              "      <th>495</th>\n",
              "      <td>-122.29</td>\n",
              "      <td>37.82</td>\n",
              "      <td>2</td>\n",
              "      <td>158</td>\n",
              "      <td>43</td>\n",
              "      <td>94</td>\n",
              "      <td>57</td>\n",
              "      <td>2.5625</td>\n",
              "      <td>60000</td>\n",
              "      <td>1.774641</td>\n",
              "    </tr>\n",
              "    <tr>\n",
              "      <th>...</th>\n",
              "      <td>...</td>\n",
              "      <td>...</td>\n",
              "      <td>...</td>\n",
              "      <td>...</td>\n",
              "      <td>...</td>\n",
              "      <td>...</td>\n",
              "      <td>...</td>\n",
              "      <td>...</td>\n",
              "      <td>...</td>\n",
              "      <td>...</td>\n",
              "    </tr>\n",
              "    <tr>\n",
              "      <th>717</th>\n",
              "      <td>-122.27</td>\n",
              "      <td>37.86</td>\n",
              "      <td>52</td>\n",
              "      <td>2307</td>\n",
              "      <td>583</td>\n",
              "      <td>1127</td>\n",
              "      <td>548</td>\n",
              "      <td>1.8447</td>\n",
              "      <td>198200</td>\n",
              "      <td>0.611830</td>\n",
              "    </tr>\n",
              "    <tr>\n",
              "      <th>708</th>\n",
              "      <td>-118.21</td>\n",
              "      <td>33.97</td>\n",
              "      <td>52</td>\n",
              "      <td>4220</td>\n",
              "      <td>908</td>\n",
              "      <td>3731</td>\n",
              "      <td>892</td>\n",
              "      <td>3.1901</td>\n",
              "      <td>167600</td>\n",
              "      <td>0.735939</td>\n",
              "    </tr>\n",
              "    <tr>\n",
              "      <th>1826</th>\n",
              "      <td>-122.04</td>\n",
              "      <td>37.00</td>\n",
              "      <td>52</td>\n",
              "      <td>3365</td>\n",
              "      <td>644</td>\n",
              "      <td>796</td>\n",
              "      <td>333</td>\n",
              "      <td>2.9712</td>\n",
              "      <td>116600</td>\n",
              "      <td>0.242743</td>\n",
              "    </tr>\n",
              "    <tr>\n",
              "      <th>754</th>\n",
              "      <td>-121.49</td>\n",
              "      <td>38.56</td>\n",
              "      <td>52</td>\n",
              "      <td>1777</td>\n",
              "      <td>368</td>\n",
              "      <td>624</td>\n",
              "      <td>350</td>\n",
              "      <td>3.6729</td>\n",
              "      <td>137800</td>\n",
              "      <td>1.008221</td>\n",
              "    </tr>\n",
              "    <tr>\n",
              "      <th>1499</th>\n",
              "      <td>-122.21</td>\n",
              "      <td>37.79</td>\n",
              "      <td>52</td>\n",
              "      <td>762</td>\n",
              "      <td>190</td>\n",
              "      <td>600</td>\n",
              "      <td>195</td>\n",
              "      <td>3.0893</td>\n",
              "      <td>125000</td>\n",
              "      <td>-0.943541</td>\n",
              "    </tr>\n",
              "  </tbody>\n",
              "</table>\n",
              "<p>3000 rows × 10 columns</p>\n",
              "</div>"
            ],
            "text/plain": [
              "      longitude  latitude  housing_median_age  total_rooms  total_bedrooms  \\\n",
              "842     -117.95     35.08                   1           83              15   \n",
              "1115    -116.95     33.86                   1            6               2   \n",
              "2117    -117.51     34.16                   2          718              98   \n",
              "2429    -117.20     33.58                   2        30450            5033   \n",
              "495     -122.29     37.82                   2          158              43   \n",
              "...         ...       ...                 ...          ...             ...   \n",
              "717     -122.27     37.86                  52         2307             583   \n",
              "708     -118.21     33.97                  52         4220             908   \n",
              "1826    -122.04     37.00                  52         3365             644   \n",
              "754     -121.49     38.56                  52         1777             368   \n",
              "1499    -122.21     37.79                  52          762             190   \n",
              "\n",
              "      population  households  median_income  median_house_value    random  \n",
              "842           32          15         4.8750              141700 -1.186396  \n",
              "1115           8           2         1.6250               55000  1.216137  \n",
              "2117         119          50         4.1000              315000  0.606601  \n",
              "2429        9419        3197         4.5936              174300  0.870788  \n",
              "495           94          57         2.5625               60000  1.774641  \n",
              "...          ...         ...            ...                 ...       ...  \n",
              "717         1127         548         1.8447              198200  0.611830  \n",
              "708         3731         892         3.1901              167600  0.735939  \n",
              "1826         796         333         2.9712              116600  0.242743  \n",
              "754          624         350         3.6729              137800  1.008221  \n",
              "1499         600         195         3.0893              125000 -0.943541  \n",
              "\n",
              "[3000 rows x 10 columns]"
            ]
          },
          "metadata": {
            "tags": []
          },
          "execution_count": 56
        }
      ]
    },
    {
      "cell_type": "markdown",
      "metadata": {
        "id": "-VLNFaxjC3F3"
      },
      "source": [
        "Ordenar usando más de una columna:"
      ]
    },
    {
      "cell_type": "code",
      "metadata": {
        "id": "y0yV-eAvC3eo",
        "outputId": "18064b52-9417-4ad8-9c29-da42fe8e8ea0"
      },
      "source": [
        "df.sort_values([\"housing_median_age\", \"households\"])"
      ],
      "execution_count": null,
      "outputs": [
        {
          "output_type": "execute_result",
          "data": {
            "text/html": [
              "<div>\n",
              "<style scoped>\n",
              "    .dataframe tbody tr th:only-of-type {\n",
              "        vertical-align: middle;\n",
              "    }\n",
              "\n",
              "    .dataframe tbody tr th {\n",
              "        vertical-align: top;\n",
              "    }\n",
              "\n",
              "    .dataframe thead th {\n",
              "        text-align: right;\n",
              "    }\n",
              "</style>\n",
              "<table border=\"1\" class=\"dataframe\">\n",
              "  <thead>\n",
              "    <tr style=\"text-align: right;\">\n",
              "      <th></th>\n",
              "      <th>longitude</th>\n",
              "      <th>latitude</th>\n",
              "      <th>housing_median_age</th>\n",
              "      <th>total_rooms</th>\n",
              "      <th>total_bedrooms</th>\n",
              "      <th>population</th>\n",
              "      <th>households</th>\n",
              "      <th>median_income</th>\n",
              "      <th>median_house_value</th>\n",
              "      <th>random</th>\n",
              "    </tr>\n",
              "  </thead>\n",
              "  <tbody>\n",
              "    <tr>\n",
              "      <th>1115</th>\n",
              "      <td>-116.95</td>\n",
              "      <td>33.86</td>\n",
              "      <td>1</td>\n",
              "      <td>6</td>\n",
              "      <td>2</td>\n",
              "      <td>8</td>\n",
              "      <td>2</td>\n",
              "      <td>1.6250</td>\n",
              "      <td>55000</td>\n",
              "      <td>1.216137</td>\n",
              "    </tr>\n",
              "    <tr>\n",
              "      <th>842</th>\n",
              "      <td>-117.95</td>\n",
              "      <td>35.08</td>\n",
              "      <td>1</td>\n",
              "      <td>83</td>\n",
              "      <td>15</td>\n",
              "      <td>32</td>\n",
              "      <td>15</td>\n",
              "      <td>4.8750</td>\n",
              "      <td>141700</td>\n",
              "      <td>-1.186396</td>\n",
              "    </tr>\n",
              "    <tr>\n",
              "      <th>1050</th>\n",
              "      <td>-121.96</td>\n",
              "      <td>37.74</td>\n",
              "      <td>2</td>\n",
              "      <td>200</td>\n",
              "      <td>20</td>\n",
              "      <td>25</td>\n",
              "      <td>9</td>\n",
              "      <td>15.0001</td>\n",
              "      <td>350000</td>\n",
              "      <td>-0.975590</td>\n",
              "    </tr>\n",
              "    <tr>\n",
              "      <th>2117</th>\n",
              "      <td>-117.51</td>\n",
              "      <td>34.16</td>\n",
              "      <td>2</td>\n",
              "      <td>718</td>\n",
              "      <td>98</td>\n",
              "      <td>119</td>\n",
              "      <td>50</td>\n",
              "      <td>4.1000</td>\n",
              "      <td>315000</td>\n",
              "      <td>0.606601</td>\n",
              "    </tr>\n",
              "    <tr>\n",
              "      <th>495</th>\n",
              "      <td>-122.29</td>\n",
              "      <td>37.82</td>\n",
              "      <td>2</td>\n",
              "      <td>158</td>\n",
              "      <td>43</td>\n",
              "      <td>94</td>\n",
              "      <td>57</td>\n",
              "      <td>2.5625</td>\n",
              "      <td>60000</td>\n",
              "      <td>1.774641</td>\n",
              "    </tr>\n",
              "    <tr>\n",
              "      <th>...</th>\n",
              "      <td>...</td>\n",
              "      <td>...</td>\n",
              "      <td>...</td>\n",
              "      <td>...</td>\n",
              "      <td>...</td>\n",
              "      <td>...</td>\n",
              "      <td>...</td>\n",
              "      <td>...</td>\n",
              "      <td>...</td>\n",
              "      <td>...</td>\n",
              "    </tr>\n",
              "    <tr>\n",
              "      <th>26</th>\n",
              "      <td>-122.42</td>\n",
              "      <td>37.76</td>\n",
              "      <td>52</td>\n",
              "      <td>3587</td>\n",
              "      <td>1030</td>\n",
              "      <td>2259</td>\n",
              "      <td>979</td>\n",
              "      <td>2.5403</td>\n",
              "      <td>250000</td>\n",
              "      <td>0.208057</td>\n",
              "    </tr>\n",
              "    <tr>\n",
              "      <th>2950</th>\n",
              "      <td>-122.42</td>\n",
              "      <td>37.79</td>\n",
              "      <td>52</td>\n",
              "      <td>3364</td>\n",
              "      <td>1100</td>\n",
              "      <td>2112</td>\n",
              "      <td>1045</td>\n",
              "      <td>2.1343</td>\n",
              "      <td>400000</td>\n",
              "      <td>0.228885</td>\n",
              "    </tr>\n",
              "    <tr>\n",
              "      <th>1780</th>\n",
              "      <td>-122.42</td>\n",
              "      <td>37.76</td>\n",
              "      <td>52</td>\n",
              "      <td>4407</td>\n",
              "      <td>1192</td>\n",
              "      <td>2280</td>\n",
              "      <td>1076</td>\n",
              "      <td>3.3937</td>\n",
              "      <td>270000</td>\n",
              "      <td>-0.221209</td>\n",
              "    </tr>\n",
              "    <tr>\n",
              "      <th>1346</th>\n",
              "      <td>-122.44</td>\n",
              "      <td>37.77</td>\n",
              "      <td>52</td>\n",
              "      <td>5604</td>\n",
              "      <td>1268</td>\n",
              "      <td>2023</td>\n",
              "      <td>1196</td>\n",
              "      <td>4.4085</td>\n",
              "      <td>400000</td>\n",
              "      <td>0.726651</td>\n",
              "    </tr>\n",
              "    <tr>\n",
              "      <th>1510</th>\n",
              "      <td>-122.43</td>\n",
              "      <td>37.79</td>\n",
              "      <td>52</td>\n",
              "      <td>6186</td>\n",
              "      <td>1566</td>\n",
              "      <td>2065</td>\n",
              "      <td>1374</td>\n",
              "      <td>5.8543</td>\n",
              "      <td>500001</td>\n",
              "      <td>1.394103</td>\n",
              "    </tr>\n",
              "  </tbody>\n",
              "</table>\n",
              "<p>3000 rows × 10 columns</p>\n",
              "</div>"
            ],
            "text/plain": [
              "      longitude  latitude  housing_median_age  total_rooms  total_bedrooms  \\\n",
              "1115    -116.95     33.86                   1            6               2   \n",
              "842     -117.95     35.08                   1           83              15   \n",
              "1050    -121.96     37.74                   2          200              20   \n",
              "2117    -117.51     34.16                   2          718              98   \n",
              "495     -122.29     37.82                   2          158              43   \n",
              "...         ...       ...                 ...          ...             ...   \n",
              "26      -122.42     37.76                  52         3587            1030   \n",
              "2950    -122.42     37.79                  52         3364            1100   \n",
              "1780    -122.42     37.76                  52         4407            1192   \n",
              "1346    -122.44     37.77                  52         5604            1268   \n",
              "1510    -122.43     37.79                  52         6186            1566   \n",
              "\n",
              "      population  households  median_income  median_house_value    random  \n",
              "1115           8           2         1.6250               55000  1.216137  \n",
              "842           32          15         4.8750              141700 -1.186396  \n",
              "1050          25           9        15.0001              350000 -0.975590  \n",
              "2117         119          50         4.1000              315000  0.606601  \n",
              "495           94          57         2.5625               60000  1.774641  \n",
              "...          ...         ...            ...                 ...       ...  \n",
              "26          2259         979         2.5403              250000  0.208057  \n",
              "2950        2112        1045         2.1343              400000  0.228885  \n",
              "1780        2280        1076         3.3937              270000 -0.221209  \n",
              "1346        2023        1196         4.4085              400000  0.726651  \n",
              "1510        2065        1374         5.8543              500001  1.394103  \n",
              "\n",
              "[3000 rows x 10 columns]"
            ]
          },
          "metadata": {
            "tags": []
          },
          "execution_count": 57
        }
      ]
    },
    {
      "cell_type": "markdown",
      "metadata": {
        "id": "Zet4Wt7DjQaP"
      },
      "source": [
        "## df.sort_index()\n",
        "\n",
        "Ordenar usando los índices del Dataframe/Series:"
      ]
    },
    {
      "cell_type": "code",
      "metadata": {
        "id": "E0eodMQRjQgb",
        "outputId": "b3589ae6-b518-4e05-92c9-279631b2938e"
      },
      "source": [
        "#una muestra aleatoria\n",
        "df = cali_housing.sample(5)\n",
        "df"
      ],
      "execution_count": null,
      "outputs": [
        {
          "output_type": "execute_result",
          "data": {
            "text/html": [
              "<div>\n",
              "<style scoped>\n",
              "    .dataframe tbody tr th:only-of-type {\n",
              "        vertical-align: middle;\n",
              "    }\n",
              "\n",
              "    .dataframe tbody tr th {\n",
              "        vertical-align: top;\n",
              "    }\n",
              "\n",
              "    .dataframe thead th {\n",
              "        text-align: right;\n",
              "    }\n",
              "</style>\n",
              "<table border=\"1\" class=\"dataframe\">\n",
              "  <thead>\n",
              "    <tr style=\"text-align: right;\">\n",
              "      <th></th>\n",
              "      <th>longitude</th>\n",
              "      <th>latitude</th>\n",
              "      <th>housing_median_age</th>\n",
              "      <th>total_rooms</th>\n",
              "      <th>total_bedrooms</th>\n",
              "      <th>population</th>\n",
              "      <th>households</th>\n",
              "      <th>median_income</th>\n",
              "      <th>median_house_value</th>\n",
              "      <th>random</th>\n",
              "    </tr>\n",
              "  </thead>\n",
              "  <tbody>\n",
              "    <tr>\n",
              "      <th>1643</th>\n",
              "      <td>-118.25</td>\n",
              "      <td>34.22</td>\n",
              "      <td>30</td>\n",
              "      <td>2062</td>\n",
              "      <td>396</td>\n",
              "      <td>1089</td>\n",
              "      <td>375</td>\n",
              "      <td>5.5362</td>\n",
              "      <td>301200</td>\n",
              "      <td>-1.229718</td>\n",
              "    </tr>\n",
              "    <tr>\n",
              "      <th>1029</th>\n",
              "      <td>-118.18</td>\n",
              "      <td>34.01</td>\n",
              "      <td>39</td>\n",
              "      <td>322</td>\n",
              "      <td>82</td>\n",
              "      <td>319</td>\n",
              "      <td>90</td>\n",
              "      <td>2.6364</td>\n",
              "      <td>148800</td>\n",
              "      <td>1.547324</td>\n",
              "    </tr>\n",
              "    <tr>\n",
              "      <th>1185</th>\n",
              "      <td>-119.18</td>\n",
              "      <td>34.22</td>\n",
              "      <td>15</td>\n",
              "      <td>4615</td>\n",
              "      <td>1008</td>\n",
              "      <td>2549</td>\n",
              "      <td>973</td>\n",
              "      <td>3.9063</td>\n",
              "      <td>198700</td>\n",
              "      <td>-0.411800</td>\n",
              "    </tr>\n",
              "    <tr>\n",
              "      <th>516</th>\n",
              "      <td>-121.46</td>\n",
              "      <td>38.56</td>\n",
              "      <td>52</td>\n",
              "      <td>1750</td>\n",
              "      <td>372</td>\n",
              "      <td>764</td>\n",
              "      <td>369</td>\n",
              "      <td>2.9191</td>\n",
              "      <td>111800</td>\n",
              "      <td>0.361407</td>\n",
              "    </tr>\n",
              "    <tr>\n",
              "      <th>2109</th>\n",
              "      <td>-117.94</td>\n",
              "      <td>33.80</td>\n",
              "      <td>23</td>\n",
              "      <td>2757</td>\n",
              "      <td>734</td>\n",
              "      <td>1811</td>\n",
              "      <td>707</td>\n",
              "      <td>2.8000</td>\n",
              "      <td>214300</td>\n",
              "      <td>-0.890088</td>\n",
              "    </tr>\n",
              "  </tbody>\n",
              "</table>\n",
              "</div>"
            ],
            "text/plain": [
              "      longitude  latitude  housing_median_age  total_rooms  total_bedrooms  \\\n",
              "1643    -118.25     34.22                  30         2062             396   \n",
              "1029    -118.18     34.01                  39          322              82   \n",
              "1185    -119.18     34.22                  15         4615            1008   \n",
              "516     -121.46     38.56                  52         1750             372   \n",
              "2109    -117.94     33.80                  23         2757             734   \n",
              "\n",
              "      population  households  median_income  median_house_value    random  \n",
              "1643        1089         375         5.5362              301200 -1.229718  \n",
              "1029         319          90         2.6364              148800  1.547324  \n",
              "1185        2549         973         3.9063              198700 -0.411800  \n",
              "516          764         369         2.9191              111800  0.361407  \n",
              "2109        1811         707         2.8000              214300 -0.890088  "
            ]
          },
          "metadata": {
            "tags": []
          },
          "execution_count": 58
        }
      ]
    },
    {
      "cell_type": "code",
      "metadata": {
        "id": "z5hZDIeATSuy",
        "outputId": "26bbf0fd-2aa5-458d-bf67-e9033e12b2e7"
      },
      "source": [
        "# ordenar por index\n",
        "df.sort_index()"
      ],
      "execution_count": null,
      "outputs": [
        {
          "output_type": "execute_result",
          "data": {
            "text/html": [
              "<div>\n",
              "<style scoped>\n",
              "    .dataframe tbody tr th:only-of-type {\n",
              "        vertical-align: middle;\n",
              "    }\n",
              "\n",
              "    .dataframe tbody tr th {\n",
              "        vertical-align: top;\n",
              "    }\n",
              "\n",
              "    .dataframe thead th {\n",
              "        text-align: right;\n",
              "    }\n",
              "</style>\n",
              "<table border=\"1\" class=\"dataframe\">\n",
              "  <thead>\n",
              "    <tr style=\"text-align: right;\">\n",
              "      <th></th>\n",
              "      <th>longitude</th>\n",
              "      <th>latitude</th>\n",
              "      <th>housing_median_age</th>\n",
              "      <th>total_rooms</th>\n",
              "      <th>total_bedrooms</th>\n",
              "      <th>population</th>\n",
              "      <th>households</th>\n",
              "      <th>median_income</th>\n",
              "      <th>median_house_value</th>\n",
              "      <th>random</th>\n",
              "    </tr>\n",
              "  </thead>\n",
              "  <tbody>\n",
              "    <tr>\n",
              "      <th>516</th>\n",
              "      <td>-121.46</td>\n",
              "      <td>38.56</td>\n",
              "      <td>52</td>\n",
              "      <td>1750</td>\n",
              "      <td>372</td>\n",
              "      <td>764</td>\n",
              "      <td>369</td>\n",
              "      <td>2.9191</td>\n",
              "      <td>111800</td>\n",
              "      <td>0.361407</td>\n",
              "    </tr>\n",
              "    <tr>\n",
              "      <th>1029</th>\n",
              "      <td>-118.18</td>\n",
              "      <td>34.01</td>\n",
              "      <td>39</td>\n",
              "      <td>322</td>\n",
              "      <td>82</td>\n",
              "      <td>319</td>\n",
              "      <td>90</td>\n",
              "      <td>2.6364</td>\n",
              "      <td>148800</td>\n",
              "      <td>1.547324</td>\n",
              "    </tr>\n",
              "    <tr>\n",
              "      <th>1185</th>\n",
              "      <td>-119.18</td>\n",
              "      <td>34.22</td>\n",
              "      <td>15</td>\n",
              "      <td>4615</td>\n",
              "      <td>1008</td>\n",
              "      <td>2549</td>\n",
              "      <td>973</td>\n",
              "      <td>3.9063</td>\n",
              "      <td>198700</td>\n",
              "      <td>-0.411800</td>\n",
              "    </tr>\n",
              "    <tr>\n",
              "      <th>1643</th>\n",
              "      <td>-118.25</td>\n",
              "      <td>34.22</td>\n",
              "      <td>30</td>\n",
              "      <td>2062</td>\n",
              "      <td>396</td>\n",
              "      <td>1089</td>\n",
              "      <td>375</td>\n",
              "      <td>5.5362</td>\n",
              "      <td>301200</td>\n",
              "      <td>-1.229718</td>\n",
              "    </tr>\n",
              "    <tr>\n",
              "      <th>2109</th>\n",
              "      <td>-117.94</td>\n",
              "      <td>33.80</td>\n",
              "      <td>23</td>\n",
              "      <td>2757</td>\n",
              "      <td>734</td>\n",
              "      <td>1811</td>\n",
              "      <td>707</td>\n",
              "      <td>2.8000</td>\n",
              "      <td>214300</td>\n",
              "      <td>-0.890088</td>\n",
              "    </tr>\n",
              "  </tbody>\n",
              "</table>\n",
              "</div>"
            ],
            "text/plain": [
              "      longitude  latitude  housing_median_age  total_rooms  total_bedrooms  \\\n",
              "516     -121.46     38.56                  52         1750             372   \n",
              "1029    -118.18     34.01                  39          322              82   \n",
              "1185    -119.18     34.22                  15         4615            1008   \n",
              "1643    -118.25     34.22                  30         2062             396   \n",
              "2109    -117.94     33.80                  23         2757             734   \n",
              "\n",
              "      population  households  median_income  median_house_value    random  \n",
              "516          764         369         2.9191              111800  0.361407  \n",
              "1029         319          90         2.6364              148800  1.547324  \n",
              "1185        2549         973         3.9063              198700 -0.411800  \n",
              "1643        1089         375         5.5362              301200 -1.229718  \n",
              "2109        1811         707         2.8000              214300 -0.890088  "
            ]
          },
          "metadata": {
            "tags": []
          },
          "execution_count": 59
        }
      ]
    },
    {
      "cell_type": "markdown",
      "metadata": {
        "id": "zjvZYHkIDzR3"
      },
      "source": [
        "Para un objeto Series:"
      ]
    },
    {
      "cell_type": "code",
      "metadata": {
        "id": "hml6pB_gD1xM",
        "outputId": "c7425f74-2b3e-44a4-a105-73b9a2da65cf"
      },
      "source": [
        "s = cali_housing[\"total_rooms\"].sample(5)\n",
        "s"
      ],
      "execution_count": null,
      "outputs": [
        {
          "output_type": "execute_result",
          "data": {
            "text/plain": [
              "2868    1671\n",
              "1105    1531\n",
              "695     2339\n",
              "1937    2298\n",
              "2048    7478\n",
              "Name: total_rooms, dtype: int64"
            ]
          },
          "metadata": {
            "tags": []
          },
          "execution_count": 60
        }
      ]
    },
    {
      "cell_type": "code",
      "metadata": {
        "id": "6dbg9193EBua",
        "outputId": "5ac4205e-f5b5-4e01-e5f9-d05293f8b77b"
      },
      "source": [
        "s.sort_index()"
      ],
      "execution_count": null,
      "outputs": [
        {
          "output_type": "execute_result",
          "data": {
            "text/plain": [
              "695     2339\n",
              "1105    1531\n",
              "1937    2298\n",
              "2048    7478\n",
              "2868    1671\n",
              "Name: total_rooms, dtype: int64"
            ]
          },
          "metadata": {
            "tags": []
          },
          "execution_count": 61
        }
      ]
    },
    {
      "cell_type": "markdown",
      "metadata": {
        "id": "WpFJKTtLSH6q"
      },
      "source": [
        "# Métodos matemáticos\n",
        "\n",
        "[Operaciones binarias](https://pandas.pydata.org/docs/reference/frame.html#binary-operator-functions):\n",
        "\n",
        "* add(other), suma elemento por elemento un DataFrames/Series y other.\n",
        "* sub(other), resta elemento por elemento un DataFrames/Series y other.\n",
        "* mul(other), multiplicación elemento por elemento de un DataFrames/Series por other.\n",
        "* div(other), divide elemento por elemento un DataFrames/Series entre other.\n",
        "* mod(other), calcula el módulo de un DataFrame/Series usando other.\n",
        "* pow(other), calcula el exponente elemento por elemento de un DataFrame/Series elevado a la potencia de other.\n",
        "* dot(other), producto punto o de matrices entre dos Series/DataFrames respectivamente.\n",
        "\n",
        "_Las operaciones binarias pueden utilizar broadcasting, entonces pueden recibir escalares, Dataframes o Series._\n",
        "\n",
        "\n",
        "[Operaciones estadísticas](https://pandas.pydata.org/docs/reference/frame.html#computations-descriptive-stats):\n",
        "* abs(), valor absoluto de los elementos.\n",
        "* count(axis), cuenta el número de elementos no-nulos en las filas o columnas. \n",
        "* max(axis), retorna el valor máximo encontrado por filas o columnas.\n",
        "* min(axis), retorna el valor mínimo encontrado por filas o columnas.\n",
        "* mean(axis), retorna la media de los elementos por filas o columnas.\n",
        "* median(axis), retorna la mediana de los elementos de las filas o columnas.\n",
        "* sum(axis), retorna la suma de todos los elementos de las filas o columnas.\n",
        "* std(axis), retorna la desviación estándar de las filas o columnas.\n",
        "* var(axis),retorna la varianza de las filas o columnas."
      ]
    },
    {
      "cell_type": "markdown",
      "metadata": {
        "id": "GIymgx0GKjyI"
      },
      "source": [
        "## Operaciones binarias"
      ]
    },
    {
      "cell_type": "code",
      "metadata": {
        "id": "t8jB4PTpLlwL",
        "outputId": "b6317ec5-3eb3-4860-db8b-e417c5bf325e"
      },
      "source": [
        "#creamos un dataframe para ejemplificar las funciones\n",
        "df = pd.DataFrame({'angles': [0, 3, 4], 'degrees': [360, 180, 360]}, index=['circle', 'triangle', 'rectangle'])\n",
        "df"
      ],
      "execution_count": null,
      "outputs": [
        {
          "output_type": "execute_result",
          "data": {
            "text/html": [
              "<div>\n",
              "<style scoped>\n",
              "    .dataframe tbody tr th:only-of-type {\n",
              "        vertical-align: middle;\n",
              "    }\n",
              "\n",
              "    .dataframe tbody tr th {\n",
              "        vertical-align: top;\n",
              "    }\n",
              "\n",
              "    .dataframe thead th {\n",
              "        text-align: right;\n",
              "    }\n",
              "</style>\n",
              "<table border=\"1\" class=\"dataframe\">\n",
              "  <thead>\n",
              "    <tr style=\"text-align: right;\">\n",
              "      <th></th>\n",
              "      <th>angles</th>\n",
              "      <th>degrees</th>\n",
              "    </tr>\n",
              "  </thead>\n",
              "  <tbody>\n",
              "    <tr>\n",
              "      <th>circle</th>\n",
              "      <td>0</td>\n",
              "      <td>360</td>\n",
              "    </tr>\n",
              "    <tr>\n",
              "      <th>triangle</th>\n",
              "      <td>3</td>\n",
              "      <td>180</td>\n",
              "    </tr>\n",
              "    <tr>\n",
              "      <th>rectangle</th>\n",
              "      <td>4</td>\n",
              "      <td>360</td>\n",
              "    </tr>\n",
              "  </tbody>\n",
              "</table>\n",
              "</div>"
            ],
            "text/plain": [
              "           angles  degrees\n",
              "circle          0      360\n",
              "triangle        3      180\n",
              "rectangle       4      360"
            ]
          },
          "metadata": {
            "tags": []
          },
          "execution_count": 62
        }
      ]
    },
    {
      "cell_type": "markdown",
      "metadata": {
        "id": "kYiT5W6xKsVt"
      },
      "source": [
        "### add(), sub(), mul() y div()"
      ]
    },
    {
      "cell_type": "code",
      "metadata": {
        "id": "IEyrVIZ1hLEY",
        "outputId": "4eee9ee3-4e56-4d49-99e7-ca66916a3b4b"
      },
      "source": [
        "df.add(1)"
      ],
      "execution_count": null,
      "outputs": [
        {
          "output_type": "execute_result",
          "data": {
            "text/html": [
              "<div>\n",
              "<style scoped>\n",
              "    .dataframe tbody tr th:only-of-type {\n",
              "        vertical-align: middle;\n",
              "    }\n",
              "\n",
              "    .dataframe tbody tr th {\n",
              "        vertical-align: top;\n",
              "    }\n",
              "\n",
              "    .dataframe thead th {\n",
              "        text-align: right;\n",
              "    }\n",
              "</style>\n",
              "<table border=\"1\" class=\"dataframe\">\n",
              "  <thead>\n",
              "    <tr style=\"text-align: right;\">\n",
              "      <th></th>\n",
              "      <th>angles</th>\n",
              "      <th>degrees</th>\n",
              "    </tr>\n",
              "  </thead>\n",
              "  <tbody>\n",
              "    <tr>\n",
              "      <th>circle</th>\n",
              "      <td>1</td>\n",
              "      <td>361</td>\n",
              "    </tr>\n",
              "    <tr>\n",
              "      <th>triangle</th>\n",
              "      <td>4</td>\n",
              "      <td>181</td>\n",
              "    </tr>\n",
              "    <tr>\n",
              "      <th>rectangle</th>\n",
              "      <td>5</td>\n",
              "      <td>361</td>\n",
              "    </tr>\n",
              "  </tbody>\n",
              "</table>\n",
              "</div>"
            ],
            "text/plain": [
              "           angles  degrees\n",
              "circle          1      361\n",
              "triangle        4      181\n",
              "rectangle       5      361"
            ]
          },
          "metadata": {
            "tags": []
          },
          "execution_count": 63
        }
      ]
    },
    {
      "cell_type": "markdown",
      "metadata": {
        "id": "w0ALFEcSx5RJ"
      },
      "source": [
        "o"
      ]
    },
    {
      "cell_type": "code",
      "metadata": {
        "id": "cONCG3nlxfaB",
        "outputId": "a182cfd1-d7a0-4f51-929b-a238b3577b75"
      },
      "source": [
        "df + 1"
      ],
      "execution_count": null,
      "outputs": [
        {
          "output_type": "execute_result",
          "data": {
            "text/html": [
              "<div>\n",
              "<style scoped>\n",
              "    .dataframe tbody tr th:only-of-type {\n",
              "        vertical-align: middle;\n",
              "    }\n",
              "\n",
              "    .dataframe tbody tr th {\n",
              "        vertical-align: top;\n",
              "    }\n",
              "\n",
              "    .dataframe thead th {\n",
              "        text-align: right;\n",
              "    }\n",
              "</style>\n",
              "<table border=\"1\" class=\"dataframe\">\n",
              "  <thead>\n",
              "    <tr style=\"text-align: right;\">\n",
              "      <th></th>\n",
              "      <th>angles</th>\n",
              "      <th>degrees</th>\n",
              "    </tr>\n",
              "  </thead>\n",
              "  <tbody>\n",
              "    <tr>\n",
              "      <th>circle</th>\n",
              "      <td>1</td>\n",
              "      <td>361</td>\n",
              "    </tr>\n",
              "    <tr>\n",
              "      <th>triangle</th>\n",
              "      <td>4</td>\n",
              "      <td>181</td>\n",
              "    </tr>\n",
              "    <tr>\n",
              "      <th>rectangle</th>\n",
              "      <td>5</td>\n",
              "      <td>361</td>\n",
              "    </tr>\n",
              "  </tbody>\n",
              "</table>\n",
              "</div>"
            ],
            "text/plain": [
              "           angles  degrees\n",
              "circle          1      361\n",
              "triangle        4      181\n",
              "rectangle       5      361"
            ]
          },
          "metadata": {
            "tags": []
          },
          "execution_count": 64
        }
      ]
    },
    {
      "cell_type": "code",
      "metadata": {
        "id": "VdD5jMxxL9UO",
        "outputId": "2f87d4c4-8416-4c32-cff7-eb4ec9a85cba"
      },
      "source": [
        "df.mul(2)"
      ],
      "execution_count": null,
      "outputs": [
        {
          "output_type": "execute_result",
          "data": {
            "text/html": [
              "<div>\n",
              "<style scoped>\n",
              "    .dataframe tbody tr th:only-of-type {\n",
              "        vertical-align: middle;\n",
              "    }\n",
              "\n",
              "    .dataframe tbody tr th {\n",
              "        vertical-align: top;\n",
              "    }\n",
              "\n",
              "    .dataframe thead th {\n",
              "        text-align: right;\n",
              "    }\n",
              "</style>\n",
              "<table border=\"1\" class=\"dataframe\">\n",
              "  <thead>\n",
              "    <tr style=\"text-align: right;\">\n",
              "      <th></th>\n",
              "      <th>angles</th>\n",
              "      <th>degrees</th>\n",
              "    </tr>\n",
              "  </thead>\n",
              "  <tbody>\n",
              "    <tr>\n",
              "      <th>circle</th>\n",
              "      <td>0</td>\n",
              "      <td>720</td>\n",
              "    </tr>\n",
              "    <tr>\n",
              "      <th>triangle</th>\n",
              "      <td>6</td>\n",
              "      <td>360</td>\n",
              "    </tr>\n",
              "    <tr>\n",
              "      <th>rectangle</th>\n",
              "      <td>8</td>\n",
              "      <td>720</td>\n",
              "    </tr>\n",
              "  </tbody>\n",
              "</table>\n",
              "</div>"
            ],
            "text/plain": [
              "           angles  degrees\n",
              "circle          0      720\n",
              "triangle        6      360\n",
              "rectangle       8      720"
            ]
          },
          "metadata": {
            "tags": []
          },
          "execution_count": 65
        }
      ]
    },
    {
      "cell_type": "markdown",
      "metadata": {
        "id": "XrvVPJtkx7a7"
      },
      "source": [
        "o"
      ]
    },
    {
      "cell_type": "code",
      "metadata": {
        "id": "J0T9xkxbx9Q2",
        "outputId": "5fbea364-1876-496e-a08e-7f44021852d4"
      },
      "source": [
        "df * 2"
      ],
      "execution_count": null,
      "outputs": [
        {
          "output_type": "execute_result",
          "data": {
            "text/html": [
              "<div>\n",
              "<style scoped>\n",
              "    .dataframe tbody tr th:only-of-type {\n",
              "        vertical-align: middle;\n",
              "    }\n",
              "\n",
              "    .dataframe tbody tr th {\n",
              "        vertical-align: top;\n",
              "    }\n",
              "\n",
              "    .dataframe thead th {\n",
              "        text-align: right;\n",
              "    }\n",
              "</style>\n",
              "<table border=\"1\" class=\"dataframe\">\n",
              "  <thead>\n",
              "    <tr style=\"text-align: right;\">\n",
              "      <th></th>\n",
              "      <th>angles</th>\n",
              "      <th>degrees</th>\n",
              "    </tr>\n",
              "  </thead>\n",
              "  <tbody>\n",
              "    <tr>\n",
              "      <th>circle</th>\n",
              "      <td>0</td>\n",
              "      <td>720</td>\n",
              "    </tr>\n",
              "    <tr>\n",
              "      <th>triangle</th>\n",
              "      <td>6</td>\n",
              "      <td>360</td>\n",
              "    </tr>\n",
              "    <tr>\n",
              "      <th>rectangle</th>\n",
              "      <td>8</td>\n",
              "      <td>720</td>\n",
              "    </tr>\n",
              "  </tbody>\n",
              "</table>\n",
              "</div>"
            ],
            "text/plain": [
              "           angles  degrees\n",
              "circle          0      720\n",
              "triangle        6      360\n",
              "rectangle       8      720"
            ]
          },
          "metadata": {
            "tags": []
          },
          "execution_count": 66
        }
      ]
    },
    {
      "cell_type": "code",
      "metadata": {
        "id": "uYU8Nj9HL-ys",
        "outputId": "4775d627-5f01-4ef3-b3bc-7e831b4235ea"
      },
      "source": [
        "df.div(2)"
      ],
      "execution_count": null,
      "outputs": [
        {
          "output_type": "execute_result",
          "data": {
            "text/html": [
              "<div>\n",
              "<style scoped>\n",
              "    .dataframe tbody tr th:only-of-type {\n",
              "        vertical-align: middle;\n",
              "    }\n",
              "\n",
              "    .dataframe tbody tr th {\n",
              "        vertical-align: top;\n",
              "    }\n",
              "\n",
              "    .dataframe thead th {\n",
              "        text-align: right;\n",
              "    }\n",
              "</style>\n",
              "<table border=\"1\" class=\"dataframe\">\n",
              "  <thead>\n",
              "    <tr style=\"text-align: right;\">\n",
              "      <th></th>\n",
              "      <th>angles</th>\n",
              "      <th>degrees</th>\n",
              "    </tr>\n",
              "  </thead>\n",
              "  <tbody>\n",
              "    <tr>\n",
              "      <th>circle</th>\n",
              "      <td>0.0</td>\n",
              "      <td>180.0</td>\n",
              "    </tr>\n",
              "    <tr>\n",
              "      <th>triangle</th>\n",
              "      <td>1.5</td>\n",
              "      <td>90.0</td>\n",
              "    </tr>\n",
              "    <tr>\n",
              "      <th>rectangle</th>\n",
              "      <td>2.0</td>\n",
              "      <td>180.0</td>\n",
              "    </tr>\n",
              "  </tbody>\n",
              "</table>\n",
              "</div>"
            ],
            "text/plain": [
              "           angles  degrees\n",
              "circle        0.0    180.0\n",
              "triangle      1.5     90.0\n",
              "rectangle     2.0    180.0"
            ]
          },
          "metadata": {
            "tags": []
          },
          "execution_count": 67
        }
      ]
    },
    {
      "cell_type": "markdown",
      "metadata": {
        "id": "8IC8hg-tx_x_"
      },
      "source": [
        "o"
      ]
    },
    {
      "cell_type": "code",
      "metadata": {
        "id": "SnIJAbm2yAuh",
        "outputId": "c2079a95-9c81-417e-9922-7e6e34464f6c"
      },
      "source": [
        "df / 2"
      ],
      "execution_count": null,
      "outputs": [
        {
          "output_type": "execute_result",
          "data": {
            "text/html": [
              "<div>\n",
              "<style scoped>\n",
              "    .dataframe tbody tr th:only-of-type {\n",
              "        vertical-align: middle;\n",
              "    }\n",
              "\n",
              "    .dataframe tbody tr th {\n",
              "        vertical-align: top;\n",
              "    }\n",
              "\n",
              "    .dataframe thead th {\n",
              "        text-align: right;\n",
              "    }\n",
              "</style>\n",
              "<table border=\"1\" class=\"dataframe\">\n",
              "  <thead>\n",
              "    <tr style=\"text-align: right;\">\n",
              "      <th></th>\n",
              "      <th>angles</th>\n",
              "      <th>degrees</th>\n",
              "    </tr>\n",
              "  </thead>\n",
              "  <tbody>\n",
              "    <tr>\n",
              "      <th>circle</th>\n",
              "      <td>0.0</td>\n",
              "      <td>180.0</td>\n",
              "    </tr>\n",
              "    <tr>\n",
              "      <th>triangle</th>\n",
              "      <td>1.5</td>\n",
              "      <td>90.0</td>\n",
              "    </tr>\n",
              "    <tr>\n",
              "      <th>rectangle</th>\n",
              "      <td>2.0</td>\n",
              "      <td>180.0</td>\n",
              "    </tr>\n",
              "  </tbody>\n",
              "</table>\n",
              "</div>"
            ],
            "text/plain": [
              "           angles  degrees\n",
              "circle        0.0    180.0\n",
              "triangle      1.5     90.0\n",
              "rectangle     2.0    180.0"
            ]
          },
          "metadata": {
            "tags": []
          },
          "execution_count": 68
        }
      ]
    },
    {
      "cell_type": "markdown",
      "metadata": {
        "id": "X0eCoCPzKwTT"
      },
      "source": [
        "### mod() y pow()"
      ]
    },
    {
      "cell_type": "code",
      "metadata": {
        "id": "N2LKPhushLmc",
        "outputId": "6bd4833c-2223-4cf9-91c4-f3f69d710e32"
      },
      "source": [
        "df.mod(2)"
      ],
      "execution_count": null,
      "outputs": [
        {
          "output_type": "execute_result",
          "data": {
            "text/html": [
              "<div>\n",
              "<style scoped>\n",
              "    .dataframe tbody tr th:only-of-type {\n",
              "        vertical-align: middle;\n",
              "    }\n",
              "\n",
              "    .dataframe tbody tr th {\n",
              "        vertical-align: top;\n",
              "    }\n",
              "\n",
              "    .dataframe thead th {\n",
              "        text-align: right;\n",
              "    }\n",
              "</style>\n",
              "<table border=\"1\" class=\"dataframe\">\n",
              "  <thead>\n",
              "    <tr style=\"text-align: right;\">\n",
              "      <th></th>\n",
              "      <th>angles</th>\n",
              "      <th>degrees</th>\n",
              "    </tr>\n",
              "  </thead>\n",
              "  <tbody>\n",
              "    <tr>\n",
              "      <th>circle</th>\n",
              "      <td>0</td>\n",
              "      <td>0</td>\n",
              "    </tr>\n",
              "    <tr>\n",
              "      <th>triangle</th>\n",
              "      <td>1</td>\n",
              "      <td>0</td>\n",
              "    </tr>\n",
              "    <tr>\n",
              "      <th>rectangle</th>\n",
              "      <td>0</td>\n",
              "      <td>0</td>\n",
              "    </tr>\n",
              "  </tbody>\n",
              "</table>\n",
              "</div>"
            ],
            "text/plain": [
              "           angles  degrees\n",
              "circle          0        0\n",
              "triangle        1        0\n",
              "rectangle       0        0"
            ]
          },
          "metadata": {
            "tags": []
          },
          "execution_count": 69
        }
      ]
    },
    {
      "cell_type": "markdown",
      "metadata": {
        "id": "gmHFy-Wiyii-"
      },
      "source": [
        "o"
      ]
    },
    {
      "cell_type": "code",
      "metadata": {
        "id": "YGa471AJyjqk",
        "outputId": "2996a13b-f1e9-40fc-d308-94d7dd8789ff"
      },
      "source": [
        "df % 2"
      ],
      "execution_count": null,
      "outputs": [
        {
          "output_type": "execute_result",
          "data": {
            "text/html": [
              "<div>\n",
              "<style scoped>\n",
              "    .dataframe tbody tr th:only-of-type {\n",
              "        vertical-align: middle;\n",
              "    }\n",
              "\n",
              "    .dataframe tbody tr th {\n",
              "        vertical-align: top;\n",
              "    }\n",
              "\n",
              "    .dataframe thead th {\n",
              "        text-align: right;\n",
              "    }\n",
              "</style>\n",
              "<table border=\"1\" class=\"dataframe\">\n",
              "  <thead>\n",
              "    <tr style=\"text-align: right;\">\n",
              "      <th></th>\n",
              "      <th>angles</th>\n",
              "      <th>degrees</th>\n",
              "    </tr>\n",
              "  </thead>\n",
              "  <tbody>\n",
              "    <tr>\n",
              "      <th>circle</th>\n",
              "      <td>0</td>\n",
              "      <td>0</td>\n",
              "    </tr>\n",
              "    <tr>\n",
              "      <th>triangle</th>\n",
              "      <td>1</td>\n",
              "      <td>0</td>\n",
              "    </tr>\n",
              "    <tr>\n",
              "      <th>rectangle</th>\n",
              "      <td>0</td>\n",
              "      <td>0</td>\n",
              "    </tr>\n",
              "  </tbody>\n",
              "</table>\n",
              "</div>"
            ],
            "text/plain": [
              "           angles  degrees\n",
              "circle          0        0\n",
              "triangle        1        0\n",
              "rectangle       0        0"
            ]
          },
          "metadata": {
            "tags": []
          },
          "execution_count": 70
        }
      ]
    },
    {
      "cell_type": "code",
      "metadata": {
        "id": "ZtqiK_x9MP9z",
        "outputId": "6b8be4e7-5b6c-497d-af42-9a33928da3a0"
      },
      "source": [
        "df.pow(3)"
      ],
      "execution_count": null,
      "outputs": [
        {
          "output_type": "execute_result",
          "data": {
            "text/html": [
              "<div>\n",
              "<style scoped>\n",
              "    .dataframe tbody tr th:only-of-type {\n",
              "        vertical-align: middle;\n",
              "    }\n",
              "\n",
              "    .dataframe tbody tr th {\n",
              "        vertical-align: top;\n",
              "    }\n",
              "\n",
              "    .dataframe thead th {\n",
              "        text-align: right;\n",
              "    }\n",
              "</style>\n",
              "<table border=\"1\" class=\"dataframe\">\n",
              "  <thead>\n",
              "    <tr style=\"text-align: right;\">\n",
              "      <th></th>\n",
              "      <th>angles</th>\n",
              "      <th>degrees</th>\n",
              "    </tr>\n",
              "  </thead>\n",
              "  <tbody>\n",
              "    <tr>\n",
              "      <th>circle</th>\n",
              "      <td>0</td>\n",
              "      <td>46656000</td>\n",
              "    </tr>\n",
              "    <tr>\n",
              "      <th>triangle</th>\n",
              "      <td>27</td>\n",
              "      <td>5832000</td>\n",
              "    </tr>\n",
              "    <tr>\n",
              "      <th>rectangle</th>\n",
              "      <td>64</td>\n",
              "      <td>46656000</td>\n",
              "    </tr>\n",
              "  </tbody>\n",
              "</table>\n",
              "</div>"
            ],
            "text/plain": [
              "           angles   degrees\n",
              "circle          0  46656000\n",
              "triangle       27   5832000\n",
              "rectangle      64  46656000"
            ]
          },
          "metadata": {
            "tags": []
          },
          "execution_count": 71
        }
      ]
    },
    {
      "cell_type": "markdown",
      "metadata": {
        "id": "1z_r3MsVyndb"
      },
      "source": [
        "o"
      ]
    },
    {
      "cell_type": "code",
      "metadata": {
        "id": "uCadw7BxynvV",
        "outputId": "313d6297-5ab5-41a5-e552-9c4533709692"
      },
      "source": [
        "df ** 3"
      ],
      "execution_count": null,
      "outputs": [
        {
          "output_type": "execute_result",
          "data": {
            "text/html": [
              "<div>\n",
              "<style scoped>\n",
              "    .dataframe tbody tr th:only-of-type {\n",
              "        vertical-align: middle;\n",
              "    }\n",
              "\n",
              "    .dataframe tbody tr th {\n",
              "        vertical-align: top;\n",
              "    }\n",
              "\n",
              "    .dataframe thead th {\n",
              "        text-align: right;\n",
              "    }\n",
              "</style>\n",
              "<table border=\"1\" class=\"dataframe\">\n",
              "  <thead>\n",
              "    <tr style=\"text-align: right;\">\n",
              "      <th></th>\n",
              "      <th>angles</th>\n",
              "      <th>degrees</th>\n",
              "    </tr>\n",
              "  </thead>\n",
              "  <tbody>\n",
              "    <tr>\n",
              "      <th>circle</th>\n",
              "      <td>0</td>\n",
              "      <td>46656000</td>\n",
              "    </tr>\n",
              "    <tr>\n",
              "      <th>triangle</th>\n",
              "      <td>27</td>\n",
              "      <td>5832000</td>\n",
              "    </tr>\n",
              "    <tr>\n",
              "      <th>rectangle</th>\n",
              "      <td>64</td>\n",
              "      <td>46656000</td>\n",
              "    </tr>\n",
              "  </tbody>\n",
              "</table>\n",
              "</div>"
            ],
            "text/plain": [
              "           angles   degrees\n",
              "circle          0  46656000\n",
              "triangle       27   5832000\n",
              "rectangle      64  46656000"
            ]
          },
          "metadata": {
            "tags": []
          },
          "execution_count": 72
        }
      ]
    },
    {
      "cell_type": "markdown",
      "metadata": {
        "id": "d9BNaw_GK01I"
      },
      "source": [
        "### dot()"
      ]
    },
    {
      "cell_type": "code",
      "metadata": {
        "id": "7CjDky-LMcQN",
        "outputId": "6410c837-4397-4645-aa69-f80091e92b83"
      },
      "source": [
        "#un nuevo dataframe para ejemplificar dot\n",
        "df = pd.DataFrame([[0, 1, -2, -1], [1, 1, 1, 1]])\n",
        "df"
      ],
      "execution_count": null,
      "outputs": [
        {
          "output_type": "execute_result",
          "data": {
            "text/html": [
              "<div>\n",
              "<style scoped>\n",
              "    .dataframe tbody tr th:only-of-type {\n",
              "        vertical-align: middle;\n",
              "    }\n",
              "\n",
              "    .dataframe tbody tr th {\n",
              "        vertical-align: top;\n",
              "    }\n",
              "\n",
              "    .dataframe thead th {\n",
              "        text-align: right;\n",
              "    }\n",
              "</style>\n",
              "<table border=\"1\" class=\"dataframe\">\n",
              "  <thead>\n",
              "    <tr style=\"text-align: right;\">\n",
              "      <th></th>\n",
              "      <th>0</th>\n",
              "      <th>1</th>\n",
              "      <th>2</th>\n",
              "      <th>3</th>\n",
              "    </tr>\n",
              "  </thead>\n",
              "  <tbody>\n",
              "    <tr>\n",
              "      <th>0</th>\n",
              "      <td>0</td>\n",
              "      <td>1</td>\n",
              "      <td>-2</td>\n",
              "      <td>-1</td>\n",
              "    </tr>\n",
              "    <tr>\n",
              "      <th>1</th>\n",
              "      <td>1</td>\n",
              "      <td>1</td>\n",
              "      <td>1</td>\n",
              "      <td>1</td>\n",
              "    </tr>\n",
              "  </tbody>\n",
              "</table>\n",
              "</div>"
            ],
            "text/plain": [
              "   0  1  2  3\n",
              "0  0  1 -2 -1\n",
              "1  1  1  1  1"
            ]
          },
          "metadata": {
            "tags": []
          },
          "execution_count": 73
        }
      ]
    },
    {
      "cell_type": "code",
      "metadata": {
        "id": "GdKKQyURK08h",
        "outputId": "c367410c-029c-463a-998a-85de3a0b6555"
      },
      "source": [
        "#dot usando una serie\n",
        "s = pd.Series([1, 1, 2, 1])\n",
        "df.dot(s)"
      ],
      "execution_count": null,
      "outputs": [
        {
          "output_type": "execute_result",
          "data": {
            "text/plain": [
              "0   -4\n",
              "1    5\n",
              "dtype: int64"
            ]
          },
          "metadata": {
            "tags": []
          },
          "execution_count": 74
        }
      ]
    },
    {
      "cell_type": "code",
      "metadata": {
        "id": "jLvzQjZOMuJR",
        "outputId": "b638ddd5-df54-4a04-f7b5-f14992adde80"
      },
      "source": [
        "#dot de dos matrices\n",
        "other = pd.DataFrame([[0, 1], [1, 2], [-1, -1], [2, 0]])\n",
        "df.dot(other)"
      ],
      "execution_count": null,
      "outputs": [
        {
          "output_type": "execute_result",
          "data": {
            "text/html": [
              "<div>\n",
              "<style scoped>\n",
              "    .dataframe tbody tr th:only-of-type {\n",
              "        vertical-align: middle;\n",
              "    }\n",
              "\n",
              "    .dataframe tbody tr th {\n",
              "        vertical-align: top;\n",
              "    }\n",
              "\n",
              "    .dataframe thead th {\n",
              "        text-align: right;\n",
              "    }\n",
              "</style>\n",
              "<table border=\"1\" class=\"dataframe\">\n",
              "  <thead>\n",
              "    <tr style=\"text-align: right;\">\n",
              "      <th></th>\n",
              "      <th>0</th>\n",
              "      <th>1</th>\n",
              "    </tr>\n",
              "  </thead>\n",
              "  <tbody>\n",
              "    <tr>\n",
              "      <th>0</th>\n",
              "      <td>1</td>\n",
              "      <td>4</td>\n",
              "    </tr>\n",
              "    <tr>\n",
              "      <th>1</th>\n",
              "      <td>2</td>\n",
              "      <td>2</td>\n",
              "    </tr>\n",
              "  </tbody>\n",
              "</table>\n",
              "</div>"
            ],
            "text/plain": [
              "   0  1\n",
              "0  1  4\n",
              "1  2  2"
            ]
          },
          "metadata": {
            "tags": []
          },
          "execution_count": 75
        }
      ]
    },
    {
      "cell_type": "markdown",
      "metadata": {
        "id": "gW9WU9a4yCsT"
      },
      "source": [
        "*Nota: Las operaciones binarias pueden aplicarse usando escalares, series u otros dataframes.*"
      ]
    },
    {
      "cell_type": "markdown",
      "metadata": {
        "id": "hN3IC4dlKnUI"
      },
      "source": [
        "## Operaciones estadísticas"
      ]
    },
    {
      "cell_type": "markdown",
      "metadata": {
        "id": "giITZgImLK05"
      },
      "source": [
        "### abs()"
      ]
    },
    {
      "cell_type": "code",
      "metadata": {
        "id": "qR_CH7C6jMFk",
        "outputId": "bb551fa2-aa09-46cc-ef8f-54b27f80299d"
      },
      "source": [
        "#un df con valores negativos\n",
        "df = pd.DataFrame({'a': [4, -5, -6, 7], 'b': [-10, 20, 30, -40], 'c': [100, 50, -30, -50]})\n",
        "df"
      ],
      "execution_count": null,
      "outputs": [
        {
          "output_type": "execute_result",
          "data": {
            "text/html": [
              "<div>\n",
              "<style scoped>\n",
              "    .dataframe tbody tr th:only-of-type {\n",
              "        vertical-align: middle;\n",
              "    }\n",
              "\n",
              "    .dataframe tbody tr th {\n",
              "        vertical-align: top;\n",
              "    }\n",
              "\n",
              "    .dataframe thead th {\n",
              "        text-align: right;\n",
              "    }\n",
              "</style>\n",
              "<table border=\"1\" class=\"dataframe\">\n",
              "  <thead>\n",
              "    <tr style=\"text-align: right;\">\n",
              "      <th></th>\n",
              "      <th>a</th>\n",
              "      <th>b</th>\n",
              "      <th>c</th>\n",
              "    </tr>\n",
              "  </thead>\n",
              "  <tbody>\n",
              "    <tr>\n",
              "      <th>0</th>\n",
              "      <td>4</td>\n",
              "      <td>-10</td>\n",
              "      <td>100</td>\n",
              "    </tr>\n",
              "    <tr>\n",
              "      <th>1</th>\n",
              "      <td>-5</td>\n",
              "      <td>20</td>\n",
              "      <td>50</td>\n",
              "    </tr>\n",
              "    <tr>\n",
              "      <th>2</th>\n",
              "      <td>-6</td>\n",
              "      <td>30</td>\n",
              "      <td>-30</td>\n",
              "    </tr>\n",
              "    <tr>\n",
              "      <th>3</th>\n",
              "      <td>7</td>\n",
              "      <td>-40</td>\n",
              "      <td>-50</td>\n",
              "    </tr>\n",
              "  </tbody>\n",
              "</table>\n",
              "</div>"
            ],
            "text/plain": [
              "   a   b    c\n",
              "0  4 -10  100\n",
              "1 -5  20   50\n",
              "2 -6  30  -30\n",
              "3  7 -40  -50"
            ]
          },
          "metadata": {
            "tags": []
          },
          "execution_count": 76
        }
      ]
    },
    {
      "cell_type": "code",
      "metadata": {
        "id": "6Fvi1UeOmQZI",
        "outputId": "d2d6cc88-3973-4a27-cc31-824ae34d1e0b"
      },
      "source": [
        "df.abs()"
      ],
      "execution_count": null,
      "outputs": [
        {
          "output_type": "execute_result",
          "data": {
            "text/html": [
              "<div>\n",
              "<style scoped>\n",
              "    .dataframe tbody tr th:only-of-type {\n",
              "        vertical-align: middle;\n",
              "    }\n",
              "\n",
              "    .dataframe tbody tr th {\n",
              "        vertical-align: top;\n",
              "    }\n",
              "\n",
              "    .dataframe thead th {\n",
              "        text-align: right;\n",
              "    }\n",
              "</style>\n",
              "<table border=\"1\" class=\"dataframe\">\n",
              "  <thead>\n",
              "    <tr style=\"text-align: right;\">\n",
              "      <th></th>\n",
              "      <th>a</th>\n",
              "      <th>b</th>\n",
              "      <th>c</th>\n",
              "    </tr>\n",
              "  </thead>\n",
              "  <tbody>\n",
              "    <tr>\n",
              "      <th>0</th>\n",
              "      <td>4</td>\n",
              "      <td>10</td>\n",
              "      <td>100</td>\n",
              "    </tr>\n",
              "    <tr>\n",
              "      <th>1</th>\n",
              "      <td>5</td>\n",
              "      <td>20</td>\n",
              "      <td>50</td>\n",
              "    </tr>\n",
              "    <tr>\n",
              "      <th>2</th>\n",
              "      <td>6</td>\n",
              "      <td>30</td>\n",
              "      <td>30</td>\n",
              "    </tr>\n",
              "    <tr>\n",
              "      <th>3</th>\n",
              "      <td>7</td>\n",
              "      <td>40</td>\n",
              "      <td>50</td>\n",
              "    </tr>\n",
              "  </tbody>\n",
              "</table>\n",
              "</div>"
            ],
            "text/plain": [
              "   a   b    c\n",
              "0  4  10  100\n",
              "1  5  20   50\n",
              "2  6  30   30\n",
              "3  7  40   50"
            ]
          },
          "metadata": {
            "tags": []
          },
          "execution_count": 77
        }
      ]
    },
    {
      "cell_type": "markdown",
      "metadata": {
        "id": "1Qpx3o7tLO2L"
      },
      "source": [
        "### count()"
      ]
    },
    {
      "cell_type": "code",
      "metadata": {
        "id": "TRQ1-i_MLO6R",
        "outputId": "ed181d8d-c7ed-45d0-c0a9-a837ba56a9d7"
      },
      "source": [
        "#un dataframe con valores no-nulos y nuelos\n",
        "df = pd.DataFrame({\"Person\":[\"John\", \"Myla\", \"Lewis\", \"John\", \"Myla\"],\n",
        "                    \"Age\": [24., np.nan, 21., 33, 26],\n",
        "                    \"Single\": [False, True, True, np.nan, np.nan]})\n",
        "df"
      ],
      "execution_count": null,
      "outputs": [
        {
          "output_type": "execute_result",
          "data": {
            "text/html": [
              "<div>\n",
              "<style scoped>\n",
              "    .dataframe tbody tr th:only-of-type {\n",
              "        vertical-align: middle;\n",
              "    }\n",
              "\n",
              "    .dataframe tbody tr th {\n",
              "        vertical-align: top;\n",
              "    }\n",
              "\n",
              "    .dataframe thead th {\n",
              "        text-align: right;\n",
              "    }\n",
              "</style>\n",
              "<table border=\"1\" class=\"dataframe\">\n",
              "  <thead>\n",
              "    <tr style=\"text-align: right;\">\n",
              "      <th></th>\n",
              "      <th>Person</th>\n",
              "      <th>Age</th>\n",
              "      <th>Single</th>\n",
              "    </tr>\n",
              "  </thead>\n",
              "  <tbody>\n",
              "    <tr>\n",
              "      <th>0</th>\n",
              "      <td>John</td>\n",
              "      <td>24.0</td>\n",
              "      <td>False</td>\n",
              "    </tr>\n",
              "    <tr>\n",
              "      <th>1</th>\n",
              "      <td>Myla</td>\n",
              "      <td>NaN</td>\n",
              "      <td>True</td>\n",
              "    </tr>\n",
              "    <tr>\n",
              "      <th>2</th>\n",
              "      <td>Lewis</td>\n",
              "      <td>21.0</td>\n",
              "      <td>True</td>\n",
              "    </tr>\n",
              "    <tr>\n",
              "      <th>3</th>\n",
              "      <td>John</td>\n",
              "      <td>33.0</td>\n",
              "      <td>NaN</td>\n",
              "    </tr>\n",
              "    <tr>\n",
              "      <th>4</th>\n",
              "      <td>Myla</td>\n",
              "      <td>26.0</td>\n",
              "      <td>NaN</td>\n",
              "    </tr>\n",
              "  </tbody>\n",
              "</table>\n",
              "</div>"
            ],
            "text/plain": [
              "  Person   Age Single\n",
              "0   John  24.0  False\n",
              "1   Myla   NaN   True\n",
              "2  Lewis  21.0   True\n",
              "3   John  33.0    NaN\n",
              "4   Myla  26.0    NaN"
            ]
          },
          "metadata": {
            "tags": []
          },
          "execution_count": 78
        }
      ]
    },
    {
      "cell_type": "markdown",
      "metadata": {
        "id": "bhRjhAwsoc3i"
      },
      "source": [
        "Por columna (por defecto axis=0):"
      ]
    },
    {
      "cell_type": "code",
      "metadata": {
        "id": "b9UZfmFrmuxM",
        "outputId": "4a903747-e7eb-4c1e-9278-dc6ec7d85029"
      },
      "source": [
        "df.count()"
      ],
      "execution_count": null,
      "outputs": [
        {
          "output_type": "execute_result",
          "data": {
            "text/plain": [
              "Person    5\n",
              "Age       4\n",
              "Single    3\n",
              "dtype: int64"
            ]
          },
          "metadata": {
            "tags": []
          },
          "execution_count": 79
        }
      ]
    },
    {
      "cell_type": "markdown",
      "metadata": {
        "id": "rm_XPyieodTa"
      },
      "source": [
        "Por fila (axis=1)"
      ]
    },
    {
      "cell_type": "code",
      "metadata": {
        "id": "xIecQd5aodY3",
        "outputId": "acfd7bb8-bbea-42b8-86e7-28c26822e55f"
      },
      "source": [
        "df.count(axis=1)"
      ],
      "execution_count": null,
      "outputs": [
        {
          "output_type": "execute_result",
          "data": {
            "text/plain": [
              "0    3\n",
              "1    2\n",
              "2    3\n",
              "3    2\n",
              "4    2\n",
              "dtype: int64"
            ]
          },
          "metadata": {
            "tags": []
          },
          "execution_count": 80
        }
      ]
    },
    {
      "cell_type": "markdown",
      "metadata": {
        "id": "sYkKe0CeLQj9"
      },
      "source": [
        "### max() y min()"
      ]
    },
    {
      "cell_type": "code",
      "metadata": {
        "id": "i8ASz2GHm0oN",
        "outputId": "46f1fe83-1cce-4d7c-cd4b-c9f16d034e94"
      },
      "source": [
        "#creamos un dataframe para ejemplificar las funciones\n",
        "df = pd.DataFrame({'angles': [0, 3, 4], 'degrees': [360, 180, 360]}, index=['circle', 'triangle', 'rectangle'])\n",
        "df"
      ],
      "execution_count": null,
      "outputs": [
        {
          "output_type": "execute_result",
          "data": {
            "text/html": [
              "<div>\n",
              "<style scoped>\n",
              "    .dataframe tbody tr th:only-of-type {\n",
              "        vertical-align: middle;\n",
              "    }\n",
              "\n",
              "    .dataframe tbody tr th {\n",
              "        vertical-align: top;\n",
              "    }\n",
              "\n",
              "    .dataframe thead th {\n",
              "        text-align: right;\n",
              "    }\n",
              "</style>\n",
              "<table border=\"1\" class=\"dataframe\">\n",
              "  <thead>\n",
              "    <tr style=\"text-align: right;\">\n",
              "      <th></th>\n",
              "      <th>angles</th>\n",
              "      <th>degrees</th>\n",
              "    </tr>\n",
              "  </thead>\n",
              "  <tbody>\n",
              "    <tr>\n",
              "      <th>circle</th>\n",
              "      <td>0</td>\n",
              "      <td>360</td>\n",
              "    </tr>\n",
              "    <tr>\n",
              "      <th>triangle</th>\n",
              "      <td>3</td>\n",
              "      <td>180</td>\n",
              "    </tr>\n",
              "    <tr>\n",
              "      <th>rectangle</th>\n",
              "      <td>4</td>\n",
              "      <td>360</td>\n",
              "    </tr>\n",
              "  </tbody>\n",
              "</table>\n",
              "</div>"
            ],
            "text/plain": [
              "           angles  degrees\n",
              "circle          0      360\n",
              "triangle        3      180\n",
              "rectangle       4      360"
            ]
          },
          "metadata": {
            "tags": []
          },
          "execution_count": 81
        }
      ]
    },
    {
      "cell_type": "markdown",
      "metadata": {
        "id": "bQavGGrFnH1l"
      },
      "source": [
        "Por columna (por defecto ```axis=0```):"
      ]
    },
    {
      "cell_type": "code",
      "metadata": {
        "id": "voNH4Yf5csuy",
        "outputId": "d190080c-b072-452f-eae4-faad34f4615f"
      },
      "source": [
        "df.max(axis=0)"
      ],
      "execution_count": null,
      "outputs": [
        {
          "output_type": "execute_result",
          "data": {
            "text/plain": [
              "angles       4\n",
              "degrees    360\n",
              "dtype: int64"
            ]
          },
          "metadata": {
            "tags": []
          },
          "execution_count": 82
        }
      ]
    },
    {
      "cell_type": "code",
      "metadata": {
        "id": "LtId7n9PnEyr",
        "outputId": "084f6943-730d-44e1-a83a-05f66f7f9121"
      },
      "source": [
        "# axis = 0 por defecto\n",
        "df.min()"
      ],
      "execution_count": null,
      "outputs": [
        {
          "output_type": "execute_result",
          "data": {
            "text/plain": [
              "angles       0\n",
              "degrees    180\n",
              "dtype: int64"
            ]
          },
          "metadata": {
            "tags": []
          },
          "execution_count": 83
        }
      ]
    },
    {
      "cell_type": "markdown",
      "metadata": {
        "id": "e4JTvqUnnMr8"
      },
      "source": [
        "Por filas (```axis=1```):"
      ]
    },
    {
      "cell_type": "code",
      "metadata": {
        "id": "6D5arL57nO43",
        "outputId": "5d762868-c9ed-4541-f5ae-c111809cfc37"
      },
      "source": [
        "df.max(axis=1)"
      ],
      "execution_count": null,
      "outputs": [
        {
          "output_type": "execute_result",
          "data": {
            "text/plain": [
              "circle       360\n",
              "triangle     180\n",
              "rectangle    360\n",
              "dtype: int64"
            ]
          },
          "metadata": {
            "tags": []
          },
          "execution_count": 84
        }
      ]
    },
    {
      "cell_type": "code",
      "metadata": {
        "id": "ZGo4traHnPTu",
        "outputId": "d143026c-8ee4-4a50-f518-93d9ebca364e"
      },
      "source": [
        "df.min(axis=1)"
      ],
      "execution_count": null,
      "outputs": [
        {
          "output_type": "execute_result",
          "data": {
            "text/plain": [
              "circle       0\n",
              "triangle     3\n",
              "rectangle    4\n",
              "dtype: int64"
            ]
          },
          "metadata": {
            "tags": []
          },
          "execution_count": 85
        }
      ]
    },
    {
      "cell_type": "markdown",
      "metadata": {
        "id": "rN6bfSoILUzq"
      },
      "source": [
        "### mean() y median()"
      ]
    },
    {
      "cell_type": "markdown",
      "metadata": {
        "id": "2VYzRogro2FS"
      },
      "source": [
        "Por columnas (por defecto axis=0)"
      ]
    },
    {
      "cell_type": "code",
      "metadata": {
        "id": "mzy5zOQ5o22-",
        "outputId": "968d6ba8-bf5f-49e0-8ca3-228bc6ddcdbb"
      },
      "source": [
        "df.mean()"
      ],
      "execution_count": null,
      "outputs": [
        {
          "output_type": "execute_result",
          "data": {
            "text/plain": [
              "angles       2.333333\n",
              "degrees    300.000000\n",
              "dtype: float64"
            ]
          },
          "metadata": {
            "tags": []
          },
          "execution_count": 86
        }
      ]
    },
    {
      "cell_type": "code",
      "metadata": {
        "id": "aVCiWZimpA01",
        "outputId": "1d67824a-80e0-4f1a-e69e-547103cd7847"
      },
      "source": [
        "df.median()"
      ],
      "execution_count": null,
      "outputs": [
        {
          "output_type": "execute_result",
          "data": {
            "text/plain": [
              "angles       3.0\n",
              "degrees    360.0\n",
              "dtype: float64"
            ]
          },
          "metadata": {
            "tags": []
          },
          "execution_count": 87
        }
      ]
    },
    {
      "cell_type": "markdown",
      "metadata": {
        "id": "zaBNhyVWo2-v"
      },
      "source": [
        "Por filas (axis=1):"
      ]
    },
    {
      "cell_type": "code",
      "metadata": {
        "id": "KfQwjwIYLakL",
        "outputId": "0f074d5e-eca0-45c2-a12f-378d466c780e"
      },
      "source": [
        "df.mean(axis=1)"
      ],
      "execution_count": null,
      "outputs": [
        {
          "output_type": "execute_result",
          "data": {
            "text/plain": [
              "circle       180.0\n",
              "triangle      91.5\n",
              "rectangle    182.0\n",
              "dtype: float64"
            ]
          },
          "metadata": {
            "tags": []
          },
          "execution_count": 88
        }
      ]
    },
    {
      "cell_type": "code",
      "metadata": {
        "id": "2Hfdph4hpQ_c",
        "outputId": "fa431a7d-c12e-4bd8-b80b-eeced7e24386"
      },
      "source": [
        "df.median(axis=1)"
      ],
      "execution_count": null,
      "outputs": [
        {
          "output_type": "execute_result",
          "data": {
            "text/plain": [
              "circle       180.0\n",
              "triangle      91.5\n",
              "rectangle    182.0\n",
              "dtype: float64"
            ]
          },
          "metadata": {
            "tags": []
          },
          "execution_count": 89
        }
      ]
    },
    {
      "cell_type": "markdown",
      "metadata": {
        "id": "HPTgv9gBLaqN"
      },
      "source": [
        "### sum()"
      ]
    },
    {
      "cell_type": "markdown",
      "metadata": {
        "id": "44usShNUpbb3"
      },
      "source": [
        "Por columnas (por defecto axis=0):"
      ]
    },
    {
      "cell_type": "code",
      "metadata": {
        "id": "cGGOiXdwLawP",
        "outputId": "0b07cf65-2ee3-414d-82ae-799a0d97efab"
      },
      "source": [
        "df.sum()"
      ],
      "execution_count": null,
      "outputs": [
        {
          "output_type": "execute_result",
          "data": {
            "text/plain": [
              "angles       7\n",
              "degrees    900\n",
              "dtype: int64"
            ]
          },
          "metadata": {
            "tags": []
          },
          "execution_count": 90
        }
      ]
    },
    {
      "cell_type": "markdown",
      "metadata": {
        "id": "8Wkp93t_pb75"
      },
      "source": [
        "Por filas (axis=1):"
      ]
    },
    {
      "cell_type": "code",
      "metadata": {
        "id": "g_fIp2cXpcA-",
        "outputId": "2baf4701-6824-4395-c4e6-1fd5f42a1a4d"
      },
      "source": [
        "df.sum(axis=1)"
      ],
      "execution_count": null,
      "outputs": [
        {
          "output_type": "execute_result",
          "data": {
            "text/plain": [
              "circle       360\n",
              "triangle     183\n",
              "rectangle    364\n",
              "dtype: int64"
            ]
          },
          "metadata": {
            "tags": []
          },
          "execution_count": 91
        }
      ]
    },
    {
      "cell_type": "markdown",
      "metadata": {
        "id": "Ep_iABKeLcN2"
      },
      "source": [
        "### std() y var()"
      ]
    },
    {
      "cell_type": "markdown",
      "metadata": {
        "id": "cqDKnpRlpzD4"
      },
      "source": [
        "Por columnas (por defecto axis=0):"
      ]
    },
    {
      "cell_type": "code",
      "metadata": {
        "id": "wvQx0krDLcUZ",
        "outputId": "27a81c06-c923-42bb-c652-83c73f470652"
      },
      "source": [
        "df.std()"
      ],
      "execution_count": null,
      "outputs": [
        {
          "output_type": "execute_result",
          "data": {
            "text/plain": [
              "angles       2.081666\n",
              "degrees    103.923048\n",
              "dtype: float64"
            ]
          },
          "metadata": {
            "tags": []
          },
          "execution_count": 92
        }
      ]
    },
    {
      "cell_type": "code",
      "metadata": {
        "id": "ZMP8viIvp-54",
        "outputId": "20a5dc6a-8002-40dd-bb58-c3e6fc31a519"
      },
      "source": [
        "df.var()"
      ],
      "execution_count": null,
      "outputs": [
        {
          "output_type": "execute_result",
          "data": {
            "text/plain": [
              "angles         4.333333\n",
              "degrees    10800.000000\n",
              "dtype: float64"
            ]
          },
          "metadata": {
            "tags": []
          },
          "execution_count": 93
        }
      ]
    },
    {
      "cell_type": "markdown",
      "metadata": {
        "id": "wk7PNbHnpzoY"
      },
      "source": [
        "Por filas (axis=1):"
      ]
    },
    {
      "cell_type": "code",
      "metadata": {
        "id": "ePFAQ62DpztQ",
        "outputId": "3759052f-fc06-422b-ae80-554ad93d1ced"
      },
      "source": [
        "df.std(axis=1)"
      ],
      "execution_count": null,
      "outputs": [
        {
          "output_type": "execute_result",
          "data": {
            "text/plain": [
              "circle       254.558441\n",
              "triangle     125.157900\n",
              "rectangle    251.730014\n",
              "dtype: float64"
            ]
          },
          "metadata": {
            "tags": []
          },
          "execution_count": 94
        }
      ]
    },
    {
      "cell_type": "code",
      "metadata": {
        "id": "0dzqX_njqDGZ",
        "outputId": "3d9e204b-50d3-4106-ced2-d1f1edd58aef"
      },
      "source": [
        "df.var(axis=1)"
      ],
      "execution_count": null,
      "outputs": [
        {
          "output_type": "execute_result",
          "data": {
            "text/plain": [
              "circle       64800.0\n",
              "triangle     15664.5\n",
              "rectangle    63368.0\n",
              "dtype: float64"
            ]
          },
          "metadata": {
            "tags": []
          },
          "execution_count": 95
        }
      ]
    },
    {
      "cell_type": "markdown",
      "metadata": {
        "id": "Z4ZjI7Xzcr91"
      },
      "source": [
        "# Aplicando funciones propias"
      ]
    },
    {
      "cell_type": "markdown",
      "metadata": {
        "id": "rLqL8hxHcvhp"
      },
      "source": [
        "## apply()\n",
        "\n",
        "Recibe una función y la aplica a todas las filas o columnas según el axis indicado."
      ]
    },
    {
      "cell_type": "markdown",
      "metadata": {
        "id": "YOn9rei70eoL"
      },
      "source": [
        "```axis=0``` aplica la función por columnas:"
      ]
    },
    {
      "cell_type": "code",
      "metadata": {
        "id": "ik_aP1hjT-PU",
        "outputId": "87c9e79b-43bf-4c58-fa79-41a44ce3e0db"
      },
      "source": [
        "f = lambda x: (x - x.mean())/x.var()\n",
        "\n",
        "#aplica la funcion a todas las columnas\n",
        "cali_housing.apply(f, axis=0)"
      ],
      "execution_count": null,
      "outputs": [
        {
          "output_type": "execute_result",
          "data": {
            "text/html": [
              "<div>\n",
              "<style scoped>\n",
              "    .dataframe tbody tr th:only-of-type {\n",
              "        vertical-align: middle;\n",
              "    }\n",
              "\n",
              "    .dataframe tbody tr th {\n",
              "        vertical-align: top;\n",
              "    }\n",
              "\n",
              "    .dataframe thead th {\n",
              "        text-align: right;\n",
              "    }\n",
              "</style>\n",
              "<table border=\"1\" class=\"dataframe\">\n",
              "  <thead>\n",
              "    <tr style=\"text-align: right;\">\n",
              "      <th></th>\n",
              "      <th>longitude</th>\n",
              "      <th>latitude</th>\n",
              "      <th>housing_median_age</th>\n",
              "      <th>total_rooms</th>\n",
              "      <th>total_bedrooms</th>\n",
              "      <th>population</th>\n",
              "      <th>households</th>\n",
              "      <th>median_income</th>\n",
              "      <th>median_house_value</th>\n",
              "      <th>random</th>\n",
              "    </tr>\n",
              "  </thead>\n",
              "  <tbody>\n",
              "    <tr>\n",
              "      <th>0</th>\n",
              "      <td>-0.618327</td>\n",
              "      <td>0.382452</td>\n",
              "      <td>-0.011706</td>\n",
              "      <td>0.000277</td>\n",
              "      <td>0.000759</td>\n",
              "      <td>0.000126</td>\n",
              "      <td>0.000869</td>\n",
              "      <td>0.814497</td>\n",
              "      <td>0.000011</td>\n",
              "      <td>-0.805456</td>\n",
              "    </tr>\n",
              "    <tr>\n",
              "      <th>1</th>\n",
              "      <td>0.323938</td>\n",
              "      <td>-0.303250</td>\n",
              "      <td>0.089792</td>\n",
              "      <td>-0.000234</td>\n",
              "      <td>-0.001909</td>\n",
              "      <td>-0.000559</td>\n",
              "      <td>-0.001594</td>\n",
              "      <td>-0.060558</td>\n",
              "      <td>-0.000002</td>\n",
              "      <td>0.180720</td>\n",
              "    </tr>\n",
              "    <tr>\n",
              "      <th>2</th>\n",
              "      <td>0.447061</td>\n",
              "      <td>-0.409082</td>\n",
              "      <td>-0.011706</td>\n",
              "      <td>0.000213</td>\n",
              "      <td>-0.000133</td>\n",
              "      <td>0.000076</td>\n",
              "      <td>0.000038</td>\n",
              "      <td>0.577495</td>\n",
              "      <td>0.000005</td>\n",
              "      <td>-0.173495</td>\n",
              "    </tr>\n",
              "    <tr>\n",
              "      <th>3</th>\n",
              "      <td>0.308862</td>\n",
              "      <td>-0.400263</td>\n",
              "      <td>-0.005362</td>\n",
              "      <td>-0.000545</td>\n",
              "      <td>-0.002980</td>\n",
              "      <td>-0.001275</td>\n",
              "      <td>-0.003586</td>\n",
              "      <td>0.677082</td>\n",
              "      <td>0.000010</td>\n",
              "      <td>0.245947</td>\n",
              "    </tr>\n",
              "    <tr>\n",
              "      <th>4</th>\n",
              "      <td>-0.020303</td>\n",
              "      <td>0.153150</td>\n",
              "      <td>-0.062455</td>\n",
              "      <td>-0.000292</td>\n",
              "      <td>-0.001655</td>\n",
              "      <td>-0.000521</td>\n",
              "      <td>-0.001894</td>\n",
              "      <td>-0.252898</td>\n",
              "      <td>-0.000010</td>\n",
              "      <td>-0.372827</td>\n",
              "    </tr>\n",
              "    <tr>\n",
              "      <th>...</th>\n",
              "      <td>...</td>\n",
              "      <td>...</td>\n",
              "      <td>...</td>\n",
              "      <td>...</td>\n",
              "      <td>...</td>\n",
              "      <td>...</td>\n",
              "      <td>...</td>\n",
              "      <td>...</td>\n",
              "      <td>...</td>\n",
              "      <td>...</td>\n",
              "    </tr>\n",
              "    <tr>\n",
              "      <th>2995</th>\n",
              "      <td>-0.068044</td>\n",
              "      <td>-0.267973</td>\n",
              "      <td>-0.037081</td>\n",
              "      <td>-0.000247</td>\n",
              "      <td>0.000649</td>\n",
              "      <td>-0.000136</td>\n",
              "      <td>0.000877</td>\n",
              "      <td>-0.764207</td>\n",
              "      <td>0.000001</td>\n",
              "      <td>0.924616</td>\n",
              "    </tr>\n",
              "    <tr>\n",
              "      <th>2996</th>\n",
              "      <td>0.364142</td>\n",
              "      <td>-0.347347</td>\n",
              "      <td>-0.011706</td>\n",
              "      <td>0.000572</td>\n",
              "      <td>0.003195</td>\n",
              "      <td>0.001971</td>\n",
              "      <td>0.004090</td>\n",
              "      <td>-0.121153</td>\n",
              "      <td>0.000002</td>\n",
              "      <td>-1.454538</td>\n",
              "    </tr>\n",
              "    <tr>\n",
              "      <th>2997</th>\n",
              "      <td>-0.027841</td>\n",
              "      <td>0.146535</td>\n",
              "      <td>-0.119548</td>\n",
              "      <td>-0.000354</td>\n",
              "      <td>-0.001904</td>\n",
              "      <td>-0.000668</td>\n",
              "      <td>-0.002021</td>\n",
              "      <td>-0.441314</td>\n",
              "      <td>-0.000011</td>\n",
              "      <td>0.123000</td>\n",
              "    </tr>\n",
              "    <tr>\n",
              "      <th>2998</th>\n",
              "      <td>0.620438</td>\n",
              "      <td>-0.338528</td>\n",
              "      <td>0.070761</td>\n",
              "      <td>-0.000539</td>\n",
              "      <td>-0.002986</td>\n",
              "      <td>-0.001278</td>\n",
              "      <td>-0.003564</td>\n",
              "      <td>-0.155987</td>\n",
              "      <td>-0.000003</td>\n",
              "      <td>-2.099829</td>\n",
              "    </tr>\n",
              "    <tr>\n",
              "      <th>2999</th>\n",
              "      <td>-0.010252</td>\n",
              "      <td>-0.267973</td>\n",
              "      <td>0.083449</td>\n",
              "      <td>-0.000180</td>\n",
              "      <td>-0.001545</td>\n",
              "      <td>-0.000612</td>\n",
              "      <td>-0.001722</td>\n",
              "      <td>1.382155</td>\n",
              "      <td>0.000023</td>\n",
              "      <td>0.479625</td>\n",
              "    </tr>\n",
              "  </tbody>\n",
              "</table>\n",
              "<p>3000 rows × 10 columns</p>\n",
              "</div>"
            ],
            "text/plain": [
              "      longitude  latitude  housing_median_age  total_rooms  total_bedrooms  \\\n",
              "0     -0.618327  0.382452           -0.011706     0.000277        0.000759   \n",
              "1      0.323938 -0.303250            0.089792    -0.000234       -0.001909   \n",
              "2      0.447061 -0.409082           -0.011706     0.000213       -0.000133   \n",
              "3      0.308862 -0.400263           -0.005362    -0.000545       -0.002980   \n",
              "4     -0.020303  0.153150           -0.062455    -0.000292       -0.001655   \n",
              "...         ...       ...                 ...          ...             ...   \n",
              "2995  -0.068044 -0.267973           -0.037081    -0.000247        0.000649   \n",
              "2996   0.364142 -0.347347           -0.011706     0.000572        0.003195   \n",
              "2997  -0.027841  0.146535           -0.119548    -0.000354       -0.001904   \n",
              "2998   0.620438 -0.338528            0.070761    -0.000539       -0.002986   \n",
              "2999  -0.010252 -0.267973            0.083449    -0.000180       -0.001545   \n",
              "\n",
              "      population  households  median_income  median_house_value    random  \n",
              "0       0.000126    0.000869       0.814497            0.000011 -0.805456  \n",
              "1      -0.000559   -0.001594      -0.060558           -0.000002  0.180720  \n",
              "2       0.000076    0.000038       0.577495            0.000005 -0.173495  \n",
              "3      -0.001275   -0.003586       0.677082            0.000010  0.245947  \n",
              "4      -0.000521   -0.001894      -0.252898           -0.000010 -0.372827  \n",
              "...          ...         ...            ...                 ...       ...  \n",
              "2995   -0.000136    0.000877      -0.764207            0.000001  0.924616  \n",
              "2996    0.001971    0.004090      -0.121153            0.000002 -1.454538  \n",
              "2997   -0.000668   -0.002021      -0.441314           -0.000011  0.123000  \n",
              "2998   -0.001278   -0.003564      -0.155987           -0.000003 -2.099829  \n",
              "2999   -0.000612   -0.001722       1.382155            0.000023  0.479625  \n",
              "\n",
              "[3000 rows x 10 columns]"
            ]
          },
          "metadata": {
            "tags": []
          },
          "execution_count": 96
        }
      ]
    },
    {
      "cell_type": "markdown",
      "metadata": {
        "id": "r0nPxa8k0nJ7"
      },
      "source": [
        "```axis = 1``` aplica la función por filas:"
      ]
    },
    {
      "cell_type": "code",
      "metadata": {
        "id": "YicJc0p2hGTw",
        "outputId": "8711bd44-cf69-45ea-ec97-38acf193fbea"
      },
      "source": [
        "#aplica la funcion a todas las filas\n",
        "cali_housing.apply(f, axis=1)"
      ],
      "execution_count": null,
      "outputs": [
        {
          "output_type": "execute_result",
          "data": {
            "text/html": [
              "<div>\n",
              "<style scoped>\n",
              "    .dataframe tbody tr th:only-of-type {\n",
              "        vertical-align: middle;\n",
              "    }\n",
              "\n",
              "    .dataframe tbody tr th {\n",
              "        vertical-align: top;\n",
              "    }\n",
              "\n",
              "    .dataframe thead th {\n",
              "        text-align: right;\n",
              "    }\n",
              "</style>\n",
              "<table border=\"1\" class=\"dataframe\">\n",
              "  <thead>\n",
              "    <tr style=\"text-align: right;\">\n",
              "      <th></th>\n",
              "      <th>longitude</th>\n",
              "      <th>latitude</th>\n",
              "      <th>housing_median_age</th>\n",
              "      <th>total_rooms</th>\n",
              "      <th>total_bedrooms</th>\n",
              "      <th>population</th>\n",
              "      <th>households</th>\n",
              "      <th>median_income</th>\n",
              "      <th>median_house_value</th>\n",
              "      <th>random</th>\n",
              "    </tr>\n",
              "  </thead>\n",
              "  <tbody>\n",
              "    <tr>\n",
              "      <th>0</th>\n",
              "      <td>-0.000003</td>\n",
              "      <td>-0.000003</td>\n",
              "      <td>-0.000003</td>\n",
              "      <td>-0.000003</td>\n",
              "      <td>-0.000003</td>\n",
              "      <td>-0.000003</td>\n",
              "      <td>-0.000003</td>\n",
              "      <td>-0.000003</td>\n",
              "      <td>0.000026</td>\n",
              "      <td>-0.000003</td>\n",
              "    </tr>\n",
              "    <tr>\n",
              "      <th>1</th>\n",
              "      <td>-0.000006</td>\n",
              "      <td>-0.000006</td>\n",
              "      <td>-0.000006</td>\n",
              "      <td>-0.000005</td>\n",
              "      <td>-0.000006</td>\n",
              "      <td>-0.000006</td>\n",
              "      <td>-0.000006</td>\n",
              "      <td>-0.000006</td>\n",
              "      <td>0.000051</td>\n",
              "      <td>-0.000006</td>\n",
              "    </tr>\n",
              "    <tr>\n",
              "      <th>2</th>\n",
              "      <td>-0.000004</td>\n",
              "      <td>-0.000004</td>\n",
              "      <td>-0.000004</td>\n",
              "      <td>-0.000003</td>\n",
              "      <td>-0.000004</td>\n",
              "      <td>-0.000004</td>\n",
              "      <td>-0.000004</td>\n",
              "      <td>-0.000004</td>\n",
              "      <td>0.000033</td>\n",
              "      <td>-0.000004</td>\n",
              "    </tr>\n",
              "    <tr>\n",
              "      <th>3</th>\n",
              "      <td>-0.000003</td>\n",
              "      <td>-0.000003</td>\n",
              "      <td>-0.000003</td>\n",
              "      <td>-0.000003</td>\n",
              "      <td>-0.000003</td>\n",
              "      <td>-0.000003</td>\n",
              "      <td>-0.000003</td>\n",
              "      <td>-0.000003</td>\n",
              "      <td>0.000027</td>\n",
              "      <td>-0.000003</td>\n",
              "    </tr>\n",
              "    <tr>\n",
              "      <th>4</th>\n",
              "      <td>-0.000013</td>\n",
              "      <td>-0.000013</td>\n",
              "      <td>-0.000013</td>\n",
              "      <td>-0.000011</td>\n",
              "      <td>-0.000012</td>\n",
              "      <td>-0.000011</td>\n",
              "      <td>-0.000012</td>\n",
              "      <td>-0.000013</td>\n",
              "      <td>0.000111</td>\n",
              "      <td>-0.000013</td>\n",
              "    </tr>\n",
              "    <tr>\n",
              "      <th>...</th>\n",
              "      <td>...</td>\n",
              "      <td>...</td>\n",
              "      <td>...</td>\n",
              "      <td>...</td>\n",
              "      <td>...</td>\n",
              "      <td>...</td>\n",
              "      <td>...</td>\n",
              "      <td>...</td>\n",
              "      <td>...</td>\n",
              "      <td>...</td>\n",
              "    </tr>\n",
              "    <tr>\n",
              "      <th>2995</th>\n",
              "      <td>-0.000005</td>\n",
              "      <td>-0.000005</td>\n",
              "      <td>-0.000005</td>\n",
              "      <td>-0.000004</td>\n",
              "      <td>-0.000004</td>\n",
              "      <td>-0.000004</td>\n",
              "      <td>-0.000004</td>\n",
              "      <td>-0.000005</td>\n",
              "      <td>0.000040</td>\n",
              "      <td>-0.000005</td>\n",
              "    </tr>\n",
              "    <tr>\n",
              "      <th>2996</th>\n",
              "      <td>-0.000004</td>\n",
              "      <td>-0.000004</td>\n",
              "      <td>-0.000004</td>\n",
              "      <td>-0.000004</td>\n",
              "      <td>-0.000004</td>\n",
              "      <td>-0.000004</td>\n",
              "      <td>-0.000004</td>\n",
              "      <td>-0.000004</td>\n",
              "      <td>0.000038</td>\n",
              "      <td>-0.000004</td>\n",
              "    </tr>\n",
              "    <tr>\n",
              "      <th>2997</th>\n",
              "      <td>-0.000017</td>\n",
              "      <td>-0.000017</td>\n",
              "      <td>-0.000017</td>\n",
              "      <td>-0.000014</td>\n",
              "      <td>-0.000016</td>\n",
              "      <td>-0.000015</td>\n",
              "      <td>-0.000016</td>\n",
              "      <td>-0.000017</td>\n",
              "      <td>0.000146</td>\n",
              "      <td>-0.000017</td>\n",
              "    </tr>\n",
              "    <tr>\n",
              "      <th>2998</th>\n",
              "      <td>-0.000006</td>\n",
              "      <td>-0.000006</td>\n",
              "      <td>-0.000006</td>\n",
              "      <td>-0.000006</td>\n",
              "      <td>-0.000006</td>\n",
              "      <td>-0.000006</td>\n",
              "      <td>-0.000006</td>\n",
              "      <td>-0.000006</td>\n",
              "      <td>0.000055</td>\n",
              "      <td>-0.000006</td>\n",
              "    </tr>\n",
              "    <tr>\n",
              "      <th>2999</th>\n",
              "      <td>-0.000002</td>\n",
              "      <td>-0.000002</td>\n",
              "      <td>-0.000002</td>\n",
              "      <td>-0.000002</td>\n",
              "      <td>-0.000002</td>\n",
              "      <td>-0.000002</td>\n",
              "      <td>-0.000002</td>\n",
              "      <td>-0.000002</td>\n",
              "      <td>0.000018</td>\n",
              "      <td>-0.000002</td>\n",
              "    </tr>\n",
              "  </tbody>\n",
              "</table>\n",
              "<p>3000 rows × 10 columns</p>\n",
              "</div>"
            ],
            "text/plain": [
              "      longitude  latitude  housing_median_age  total_rooms  total_bedrooms  \\\n",
              "0     -0.000003 -0.000003           -0.000003    -0.000003       -0.000003   \n",
              "1     -0.000006 -0.000006           -0.000006    -0.000005       -0.000006   \n",
              "2     -0.000004 -0.000004           -0.000004    -0.000003       -0.000004   \n",
              "3     -0.000003 -0.000003           -0.000003    -0.000003       -0.000003   \n",
              "4     -0.000013 -0.000013           -0.000013    -0.000011       -0.000012   \n",
              "...         ...       ...                 ...          ...             ...   \n",
              "2995  -0.000005 -0.000005           -0.000005    -0.000004       -0.000004   \n",
              "2996  -0.000004 -0.000004           -0.000004    -0.000004       -0.000004   \n",
              "2997  -0.000017 -0.000017           -0.000017    -0.000014       -0.000016   \n",
              "2998  -0.000006 -0.000006           -0.000006    -0.000006       -0.000006   \n",
              "2999  -0.000002 -0.000002           -0.000002    -0.000002       -0.000002   \n",
              "\n",
              "      population  households  median_income  median_house_value    random  \n",
              "0      -0.000003   -0.000003      -0.000003            0.000026 -0.000003  \n",
              "1      -0.000006   -0.000006      -0.000006            0.000051 -0.000006  \n",
              "2      -0.000004   -0.000004      -0.000004            0.000033 -0.000004  \n",
              "3      -0.000003   -0.000003      -0.000003            0.000027 -0.000003  \n",
              "4      -0.000011   -0.000012      -0.000013            0.000111 -0.000013  \n",
              "...          ...         ...            ...                 ...       ...  \n",
              "2995   -0.000004   -0.000004      -0.000005            0.000040 -0.000005  \n",
              "2996   -0.000004   -0.000004      -0.000004            0.000038 -0.000004  \n",
              "2997   -0.000015   -0.000016      -0.000017            0.000146 -0.000017  \n",
              "2998   -0.000006   -0.000006      -0.000006            0.000055 -0.000006  \n",
              "2999   -0.000002   -0.000002      -0.000002            0.000018 -0.000002  \n",
              "\n",
              "[3000 rows x 10 columns]"
            ]
          },
          "metadata": {
            "tags": []
          },
          "execution_count": 97
        }
      ]
    },
    {
      "cell_type": "markdown",
      "metadata": {
        "id": "874C05ZNcwDB"
      },
      "source": [
        "## applymap()\n",
        "\n",
        "Aplica una función elemento por elemento al objeto de Pandas."
      ]
    },
    {
      "cell_type": "code",
      "metadata": {
        "id": "GOaAV64ncwKT",
        "outputId": "ebb0d4ab-0e53-48d9-c4b0-5fc4b22bd4e3"
      },
      "source": [
        "f = lambda x: round(x)\n",
        "\n",
        "#aplica la funcion a todos los elementos\n",
        "cali_housing.applymap(f)"
      ],
      "execution_count": null,
      "outputs": [
        {
          "output_type": "execute_result",
          "data": {
            "text/html": [
              "<div>\n",
              "<style scoped>\n",
              "    .dataframe tbody tr th:only-of-type {\n",
              "        vertical-align: middle;\n",
              "    }\n",
              "\n",
              "    .dataframe tbody tr th {\n",
              "        vertical-align: top;\n",
              "    }\n",
              "\n",
              "    .dataframe thead th {\n",
              "        text-align: right;\n",
              "    }\n",
              "</style>\n",
              "<table border=\"1\" class=\"dataframe\">\n",
              "  <thead>\n",
              "    <tr style=\"text-align: right;\">\n",
              "      <th></th>\n",
              "      <th>longitude</th>\n",
              "      <th>latitude</th>\n",
              "      <th>housing_median_age</th>\n",
              "      <th>total_rooms</th>\n",
              "      <th>total_bedrooms</th>\n",
              "      <th>population</th>\n",
              "      <th>households</th>\n",
              "      <th>median_income</th>\n",
              "      <th>median_house_value</th>\n",
              "      <th>random</th>\n",
              "    </tr>\n",
              "  </thead>\n",
              "  <tbody>\n",
              "    <tr>\n",
              "      <th>0</th>\n",
              "      <td>-122</td>\n",
              "      <td>37</td>\n",
              "      <td>27</td>\n",
              "      <td>3885</td>\n",
              "      <td>661</td>\n",
              "      <td>1537</td>\n",
              "      <td>606</td>\n",
              "      <td>7</td>\n",
              "      <td>344700</td>\n",
              "      <td>-1</td>\n",
              "    </tr>\n",
              "    <tr>\n",
              "      <th>1</th>\n",
              "      <td>-118</td>\n",
              "      <td>34</td>\n",
              "      <td>43</td>\n",
              "      <td>1510</td>\n",
              "      <td>200</td>\n",
              "      <td>809</td>\n",
              "      <td>277</td>\n",
              "      <td>4</td>\n",
              "      <td>176500</td>\n",
              "      <td>0</td>\n",
              "    </tr>\n",
              "    <tr>\n",
              "      <th>2</th>\n",
              "      <td>-118</td>\n",
              "      <td>34</td>\n",
              "      <td>27</td>\n",
              "      <td>3589</td>\n",
              "      <td>507</td>\n",
              "      <td>1484</td>\n",
              "      <td>495</td>\n",
              "      <td>6</td>\n",
              "      <td>270500</td>\n",
              "      <td>0</td>\n",
              "    </tr>\n",
              "    <tr>\n",
              "      <th>3</th>\n",
              "      <td>-118</td>\n",
              "      <td>34</td>\n",
              "      <td>28</td>\n",
              "      <td>67</td>\n",
              "      <td>15</td>\n",
              "      <td>49</td>\n",
              "      <td>11</td>\n",
              "      <td>6</td>\n",
              "      <td>330000</td>\n",
              "      <td>0</td>\n",
              "    </tr>\n",
              "    <tr>\n",
              "      <th>4</th>\n",
              "      <td>-120</td>\n",
              "      <td>36</td>\n",
              "      <td>19</td>\n",
              "      <td>1241</td>\n",
              "      <td>244</td>\n",
              "      <td>850</td>\n",
              "      <td>237</td>\n",
              "      <td>3</td>\n",
              "      <td>81700</td>\n",
              "      <td>0</td>\n",
              "    </tr>\n",
              "    <tr>\n",
              "      <th>...</th>\n",
              "      <td>...</td>\n",
              "      <td>...</td>\n",
              "      <td>...</td>\n",
              "      <td>...</td>\n",
              "      <td>...</td>\n",
              "      <td>...</td>\n",
              "      <td>...</td>\n",
              "      <td>...</td>\n",
              "      <td>...</td>\n",
              "      <td>...</td>\n",
              "    </tr>\n",
              "    <tr>\n",
              "      <th>2995</th>\n",
              "      <td>-120</td>\n",
              "      <td>34</td>\n",
              "      <td>23</td>\n",
              "      <td>1450</td>\n",
              "      <td>642</td>\n",
              "      <td>1258</td>\n",
              "      <td>607</td>\n",
              "      <td>1</td>\n",
              "      <td>225000</td>\n",
              "      <td>1</td>\n",
              "    </tr>\n",
              "    <tr>\n",
              "      <th>2996</th>\n",
              "      <td>-118</td>\n",
              "      <td>34</td>\n",
              "      <td>27</td>\n",
              "      <td>5257</td>\n",
              "      <td>1082</td>\n",
              "      <td>3496</td>\n",
              "      <td>1036</td>\n",
              "      <td>3</td>\n",
              "      <td>237200</td>\n",
              "      <td>-1</td>\n",
              "    </tr>\n",
              "    <tr>\n",
              "      <th>2997</th>\n",
              "      <td>-120</td>\n",
              "      <td>36</td>\n",
              "      <td>10</td>\n",
              "      <td>956</td>\n",
              "      <td>201</td>\n",
              "      <td>693</td>\n",
              "      <td>220</td>\n",
              "      <td>2</td>\n",
              "      <td>62000</td>\n",
              "      <td>0</td>\n",
              "    </tr>\n",
              "    <tr>\n",
              "      <th>2998</th>\n",
              "      <td>-117</td>\n",
              "      <td>34</td>\n",
              "      <td>40</td>\n",
              "      <td>96</td>\n",
              "      <td>14</td>\n",
              "      <td>46</td>\n",
              "      <td>14</td>\n",
              "      <td>3</td>\n",
              "      <td>162500</td>\n",
              "      <td>-2</td>\n",
              "    </tr>\n",
              "    <tr>\n",
              "      <th>2999</th>\n",
              "      <td>-120</td>\n",
              "      <td>34</td>\n",
              "      <td>42</td>\n",
              "      <td>1765</td>\n",
              "      <td>263</td>\n",
              "      <td>753</td>\n",
              "      <td>260</td>\n",
              "      <td>9</td>\n",
              "      <td>500001</td>\n",
              "      <td>0</td>\n",
              "    </tr>\n",
              "  </tbody>\n",
              "</table>\n",
              "<p>3000 rows × 10 columns</p>\n",
              "</div>"
            ],
            "text/plain": [
              "      longitude  latitude  housing_median_age  total_rooms  total_bedrooms  \\\n",
              "0          -122        37                  27         3885             661   \n",
              "1          -118        34                  43         1510             200   \n",
              "2          -118        34                  27         3589             507   \n",
              "3          -118        34                  28           67              15   \n",
              "4          -120        36                  19         1241             244   \n",
              "...         ...       ...                 ...          ...             ...   \n",
              "2995       -120        34                  23         1450             642   \n",
              "2996       -118        34                  27         5257            1082   \n",
              "2997       -120        36                  10          956             201   \n",
              "2998       -117        34                  40           96              14   \n",
              "2999       -120        34                  42         1765             263   \n",
              "\n",
              "      population  households  median_income  median_house_value  random  \n",
              "0           1537         606              7              344700      -1  \n",
              "1            809         277              4              176500       0  \n",
              "2           1484         495              6              270500       0  \n",
              "3             49          11              6              330000       0  \n",
              "4            850         237              3               81700       0  \n",
              "...          ...         ...            ...                 ...     ...  \n",
              "2995        1258         607              1              225000       1  \n",
              "2996        3496        1036              3              237200      -1  \n",
              "2997         693         220              2               62000       0  \n",
              "2998          46          14              3              162500      -2  \n",
              "2999         753         260              9              500001       0  \n",
              "\n",
              "[3000 rows x 10 columns]"
            ]
          },
          "metadata": {
            "tags": []
          },
          "execution_count": 98
        }
      ]
    },
    {
      "cell_type": "markdown",
      "metadata": {
        "id": "rH43oj20UmsY"
      },
      "source": [
        "# Operaciones en columnas\n",
        "\n",
        "Puedes realizar operaciones directamente en las columnas de un DataFrame para obtener resultados como una Serie o para crear nuevas columnas.  Por ejemplo:\n",
        "\n",
        "* Relizar operaciones binarias entre columnas. (suma, resta, multiplicación, etc.).\n",
        "* Aplicar métodos estadísticos en las columnas. (sum(), mean(), var(), etc.).\n",
        "* Una mezcla de operaciones binarias y métodos."
      ]
    },
    {
      "cell_type": "code",
      "metadata": {
        "id": "O3KKVANJUrDx",
        "outputId": "ffc5f8c1-bc48-4067-ac8d-ab3245f98f8e"
      },
      "source": [
        "#creando un dataframe\n",
        "df = pd.DataFrame({\"A\":[1, 2, 3], \"B\":[2, 2, 2]})\n",
        "df"
      ],
      "execution_count": null,
      "outputs": [
        {
          "output_type": "execute_result",
          "data": {
            "text/html": [
              "<div>\n",
              "<style scoped>\n",
              "    .dataframe tbody tr th:only-of-type {\n",
              "        vertical-align: middle;\n",
              "    }\n",
              "\n",
              "    .dataframe tbody tr th {\n",
              "        vertical-align: top;\n",
              "    }\n",
              "\n",
              "    .dataframe thead th {\n",
              "        text-align: right;\n",
              "    }\n",
              "</style>\n",
              "<table border=\"1\" class=\"dataframe\">\n",
              "  <thead>\n",
              "    <tr style=\"text-align: right;\">\n",
              "      <th></th>\n",
              "      <th>A</th>\n",
              "      <th>B</th>\n",
              "    </tr>\n",
              "  </thead>\n",
              "  <tbody>\n",
              "    <tr>\n",
              "      <th>0</th>\n",
              "      <td>1</td>\n",
              "      <td>2</td>\n",
              "    </tr>\n",
              "    <tr>\n",
              "      <th>1</th>\n",
              "      <td>2</td>\n",
              "      <td>2</td>\n",
              "    </tr>\n",
              "    <tr>\n",
              "      <th>2</th>\n",
              "      <td>3</td>\n",
              "      <td>2</td>\n",
              "    </tr>\n",
              "  </tbody>\n",
              "</table>\n",
              "</div>"
            ],
            "text/plain": [
              "   A  B\n",
              "0  1  2\n",
              "1  2  2\n",
              "2  3  2"
            ]
          },
          "metadata": {
            "tags": []
          },
          "execution_count": 99
        }
      ]
    },
    {
      "cell_type": "code",
      "metadata": {
        "id": "s5NCuK2LbE8y",
        "outputId": "b3e5260a-9614-4cea-8780-f5bb4f9d50d3"
      },
      "source": [
        "#operaciones entre columna regresan una serie\n",
        "df[\"A\"] * df[\"B\"]"
      ],
      "execution_count": null,
      "outputs": [
        {
          "output_type": "execute_result",
          "data": {
            "text/plain": [
              "0    2\n",
              "1    4\n",
              "2    6\n",
              "dtype: int64"
            ]
          },
          "metadata": {
            "tags": []
          },
          "execution_count": 100
        }
      ]
    },
    {
      "cell_type": "code",
      "metadata": {
        "id": "LcpfXx-mb2-f",
        "outputId": "f8eb2894-73fe-4754-a21d-05e5dc5a40bb"
      },
      "source": [
        "#generar una nueva columna desde una operacion\n",
        "df[\"A^B\"] = df[\"A\"].pow(df[\"B\"])\n",
        "df "
      ],
      "execution_count": null,
      "outputs": [
        {
          "output_type": "execute_result",
          "data": {
            "text/html": [
              "<div>\n",
              "<style scoped>\n",
              "    .dataframe tbody tr th:only-of-type {\n",
              "        vertical-align: middle;\n",
              "    }\n",
              "\n",
              "    .dataframe tbody tr th {\n",
              "        vertical-align: top;\n",
              "    }\n",
              "\n",
              "    .dataframe thead th {\n",
              "        text-align: right;\n",
              "    }\n",
              "</style>\n",
              "<table border=\"1\" class=\"dataframe\">\n",
              "  <thead>\n",
              "    <tr style=\"text-align: right;\">\n",
              "      <th></th>\n",
              "      <th>A</th>\n",
              "      <th>B</th>\n",
              "      <th>A^B</th>\n",
              "    </tr>\n",
              "  </thead>\n",
              "  <tbody>\n",
              "    <tr>\n",
              "      <th>0</th>\n",
              "      <td>1</td>\n",
              "      <td>2</td>\n",
              "      <td>1</td>\n",
              "    </tr>\n",
              "    <tr>\n",
              "      <th>1</th>\n",
              "      <td>2</td>\n",
              "      <td>2</td>\n",
              "      <td>4</td>\n",
              "    </tr>\n",
              "    <tr>\n",
              "      <th>2</th>\n",
              "      <td>3</td>\n",
              "      <td>2</td>\n",
              "      <td>9</td>\n",
              "    </tr>\n",
              "  </tbody>\n",
              "</table>\n",
              "</div>"
            ],
            "text/plain": [
              "   A  B  A^B\n",
              "0  1  2    1\n",
              "1  2  2    4\n",
              "2  3  2    9"
            ]
          },
          "metadata": {
            "tags": []
          },
          "execution_count": 101
        }
      ]
    },
    {
      "cell_type": "code",
      "metadata": {
        "id": "NR78G-lZcPEb",
        "outputId": "29f4cdd3-3782-4bac-ce2f-bbb90a91b326"
      },
      "source": [
        "#aplicar un metodo estadistico a una columna genera un valor\n",
        "df[\"A\"].sum()"
      ],
      "execution_count": null,
      "outputs": [
        {
          "output_type": "execute_result",
          "data": {
            "text/plain": [
              "6"
            ]
          },
          "metadata": {
            "tags": []
          },
          "execution_count": 102
        }
      ]
    },
    {
      "cell_type": "code",
      "metadata": {
        "id": "I7L1MVTIcl99",
        "outputId": "2627cad9-54c7-4cef-b92e-e6e318be0e24"
      },
      "source": [
        "#generando una nueva columna con la suma de las filas\n",
        "df[\"suma\"] = df.sum(axis=1)\n",
        "df"
      ],
      "execution_count": null,
      "outputs": [
        {
          "output_type": "execute_result",
          "data": {
            "text/html": [
              "<div>\n",
              "<style scoped>\n",
              "    .dataframe tbody tr th:only-of-type {\n",
              "        vertical-align: middle;\n",
              "    }\n",
              "\n",
              "    .dataframe tbody tr th {\n",
              "        vertical-align: top;\n",
              "    }\n",
              "\n",
              "    .dataframe thead th {\n",
              "        text-align: right;\n",
              "    }\n",
              "</style>\n",
              "<table border=\"1\" class=\"dataframe\">\n",
              "  <thead>\n",
              "    <tr style=\"text-align: right;\">\n",
              "      <th></th>\n",
              "      <th>A</th>\n",
              "      <th>B</th>\n",
              "      <th>A^B</th>\n",
              "      <th>suma</th>\n",
              "    </tr>\n",
              "  </thead>\n",
              "  <tbody>\n",
              "    <tr>\n",
              "      <th>0</th>\n",
              "      <td>1</td>\n",
              "      <td>2</td>\n",
              "      <td>1</td>\n",
              "      <td>4</td>\n",
              "    </tr>\n",
              "    <tr>\n",
              "      <th>1</th>\n",
              "      <td>2</td>\n",
              "      <td>2</td>\n",
              "      <td>4</td>\n",
              "      <td>8</td>\n",
              "    </tr>\n",
              "    <tr>\n",
              "      <th>2</th>\n",
              "      <td>3</td>\n",
              "      <td>2</td>\n",
              "      <td>9</td>\n",
              "      <td>14</td>\n",
              "    </tr>\n",
              "  </tbody>\n",
              "</table>\n",
              "</div>"
            ],
            "text/plain": [
              "   A  B  A^B  suma\n",
              "0  1  2    1     4\n",
              "1  2  2    4     8\n",
              "2  3  2    9    14"
            ]
          },
          "metadata": {
            "tags": []
          },
          "execution_count": 103
        }
      ]
    },
    {
      "cell_type": "markdown",
      "metadata": {
        "id": "kQX4ek7hVAuu"
      },
      "source": [
        "# Funciones por grupos y agregación"
      ]
    },
    {
      "cell_type": "markdown",
      "metadata": {
        "id": "3kP0btfyqbvP"
      },
      "source": [
        "## aggregate()/agg()\n",
        "\n",
        "La agregación de datos es una transformación que produce un valor escalar a partir de un arreglo, por ejemplo, las funciones/métodos \"sum\" y \"mean\". Los métodos aggregate() y su alias agg() permiten aplicar una o más funciones de agregación a los objetos de Pandas. \n",
        "\n",
        "Los parámetros principales son:\n",
        "\n",
        "\n",
        "\n",
        "```\n",
        "func : funcion, str, list o dict\n",
        "  La funcion o funciones utilizada spara la agregacion de los datos.\n",
        "\n",
        "  Las combinaciones aceptadas:\n",
        "\n",
        "  funcion\n",
        "  cadena con el nombre de la funcion\n",
        "  lista de funciones y/o nombre de las funciones (ej, [np.sum, 'mean'])\n",
        "  diccionario de etiquetas del axis que mapean a:\n",
        "  - las funciones.\n",
        "  - nombre de funciones.\n",
        "  - lista de funciones.\n",
        "\n",
        "axis : {0 or ‘index’, 1 or ‘columns’}, por defecto 0\n",
        "  Si axis=0 o ‘index’: aplica la funcion a cada columna.\n",
        "  Si axis=1 o ‘columns’: aplica la funcion a cada fila.\n",
        "```\n",
        "\n"
      ]
    },
    {
      "cell_type": "code",
      "metadata": {
        "id": "n7WDkeCDh9Ne",
        "outputId": "1a37f4d0-f68d-4653-f8e8-85e7f3b2dd87"
      },
      "source": [
        "df = pd.DataFrame([[1, 2, 3],\n",
        "                   [4, 5, 6],\n",
        "                   [7, 8, 9]],\n",
        "                  columns=['A', 'B', 'C'])\n",
        "df"
      ],
      "execution_count": null,
      "outputs": [
        {
          "output_type": "execute_result",
          "data": {
            "text/html": [
              "<div>\n",
              "<style scoped>\n",
              "    .dataframe tbody tr th:only-of-type {\n",
              "        vertical-align: middle;\n",
              "    }\n",
              "\n",
              "    .dataframe tbody tr th {\n",
              "        vertical-align: top;\n",
              "    }\n",
              "\n",
              "    .dataframe thead th {\n",
              "        text-align: right;\n",
              "    }\n",
              "</style>\n",
              "<table border=\"1\" class=\"dataframe\">\n",
              "  <thead>\n",
              "    <tr style=\"text-align: right;\">\n",
              "      <th></th>\n",
              "      <th>A</th>\n",
              "      <th>B</th>\n",
              "      <th>C</th>\n",
              "    </tr>\n",
              "  </thead>\n",
              "  <tbody>\n",
              "    <tr>\n",
              "      <th>0</th>\n",
              "      <td>1</td>\n",
              "      <td>2</td>\n",
              "      <td>3</td>\n",
              "    </tr>\n",
              "    <tr>\n",
              "      <th>1</th>\n",
              "      <td>4</td>\n",
              "      <td>5</td>\n",
              "      <td>6</td>\n",
              "    </tr>\n",
              "    <tr>\n",
              "      <th>2</th>\n",
              "      <td>7</td>\n",
              "      <td>8</td>\n",
              "      <td>9</td>\n",
              "    </tr>\n",
              "  </tbody>\n",
              "</table>\n",
              "</div>"
            ],
            "text/plain": [
              "   A  B  C\n",
              "0  1  2  3\n",
              "1  4  5  6\n",
              "2  7  8  9"
            ]
          },
          "metadata": {
            "tags": []
          },
          "execution_count": 104
        }
      ]
    },
    {
      "cell_type": "markdown",
      "metadata": {
        "id": "UAmPy6H_kEV1"
      },
      "source": [
        "Por columna (por defecto axis=0):"
      ]
    },
    {
      "cell_type": "code",
      "metadata": {
        "id": "F4qbT9ESeVG-",
        "outputId": "ab49068c-b369-4a12-c1f3-87837cc66ee3"
      },
      "source": [
        "#funcion de agregacion para calcular varios estadisticos a las columnas\n",
        "df.agg([\"min\", \"max\"])"
      ],
      "execution_count": null,
      "outputs": [
        {
          "output_type": "execute_result",
          "data": {
            "text/html": [
              "<div>\n",
              "<style scoped>\n",
              "    .dataframe tbody tr th:only-of-type {\n",
              "        vertical-align: middle;\n",
              "    }\n",
              "\n",
              "    .dataframe tbody tr th {\n",
              "        vertical-align: top;\n",
              "    }\n",
              "\n",
              "    .dataframe thead th {\n",
              "        text-align: right;\n",
              "    }\n",
              "</style>\n",
              "<table border=\"1\" class=\"dataframe\">\n",
              "  <thead>\n",
              "    <tr style=\"text-align: right;\">\n",
              "      <th></th>\n",
              "      <th>A</th>\n",
              "      <th>B</th>\n",
              "      <th>C</th>\n",
              "    </tr>\n",
              "  </thead>\n",
              "  <tbody>\n",
              "    <tr>\n",
              "      <th>min</th>\n",
              "      <td>1</td>\n",
              "      <td>2</td>\n",
              "      <td>3</td>\n",
              "    </tr>\n",
              "    <tr>\n",
              "      <th>max</th>\n",
              "      <td>7</td>\n",
              "      <td>8</td>\n",
              "      <td>9</td>\n",
              "    </tr>\n",
              "  </tbody>\n",
              "</table>\n",
              "</div>"
            ],
            "text/plain": [
              "     A  B  C\n",
              "min  1  2  3\n",
              "max  7  8  9"
            ]
          },
          "metadata": {
            "tags": []
          },
          "execution_count": 105
        }
      ]
    },
    {
      "cell_type": "markdown",
      "metadata": {
        "id": "0h2JljwtkIYQ"
      },
      "source": [
        "Por filas (axis=1):"
      ]
    },
    {
      "cell_type": "code",
      "metadata": {
        "id": "uTuA399VkIcC",
        "outputId": "6aa1ff58-da9c-4251-fa0b-23f383ea09cd"
      },
      "source": [
        "#funcion de agregacion para calcular varios estadisticos a las filas\n",
        "df.agg([\"min\", \"max\"], axis=1)"
      ],
      "execution_count": null,
      "outputs": [
        {
          "output_type": "execute_result",
          "data": {
            "text/html": [
              "<div>\n",
              "<style scoped>\n",
              "    .dataframe tbody tr th:only-of-type {\n",
              "        vertical-align: middle;\n",
              "    }\n",
              "\n",
              "    .dataframe tbody tr th {\n",
              "        vertical-align: top;\n",
              "    }\n",
              "\n",
              "    .dataframe thead th {\n",
              "        text-align: right;\n",
              "    }\n",
              "</style>\n",
              "<table border=\"1\" class=\"dataframe\">\n",
              "  <thead>\n",
              "    <tr style=\"text-align: right;\">\n",
              "      <th></th>\n",
              "      <th>min</th>\n",
              "      <th>max</th>\n",
              "    </tr>\n",
              "  </thead>\n",
              "  <tbody>\n",
              "    <tr>\n",
              "      <th>0</th>\n",
              "      <td>1</td>\n",
              "      <td>3</td>\n",
              "    </tr>\n",
              "    <tr>\n",
              "      <th>1</th>\n",
              "      <td>4</td>\n",
              "      <td>6</td>\n",
              "    </tr>\n",
              "    <tr>\n",
              "      <th>2</th>\n",
              "      <td>7</td>\n",
              "      <td>9</td>\n",
              "    </tr>\n",
              "  </tbody>\n",
              "</table>\n",
              "</div>"
            ],
            "text/plain": [
              "   min  max\n",
              "0    1    3\n",
              "1    4    6\n",
              "2    7    9"
            ]
          },
          "metadata": {
            "tags": []
          },
          "execution_count": 106
        }
      ]
    },
    {
      "cell_type": "markdown",
      "metadata": {
        "id": "3yyCfud-kTdn"
      },
      "source": [
        "Usando un diccionario como parámetro:"
      ]
    },
    {
      "cell_type": "code",
      "metadata": {
        "id": "8qrOoj_7kUQs",
        "outputId": "e1431fb3-fdfd-4d0f-e763-725932000667"
      },
      "source": [
        "df.agg({\"A\": np.min, \"B\": np.max, \"C\": [np.mean, np.std]})"
      ],
      "execution_count": null,
      "outputs": [
        {
          "output_type": "execute_result",
          "data": {
            "text/html": [
              "<div>\n",
              "<style scoped>\n",
              "    .dataframe tbody tr th:only-of-type {\n",
              "        vertical-align: middle;\n",
              "    }\n",
              "\n",
              "    .dataframe tbody tr th {\n",
              "        vertical-align: top;\n",
              "    }\n",
              "\n",
              "    .dataframe thead th {\n",
              "        text-align: right;\n",
              "    }\n",
              "</style>\n",
              "<table border=\"1\" class=\"dataframe\">\n",
              "  <thead>\n",
              "    <tr style=\"text-align: right;\">\n",
              "      <th></th>\n",
              "      <th>A</th>\n",
              "      <th>B</th>\n",
              "      <th>C</th>\n",
              "    </tr>\n",
              "  </thead>\n",
              "  <tbody>\n",
              "    <tr>\n",
              "      <th>amax</th>\n",
              "      <td>NaN</td>\n",
              "      <td>8.0</td>\n",
              "      <td>NaN</td>\n",
              "    </tr>\n",
              "    <tr>\n",
              "      <th>amin</th>\n",
              "      <td>1.0</td>\n",
              "      <td>NaN</td>\n",
              "      <td>NaN</td>\n",
              "    </tr>\n",
              "    <tr>\n",
              "      <th>mean</th>\n",
              "      <td>NaN</td>\n",
              "      <td>NaN</td>\n",
              "      <td>6.0</td>\n",
              "    </tr>\n",
              "    <tr>\n",
              "      <th>std</th>\n",
              "      <td>NaN</td>\n",
              "      <td>NaN</td>\n",
              "      <td>3.0</td>\n",
              "    </tr>\n",
              "  </tbody>\n",
              "</table>\n",
              "</div>"
            ],
            "text/plain": [
              "        A    B    C\n",
              "amax  NaN  8.0  NaN\n",
              "amin  1.0  NaN  NaN\n",
              "mean  NaN  NaN  6.0\n",
              "std   NaN  NaN  3.0"
            ]
          },
          "metadata": {
            "tags": []
          },
          "execution_count": 107
        }
      ]
    },
    {
      "cell_type": "markdown",
      "metadata": {
        "id": "C7R7riKcVDt6"
      },
      "source": [
        "## groupby()\n",
        "\n",
        "El método groupby() permite generar grupos de datos usando una o más columnas para aplicar funciones de transformación o de agregación. \n",
        "\n",
        "Groupby es útil para contestar preguntas tipo: ¿cuál es la media de altura en hombres y mujeres? o ¿cúal es estado con menor población para cada país?"
      ]
    },
    {
      "cell_type": "code",
      "metadata": {
        "id": "Ba0EwO9GVCsO",
        "outputId": "b602111a-bc74-4330-b2e8-4bf7c801df9c"
      },
      "source": [
        "df = pd.DataFrame({\"Sexo\": [\"M\", \"F\", \"F\", \"M\"], \"Altura\": [1.68, 1.55, 1.75, 1.82], \"Peso\": [70, 50, 68, 72]})\n",
        "df"
      ],
      "execution_count": null,
      "outputs": [
        {
          "output_type": "execute_result",
          "data": {
            "text/html": [
              "<div>\n",
              "<style scoped>\n",
              "    .dataframe tbody tr th:only-of-type {\n",
              "        vertical-align: middle;\n",
              "    }\n",
              "\n",
              "    .dataframe tbody tr th {\n",
              "        vertical-align: top;\n",
              "    }\n",
              "\n",
              "    .dataframe thead th {\n",
              "        text-align: right;\n",
              "    }\n",
              "</style>\n",
              "<table border=\"1\" class=\"dataframe\">\n",
              "  <thead>\n",
              "    <tr style=\"text-align: right;\">\n",
              "      <th></th>\n",
              "      <th>Sexo</th>\n",
              "      <th>Altura</th>\n",
              "      <th>Peso</th>\n",
              "    </tr>\n",
              "  </thead>\n",
              "  <tbody>\n",
              "    <tr>\n",
              "      <th>0</th>\n",
              "      <td>M</td>\n",
              "      <td>1.68</td>\n",
              "      <td>70</td>\n",
              "    </tr>\n",
              "    <tr>\n",
              "      <th>1</th>\n",
              "      <td>F</td>\n",
              "      <td>1.55</td>\n",
              "      <td>50</td>\n",
              "    </tr>\n",
              "    <tr>\n",
              "      <th>2</th>\n",
              "      <td>F</td>\n",
              "      <td>1.75</td>\n",
              "      <td>68</td>\n",
              "    </tr>\n",
              "    <tr>\n",
              "      <th>3</th>\n",
              "      <td>M</td>\n",
              "      <td>1.82</td>\n",
              "      <td>72</td>\n",
              "    </tr>\n",
              "  </tbody>\n",
              "</table>\n",
              "</div>"
            ],
            "text/plain": [
              "  Sexo  Altura  Peso\n",
              "0    M    1.68    70\n",
              "1    F    1.55    50\n",
              "2    F    1.75    68\n",
              "3    M    1.82    72"
            ]
          },
          "metadata": {
            "tags": []
          },
          "execution_count": 108
        }
      ]
    },
    {
      "cell_type": "code",
      "metadata": {
        "id": "4SjCIZ6Cm2RN",
        "outputId": "d7377597-ab33-4c60-92d5-5af7b28a9e87"
      },
      "source": [
        "#generar un dataframe argupado por una columna\n",
        "df.groupby(\"Sexo\")"
      ],
      "execution_count": null,
      "outputs": [
        {
          "output_type": "execute_result",
          "data": {
            "text/plain": [
              "<pandas.core.groupby.generic.DataFrameGroupBy object at 0x000001AD8CBB7EC8>"
            ]
          },
          "metadata": {
            "tags": []
          },
          "execution_count": 109
        }
      ]
    },
    {
      "cell_type": "markdown",
      "metadata": {
        "id": "Qkxna7JlnIbD"
      },
      "source": [
        "groupby() por si solo no resulta en la salida esperada.\n",
        "\n",
        "Hay que aplicar una función:"
      ]
    },
    {
      "cell_type": "code",
      "metadata": {
        "id": "uw0pANH5nans",
        "outputId": "ace760b4-c02d-456c-f5f6-458329e4b901"
      },
      "source": [
        "#la media de las columnas\n",
        "df.groupby(\"Sexo\").mean()"
      ],
      "execution_count": null,
      "outputs": [
        {
          "output_type": "execute_result",
          "data": {
            "text/html": [
              "<div>\n",
              "<style scoped>\n",
              "    .dataframe tbody tr th:only-of-type {\n",
              "        vertical-align: middle;\n",
              "    }\n",
              "\n",
              "    .dataframe tbody tr th {\n",
              "        vertical-align: top;\n",
              "    }\n",
              "\n",
              "    .dataframe thead th {\n",
              "        text-align: right;\n",
              "    }\n",
              "</style>\n",
              "<table border=\"1\" class=\"dataframe\">\n",
              "  <thead>\n",
              "    <tr style=\"text-align: right;\">\n",
              "      <th></th>\n",
              "      <th>Altura</th>\n",
              "      <th>Peso</th>\n",
              "    </tr>\n",
              "    <tr>\n",
              "      <th>Sexo</th>\n",
              "      <th></th>\n",
              "      <th></th>\n",
              "    </tr>\n",
              "  </thead>\n",
              "  <tbody>\n",
              "    <tr>\n",
              "      <th>F</th>\n",
              "      <td>1.65</td>\n",
              "      <td>59</td>\n",
              "    </tr>\n",
              "    <tr>\n",
              "      <th>M</th>\n",
              "      <td>1.75</td>\n",
              "      <td>71</td>\n",
              "    </tr>\n",
              "  </tbody>\n",
              "</table>\n",
              "</div>"
            ],
            "text/plain": [
              "      Altura  Peso\n",
              "Sexo              \n",
              "F       1.65    59\n",
              "M       1.75    71"
            ]
          },
          "metadata": {
            "tags": []
          },
          "execution_count": 110
        }
      ]
    },
    {
      "cell_type": "code",
      "metadata": {
        "id": "jlBYy_eWnrm9",
        "outputId": "3dea0ccf-7f06-4432-a03b-e7ac4bb400d3"
      },
      "source": [
        "#seleccionando una sola columna para la agregacion\n",
        "df.groupby(\"Sexo\")[\"Altura\"].mean()"
      ],
      "execution_count": null,
      "outputs": [
        {
          "output_type": "execute_result",
          "data": {
            "text/plain": [
              "Sexo\n",
              "F    1.65\n",
              "M    1.75\n",
              "Name: Altura, dtype: float64"
            ]
          },
          "metadata": {
            "tags": []
          },
          "execution_count": 111
        }
      ]
    },
    {
      "cell_type": "markdown",
      "metadata": {
        "id": "j7H3MQN3hrSB"
      },
      "source": [
        "**groupby() y agg()**\n",
        "\n",
        "Puedes mezclar groupby() con agg() para aplicar más de una función. "
      ]
    },
    {
      "cell_type": "code",
      "metadata": {
        "id": "9l3IAtYBhrv8",
        "outputId": "79c3595e-3fc3-4328-8a06-71f64127bf1f"
      },
      "source": [
        "df.groupby(\"Sexo\").agg([\"mean\", \"std\"])"
      ],
      "execution_count": null,
      "outputs": [
        {
          "output_type": "execute_result",
          "data": {
            "text/html": [
              "<div>\n",
              "<style scoped>\n",
              "    .dataframe tbody tr th:only-of-type {\n",
              "        vertical-align: middle;\n",
              "    }\n",
              "\n",
              "    .dataframe tbody tr th {\n",
              "        vertical-align: top;\n",
              "    }\n",
              "\n",
              "    .dataframe thead tr th {\n",
              "        text-align: left;\n",
              "    }\n",
              "\n",
              "    .dataframe thead tr:last-of-type th {\n",
              "        text-align: right;\n",
              "    }\n",
              "</style>\n",
              "<table border=\"1\" class=\"dataframe\">\n",
              "  <thead>\n",
              "    <tr>\n",
              "      <th></th>\n",
              "      <th colspan=\"2\" halign=\"left\">Altura</th>\n",
              "      <th colspan=\"2\" halign=\"left\">Peso</th>\n",
              "    </tr>\n",
              "    <tr>\n",
              "      <th></th>\n",
              "      <th>mean</th>\n",
              "      <th>std</th>\n",
              "      <th>mean</th>\n",
              "      <th>std</th>\n",
              "    </tr>\n",
              "    <tr>\n",
              "      <th>Sexo</th>\n",
              "      <th></th>\n",
              "      <th></th>\n",
              "      <th></th>\n",
              "      <th></th>\n",
              "    </tr>\n",
              "  </thead>\n",
              "  <tbody>\n",
              "    <tr>\n",
              "      <th>F</th>\n",
              "      <td>1.65</td>\n",
              "      <td>0.141421</td>\n",
              "      <td>59</td>\n",
              "      <td>12.727922</td>\n",
              "    </tr>\n",
              "    <tr>\n",
              "      <th>M</th>\n",
              "      <td>1.75</td>\n",
              "      <td>0.098995</td>\n",
              "      <td>71</td>\n",
              "      <td>1.414214</td>\n",
              "    </tr>\n",
              "  </tbody>\n",
              "</table>\n",
              "</div>"
            ],
            "text/plain": [
              "     Altura           Peso           \n",
              "       mean       std mean        std\n",
              "Sexo                                 \n",
              "F      1.65  0.141421   59  12.727922\n",
              "M      1.75  0.098995   71   1.414214"
            ]
          },
          "metadata": {
            "tags": []
          },
          "execution_count": 112
        }
      ]
    },
    {
      "cell_type": "markdown",
      "metadata": {
        "id": "WNskBq1do9g5"
      },
      "source": [
        "**Agrupando con más de una columna**"
      ]
    },
    {
      "cell_type": "code",
      "metadata": {
        "id": "aqA4S2dPo97J",
        "outputId": "edb9919d-83db-4992-fa85-53eace58468b"
      },
      "source": [
        "#agregar una nueva columna al df\n",
        "df[\"Estado\"] = [\"Morelos\", \"DF\", \"DF\", \"DF\"]\n",
        "df"
      ],
      "execution_count": null,
      "outputs": [
        {
          "output_type": "execute_result",
          "data": {
            "text/html": [
              "<div>\n",
              "<style scoped>\n",
              "    .dataframe tbody tr th:only-of-type {\n",
              "        vertical-align: middle;\n",
              "    }\n",
              "\n",
              "    .dataframe tbody tr th {\n",
              "        vertical-align: top;\n",
              "    }\n",
              "\n",
              "    .dataframe thead th {\n",
              "        text-align: right;\n",
              "    }\n",
              "</style>\n",
              "<table border=\"1\" class=\"dataframe\">\n",
              "  <thead>\n",
              "    <tr style=\"text-align: right;\">\n",
              "      <th></th>\n",
              "      <th>Sexo</th>\n",
              "      <th>Altura</th>\n",
              "      <th>Peso</th>\n",
              "      <th>Estado</th>\n",
              "    </tr>\n",
              "  </thead>\n",
              "  <tbody>\n",
              "    <tr>\n",
              "      <th>0</th>\n",
              "      <td>M</td>\n",
              "      <td>1.68</td>\n",
              "      <td>70</td>\n",
              "      <td>Morelos</td>\n",
              "    </tr>\n",
              "    <tr>\n",
              "      <th>1</th>\n",
              "      <td>F</td>\n",
              "      <td>1.55</td>\n",
              "      <td>50</td>\n",
              "      <td>DF</td>\n",
              "    </tr>\n",
              "    <tr>\n",
              "      <th>2</th>\n",
              "      <td>F</td>\n",
              "      <td>1.75</td>\n",
              "      <td>68</td>\n",
              "      <td>DF</td>\n",
              "    </tr>\n",
              "    <tr>\n",
              "      <th>3</th>\n",
              "      <td>M</td>\n",
              "      <td>1.82</td>\n",
              "      <td>72</td>\n",
              "      <td>DF</td>\n",
              "    </tr>\n",
              "  </tbody>\n",
              "</table>\n",
              "</div>"
            ],
            "text/plain": [
              "  Sexo  Altura  Peso   Estado\n",
              "0    M    1.68    70  Morelos\n",
              "1    F    1.55    50       DF\n",
              "2    F    1.75    68       DF\n",
              "3    M    1.82    72       DF"
            ]
          },
          "metadata": {
            "tags": []
          },
          "execution_count": 113
        }
      ]
    },
    {
      "cell_type": "code",
      "metadata": {
        "id": "bA7HP3yLpY9N",
        "outputId": "6007ef7c-68b8-40cf-88dd-3db8da505d35"
      },
      "source": [
        "#usando mas de una clave para la agrupacion\n",
        "df.groupby([\"Sexo\", \"Estado\"]).agg(\"mean\")"
      ],
      "execution_count": null,
      "outputs": [
        {
          "output_type": "execute_result",
          "data": {
            "text/html": [
              "<div>\n",
              "<style scoped>\n",
              "    .dataframe tbody tr th:only-of-type {\n",
              "        vertical-align: middle;\n",
              "    }\n",
              "\n",
              "    .dataframe tbody tr th {\n",
              "        vertical-align: top;\n",
              "    }\n",
              "\n",
              "    .dataframe thead th {\n",
              "        text-align: right;\n",
              "    }\n",
              "</style>\n",
              "<table border=\"1\" class=\"dataframe\">\n",
              "  <thead>\n",
              "    <tr style=\"text-align: right;\">\n",
              "      <th></th>\n",
              "      <th></th>\n",
              "      <th>Altura</th>\n",
              "      <th>Peso</th>\n",
              "    </tr>\n",
              "    <tr>\n",
              "      <th>Sexo</th>\n",
              "      <th>Estado</th>\n",
              "      <th></th>\n",
              "      <th></th>\n",
              "    </tr>\n",
              "  </thead>\n",
              "  <tbody>\n",
              "    <tr>\n",
              "      <th>F</th>\n",
              "      <th>DF</th>\n",
              "      <td>1.65</td>\n",
              "      <td>59</td>\n",
              "    </tr>\n",
              "    <tr>\n",
              "      <th rowspan=\"2\" valign=\"top\">M</th>\n",
              "      <th>DF</th>\n",
              "      <td>1.82</td>\n",
              "      <td>72</td>\n",
              "    </tr>\n",
              "    <tr>\n",
              "      <th>Morelos</th>\n",
              "      <td>1.68</td>\n",
              "      <td>70</td>\n",
              "    </tr>\n",
              "  </tbody>\n",
              "</table>\n",
              "</div>"
            ],
            "text/plain": [
              "              Altura  Peso\n",
              "Sexo Estado               \n",
              "F    DF         1.65    59\n",
              "M    DF         1.82    72\n",
              "     Morelos    1.68    70"
            ]
          },
          "metadata": {
            "tags": []
          },
          "execution_count": 114
        }
      ]
    },
    {
      "cell_type": "markdown",
      "metadata": {
        "id": "tn76gw-kVIX5"
      },
      "source": [
        "# Combinar Dataframes"
      ]
    },
    {
      "cell_type": "markdown",
      "metadata": {
        "id": "QTjnCTA0oKOZ"
      },
      "source": [
        "## append()\n",
        "\n",
        "Concatena las filas de un DataFrame a otro usando las columnas que coinciden. Columnas que no coinciden son agregadas al DataFrame resultante."
      ]
    },
    {
      "cell_type": "code",
      "metadata": {
        "id": "H3iFTLk7VKbK",
        "outputId": "dce8bde0-f6e6-43b7-b1f7-b2fdab537035"
      },
      "source": [
        "df = pd.DataFrame([[1, 2], [3, 4]], columns=[\"A\", \"B\"])\n",
        "df"
      ],
      "execution_count": null,
      "outputs": [
        {
          "output_type": "execute_result",
          "data": {
            "text/html": [
              "<div>\n",
              "<style scoped>\n",
              "    .dataframe tbody tr th:only-of-type {\n",
              "        vertical-align: middle;\n",
              "    }\n",
              "\n",
              "    .dataframe tbody tr th {\n",
              "        vertical-align: top;\n",
              "    }\n",
              "\n",
              "    .dataframe thead th {\n",
              "        text-align: right;\n",
              "    }\n",
              "</style>\n",
              "<table border=\"1\" class=\"dataframe\">\n",
              "  <thead>\n",
              "    <tr style=\"text-align: right;\">\n",
              "      <th></th>\n",
              "      <th>A</th>\n",
              "      <th>B</th>\n",
              "    </tr>\n",
              "  </thead>\n",
              "  <tbody>\n",
              "    <tr>\n",
              "      <th>0</th>\n",
              "      <td>1</td>\n",
              "      <td>2</td>\n",
              "    </tr>\n",
              "    <tr>\n",
              "      <th>1</th>\n",
              "      <td>3</td>\n",
              "      <td>4</td>\n",
              "    </tr>\n",
              "  </tbody>\n",
              "</table>\n",
              "</div>"
            ],
            "text/plain": [
              "   A  B\n",
              "0  1  2\n",
              "1  3  4"
            ]
          },
          "metadata": {
            "tags": []
          },
          "execution_count": 115
        }
      ]
    },
    {
      "cell_type": "code",
      "metadata": {
        "id": "l6w99m9aqLaO",
        "outputId": "fb383968-fa99-4112-d967-ce013aaebb6b"
      },
      "source": [
        "df2 = df2 = pd.DataFrame([[5, 6], [7, 8]], columns=[\"A\", \"B\"])\n",
        "df2"
      ],
      "execution_count": null,
      "outputs": [
        {
          "output_type": "execute_result",
          "data": {
            "text/html": [
              "<div>\n",
              "<style scoped>\n",
              "    .dataframe tbody tr th:only-of-type {\n",
              "        vertical-align: middle;\n",
              "    }\n",
              "\n",
              "    .dataframe tbody tr th {\n",
              "        vertical-align: top;\n",
              "    }\n",
              "\n",
              "    .dataframe thead th {\n",
              "        text-align: right;\n",
              "    }\n",
              "</style>\n",
              "<table border=\"1\" class=\"dataframe\">\n",
              "  <thead>\n",
              "    <tr style=\"text-align: right;\">\n",
              "      <th></th>\n",
              "      <th>A</th>\n",
              "      <th>B</th>\n",
              "    </tr>\n",
              "  </thead>\n",
              "  <tbody>\n",
              "    <tr>\n",
              "      <th>0</th>\n",
              "      <td>5</td>\n",
              "      <td>6</td>\n",
              "    </tr>\n",
              "    <tr>\n",
              "      <th>1</th>\n",
              "      <td>7</td>\n",
              "      <td>8</td>\n",
              "    </tr>\n",
              "  </tbody>\n",
              "</table>\n",
              "</div>"
            ],
            "text/plain": [
              "   A  B\n",
              "0  5  6\n",
              "1  7  8"
            ]
          },
          "metadata": {
            "tags": []
          },
          "execution_count": 116
        }
      ]
    },
    {
      "cell_type": "code",
      "metadata": {
        "id": "37SLtmNhrfPi",
        "outputId": "bd128799-04a8-46c8-b92b-94e4430c8814"
      },
      "source": [
        "df.append(df2)"
      ],
      "execution_count": null,
      "outputs": [
        {
          "output_type": "execute_result",
          "data": {
            "text/html": [
              "<div>\n",
              "<style scoped>\n",
              "    .dataframe tbody tr th:only-of-type {\n",
              "        vertical-align: middle;\n",
              "    }\n",
              "\n",
              "    .dataframe tbody tr th {\n",
              "        vertical-align: top;\n",
              "    }\n",
              "\n",
              "    .dataframe thead th {\n",
              "        text-align: right;\n",
              "    }\n",
              "</style>\n",
              "<table border=\"1\" class=\"dataframe\">\n",
              "  <thead>\n",
              "    <tr style=\"text-align: right;\">\n",
              "      <th></th>\n",
              "      <th>A</th>\n",
              "      <th>B</th>\n",
              "    </tr>\n",
              "  </thead>\n",
              "  <tbody>\n",
              "    <tr>\n",
              "      <th>0</th>\n",
              "      <td>1</td>\n",
              "      <td>2</td>\n",
              "    </tr>\n",
              "    <tr>\n",
              "      <th>1</th>\n",
              "      <td>3</td>\n",
              "      <td>4</td>\n",
              "    </tr>\n",
              "    <tr>\n",
              "      <th>0</th>\n",
              "      <td>5</td>\n",
              "      <td>6</td>\n",
              "    </tr>\n",
              "    <tr>\n",
              "      <th>1</th>\n",
              "      <td>7</td>\n",
              "      <td>8</td>\n",
              "    </tr>\n",
              "  </tbody>\n",
              "</table>\n",
              "</div>"
            ],
            "text/plain": [
              "   A  B\n",
              "0  1  2\n",
              "1  3  4\n",
              "0  5  6\n",
              "1  7  8"
            ]
          },
          "metadata": {
            "tags": []
          },
          "execution_count": 117
        }
      ]
    },
    {
      "cell_type": "markdown",
      "metadata": {
        "id": "9exwc3KToKoF"
      },
      "source": [
        "## merge() y join()\n",
        "\n",
        "Joins al estilo SQL.\n",
        "\n",
        "Si no conoces SQL visita este sitio para darte una idea de los tipos de joins disponibles: https://www.w3schools.com/sql/sql_join.asp\n",
        "\n",
        "![dofactory.com](https://www.dofactory.com/Images/sql-joins.png)"
      ]
    },
    {
      "cell_type": "markdown",
      "metadata": {
        "id": "p7okKBKWtsea"
      },
      "source": [
        "**merge()**\n",
        "\n",
        "Parámetros principales:\n",
        "\n",
        "\n",
        "```\n",
        "right : DataFrame o  Series\n",
        "  Objeto con el que realizar merge()\n",
        "\n",
        "how:{‘left’, ‘right’, ‘outer’, ‘inner’}, Por defecto ‘inner’\n",
        "  Type of merge to be performed.\n",
        "\n",
        "  left: similar a un left outer join de SQL.\n",
        "  right: similar a un  right outer join SQL.\n",
        "  outer:  similar a un full outer join SQL.\n",
        "  inner: similar a un inner join de SQL.\n",
        "\n",
        "on : etiqueta o lista de etiquetas\n",
        "  Columnas o indices para unir. Deben estar en ambos DataFrames.\n",
        "\n",
        "left_on : etiqueta, lista de etiquetas\n",
        "  Columnas o indices para unir del DataFrame de la izquierda.\n",
        "\n",
        "right_on : etiqueta, lista de etiquetas\n",
        "  Columnas o indices para unir del DataFrame de la derecha.\n",
        "```\n"
      ]
    },
    {
      "cell_type": "code",
      "metadata": {
        "id": "2Du2Y5qHqOOK",
        "outputId": "962a8270-84d5-4eec-c977-641588807d59"
      },
      "source": [
        "# df1 tiene un elemento unico u1 que df2 no tiene\n",
        "df1 = pd.DataFrame({'key': ['a', 'b', 'u1', 'a'], 'value': [1, 2, 3, 5]})\n",
        "df1"
      ],
      "execution_count": null,
      "outputs": [
        {
          "output_type": "execute_result",
          "data": {
            "text/html": [
              "<div>\n",
              "<style scoped>\n",
              "    .dataframe tbody tr th:only-of-type {\n",
              "        vertical-align: middle;\n",
              "    }\n",
              "\n",
              "    .dataframe tbody tr th {\n",
              "        vertical-align: top;\n",
              "    }\n",
              "\n",
              "    .dataframe thead th {\n",
              "        text-align: right;\n",
              "    }\n",
              "</style>\n",
              "<table border=\"1\" class=\"dataframe\">\n",
              "  <thead>\n",
              "    <tr style=\"text-align: right;\">\n",
              "      <th></th>\n",
              "      <th>key</th>\n",
              "      <th>value</th>\n",
              "    </tr>\n",
              "  </thead>\n",
              "  <tbody>\n",
              "    <tr>\n",
              "      <th>0</th>\n",
              "      <td>a</td>\n",
              "      <td>1</td>\n",
              "    </tr>\n",
              "    <tr>\n",
              "      <th>1</th>\n",
              "      <td>b</td>\n",
              "      <td>2</td>\n",
              "    </tr>\n",
              "    <tr>\n",
              "      <th>2</th>\n",
              "      <td>u1</td>\n",
              "      <td>3</td>\n",
              "    </tr>\n",
              "    <tr>\n",
              "      <th>3</th>\n",
              "      <td>a</td>\n",
              "      <td>5</td>\n",
              "    </tr>\n",
              "  </tbody>\n",
              "</table>\n",
              "</div>"
            ],
            "text/plain": [
              "  key  value\n",
              "0   a      1\n",
              "1   b      2\n",
              "2  u1      3\n",
              "3   a      5"
            ]
          },
          "metadata": {
            "tags": []
          },
          "execution_count": 118
        }
      ]
    },
    {
      "cell_type": "code",
      "metadata": {
        "id": "Cj-XgVtqtYA7",
        "outputId": "76a84a31-6339-4e5d-b61c-22a681bd5cf2"
      },
      "source": [
        "# df2 tiene un elemento unico u2 que no df1 no tiene\n",
        "df2 = pd.DataFrame({'key': ['a', 'b', 'u2', 'a'], 'value': [5, 6, 7, 8]})\n",
        "df2"
      ],
      "execution_count": null,
      "outputs": [
        {
          "output_type": "execute_result",
          "data": {
            "text/html": [
              "<div>\n",
              "<style scoped>\n",
              "    .dataframe tbody tr th:only-of-type {\n",
              "        vertical-align: middle;\n",
              "    }\n",
              "\n",
              "    .dataframe tbody tr th {\n",
              "        vertical-align: top;\n",
              "    }\n",
              "\n",
              "    .dataframe thead th {\n",
              "        text-align: right;\n",
              "    }\n",
              "</style>\n",
              "<table border=\"1\" class=\"dataframe\">\n",
              "  <thead>\n",
              "    <tr style=\"text-align: right;\">\n",
              "      <th></th>\n",
              "      <th>key</th>\n",
              "      <th>value</th>\n",
              "    </tr>\n",
              "  </thead>\n",
              "  <tbody>\n",
              "    <tr>\n",
              "      <th>0</th>\n",
              "      <td>a</td>\n",
              "      <td>5</td>\n",
              "    </tr>\n",
              "    <tr>\n",
              "      <th>1</th>\n",
              "      <td>b</td>\n",
              "      <td>6</td>\n",
              "    </tr>\n",
              "    <tr>\n",
              "      <th>2</th>\n",
              "      <td>u2</td>\n",
              "      <td>7</td>\n",
              "    </tr>\n",
              "    <tr>\n",
              "      <th>3</th>\n",
              "      <td>a</td>\n",
              "      <td>8</td>\n",
              "    </tr>\n",
              "  </tbody>\n",
              "</table>\n",
              "</div>"
            ],
            "text/plain": [
              "  key  value\n",
              "0   a      5\n",
              "1   b      6\n",
              "2  u2      7\n",
              "3   a      8"
            ]
          },
          "metadata": {
            "tags": []
          },
          "execution_count": 119
        }
      ]
    },
    {
      "cell_type": "markdown",
      "metadata": {
        "id": "GCpWIW2A1iEV"
      },
      "source": [
        "Inner\n",
        "\n",
        "Mantiene las llaves ```key``` que coinciden en ambos dataframes.\n",
        "\n",
        "\n",
        "| df1   || coincide en ```key``` de df2|\n",
        "|---||----|\n",
        "| (a, 1) || (a, 5) y (a, 8) |\n",
        "| (a, 5) || (a, 5) y (a, 8) |\n",
        "| (b, 2) || (b, 6) |"
      ]
    },
    {
      "cell_type": "code",
      "metadata": {
        "id": "nC1dlsPztc-I",
        "outputId": "164b59f8-f772-498a-de47-a64274a9ba94"
      },
      "source": [
        "df1.merge(df2, how=\"inner\", on=\"key\")"
      ],
      "execution_count": null,
      "outputs": [
        {
          "output_type": "execute_result",
          "data": {
            "text/html": [
              "<div>\n",
              "<style scoped>\n",
              "    .dataframe tbody tr th:only-of-type {\n",
              "        vertical-align: middle;\n",
              "    }\n",
              "\n",
              "    .dataframe tbody tr th {\n",
              "        vertical-align: top;\n",
              "    }\n",
              "\n",
              "    .dataframe thead th {\n",
              "        text-align: right;\n",
              "    }\n",
              "</style>\n",
              "<table border=\"1\" class=\"dataframe\">\n",
              "  <thead>\n",
              "    <tr style=\"text-align: right;\">\n",
              "      <th></th>\n",
              "      <th>key</th>\n",
              "      <th>value_x</th>\n",
              "      <th>value_y</th>\n",
              "    </tr>\n",
              "  </thead>\n",
              "  <tbody>\n",
              "    <tr>\n",
              "      <th>0</th>\n",
              "      <td>a</td>\n",
              "      <td>1</td>\n",
              "      <td>5</td>\n",
              "    </tr>\n",
              "    <tr>\n",
              "      <th>1</th>\n",
              "      <td>a</td>\n",
              "      <td>1</td>\n",
              "      <td>8</td>\n",
              "    </tr>\n",
              "    <tr>\n",
              "      <th>2</th>\n",
              "      <td>a</td>\n",
              "      <td>5</td>\n",
              "      <td>5</td>\n",
              "    </tr>\n",
              "    <tr>\n",
              "      <th>3</th>\n",
              "      <td>a</td>\n",
              "      <td>5</td>\n",
              "      <td>8</td>\n",
              "    </tr>\n",
              "    <tr>\n",
              "      <th>4</th>\n",
              "      <td>b</td>\n",
              "      <td>2</td>\n",
              "      <td>6</td>\n",
              "    </tr>\n",
              "  </tbody>\n",
              "</table>\n",
              "</div>"
            ],
            "text/plain": [
              "  key  value_x  value_y\n",
              "0   a        1        5\n",
              "1   a        1        8\n",
              "2   a        5        5\n",
              "3   a        5        8\n",
              "4   b        2        6"
            ]
          },
          "metadata": {
            "tags": []
          },
          "execution_count": 120
        }
      ]
    },
    {
      "cell_type": "markdown",
      "metadata": {
        "id": "5dJcT9MD1jVL"
      },
      "source": [
        "Outer\n",
        "\n",
        "Mantiene las filas de ambos Dataframes, sin importar si existe o no existe un mapeo entre las llaves ```key```.\n",
        "\n",
        "| df1   || df2|\n",
        "|---||----|\n",
        "| (a, 1) || (a, 5) y (a, 8) |\n",
        "| (a, 5) || (a, 5) y (a, 8) |\n",
        "| (b, 2) || (b, 6) |\n",
        "| (u1, 3)|| NaN |\n",
        "| NaN || (u2, 7)|"
      ]
    },
    {
      "cell_type": "code",
      "metadata": {
        "id": "a4KVmbhp1lNu",
        "outputId": "6e0390d2-034e-416b-a7bd-da6c617fea0e"
      },
      "source": [
        "df1.merge(df2, how=\"outer\", on=\"key\")"
      ],
      "execution_count": null,
      "outputs": [
        {
          "output_type": "execute_result",
          "data": {
            "text/html": [
              "<div>\n",
              "<style scoped>\n",
              "    .dataframe tbody tr th:only-of-type {\n",
              "        vertical-align: middle;\n",
              "    }\n",
              "\n",
              "    .dataframe tbody tr th {\n",
              "        vertical-align: top;\n",
              "    }\n",
              "\n",
              "    .dataframe thead th {\n",
              "        text-align: right;\n",
              "    }\n",
              "</style>\n",
              "<table border=\"1\" class=\"dataframe\">\n",
              "  <thead>\n",
              "    <tr style=\"text-align: right;\">\n",
              "      <th></th>\n",
              "      <th>key</th>\n",
              "      <th>value_x</th>\n",
              "      <th>value_y</th>\n",
              "    </tr>\n",
              "  </thead>\n",
              "  <tbody>\n",
              "    <tr>\n",
              "      <th>0</th>\n",
              "      <td>a</td>\n",
              "      <td>1.0</td>\n",
              "      <td>5.0</td>\n",
              "    </tr>\n",
              "    <tr>\n",
              "      <th>1</th>\n",
              "      <td>a</td>\n",
              "      <td>1.0</td>\n",
              "      <td>8.0</td>\n",
              "    </tr>\n",
              "    <tr>\n",
              "      <th>2</th>\n",
              "      <td>a</td>\n",
              "      <td>5.0</td>\n",
              "      <td>5.0</td>\n",
              "    </tr>\n",
              "    <tr>\n",
              "      <th>3</th>\n",
              "      <td>a</td>\n",
              "      <td>5.0</td>\n",
              "      <td>8.0</td>\n",
              "    </tr>\n",
              "    <tr>\n",
              "      <th>4</th>\n",
              "      <td>b</td>\n",
              "      <td>2.0</td>\n",
              "      <td>6.0</td>\n",
              "    </tr>\n",
              "    <tr>\n",
              "      <th>5</th>\n",
              "      <td>u1</td>\n",
              "      <td>3.0</td>\n",
              "      <td>NaN</td>\n",
              "    </tr>\n",
              "    <tr>\n",
              "      <th>6</th>\n",
              "      <td>u2</td>\n",
              "      <td>NaN</td>\n",
              "      <td>7.0</td>\n",
              "    </tr>\n",
              "  </tbody>\n",
              "</table>\n",
              "</div>"
            ],
            "text/plain": [
              "  key  value_x  value_y\n",
              "0   a      1.0      5.0\n",
              "1   a      1.0      8.0\n",
              "2   a      5.0      5.0\n",
              "3   a      5.0      8.0\n",
              "4   b      2.0      6.0\n",
              "5  u1      3.0      NaN\n",
              "6  u2      NaN      7.0"
            ]
          },
          "metadata": {
            "tags": []
          },
          "execution_count": 121
        }
      ]
    },
    {
      "cell_type": "markdown",
      "metadata": {
        "id": "UfMmCgEn1lfT"
      },
      "source": [
        "Left\n",
        "\n",
        "Mantiene todas las filas del Dataframe de la izquierda y en las que existe un match en ```key``` en el Dataframe de la derecha.\n",
        "\n",
        "| df1 (left)   || df2 (right)|\n",
        "|---||----|\n",
        "| (a, 1) || (a, 5) y (a, 8) |\n",
        "| (a, 5) || (a, 5) y (a, 8) |\n",
        "| (b, 2) || (b, 6) |\n",
        "| (u1, 3)|| NaN |"
      ]
    },
    {
      "cell_type": "code",
      "metadata": {
        "id": "8yl-C27B1lzo",
        "outputId": "b3282f5c-82f1-4863-8664-23c18cd4a953"
      },
      "source": [
        "df1.merge(df2, how=\"left\", on=\"key\")"
      ],
      "execution_count": null,
      "outputs": [
        {
          "output_type": "execute_result",
          "data": {
            "text/html": [
              "<div>\n",
              "<style scoped>\n",
              "    .dataframe tbody tr th:only-of-type {\n",
              "        vertical-align: middle;\n",
              "    }\n",
              "\n",
              "    .dataframe tbody tr th {\n",
              "        vertical-align: top;\n",
              "    }\n",
              "\n",
              "    .dataframe thead th {\n",
              "        text-align: right;\n",
              "    }\n",
              "</style>\n",
              "<table border=\"1\" class=\"dataframe\">\n",
              "  <thead>\n",
              "    <tr style=\"text-align: right;\">\n",
              "      <th></th>\n",
              "      <th>key</th>\n",
              "      <th>value_x</th>\n",
              "      <th>value_y</th>\n",
              "    </tr>\n",
              "  </thead>\n",
              "  <tbody>\n",
              "    <tr>\n",
              "      <th>0</th>\n",
              "      <td>a</td>\n",
              "      <td>1</td>\n",
              "      <td>5.0</td>\n",
              "    </tr>\n",
              "    <tr>\n",
              "      <th>1</th>\n",
              "      <td>a</td>\n",
              "      <td>1</td>\n",
              "      <td>8.0</td>\n",
              "    </tr>\n",
              "    <tr>\n",
              "      <th>2</th>\n",
              "      <td>b</td>\n",
              "      <td>2</td>\n",
              "      <td>6.0</td>\n",
              "    </tr>\n",
              "    <tr>\n",
              "      <th>3</th>\n",
              "      <td>u1</td>\n",
              "      <td>3</td>\n",
              "      <td>NaN</td>\n",
              "    </tr>\n",
              "    <tr>\n",
              "      <th>4</th>\n",
              "      <td>a</td>\n",
              "      <td>5</td>\n",
              "      <td>5.0</td>\n",
              "    </tr>\n",
              "    <tr>\n",
              "      <th>5</th>\n",
              "      <td>a</td>\n",
              "      <td>5</td>\n",
              "      <td>8.0</td>\n",
              "    </tr>\n",
              "  </tbody>\n",
              "</table>\n",
              "</div>"
            ],
            "text/plain": [
              "  key  value_x  value_y\n",
              "0   a        1      5.0\n",
              "1   a        1      8.0\n",
              "2   b        2      6.0\n",
              "3  u1        3      NaN\n",
              "4   a        5      5.0\n",
              "5   a        5      8.0"
            ]
          },
          "metadata": {
            "tags": []
          },
          "execution_count": 122
        }
      ]
    },
    {
      "cell_type": "markdown",
      "metadata": {
        "id": "pWfriTKA1mJG"
      },
      "source": [
        "Right\n",
        "\n",
        "Mantiene todas las filas del Dataframe de la derecha y en las que existe un match en ```key``` en el Dataframe de la izquierda.\n",
        "\n",
        "| df1 (left)   || df2 (right)|\n",
        "|---||----|\n",
        "| (a, 1) || (a, 5) y (a, 8) |\n",
        "| (a, 5) || (a, 5) y (a, 8) |\n",
        "| (b, 2) || (b, 6) |\n",
        "| NaN || (u2, 7) |"
      ]
    },
    {
      "cell_type": "code",
      "metadata": {
        "id": "I1bNQtDH1mgL",
        "outputId": "8ff2dad9-9be0-4b92-9490-57066adc8df1"
      },
      "source": [
        "df1.merge(df2, how=\"right\", on=\"key\")"
      ],
      "execution_count": null,
      "outputs": [
        {
          "output_type": "execute_result",
          "data": {
            "text/html": [
              "<div>\n",
              "<style scoped>\n",
              "    .dataframe tbody tr th:only-of-type {\n",
              "        vertical-align: middle;\n",
              "    }\n",
              "\n",
              "    .dataframe tbody tr th {\n",
              "        vertical-align: top;\n",
              "    }\n",
              "\n",
              "    .dataframe thead th {\n",
              "        text-align: right;\n",
              "    }\n",
              "</style>\n",
              "<table border=\"1\" class=\"dataframe\">\n",
              "  <thead>\n",
              "    <tr style=\"text-align: right;\">\n",
              "      <th></th>\n",
              "      <th>key</th>\n",
              "      <th>value_x</th>\n",
              "      <th>value_y</th>\n",
              "    </tr>\n",
              "  </thead>\n",
              "  <tbody>\n",
              "    <tr>\n",
              "      <th>0</th>\n",
              "      <td>a</td>\n",
              "      <td>1.0</td>\n",
              "      <td>5</td>\n",
              "    </tr>\n",
              "    <tr>\n",
              "      <th>1</th>\n",
              "      <td>a</td>\n",
              "      <td>5.0</td>\n",
              "      <td>5</td>\n",
              "    </tr>\n",
              "    <tr>\n",
              "      <th>2</th>\n",
              "      <td>a</td>\n",
              "      <td>1.0</td>\n",
              "      <td>8</td>\n",
              "    </tr>\n",
              "    <tr>\n",
              "      <th>3</th>\n",
              "      <td>a</td>\n",
              "      <td>5.0</td>\n",
              "      <td>8</td>\n",
              "    </tr>\n",
              "    <tr>\n",
              "      <th>4</th>\n",
              "      <td>b</td>\n",
              "      <td>2.0</td>\n",
              "      <td>6</td>\n",
              "    </tr>\n",
              "    <tr>\n",
              "      <th>5</th>\n",
              "      <td>u2</td>\n",
              "      <td>NaN</td>\n",
              "      <td>7</td>\n",
              "    </tr>\n",
              "  </tbody>\n",
              "</table>\n",
              "</div>"
            ],
            "text/plain": [
              "  key  value_x  value_y\n",
              "0   a      1.0        5\n",
              "1   a      5.0        5\n",
              "2   a      1.0        8\n",
              "3   a      5.0        8\n",
              "4   b      2.0        6\n",
              "5  u2      NaN        7"
            ]
          },
          "metadata": {
            "tags": []
          },
          "execution_count": 123
        }
      ]
    },
    {
      "cell_type": "markdown",
      "metadata": {
        "id": "RcwPQghivj8S"
      },
      "source": [
        "**join()**\n",
        "\n",
        "Permite unir las columnas de uno o más objetos usando su índice o usando una columna como clave.\n",
        "\n",
        "\n",
        "Parámetros:\n",
        "```\n",
        "other : DataFrame, Series, o lista de DataFrames\n",
        "\n",
        "on : str o lista de str, opcional (por defecto usa los indices)\n",
        "\n",
        "how:{‘left’, ‘right’, ‘outer’, ‘inner’}, Por defecto ‘inner’\n",
        "  Type of merge to be performed.\n",
        "\n",
        "  left: usar el indice del DataFrame que llama al metodo.\n",
        "  right: usar el indice de other.\n",
        "  outer:  union de los indices.\n",
        "  inner: interseccion de los indices.\n",
        "\n",
        "lsuffix : str, por defecto ‘’\n",
        "  sufijo a utilizar del dataframe izq para la columnas sobrelapadas.\n",
        "\n",
        "rsuffix : str, default ‘’\n",
        "  sufijo a utilizar del dataframe der para la columnas sobrelapadas.\n",
        "```\n",
        "\n"
      ]
    },
    {
      "cell_type": "code",
      "metadata": {
        "id": "OPJ0nnz0w_Sk",
        "outputId": "ba19b9f6-bb01-4fef-a3b2-3f303ccb5166"
      },
      "source": [
        "df1 = pd.DataFrame({'key': ['foo', 'bar', 'baz', 'foo'], 'value': [1, 2, 3, 5]}).set_index(\"key\")\n",
        "df1"
      ],
      "execution_count": null,
      "outputs": [
        {
          "output_type": "execute_result",
          "data": {
            "text/html": [
              "<div>\n",
              "<style scoped>\n",
              "    .dataframe tbody tr th:only-of-type {\n",
              "        vertical-align: middle;\n",
              "    }\n",
              "\n",
              "    .dataframe tbody tr th {\n",
              "        vertical-align: top;\n",
              "    }\n",
              "\n",
              "    .dataframe thead th {\n",
              "        text-align: right;\n",
              "    }\n",
              "</style>\n",
              "<table border=\"1\" class=\"dataframe\">\n",
              "  <thead>\n",
              "    <tr style=\"text-align: right;\">\n",
              "      <th></th>\n",
              "      <th>value</th>\n",
              "    </tr>\n",
              "    <tr>\n",
              "      <th>key</th>\n",
              "      <th></th>\n",
              "    </tr>\n",
              "  </thead>\n",
              "  <tbody>\n",
              "    <tr>\n",
              "      <th>foo</th>\n",
              "      <td>1</td>\n",
              "    </tr>\n",
              "    <tr>\n",
              "      <th>bar</th>\n",
              "      <td>2</td>\n",
              "    </tr>\n",
              "    <tr>\n",
              "      <th>baz</th>\n",
              "      <td>3</td>\n",
              "    </tr>\n",
              "    <tr>\n",
              "      <th>foo</th>\n",
              "      <td>5</td>\n",
              "    </tr>\n",
              "  </tbody>\n",
              "</table>\n",
              "</div>"
            ],
            "text/plain": [
              "     value\n",
              "key       \n",
              "foo      1\n",
              "bar      2\n",
              "baz      3\n",
              "foo      5"
            ]
          },
          "metadata": {
            "tags": []
          },
          "execution_count": 124
        }
      ]
    },
    {
      "cell_type": "code",
      "metadata": {
        "id": "s1NKoBucw_b2",
        "outputId": "d3d5a474-2d62-4adc-dac0-d79995408ece"
      },
      "source": [
        "df2 = pd.DataFrame({'key': ['foo', 'bar', 'baz', 'foo'], 'value': [5, 6, 7, 8]}).set_index(\"key\")\n",
        "df2"
      ],
      "execution_count": null,
      "outputs": [
        {
          "output_type": "execute_result",
          "data": {
            "text/html": [
              "<div>\n",
              "<style scoped>\n",
              "    .dataframe tbody tr th:only-of-type {\n",
              "        vertical-align: middle;\n",
              "    }\n",
              "\n",
              "    .dataframe tbody tr th {\n",
              "        vertical-align: top;\n",
              "    }\n",
              "\n",
              "    .dataframe thead th {\n",
              "        text-align: right;\n",
              "    }\n",
              "</style>\n",
              "<table border=\"1\" class=\"dataframe\">\n",
              "  <thead>\n",
              "    <tr style=\"text-align: right;\">\n",
              "      <th></th>\n",
              "      <th>value</th>\n",
              "    </tr>\n",
              "    <tr>\n",
              "      <th>key</th>\n",
              "      <th></th>\n",
              "    </tr>\n",
              "  </thead>\n",
              "  <tbody>\n",
              "    <tr>\n",
              "      <th>foo</th>\n",
              "      <td>5</td>\n",
              "    </tr>\n",
              "    <tr>\n",
              "      <th>bar</th>\n",
              "      <td>6</td>\n",
              "    </tr>\n",
              "    <tr>\n",
              "      <th>baz</th>\n",
              "      <td>7</td>\n",
              "    </tr>\n",
              "    <tr>\n",
              "      <th>foo</th>\n",
              "      <td>8</td>\n",
              "    </tr>\n",
              "  </tbody>\n",
              "</table>\n",
              "</div>"
            ],
            "text/plain": [
              "     value\n",
              "key       \n",
              "foo      5\n",
              "bar      6\n",
              "baz      7\n",
              "foo      8"
            ]
          },
          "metadata": {
            "tags": []
          },
          "execution_count": 125
        }
      ]
    },
    {
      "cell_type": "code",
      "metadata": {
        "id": "XxGont_ExMFH",
        "outputId": "43f045a0-ea7d-455d-e86a-dbd745f44a47"
      },
      "source": [
        "df1.join(df2, lsuffix=\"_l\", rsuffix=\"_r\")"
      ],
      "execution_count": null,
      "outputs": [
        {
          "output_type": "execute_result",
          "data": {
            "text/html": [
              "<div>\n",
              "<style scoped>\n",
              "    .dataframe tbody tr th:only-of-type {\n",
              "        vertical-align: middle;\n",
              "    }\n",
              "\n",
              "    .dataframe tbody tr th {\n",
              "        vertical-align: top;\n",
              "    }\n",
              "\n",
              "    .dataframe thead th {\n",
              "        text-align: right;\n",
              "    }\n",
              "</style>\n",
              "<table border=\"1\" class=\"dataframe\">\n",
              "  <thead>\n",
              "    <tr style=\"text-align: right;\">\n",
              "      <th></th>\n",
              "      <th>value_l</th>\n",
              "      <th>value_r</th>\n",
              "    </tr>\n",
              "    <tr>\n",
              "      <th>key</th>\n",
              "      <th></th>\n",
              "      <th></th>\n",
              "    </tr>\n",
              "  </thead>\n",
              "  <tbody>\n",
              "    <tr>\n",
              "      <th>bar</th>\n",
              "      <td>2</td>\n",
              "      <td>6</td>\n",
              "    </tr>\n",
              "    <tr>\n",
              "      <th>baz</th>\n",
              "      <td>3</td>\n",
              "      <td>7</td>\n",
              "    </tr>\n",
              "    <tr>\n",
              "      <th>foo</th>\n",
              "      <td>1</td>\n",
              "      <td>5</td>\n",
              "    </tr>\n",
              "    <tr>\n",
              "      <th>foo</th>\n",
              "      <td>1</td>\n",
              "      <td>8</td>\n",
              "    </tr>\n",
              "    <tr>\n",
              "      <th>foo</th>\n",
              "      <td>5</td>\n",
              "      <td>5</td>\n",
              "    </tr>\n",
              "    <tr>\n",
              "      <th>foo</th>\n",
              "      <td>5</td>\n",
              "      <td>8</td>\n",
              "    </tr>\n",
              "  </tbody>\n",
              "</table>\n",
              "</div>"
            ],
            "text/plain": [
              "     value_l  value_r\n",
              "key                  \n",
              "bar        2        6\n",
              "baz        3        7\n",
              "foo        1        5\n",
              "foo        1        8\n",
              "foo        5        5\n",
              "foo        5        8"
            ]
          },
          "metadata": {
            "tags": []
          },
          "execution_count": 126
        }
      ]
    },
    {
      "cell_type": "markdown",
      "metadata": {
        "id": "_L-No5v8Vm2a"
      },
      "source": [
        "# Cadenas\n",
        "\n",
        "Muchas de los métodos/funciones de Python para variables string, tienen un método equivalente en los objetos Series y DataFrames de Pandas.\n",
        "\n",
        "Métodos principales para cadenas:\n",
        "\n",
        "* str.cat(other, sep), concatenta sep y other a cada str en el objeto.\n",
        "* str.split(str), divide la cadena usando el separador especificado.\n",
        "* str.replace(patt, repl), reemplaza en la cadena patt por repl.\n",
        "* str.lower() y str.upper(), para convertir cadenas a minúsculas o mayúsculas.\n",
        "* str.len(), calcula la longitud de la cadena.\n",
        "* str.count(str), cuenta el número de apariciones de str en la cadena.\n",
        "* str.strip(str), elimina str al inicio y final de la cadena.\n",
        "\n",
        "Visita la documentación para la lista completa de [métodos para cadenas de texto de Pandas](https://pandas.pydata.org/pandas-docs/stable/user_guide/text.html#method-summary).\n"
      ]
    },
    {
      "cell_type": "code",
      "metadata": {
        "id": "x6OD5UjjVRgL",
        "outputId": "0078fc49-8b22-44f4-a2b0-21807d44d310"
      },
      "source": [
        "s1 = pd.Series([\"A\", \"B\", \"C\"])\n",
        "s1"
      ],
      "execution_count": null,
      "outputs": [
        {
          "output_type": "execute_result",
          "data": {
            "text/plain": [
              "0    A\n",
              "1    B\n",
              "2    C\n",
              "dtype: object"
            ]
          },
          "metadata": {
            "tags": []
          },
          "execution_count": 127
        }
      ]
    },
    {
      "cell_type": "code",
      "metadata": {
        "id": "MxstMIglhypx",
        "outputId": "fdfd9b2d-bd74-488d-fadf-4d770a637403"
      },
      "source": [
        "s2 = pd.Series([\"1\", \"2\", \"3\"])\n",
        "s2"
      ],
      "execution_count": null,
      "outputs": [
        {
          "output_type": "execute_result",
          "data": {
            "text/plain": [
              "0    1\n",
              "1    2\n",
              "2    3\n",
              "dtype: object"
            ]
          },
          "metadata": {
            "tags": []
          },
          "execution_count": 128
        }
      ]
    },
    {
      "cell_type": "code",
      "metadata": {
        "id": "x9F2lAoyg765",
        "outputId": "833a9c6a-efd6-4c4c-e20d-49361c8821a8"
      },
      "source": [
        "#concatenando s1 y s2 generando s3\n",
        "s3 = s1.str.cat(s2, sep=\"-\")\n",
        "s3"
      ],
      "execution_count": null,
      "outputs": [
        {
          "output_type": "execute_result",
          "data": {
            "text/plain": [
              "0    A-1\n",
              "1    B-2\n",
              "2    C-3\n",
              "dtype: object"
            ]
          },
          "metadata": {
            "tags": []
          },
          "execution_count": 129
        }
      ]
    },
    {
      "cell_type": "code",
      "metadata": {
        "id": "BHPmiTLFiG4a",
        "outputId": "5afe5a00-e2da-4e5d-8dc8-674796d602d4"
      },
      "source": [
        "#str split\n",
        "s3.str.split(\"-\")"
      ],
      "execution_count": null,
      "outputs": [
        {
          "output_type": "execute_result",
          "data": {
            "text/plain": [
              "0    [A, 1]\n",
              "1    [B, 2]\n",
              "2    [C, 3]\n",
              "dtype: object"
            ]
          },
          "metadata": {
            "tags": []
          },
          "execution_count": 130
        }
      ]
    },
    {
      "cell_type": "code",
      "metadata": {
        "id": "p5UZmIieiOYh",
        "outputId": "657678ff-a740-4a61-b844-2796a2312eac"
      },
      "source": [
        "#str.replace\n",
        "s3.str.replace(pat=\"-\", repl=\"_\")"
      ],
      "execution_count": null,
      "outputs": [
        {
          "output_type": "execute_result",
          "data": {
            "text/plain": [
              "0    A_1\n",
              "1    B_2\n",
              "2    C_3\n",
              "dtype: object"
            ]
          },
          "metadata": {
            "tags": []
          },
          "execution_count": 131
        }
      ]
    },
    {
      "cell_type": "code",
      "metadata": {
        "id": "EA3DyWgOiAen"
      },
      "source": [
        "#un nuevo df\n",
        "s = pd.Series([\"gato\", \"perro\", \"elefante\"])"
      ],
      "execution_count": null,
      "outputs": []
    },
    {
      "cell_type": "code",
      "metadata": {
        "id": "DwtQJJwriluM",
        "outputId": "287e8605-91bd-420b-a85c-fa316f7e8a9a"
      },
      "source": [
        "#upper\n",
        "s.str.upper()"
      ],
      "execution_count": null,
      "outputs": [
        {
          "output_type": "execute_result",
          "data": {
            "text/plain": [
              "0        GATO\n",
              "1       PERRO\n",
              "2    ELEFANTE\n",
              "dtype: object"
            ]
          },
          "metadata": {
            "tags": []
          },
          "execution_count": 133
        }
      ]
    },
    {
      "cell_type": "code",
      "metadata": {
        "id": "ISoIjll3ir8W",
        "outputId": "fc5ed878-c8f0-4355-ff6a-36d292925b00"
      },
      "source": [
        "#len\n",
        "s.str.len()"
      ],
      "execution_count": null,
      "outputs": [
        {
          "output_type": "execute_result",
          "data": {
            "text/plain": [
              "0    4\n",
              "1    5\n",
              "2    8\n",
              "dtype: int64"
            ]
          },
          "metadata": {
            "tags": []
          },
          "execution_count": 134
        }
      ]
    },
    {
      "cell_type": "code",
      "metadata": {
        "id": "1axpUP6vivRY",
        "outputId": "f8c96106-64fe-4700-fda3-4736a6597a69"
      },
      "source": [
        "#count\n",
        "s.str.count(\"o\")"
      ],
      "execution_count": null,
      "outputs": [
        {
          "output_type": "execute_result",
          "data": {
            "text/plain": [
              "0    1\n",
              "1    1\n",
              "2    0\n",
              "dtype: int64"
            ]
          },
          "metadata": {
            "tags": []
          },
          "execution_count": 135
        }
      ]
    },
    {
      "cell_type": "code",
      "metadata": {
        "id": "4AfZk9Pyi42j",
        "outputId": "e61d4374-0073-4b28-e3f0-fde0a3b6f190"
      },
      "source": [
        "#un nuevo df\n",
        "s4 = pd.Series([\"_A_\", \"_B_\", \"_C_\", \"_D_\"])\n",
        "s4"
      ],
      "execution_count": null,
      "outputs": [
        {
          "output_type": "execute_result",
          "data": {
            "text/plain": [
              "0    _A_\n",
              "1    _B_\n",
              "2    _C_\n",
              "3    _D_\n",
              "dtype: object"
            ]
          },
          "metadata": {
            "tags": []
          },
          "execution_count": 136
        }
      ]
    },
    {
      "cell_type": "code",
      "metadata": {
        "id": "xGUWuWAkjJGM",
        "outputId": "2462df98-b4ae-4c7a-f1f8-0f44b18b95d3"
      },
      "source": [
        "s4.str.strip(\"_\")"
      ],
      "execution_count": null,
      "outputs": [
        {
          "output_type": "execute_result",
          "data": {
            "text/plain": [
              "0    A\n",
              "1    B\n",
              "2    C\n",
              "3    D\n",
              "dtype: object"
            ]
          },
          "metadata": {
            "tags": []
          },
          "execution_count": 137
        }
      ]
    },
    {
      "cell_type": "markdown",
      "metadata": {
        "id": "k3f__tkwckYx"
      },
      "source": [
        "# Series de tiempo\n",
        "\n",
        "Pandas utiliza el tipo de dato \"Timestamp\" para el manejo de fechas y tiempo."
      ]
    },
    {
      "cell_type": "markdown",
      "metadata": {
        "id": "f8dQbtFPg0RI"
      },
      "source": [
        "## String a Timestamp"
      ]
    },
    {
      "cell_type": "code",
      "metadata": {
        "id": "00MB65mOckiQ",
        "outputId": "39ec3a93-e4ec-4e0d-fe28-1f25b4df0a02"
      },
      "source": [
        "ts_index = pd.to_datetime([\"10/09/2006\", \"11/09/2006\", \"12/09/2006\"])\n",
        "ts_index"
      ],
      "execution_count": null,
      "outputs": [
        {
          "output_type": "execute_result",
          "data": {
            "text/plain": [
              "DatetimeIndex(['2006-10-09', '2006-11-09', '2006-12-09'], dtype='datetime64[ns]', freq=None)"
            ]
          },
          "metadata": {
            "tags": []
          },
          "execution_count": 138
        }
      ]
    },
    {
      "cell_type": "markdown",
      "metadata": {
        "id": "OAwU2ETlg7Aq"
      },
      "source": [
        "Creando una serie de tiempo desde objetos:"
      ]
    },
    {
      "cell_type": "code",
      "metadata": {
        "id": "oXrkDmylg7KB",
        "outputId": "3ea9d507-9583-435c-f99c-4f9a69ff41bb"
      },
      "source": [
        "ts = pd.Series([\"5\", \"10\", \"15\"], index=ts_index)\n",
        "ts"
      ],
      "execution_count": null,
      "outputs": [
        {
          "output_type": "execute_result",
          "data": {
            "text/plain": [
              "2006-10-09     5\n",
              "2006-11-09    10\n",
              "2006-12-09    15\n",
              "dtype: object"
            ]
          },
          "metadata": {
            "tags": []
          },
          "execution_count": 139
        }
      ]
    },
    {
      "cell_type": "markdown",
      "metadata": {
        "id": "tc8pIQAMmods"
      },
      "source": [
        "Creando una serie de tiempo usando aleatoriamente usando Numpy y date_range de Pandas:"
      ]
    },
    {
      "cell_type": "code",
      "metadata": {
        "id": "I-g0NLy4moi6",
        "outputId": "537cba92-f09e-44ae-e5ca-cf0c1757a146"
      },
      "source": [
        "ts = pd.Series(np.random.normal(0, 1, 100), index=pd.date_range(start=\"2006-01-01\", periods=100, freq=\"D\"))\n",
        "ts.head(10)"
      ],
      "execution_count": null,
      "outputs": [
        {
          "output_type": "execute_result",
          "data": {
            "text/plain": [
              "2006-01-01   -0.074845\n",
              "2006-01-02    0.565305\n",
              "2006-01-03   -2.425145\n",
              "2006-01-04    0.652589\n",
              "2006-01-05    1.047294\n",
              "2006-01-06   -0.402188\n",
              "2006-01-07   -0.770398\n",
              "2006-01-08   -0.391937\n",
              "2006-01-09    2.162934\n",
              "2006-01-10   -1.348948\n",
              "Freq: D, dtype: float64"
            ]
          },
          "metadata": {
            "tags": []
          },
          "execution_count": 140
        }
      ]
    },
    {
      "cell_type": "markdown",
      "metadata": {
        "id": "oRuwhTMRmdNM"
      },
      "source": [
        "## Indexing\n",
        "\n",
        "Puedes utilizar fechas para indexar una serie de tiempo:"
      ]
    },
    {
      "cell_type": "code",
      "metadata": {
        "id": "wGH6izcRl4q_",
        "outputId": "fa7157b1-6762-4c72-805e-68697fb00ef8"
      },
      "source": [
        "#usando el anio y mes como indice\n",
        "ts[\"2006-02\"]"
      ],
      "execution_count": null,
      "outputs": [
        {
          "output_type": "execute_result",
          "data": {
            "text/plain": [
              "2006-02-01    1.465219\n",
              "2006-02-02   -1.764782\n",
              "2006-02-03   -1.413915\n",
              "2006-02-04   -0.413536\n",
              "2006-02-05    0.476709\n",
              "2006-02-06    0.356867\n",
              "2006-02-07   -0.642573\n",
              "2006-02-08   -0.369880\n",
              "2006-02-09    0.055267\n",
              "2006-02-10   -0.197579\n",
              "2006-02-11    2.017595\n",
              "2006-02-12    0.444507\n",
              "2006-02-13   -0.520070\n",
              "2006-02-14    1.713540\n",
              "2006-02-15   -0.829158\n",
              "2006-02-16   -0.657546\n",
              "2006-02-17    0.170500\n",
              "2006-02-18   -0.500196\n",
              "2006-02-19   -1.190227\n",
              "2006-02-20    1.851136\n",
              "2006-02-21    1.150716\n",
              "2006-02-22    0.604970\n",
              "2006-02-23    0.740351\n",
              "2006-02-24    2.058898\n",
              "2006-02-25    1.580037\n",
              "2006-02-26    0.403956\n",
              "2006-02-27   -1.072578\n",
              "2006-02-28   -0.036517\n",
              "Freq: D, dtype: float64"
            ]
          },
          "metadata": {
            "tags": []
          },
          "execution_count": 141
        }
      ]
    },
    {
      "cell_type": "code",
      "metadata": {
        "id": "3Ap7AU9bunh_",
        "outputId": "9d182ab5-c6d1-41eb-d85b-466699b3718c"
      },
      "source": [
        "#una rebanada entre fechas\n",
        "ts[\"2006-02-20\": \"2006-03-10\"]"
      ],
      "execution_count": null,
      "outputs": [
        {
          "output_type": "execute_result",
          "data": {
            "text/plain": [
              "2006-02-20    1.851136\n",
              "2006-02-21    1.150716\n",
              "2006-02-22    0.604970\n",
              "2006-02-23    0.740351\n",
              "2006-02-24    2.058898\n",
              "2006-02-25    1.580037\n",
              "2006-02-26    0.403956\n",
              "2006-02-27   -1.072578\n",
              "2006-02-28   -0.036517\n",
              "2006-03-01   -0.110160\n",
              "2006-03-02    0.948635\n",
              "2006-03-03   -1.661610\n",
              "2006-03-04   -0.774387\n",
              "2006-03-05    2.515873\n",
              "2006-03-06   -2.166682\n",
              "2006-03-07   -0.612998\n",
              "2006-03-08    0.122015\n",
              "2006-03-09    1.163975\n",
              "2006-03-10   -0.729219\n",
              "Freq: D, dtype: float64"
            ]
          },
          "metadata": {
            "tags": []
          },
          "execution_count": 142
        }
      ]
    },
    {
      "cell_type": "markdown",
      "metadata": {
        "id": "OhcR1uS6n2py"
      },
      "source": [
        "## Resampling / agregación\n",
        "\n",
        "Permite obtener desde una serie de tiempo una nueva serie de tiempo a una frecuencia de tiempo menor al agregar los datos."
      ]
    },
    {
      "cell_type": "code",
      "metadata": {
        "id": "jwU6jpz0n41e",
        "outputId": "5de916a0-86e8-49c7-a8c3-0344dff70fbb"
      },
      "source": [
        "#De frecuencia por dias a semanas\n",
        "ts.resample(\"W\").mean()"
      ],
      "execution_count": null,
      "outputs": [
        {
          "output_type": "execute_result",
          "data": {
            "text/plain": [
              "2006-01-01   -0.074845\n",
              "2006-01-08   -0.246354\n",
              "2006-01-15    0.467266\n",
              "2006-01-22    0.683309\n",
              "2006-01-29    0.413239\n",
              "2006-02-05   -0.168397\n",
              "2006-02-12    0.237744\n",
              "2006-02-19   -0.259023\n",
              "2006-02-26    1.198581\n",
              "2006-03-05   -0.027249\n",
              "2006-03-12   -0.434617\n",
              "2006-03-19    0.402173\n",
              "2006-03-26   -0.572169\n",
              "2006-04-02   -0.589841\n",
              "2006-04-09   -0.371138\n",
              "2006-04-16    0.952939\n",
              "Freq: W-SUN, dtype: float64"
            ]
          },
          "metadata": {
            "tags": []
          },
          "execution_count": 143
        }
      ]
    },
    {
      "cell_type": "markdown",
      "metadata": {
        "id": "-xUm9dhkn5RX"
      },
      "source": [
        "## Ventanas\n",
        "\n",
        "Puedes aplicar ventanas deslizantes a series de tiempo para calcular distintos estadísticos."
      ]
    },
    {
      "cell_type": "code",
      "metadata": {
        "id": "DCVmpAFTn5e6",
        "outputId": "dae6b1f5-5a07-49eb-aeab-913a64b36569"
      },
      "source": [
        "ts.rolling(window=7).mean().head(14)"
      ],
      "execution_count": null,
      "outputs": [
        {
          "output_type": "execute_result",
          "data": {
            "text/plain": [
              "2006-01-01         NaN\n",
              "2006-01-02         NaN\n",
              "2006-01-03         NaN\n",
              "2006-01-04         NaN\n",
              "2006-01-05         NaN\n",
              "2006-01-06         NaN\n",
              "2006-01-07   -0.201056\n",
              "2006-01-08   -0.246354\n",
              "2006-01-09   -0.018122\n",
              "2006-01-10    0.135621\n",
              "2006-01-11    0.088495\n",
              "2006-01-12   -0.016766\n",
              "2006-01-13    0.138397\n",
              "2006-01-14    0.382191\n",
              "Freq: D, dtype: float64"
            ]
          },
          "metadata": {
            "tags": []
          },
          "execution_count": 144
        }
      ]
    }
  ]
}