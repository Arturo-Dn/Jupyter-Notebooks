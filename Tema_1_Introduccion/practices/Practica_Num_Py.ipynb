{
  "nbformat": 4,
  "nbformat_minor": 0,
  "metadata": {
    "kernelspec": {
      "display_name": "Python 3",
      "language": "python",
      "name": "python3"
    },
    "language_info": {
      "codemirror_mode": {
        "name": "ipython",
        "version": 3
      },
      "file_extension": ".py",
      "mimetype": "text/x-python",
      "name": "python",
      "nbconvert_exporter": "python",
      "pygments_lexer": "ipython3",
      "version": "3.7.6"
    },
    "colab": {
      "name": "Practica_Num_Py.ipynb",
      "provenance": []
    }
  },
  "cells": [
    {
      "cell_type": "markdown",
      "metadata": {
        "id": "plprHlIGRcw8"
      },
      "source": [
        "[![Open In Colab](https://colab.research.google.com/assets/colab-badge.svg)](https://colab.research.google.com/github/MauricioRR-Tec/AprendizajeAutomatico/blob/master/Tema_1_Introduccion/practices/Practica_Num_Py.ipynb)"
      ]
    },
    {
      "cell_type": "markdown",
      "metadata": {
        "id": "7R6eO480Rcw9"
      },
      "source": [
        "# Practica - MNist con NumPy\n",
        "---\n",
        "## Usando Numpy con MNist\n",
        "\n",
        "MNist es un popular conjunto de datos que contiene imágenes de dígitos del 0-9 escritos a mano. Las imágenes en el conjunto están compuestas por 28x28 pixeles, cada pixel representa un tono en una escala de grises siendo 0 el valor más luminoso y 255 el valor más oscuro.\n",
        "\n",
        "Unos ejemplos de las imágenes en MNist:\n",
        "\n",
        "![alt text](https://upload.wikimedia.org/wikipedia/commons/2/27/MnistExamples.png)"
      ]
    },
    {
      "cell_type": "markdown",
      "metadata": {
        "id": "WtcqINWvRcw-"
      },
      "source": [
        "Ejecuta la siguiente celda para importar las librerías utilizadas durante la notebook.\n"
      ]
    },
    {
      "cell_type": "code",
      "metadata": {
        "id": "loY9qHrkRcw-"
      },
      "source": [
        "import numpy as np\n",
        "from matplotlib import pyplot as plt"
      ],
      "execution_count": null,
      "outputs": []
    },
    {
      "cell_type": "markdown",
      "metadata": {
        "id": "_k1Lf991Rcw_"
      },
      "source": [
        "Una función auxiliar ```display_example``` para visualizar ejemplos en el conjunto de datos MNist.\n",
        "\n",
        "*Nota: No olvides ejecutar la celda*"
      ]
    },
    {
      "cell_type": "markdown",
      "metadata": {
        "id": "mfukuLroRcw_"
      },
      "source": [
        "**¿Puedes explicar que es lo que hace x = x[None]?**"
      ]
    },
    {
      "cell_type": "code",
      "metadata": {
        "id": "IKFdR7XVRcw_"
      },
      "source": [
        ""
      ],
      "execution_count": null,
      "outputs": []
    },
    {
      "cell_type": "code",
      "metadata": {
        "id": "6wplfVQcRcw_"
      },
      "source": [
        "def display_example(x, example_width=None):\n",
        "    \"\"\"Muestra un ejemplo en forma 1D como una imagen\"\"\"\n",
        "    # Compute rows, cols\n",
        "    if x.ndim == 1:\n",
        "        n = x.size\n",
        "        m = 1\n",
        "        x = x[None]  # Promote to a 2 dimensional array \n",
        "    else:\n",
        "        raise IndexError('Input x should be 1 dimensional.')\n",
        "\n",
        "    example_width = example_width or int(np.round(np.sqrt(n)))\n",
        "    example_height = n // example_width\n",
        "\n",
        "    plt.imshow(x[0].reshape(example_height, example_width),\n",
        "                        cmap='Greys', extent=[0, 1, 0, 1])\n",
        "    plt.show()"
      ],
      "execution_count": null,
      "outputs": []
    },
    {
      "cell_type": "markdown",
      "metadata": {
        "id": "GXTeRFpuRcxA"
      },
      "source": [
        "## Cargando los datos usando Numpy\n",
        "\n",
        "Usarémos la función ```loadtxt``` para cargar una versión de MNist que está en nuestra máquina asignada por colab."
      ]
    },
    {
      "cell_type": "code",
      "metadata": {
        "id": "swZ1OMu1RcxA"
      },
      "source": [
        "MNist = np.loadtxt(\"sample_data/mnist_train_small.csv\", delimiter=',')\n",
        "MNist"
      ],
      "execution_count": null,
      "outputs": []
    },
    {
      "cell_type": "markdown",
      "metadata": {
        "id": "jsnlWGcQRcxA"
      },
      "source": [
        "El conjunto de datos MNist en Colab está formado por imágenes de ejemplo. Cada ejemplo en el conjunto es una fila en el arreglo de NumPy.\n",
        "\n",
        "Cada ejemplo (fila) es un arreglo con $785$ elementos, el primer elemento es la etiqueta del dígito (un entero de $0$ a $9$). El resto de los elementos ($784$) son los pixeles de la imágen ($28\\times28 = 784$).\n",
        "\n",
        "---\n",
        "## ¿Cuántos ejemplos (filas) tenemos en el conjunto de datos?\n",
        "\n",
        "Utiliza NumPy para calcular el número de filas en el set de datos, rellena el código para guardar el valor en la variable ```m```."
      ]
    },
    {
      "cell_type": "code",
      "metadata": {
        "id": "Uis-o3QFRcxB"
      },
      "source": [
        "m = #<rellena>\n",
        "print(\"El set de datos contiene \", m, \" ejemplos.\")"
      ],
      "execution_count": null,
      "outputs": []
    },
    {
      "cell_type": "markdown",
      "metadata": {
        "id": "joDDDRDdRcxB"
      },
      "source": [
        "## Separando los datos.\n",
        "\n",
        "En la siguiente celda, deberás completar el código para separar el conjunto de datos en dos, un conjunto ```X``` que contendrá únicamente los pixeles de las imágenes y un conjunto ```y``` que contendrá las etiquetas asociadas al número que está en la imágen.\n",
        "\n",
        "Utiliza slicing con NumPy para seleccionar los elementos adecuados."
      ]
    },
    {
      "cell_type": "code",
      "metadata": {
        "id": "qN0Bh9uyRcxB"
      },
      "source": [
        "X = # <completa>\n",
        "y = # <completa>"
      ],
      "execution_count": null,
      "outputs": []
    },
    {
      "cell_type": "code",
      "metadata": {
        "id": "rahQTsVbRcxB"
      },
      "source": [
        "Comprueba ejecutando la siguiente celda:\n"
      ],
      "execution_count": null,
      "outputs": []
    },
    {
      "cell_type": "code",
      "metadata": {
        "id": "ZyCf5sDLRcxC"
      },
      "source": [
        "assert y.shape == (20000,) and X.shape == (20000, 784), \"Error en las dimensiones de X o y\"\n",
        "print(\"X.shape:\", X.shape)\n",
        "print(\"y.shape:\", y.shape)"
      ],
      "execution_count": null,
      "outputs": []
    },
    {
      "cell_type": "markdown",
      "metadata": {
        "id": "Dt_x4yD9RcxC"
      },
      "source": [
        "## Visualizando las imágenes en el set de datos\n",
        "\n",
        "Usemos la función auxiliar display_example para visualizar los ejemplos en el set de datos. Intentar cambiar el valor de ```i``` para mostrar una ejemplo distinto."
      ]
    },
    {
      "cell_type": "code",
      "metadata": {
        "id": "6skaYyEgRcxC"
      },
      "source": [
        "#puedes cambiar el valor de i\n",
        "i = 4\n",
        "\n",
        "example = X[i]\n",
        "example_label = y[i]\n",
        "display_example(example)\n",
        "print(\"Imágen con etiqueta: \", example_label)"
      ],
      "execution_count": null,
      "outputs": []
    },
    {
      "cell_type": "markdown",
      "metadata": {
        "id": "KcPOc5kWRcxC"
      },
      "source": [
        "## Contando el número de ejemplos para cada \"clase\"\n",
        "\n",
        "Rellena la función ```count_class_examples()``` para imprimir el número de ejemplos de cada etiqueta en el set de datos. Esto es, el número de ceros, de unos, dos, ..., nueves.\n",
        "\n",
        "Para MNist las etiquetas $y \\in \\{0, 1, 2, \\dots, 9\\}$"
      ]
    },
    {
      "cell_type": "code",
      "metadata": {
        "id": "e8jo-rwpRcxC"
      },
      "source": [
        "def count_class_examples(y):\n",
        "  \"\"\"Imprime el numero de ejemplos para cada clase en y.\n",
        "  \n",
        "  Argumentos\n",
        "  y - arreglos de numpy que contiene etiquetas\n",
        "  \"\"\"\n",
        "  \n",
        "  for i in range(10):\n",
        "    count = # <completa>\n",
        "    print(\"Numero de \", i, count)"
      ],
      "execution_count": null,
      "outputs": []
    },
    {
      "cell_type": "code",
      "metadata": {
        "id": "X_XQKH9MRcxC"
      },
      "source": [
        "count_class_examples(y)"
      ],
      "execution_count": null,
      "outputs": []
    },
    {
      "cell_type": "markdown",
      "metadata": {
        "id": "nBlTp7SgRcxD"
      },
      "source": [
        "## Calcula el arreglo representativo para cada clase\n",
        "\n",
        "Utiliza Numpy para encontrar el arreglo representativo promediando los arreglos para cada clase. Rellena la función ``` class_means``` para que devuelva un arreglo de NumPy que contenga en cada fila el arreglo promedio de los respectivos ejemplos (del dígito 0 al 9)."
      ]
    },
    {
      "cell_type": "code",
      "metadata": {
        "id": "_4AiV-iNRcxD"
      },
      "source": [
        "def class_means(X, y):\n",
        "  \"\"\"\n",
        "  Calcula el arreglo promedio (representativo) de cada clase\n",
        "  \"\"\"\n",
        "  # Numero de ejemplos (filas)\n",
        "  m = X.shape[0]\n",
        "  # Numero de features (columnas)\n",
        "  n = X.shape[1]\n",
        "  # Clases distintas en el set\n",
        "  ulabels = np.unique(y)\n",
        "  # Numero de clases\n",
        "  classes = ulabels.size\n",
        "\n",
        "  # Rellena means con el arreglo promedio de cada clase\n",
        "  means = np.empty((classes, n))\n",
        "\n",
        "  for i in range(classes):\n",
        "    means[i,:] = # <completa>\n",
        "\n",
        "  return means"
      ],
      "execution_count": null,
      "outputs": []
    },
    {
      "cell_type": "code",
      "metadata": {
        "id": "Gw_tuMA2RcxE"
      },
      "source": [
        "class_representatives = class_means(X, y)\n",
        "\n",
        "#shape del arreglo que contiene los representativos\n",
        "class_representatives.shape"
      ],
      "execution_count": null,
      "outputs": []
    },
    {
      "cell_type": "code",
      "metadata": {
        "id": "Q2mLL2tRRcxE"
      },
      "source": [
        "assert np.array_equal(class_means(np.array([[4, 6], [2, 4], [10, 4], [2, 6]]), np.array([1, 2, 1, 2])), np.array([[7, 5], [2, 5]])), \"Error\"\n",
        "assert class_representatives.shape == (10, 784), \"Error en las dimensiones de class_representatives\"\n",
        "print(\"Funcion clas_means es correcta\")"
      ],
      "execution_count": null,
      "outputs": []
    },
    {
      "cell_type": "markdown",
      "metadata": {
        "id": "2VySN9NPRcxF"
      },
      "source": [
        "Utiliza la función display_example para mostrar el ejemplo promedio de la clase (para cada clase).\n"
      ]
    },
    {
      "cell_type": "code",
      "metadata": {
        "id": "5FWdFjI-RcxF"
      },
      "source": [
        "for i in range(10):\n",
        "  display_example(class_representatives[i])"
      ],
      "execution_count": null,
      "outputs": []
    },
    {
      "cell_type": "markdown",
      "metadata": {
        "id": "tjzHOIFoRcxF"
      },
      "source": [
        "## Clasificador de dígitos usando distancias\n",
        "\n",
        "En esta sección, generaremos un modelo para identificar dígitos mediante el uso de distancias euclidianas. Calcularemos la distancia entre cada ejemplo en el conjunto y los dígitos representativos de cada clase (el valor promedio de cada clase). Le asignaremos a cada ejemplo la etiqueta del dígito representativo con menor distancia.\n",
        "\n",
        "---\n",
        "\n",
        "### Distancia Euclidiana\n",
        "\n",
        "En la siguiente celda, rellena la función ```euclidean_distance``` para calcular la distancia euclidiana entre los puntos P y Q.\n",
        "\n",
        "La distancia euclidiana entre dos puntos P y Q en un espacio n-dimesional es:\n",
        "\n",
        "$$d_e(P, Q) = \\sqrt{(p_1 - q_1)^2+(p_2-q_2)^2 + \\dots+(p_n-q_n)^2} = \\sqrt{\\sum_{i=1}^{n}(p_i-q_i)^2} $$"
      ]
    },
    {
      "cell_type": "code",
      "metadata": {
        "id": "0koQg_s8RcxG"
      },
      "source": [
        "def euclidean_distance(P, Q):\n",
        "  \"\"\"\n",
        "  Calcula la distancia euclidiana entre los elementos de P y Q\n",
        "  \"\"\"\n",
        "  e_distance = # <completa>\n",
        "  return e_distance"
      ],
      "execution_count": null,
      "outputs": []
    },
    {
      "cell_type": "code",
      "metadata": {
        "id": "rbpzjOkmRcxG"
      },
      "source": [
        "a = np.array([[1, 2, 3]])\n",
        "b = np.array([[3, 3, 5]])\n",
        "euclidean_distance(a, b)"
      ],
      "execution_count": null,
      "outputs": []
    },
    {
      "cell_type": "code",
      "metadata": {
        "id": "dhZt_dt5RcxG"
      },
      "source": [
        "assert euclidean_distance(np.array([[1, 2, 3]]), np.array([[3, 3, 5]]))[0] == 3.0, \"Error en euclidean_distance\""
      ],
      "execution_count": null,
      "outputs": []
    },
    {
      "cell_type": "markdown",
      "metadata": {
        "id": "0lXGHXroRcxG"
      },
      "source": [
        "## Obten el representante más cercano para cada ejemplo\n",
        "\n",
        "Rellena la función ```closest_point``` para asignar a cada ejemplo la etiqueta del dígito más cercano según su distancia al arreglo representativo.\n"
      ]
    },
    {
      "cell_type": "code",
      "metadata": {
        "id": "3EtYD-4cRcxG"
      },
      "source": [
        "def closest_point(X, representatives):\n",
        "  \"\"\"\n",
        "  Devuelve un arreglo con la etiqueta del elemento mas cercano\n",
        "  para cada ejemplo en X\n",
        "\n",
        "  X -  el arreglo con los ejemplos\n",
        "  representatives - el arreglo con los elementos representativos de cada clase\n",
        "  \"\"\"\n",
        "  # Numero de ejemplos (filas)\n",
        "  m = X.shape[0]\n",
        "  # Numero de features (columnas)\n",
        "  n = X.shape[1]\n",
        "  # Numero de clases\n",
        "  classes = representatives.shape[0]\n",
        "\n",
        "  # Distancias minimas\n",
        "  min_distances = np.full(m, np.inf)\n",
        "  # El indice de la mejor distancia\n",
        "  best = np.zeros((X.shape[0]), dtype=np.int8)\n",
        "\n",
        "  # <rellena>\n",
        "  \n",
        "  return best"
      ],
      "execution_count": null,
      "outputs": []
    },
    {
      "cell_type": "code",
      "metadata": {
        "id": "qDF99uJTRcxG"
      },
      "source": [
        "y_pred = closest_point(X, class_representatives)"
      ],
      "execution_count": null,
      "outputs": []
    },
    {
      "cell_type": "code",
      "metadata": {
        "id": "e0Ti6JhjRcxH"
      },
      "source": [
        "assert y_pred.shape == (20000,) or y_pred.shape == (20000), \"Error en las dimensiones de y_pred\""
      ],
      "execution_count": null,
      "outputs": []
    },
    {
      "cell_type": "markdown",
      "metadata": {
        "id": "HE4SY-O5RcxH"
      },
      "source": [
        "## Visualiza las predicciones"
      ]
    },
    {
      "cell_type": "code",
      "metadata": {
        "id": "NprPCb3ERcxH"
      },
      "source": [
        "#intenta cambiar el valor de i\n",
        "i = 1\n",
        "\n",
        "example = X[i]\n",
        "pred_label = y_pred[i]\n",
        "true_label = y[i]\n",
        "display_example(example)\n",
        "print(\"Imágen con etiqueta: \", true_label, \" modelo dice:\", pred_label)"
      ],
      "execution_count": null,
      "outputs": []
    },
    {
      "cell_type": "markdown",
      "metadata": {
        "id": "IxQ09fGGRcxH"
      },
      "source": [
        "## Evaluando el clasificador\n",
        "\n",
        "Una vez que tienes un modelo, debes evaluarlo para saber que tan bien (o mal) está haciendo su trabajo. Para el modelo clasificador de dígitos, usaremos una métrica típica de evaluación.\n",
        "\n",
        "---\n",
        "\n",
        "## Exactitúd (Accuracy)\n",
        "\n",
        "La exactitúd o accuracy mide el rendimiento general del modelo.\n",
        "\n",
        "Utiliza la siguiente fórmula para completar la función ```accuracy``` para medir el rendimiento del modelo de clasificación de dígitos:\n",
        "\n",
        "$$\\texttt{accuracy}(y, \\hat{y}) = \\frac{1}{m} \\sum_{i=0}^{m-1} 1(\\hat{y}_i = y_i)$$\n",
        "\n",
        "$$1(1(\\hat{y}_i = y_i) = 1 \\quad \\text{cuando} \\quad \\hat{y}_i = y_i$$\n",
        "\n",
        "$$1(1(\\hat{y}_i = y_i) = 0 \\quad \\text{cuando} \\quad \\hat{y}_i \\neq y_i$$\n",
        "\n",
        "$$m \\quad \\text{es el número de ejemplos}$$"
      ]
    },
    {
      "cell_type": "code",
      "metadata": {
        "id": "Ti9OTRVURcxH"
      },
      "source": [
        "def accuracy(y, y_pred):\n",
        "  \"\"\"\n",
        "  Devuelve la exactitud dados dos vectores \"y\" con la verdad\n",
        "  y \"y_pred\" con las predicciones\n",
        "  \"\"\"\n",
        "  acc = # <completa>\n",
        "  return acc"
      ],
      "execution_count": null,
      "outputs": []
    },
    {
      "cell_type": "code",
      "metadata": {
        "id": "7aZrM5WLRcxH"
      },
      "source": [
        "accuracy(y, y_pred)"
      ],
      "execution_count": null,
      "outputs": []
    },
    {
      "cell_type": "markdown",
      "metadata": {
        "id": "SQwtbahPRcxH"
      },
      "source": [
        "¿Consideras que el modelo es bueno para predecir dígitos escritos a mano?, ¿crees que hay margen de mejora?"
      ]
    }
  ]
}